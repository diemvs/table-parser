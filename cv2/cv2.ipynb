{
 "cells": [
  {
   "cell_type": "code",
   "execution_count": 2,
   "id": "a49c8729",
   "metadata": {},
   "outputs": [
    {
     "name": "stdout",
     "output_type": "stream",
     "text": [
      "Collecting opencv-python\n",
      "  Using cached opencv_python-4.11.0.86-cp37-abi3-win_amd64.whl.metadata (20 kB)\n",
      "Collecting numpy>=1.21.2 (from opencv-python)\n",
      "  Downloading numpy-2.2.5-cp312-cp312-win_amd64.whl.metadata (60 kB)\n",
      "     ---------------------------------------- 0.0/60.8 kB ? eta -:--:--\n",
      "     ------ --------------------------------- 10.2/60.8 kB ? eta -:--:--\n",
      "     ------------------------- ------------ 41.0/60.8 kB 393.8 kB/s eta 0:00:01\n",
      "     -------------------------------------- 60.8/60.8 kB 404.8 kB/s eta 0:00:00\n",
      "Using cached opencv_python-4.11.0.86-cp37-abi3-win_amd64.whl (39.5 MB)\n",
      "Downloading numpy-2.2.5-cp312-cp312-win_amd64.whl (12.6 MB)\n",
      "   ---------------------------------------- 0.0/12.6 MB ? eta -:--:--\n",
      "   ---------------------------------------- 0.1/12.6 MB 1.7 MB/s eta 0:00:08\n",
      "   ---------------------------------------- 0.1/12.6 MB 1.3 MB/s eta 0:00:10\n",
      "    --------------------------------------- 0.2/12.6 MB 1.5 MB/s eta 0:00:09\n",
      "   - -------------------------------------- 0.3/12.6 MB 1.8 MB/s eta 0:00:07\n",
      "   - -------------------------------------- 0.5/12.6 MB 2.4 MB/s eta 0:00:05\n",
      "   -- ------------------------------------- 0.9/12.6 MB 3.4 MB/s eta 0:00:04\n",
      "   --- ------------------------------------ 1.3/12.6 MB 4.0 MB/s eta 0:00:03\n",
      "   ------ --------------------------------- 2.1/12.6 MB 5.7 MB/s eta 0:00:02\n",
      "   -------- ------------------------------- 2.5/12.6 MB 6.2 MB/s eta 0:00:02\n",
      "   ----------- ---------------------------- 3.6/12.6 MB 7.9 MB/s eta 0:00:02\n",
      "   --------------- ------------------------ 4.9/12.6 MB 9.9 MB/s eta 0:00:01\n",
      "   ---------------- ----------------------- 5.1/12.6 MB 9.2 MB/s eta 0:00:01\n",
      "   ------------------- -------------------- 6.2/12.6 MB 10.4 MB/s eta 0:00:01\n",
      "   ----------------------- ---------------- 7.6/12.6 MB 11.8 MB/s eta 0:00:01\n",
      "   ---------------------------- ----------- 8.9/12.6 MB 13.0 MB/s eta 0:00:01\n",
      "   ---------------------------- ----------- 8.9/12.6 MB 13.0 MB/s eta 0:00:01\n",
      "   ---------------------------- ----------- 8.9/12.6 MB 13.0 MB/s eta 0:00:01\n",
      "   ---------------------------- ----------- 8.9/12.6 MB 13.0 MB/s eta 0:00:01\n",
      "   ------------------------------------- -- 11.8/12.6 MB 19.3 MB/s eta 0:00:01\n",
      "   ------------------------------------- -- 11.8/12.6 MB 19.3 MB/s eta 0:00:01\n",
      "   ------------------------------------- -- 11.8/12.6 MB 16.4 MB/s eta 0:00:01\n",
      "   ---------------------------------------- 12.6/12.6 MB 16.4 MB/s eta 0:00:00\n",
      "Installing collected packages: numpy, opencv-python\n",
      "Successfully installed numpy-2.2.5 opencv-python-4.11.0.86\n"
     ]
    },
    {
     "name": "stderr",
     "output_type": "stream",
     "text": [
      "\n",
      "[notice] A new release of pip is available: 24.0 -> 25.1\n",
      "[notice] To update, run: python.exe -m pip install --upgrade pip\n"
     ]
    }
   ],
   "source": [
    "! pip install opencv-python"
   ]
  },
  {
   "cell_type": "code",
   "execution_count": 2,
   "id": "459b0aa0",
   "metadata": {},
   "outputs": [
    {
     "ename": "ModuleNotFoundError",
     "evalue": "No module named 'File'",
     "output_type": "error",
     "traceback": [
      "\u001b[31m---------------------------------------------------------------------------\u001b[39m",
      "\u001b[31mModuleNotFoundError\u001b[39m                       Traceback (most recent call last)",
      "\u001b[36mCell\u001b[39m\u001b[36m \u001b[39m\u001b[32mIn[2]\u001b[39m\u001b[32m, line 2\u001b[39m\n\u001b[32m      1\u001b[39m \u001b[38;5;28;01mimport\u001b[39;00m\u001b[38;5;250m \u001b[39m\u001b[34;01mcv2\u001b[39;00m\n\u001b[32m----> \u001b[39m\u001b[32m2\u001b[39m \u001b[38;5;28;01mimport\u001b[39;00m\u001b[38;5;250m \u001b[39m\u001b[34;01mFile\u001b[39;00m\n\u001b[32m      4\u001b[39m image_path = \u001b[33m\"\u001b[39m\u001b[33m../resources/images/6.png\u001b[39m\u001b[33m\"\u001b[39m\n\u001b[32m      6\u001b[39m image = File(image_path, \u001b[33m'\u001b[39m\u001b[33mrb\u001b[39m\u001b[33m'\u001b[39m).read()\n",
      "\u001b[31mModuleNotFoundError\u001b[39m: No module named 'File'"
     ]
    }
   ],
   "source": [
    "import cv2\n",
    "\n",
    "image_path = \"../resources/images/6.png\"\n",
    "\n",
    "image = File(image_path, 'rb').read()"
   ]
  },
  {
   "cell_type": "code",
   "execution_count": 4,
   "id": "32726ed1",
   "metadata": {},
   "outputs": [
    {
     "ename": "NameError",
     "evalue": "name 'image' is not defined",
     "output_type": "error",
     "traceback": [
      "\u001b[31m---------------------------------------------------------------------------\u001b[39m",
      "\u001b[31mNameError\u001b[39m                                 Traceback (most recent call last)",
      "\u001b[36mCell\u001b[39m\u001b[36m \u001b[39m\u001b[32mIn[4]\u001b[39m\u001b[32m, line 1\u001b[39m\n\u001b[32m----> \u001b[39m\u001b[32m1\u001b[39m gray = cv2.cvtColor(\u001b[43mimage\u001b[49m, cv2.COLOR_BGR2GRAY)\n\u001b[32m      2\u001b[39m blurred = cv2.GaussianBlur(gray, (\u001b[32m3\u001b[39m, \u001b[32m3\u001b[39m), \u001b[32m0\u001b[39m)\n\u001b[32m      3\u001b[39m _, binary = cv2.threshold(blurred, \u001b[32m0\u001b[39m, \u001b[32m255\u001b[39m, cv2.THRESH_BINARY_INV + cv2.THRESH_OTSU)\n",
      "\u001b[31mNameError\u001b[39m: name 'image' is not defined"
     ]
    }
   ],
   "source": [
    "gray = cv2.cvtColor(image, cv2.COLOR_BGR2GRAY)\n",
    "blurred = cv2.GaussianBlur(gray, (3, 3), 0)\n",
    "_, binary = cv2.threshold(blurred, 0, 255, cv2.THRESH_BINARY_INV + cv2.THRESH_OTSU)"
   ]
  }
 ],
 "metadata": {
  "kernelspec": {
   "display_name": ".venv2",
   "language": "python",
   "name": "python3"
  },
  "language_info": {
   "codemirror_mode": {
    "name": "ipython",
    "version": 3
   },
   "file_extension": ".py",
   "mimetype": "text/x-python",
   "name": "python",
   "nbconvert_exporter": "python",
   "pygments_lexer": "ipython3",
   "version": "3.12.4"
  }
 },
 "nbformat": 4,
 "nbformat_minor": 5
}
