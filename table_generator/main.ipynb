{
 "cells": [
  {
   "cell_type": "code",
   "execution_count": 2,
   "metadata": {},
   "outputs": [
    {
     "name": "stdout",
     "output_type": "stream",
     "text": [
      "Collecting reportlab\n",
      "  Downloading reportlab-4.2.5-py3-none-any.whl.metadata (1.5 kB)\n",
      "Collecting pillow>=9.0.0 (from reportlab)\n",
      "  Downloading pillow-11.1.0-cp313-cp313-macosx_11_0_arm64.whl.metadata (9.1 kB)\n",
      "Collecting chardet (from reportlab)\n",
      "  Downloading chardet-5.2.0-py3-none-any.whl.metadata (3.4 kB)\n",
      "Downloading reportlab-4.2.5-py3-none-any.whl (1.9 MB)\n",
      "\u001b[2K   \u001b[90m━━━━━━━━━━━━━━━━━━━━━━━━━━━━━━━━━━━━━━━━\u001b[0m \u001b[32m1.9/1.9 MB\u001b[0m \u001b[31m9.3 MB/s\u001b[0m eta \u001b[36m0:00:00\u001b[0m-:--:--\u001b[0m\n",
      "\u001b[?25hDownloading pillow-11.1.0-cp313-cp313-macosx_11_0_arm64.whl (3.1 MB)\n",
      "\u001b[2K   \u001b[90m━━━━━━━━━━━━━━━━━━━━━━━━━━━━━━━━━━━━━━━━\u001b[0m \u001b[32m3.1/3.1 MB\u001b[0m \u001b[31m12.9 MB/s\u001b[0m eta \u001b[36m0:00:00\u001b[0ma \u001b[36m0:00:01\u001b[0m\n",
      "\u001b[?25hDownloading chardet-5.2.0-py3-none-any.whl (199 kB)\n",
      "Installing collected packages: pillow, chardet, reportlab\n",
      "Successfully installed chardet-5.2.0 pillow-11.1.0 reportlab-4.2.5\n"
     ]
    }
   ],
   "source": [
    "!pip install reportlab"
   ]
  },
  {
   "cell_type": "code",
   "execution_count": 5,
   "metadata": {},
   "outputs": [
    {
     "name": "stdout",
     "output_type": "stream",
     "text": [
      "PDF с таблицей создан и сохранен как table_example.pdf\n"
     ]
    }
   ],
   "source": [
    "from reportlab.lib.pagesizes import letter\n",
    "from reportlab.lib import colors\n",
    "from reportlab.platypus import SimpleDocTemplate, Table, TableStyle\n",
    "\n",
    "# Создание PDF документа\n",
    "pdf_filename = \"table_example.pdf\"\n",
    "document = SimpleDocTemplate(pdf_filename, pagesize=letter)\n",
    "\n",
    "# Данные для таблицы\n",
    "data = [\n",
    "    ['ID', 'Name', 'Age', 'City'],\n",
    "    ['1', 'Alice', '30', 'New York'],\n",
    "    ['2', 'Bob', '25', 'San Francisco'],\n",
    "    ['3', 'Charlie', '35', 'Los Angeles'],\n",
    "    ['4', 'Diana', '28', 'Chicago']\n",
    "]\n",
    "\n",
    "# Создание таблицы\n",
    "table = Table(data)\n",
    "\n",
    "# Настройка стилей таблицы\n",
    "style = TableStyle([\n",
    "    ('BACKGROUND', (0, 0), (-1, 0), colors.grey),  # Заголовки столбцов\n",
    "    ('TEXTCOLOR', (0, 0), (-1, 0), colors.whitesmoke),\n",
    "    ('ALIGN', (0, 0), (-1, -1), 'CENTER'),  # Выравнивание по центру\n",
    "    ('FONTNAME', (0, 0), (-1, 0), 'Helvetica-Bold'),\n",
    "    ('BOTTOMPADDING', (0, 0), (-1, 0), 12),  # Отступы в заголовке\n",
    "    ('BACKGROUND', (0, 1), (-1, -1), colors.beige),  # Фон таблицы\n",
    "    ('GRID', (0, 0), (-1, -1), 1, colors.black),  # Грид\n",
    "])\n",
    "\n",
    "table.setStyle(style)\n",
    "\n",
    "# Сохранение документа\n",
    "elements = [table]\n",
    "document.build(elements)\n",
    "\n",
    "print(f\"PDF с таблицей создан и сохранен как {pdf_filename}\")"
   ]
  }
 ],
 "metadata": {
  "kernelspec": {
   "display_name": ".venv",
   "language": "python",
   "name": "python3"
  },
  "language_info": {
   "codemirror_mode": {
    "name": "ipython",
    "version": 3
   },
   "file_extension": ".py",
   "mimetype": "text/x-python",
   "name": "python",
   "nbconvert_exporter": "python",
   "pygments_lexer": "ipython3",
   "version": "3.13.1"
  }
 },
 "nbformat": 4,
 "nbformat_minor": 2
}
