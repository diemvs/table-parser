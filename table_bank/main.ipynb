{
 "cells": [
  {
   "cell_type": "markdown",
   "metadata": {},
   "source": [
    "# Конвертация в формат Yolo"
   ]
  },
  {
   "cell_type": "code",
   "execution_count": 1,
   "metadata": {},
   "outputs": [
    {
     "name": "stdout",
     "output_type": "stream",
     "text": [
      "Collecting pylabel\n",
      "  Obtaining dependency information for pylabel from https://files.pythonhosted.org/packages/54/5a/30e4cc2d2df68d2e2375863afe4a9de54c90042fb29378f096d1d8095396/pylabel-0.1.55-py3-none-any.whl.metadata\n",
      "  Downloading pylabel-0.1.55-py3-none-any.whl.metadata (3.8 kB)\n",
      "Requirement already satisfied: pandas in f:\\github\\table-parser\\.venv\\lib\\site-packages (from pylabel) (2.2.3)\n",
      "Collecting bbox-visualizer (from pylabel)\n",
      "  Obtaining dependency information for bbox-visualizer from https://files.pythonhosted.org/packages/f8/37/55a8724dec292a05300e7d2038ca9f6f478708e64bf42a01a21a51622ffd/bbox_visualizer-0.2.0-py3-none-any.whl.metadata\n",
      "  Downloading bbox_visualizer-0.2.0-py3-none-any.whl.metadata (5.8 kB)\n",
      "Requirement already satisfied: matplotlib in f:\\github\\table-parser\\.venv\\lib\\site-packages (from pylabel) (3.10.1)\n",
      "Requirement already satisfied: opencv-python in f:\\github\\table-parser\\.venv\\lib\\site-packages (from pylabel) (4.11.0.86)\n",
      "Collecting scikit-learn (from pylabel)\n",
      "  Obtaining dependency information for scikit-learn from https://files.pythonhosted.org/packages/a1/a6/c5b78606743a1f28eae8f11973de6613a5ee87366796583fb74c67d54939/scikit_learn-1.6.1-cp311-cp311-win_amd64.whl.metadata\n",
      "  Downloading scikit_learn-1.6.1-cp311-cp311-win_amd64.whl.metadata (15 kB)\n",
      "Collecting jupyter-bbox-widget (from pylabel)\n",
      "  Obtaining dependency information for jupyter-bbox-widget from https://files.pythonhosted.org/packages/b4/e4/bfab95d47c97ec1316ca78f11ae02b4bf9d877b16014f4151d6467fbc448/jupyter_bbox_widget-0.6.0-py3-none-any.whl.metadata\n",
      "  Downloading jupyter_bbox_widget-0.6.0-py3-none-any.whl.metadata (11 kB)\n",
      "Requirement already satisfied: pyyaml in f:\\github\\table-parser\\.venv\\lib\\site-packages (from pylabel) (6.0.2)\n",
      "Requirement already satisfied: tqdm in f:\\github\\table-parser\\.venv\\lib\\site-packages (from pylabel) (4.67.1)\n",
      "Requirement already satisfied: numpy>=1.19.0 in f:\\github\\table-parser\\.venv\\lib\\site-packages (from bbox-visualizer->pylabel) (2.0.2)\n",
      "Collecting anywidget>=0.9.0 (from jupyter-bbox-widget->pylabel)\n",
      "  Obtaining dependency information for anywidget>=0.9.0 from https://files.pythonhosted.org/packages/2b/f0/09a30ca0551af20c7cefa7464b7ccb6f5407a550b83c4dcb15c410814849/anywidget-0.9.18-py3-none-any.whl.metadata\n",
      "  Downloading anywidget-0.9.18-py3-none-any.whl.metadata (8.9 kB)\n",
      "Requirement already satisfied: contourpy>=1.0.1 in f:\\github\\table-parser\\.venv\\lib\\site-packages (from matplotlib->pylabel) (1.3.1)\n",
      "Requirement already satisfied: cycler>=0.10 in f:\\github\\table-parser\\.venv\\lib\\site-packages (from matplotlib->pylabel) (0.12.1)\n",
      "Requirement already satisfied: fonttools>=4.22.0 in f:\\github\\table-parser\\.venv\\lib\\site-packages (from matplotlib->pylabel) (4.55.3)\n",
      "Requirement already satisfied: kiwisolver>=1.3.1 in f:\\github\\table-parser\\.venv\\lib\\site-packages (from matplotlib->pylabel) (1.4.8)\n",
      "Requirement already satisfied: packaging>=20.0 in f:\\github\\table-parser\\.venv\\lib\\site-packages (from matplotlib->pylabel) (24.2)\n",
      "Requirement already satisfied: pillow>=8 in f:\\github\\table-parser\\.venv\\lib\\site-packages (from matplotlib->pylabel) (11.1.0)\n",
      "Requirement already satisfied: pyparsing>=2.3.1 in f:\\github\\table-parser\\.venv\\lib\\site-packages (from matplotlib->pylabel) (3.2.1)\n",
      "Requirement already satisfied: python-dateutil>=2.7 in f:\\github\\table-parser\\.venv\\lib\\site-packages (from matplotlib->pylabel) (2.9.0.post0)\n",
      "Requirement already satisfied: pytz>=2020.1 in f:\\github\\table-parser\\.venv\\lib\\site-packages (from pandas->pylabel) (2024.2)\n",
      "Requirement already satisfied: tzdata>=2022.7 in f:\\github\\table-parser\\.venv\\lib\\site-packages (from pandas->pylabel) (2024.2)\n",
      "Requirement already satisfied: scipy>=1.6.0 in f:\\github\\table-parser\\.venv\\lib\\site-packages (from scikit-learn->pylabel) (1.15.1)\n",
      "Collecting joblib>=1.2.0 (from scikit-learn->pylabel)\n",
      "  Obtaining dependency information for joblib>=1.2.0 from https://files.pythonhosted.org/packages/91/29/df4b9b42f2be0b623cbd5e2140cafcaa2bef0759a00b7b70104dcfe2fb51/joblib-1.4.2-py3-none-any.whl.metadata\n",
      "  Downloading joblib-1.4.2-py3-none-any.whl.metadata (5.4 kB)\n",
      "Collecting threadpoolctl>=3.1.0 (from scikit-learn->pylabel)\n",
      "  Obtaining dependency information for threadpoolctl>=3.1.0 from https://files.pythonhosted.org/packages/32/d5/f9a850d79b0851d1d4ef6456097579a9005b31fea68726a4ae5f2d82ddd9/threadpoolctl-3.6.0-py3-none-any.whl.metadata\n",
      "  Downloading threadpoolctl-3.6.0-py3-none-any.whl.metadata (13 kB)\n",
      "Requirement already satisfied: colorama in f:\\github\\table-parser\\.venv\\lib\\site-packages (from tqdm->pylabel) (0.4.6)\n",
      "Collecting ipywidgets>=7.6.0 (from anywidget>=0.9.0->jupyter-bbox-widget->pylabel)\n",
      "  Obtaining dependency information for ipywidgets>=7.6.0 from https://files.pythonhosted.org/packages/22/2d/9c0b76f2f9cc0ebede1b9371b6f317243028ed60b90705863d493bae622e/ipywidgets-8.1.5-py3-none-any.whl.metadata\n",
      "  Downloading ipywidgets-8.1.5-py3-none-any.whl.metadata (2.3 kB)\n",
      "Collecting psygnal>=0.8.1 (from anywidget>=0.9.0->jupyter-bbox-widget->pylabel)\n",
      "  Obtaining dependency information for psygnal>=0.8.1 from https://files.pythonhosted.org/packages/68/eb/c59c13a6da8263f3119a3d9faa7790e58d4fe541458197de4b2370927d52/psygnal-0.12.0-cp311-cp311-win_amd64.whl.metadata\n",
      "  Downloading psygnal-0.12.0-cp311-cp311-win_amd64.whl.metadata (7.7 kB)\n",
      "Requirement already satisfied: typing-extensions>=4.2.0 in f:\\github\\table-parser\\.venv\\lib\\site-packages (from anywidget>=0.9.0->jupyter-bbox-widget->pylabel) (4.12.2)\n",
      "Requirement already satisfied: six>=1.5 in f:\\github\\table-parser\\.venv\\lib\\site-packages (from python-dateutil>=2.7->matplotlib->pylabel) (1.17.0)\n",
      "Requirement already satisfied: comm>=0.1.3 in f:\\github\\table-parser\\.venv\\lib\\site-packages (from ipywidgets>=7.6.0->anywidget>=0.9.0->jupyter-bbox-widget->pylabel) (0.2.2)\n",
      "Requirement already satisfied: ipython>=6.1.0 in f:\\github\\table-parser\\.venv\\lib\\site-packages (from ipywidgets>=7.6.0->anywidget>=0.9.0->jupyter-bbox-widget->pylabel) (8.31.0)\n",
      "Requirement already satisfied: traitlets>=4.3.1 in f:\\github\\table-parser\\.venv\\lib\\site-packages (from ipywidgets>=7.6.0->anywidget>=0.9.0->jupyter-bbox-widget->pylabel) (5.14.3)\n",
      "Collecting widgetsnbextension~=4.0.12 (from ipywidgets>=7.6.0->anywidget>=0.9.0->jupyter-bbox-widget->pylabel)\n",
      "  Obtaining dependency information for widgetsnbextension~=4.0.12 from https://files.pythonhosted.org/packages/21/02/88b65cc394961a60c43c70517066b6b679738caf78506a5da7b88ffcb643/widgetsnbextension-4.0.13-py3-none-any.whl.metadata\n",
      "  Downloading widgetsnbextension-4.0.13-py3-none-any.whl.metadata (1.6 kB)\n",
      "Collecting jupyterlab-widgets~=3.0.12 (from ipywidgets>=7.6.0->anywidget>=0.9.0->jupyter-bbox-widget->pylabel)\n",
      "  Obtaining dependency information for jupyterlab-widgets~=3.0.12 from https://files.pythonhosted.org/packages/a9/93/858e87edc634d628e5d752ba944c2833133a28fa87bb093e6832ced36a3e/jupyterlab_widgets-3.0.13-py3-none-any.whl.metadata\n",
      "  Downloading jupyterlab_widgets-3.0.13-py3-none-any.whl.metadata (4.1 kB)\n",
      "Requirement already satisfied: decorator in f:\\github\\table-parser\\.venv\\lib\\site-packages (from ipython>=6.1.0->ipywidgets>=7.6.0->anywidget>=0.9.0->jupyter-bbox-widget->pylabel) (5.1.1)\n",
      "Requirement already satisfied: jedi>=0.16 in f:\\github\\table-parser\\.venv\\lib\\site-packages (from ipython>=6.1.0->ipywidgets>=7.6.0->anywidget>=0.9.0->jupyter-bbox-widget->pylabel) (0.19.2)\n",
      "Requirement already satisfied: matplotlib-inline in f:\\github\\table-parser\\.venv\\lib\\site-packages (from ipython>=6.1.0->ipywidgets>=7.6.0->anywidget>=0.9.0->jupyter-bbox-widget->pylabel) (0.1.7)\n",
      "Requirement already satisfied: prompt_toolkit<3.1.0,>=3.0.41 in f:\\github\\table-parser\\.venv\\lib\\site-packages (from ipython>=6.1.0->ipywidgets>=7.6.0->anywidget>=0.9.0->jupyter-bbox-widget->pylabel) (3.0.48)\n",
      "Requirement already satisfied: pygments>=2.4.0 in f:\\github\\table-parser\\.venv\\lib\\site-packages (from ipython>=6.1.0->ipywidgets>=7.6.0->anywidget>=0.9.0->jupyter-bbox-widget->pylabel) (2.19.1)\n",
      "Requirement already satisfied: stack_data in f:\\github\\table-parser\\.venv\\lib\\site-packages (from ipython>=6.1.0->ipywidgets>=7.6.0->anywidget>=0.9.0->jupyter-bbox-widget->pylabel) (0.6.3)\n",
      "Requirement already satisfied: parso<0.9.0,>=0.8.4 in f:\\github\\table-parser\\.venv\\lib\\site-packages (from jedi>=0.16->ipython>=6.1.0->ipywidgets>=7.6.0->anywidget>=0.9.0->jupyter-bbox-widget->pylabel) (0.8.4)\n",
      "Requirement already satisfied: wcwidth in f:\\github\\table-parser\\.venv\\lib\\site-packages (from prompt_toolkit<3.1.0,>=3.0.41->ipython>=6.1.0->ipywidgets>=7.6.0->anywidget>=0.9.0->jupyter-bbox-widget->pylabel) (0.2.13)\n",
      "Requirement already satisfied: executing>=1.2.0 in f:\\github\\table-parser\\.venv\\lib\\site-packages (from stack_data->ipython>=6.1.0->ipywidgets>=7.6.0->anywidget>=0.9.0->jupyter-bbox-widget->pylabel) (2.1.0)\n",
      "Requirement already satisfied: asttokens>=2.1.0 in f:\\github\\table-parser\\.venv\\lib\\site-packages (from stack_data->ipython>=6.1.0->ipywidgets>=7.6.0->anywidget>=0.9.0->jupyter-bbox-widget->pylabel) (3.0.0)\n",
      "Requirement already satisfied: pure-eval in f:\\github\\table-parser\\.venv\\lib\\site-packages (from stack_data->ipython>=6.1.0->ipywidgets>=7.6.0->anywidget>=0.9.0->jupyter-bbox-widget->pylabel) (0.2.3)\n",
      "Downloading pylabel-0.1.55-py3-none-any.whl (27 kB)\n",
      "Downloading bbox_visualizer-0.2.0-py3-none-any.whl (6.8 kB)\n",
      "Downloading jupyter_bbox_widget-0.6.0-py3-none-any.whl (24 kB)\n",
      "Downloading scikit_learn-1.6.1-cp311-cp311-win_amd64.whl (11.1 MB)\n",
      "   ---------------------------------------- 0.0/11.1 MB ? eta -:--:--\n",
      "   ---------------------------------------- 0.0/11.1 MB 2.0 MB/s eta 0:00:06\n",
      "    --------------------------------------- 0.2/11.1 MB 2.1 MB/s eta 0:00:06\n",
      "   - -------------------------------------- 0.4/11.1 MB 3.4 MB/s eta 0:00:04\n",
      "   --- ------------------------------------ 1.0/11.1 MB 5.8 MB/s eta 0:00:02\n",
      "   ------- -------------------------------- 2.0/11.1 MB 9.0 MB/s eta 0:00:02\n",
      "   -------- ------------------------------- 2.4/11.1 MB 9.1 MB/s eta 0:00:01\n",
      "   ----------- ---------------------------- 3.3/11.1 MB 10.7 MB/s eta 0:00:01\n",
      "   ---------------- ----------------------- 4.5/11.1 MB 12.6 MB/s eta 0:00:01\n",
      "   -------------------- ------------------- 5.6/11.1 MB 13.8 MB/s eta 0:00:01\n",
      "   ---------------------- ----------------- 6.2/11.1 MB 14.2 MB/s eta 0:00:01\n",
      "   -------------------------- ------------- 7.2/11.1 MB 14.5 MB/s eta 0:00:01\n",
      "   ----------------------------- ---------- 8.3/11.1 MB 15.2 MB/s eta 0:00:01\n",
      "   -------------------------------- ------- 8.9/11.1 MB 15.0 MB/s eta 0:00:01\n",
      "   --------------------------------- ------ 9.2/11.1 MB 14.4 MB/s eta 0:00:01\n",
      "   ---------------------------------- ----- 9.5/11.1 MB 13.9 MB/s eta 0:00:01\n",
      "   ----------------------------------- ---- 9.8/11.1 MB 13.3 MB/s eta 0:00:01\n",
      "   ------------------------------------ --- 10.1/11.1 MB 13.0 MB/s eta 0:00:01\n",
      "   ------------------------------------- -- 10.4/11.1 MB 13.6 MB/s eta 0:00:01\n",
      "   -------------------------------------- - 10.7/11.1 MB 13.9 MB/s eta 0:00:01\n",
      "   ---------------------------------------  11.0/11.1 MB 13.6 MB/s eta 0:00:01\n",
      "   ---------------------------------------  11.1/11.1 MB 13.1 MB/s eta 0:00:01\n",
      "   ---------------------------------------- 11.1/11.1 MB 12.4 MB/s eta 0:00:00\n",
      "Downloading anywidget-0.9.18-py3-none-any.whl (220 kB)\n",
      "   ---------------------------------------- 0.0/220.7 kB ? eta -:--:--\n",
      "   -------------------------------------- - 215.0/220.7 kB 6.6 MB/s eta 0:00:01\n",
      "   ---------------------------------------- 220.7/220.7 kB 4.5 MB/s eta 0:00:00\n",
      "Using cached joblib-1.4.2-py3-none-any.whl (301 kB)\n",
      "Using cached threadpoolctl-3.6.0-py3-none-any.whl (18 kB)\n",
      "Downloading ipywidgets-8.1.5-py3-none-any.whl (139 kB)\n",
      "   ---------------------------------------- 0.0/139.8 kB ? eta -:--:--\n",
      "   ---------------------------------------- 139.8/139.8 kB 8.1 MB/s eta 0:00:00\n",
      "Downloading psygnal-0.12.0-cp311-cp311-win_amd64.whl (377 kB)\n",
      "   ---------------------------------------- 0.0/377.7 kB ? eta -:--:--\n",
      "   --------------------------------------- 377.7/377.7 kB 24.5 MB/s eta 0:00:00\n",
      "Downloading jupyterlab_widgets-3.0.13-py3-none-any.whl (214 kB)\n",
      "   ---------------------------------------- 0.0/214.4 kB ? eta -:--:--\n",
      "   ---------------------------------------- 214.4/214.4 kB 6.4 MB/s eta 0:00:00\n",
      "Downloading widgetsnbextension-4.0.13-py3-none-any.whl (2.3 MB)\n",
      "   ---------------------------------------- 0.0/2.3 MB ? eta -:--:--\n",
      "   ----------- ---------------------------- 0.7/2.3 MB 21.8 MB/s eta 0:00:01\n",
      "   --------------------------- ------------ 1.6/2.3 MB 20.2 MB/s eta 0:00:01\n",
      "   ---------------------------------------  2.3/2.3 MB 18.4 MB/s eta 0:00:01\n",
      "   ---------------------------------------- 2.3/2.3 MB 16.6 MB/s eta 0:00:00\n",
      "Installing collected packages: widgetsnbextension, threadpoolctl, psygnal, jupyterlab-widgets, joblib, scikit-learn, bbox-visualizer, ipywidgets, anywidget, jupyter-bbox-widget, pylabel\n",
      "Successfully installed anywidget-0.9.18 bbox-visualizer-0.2.0 ipywidgets-8.1.5 joblib-1.4.2 jupyter-bbox-widget-0.6.0 jupyterlab-widgets-3.0.13 psygnal-0.12.0 pylabel-0.1.55 scikit-learn-1.6.1 threadpoolctl-3.6.0 widgetsnbextension-4.0.13\n"
     ]
    },
    {
     "name": "stderr",
     "output_type": "stream",
     "text": [
      "\n",
      "[notice] A new release of pip is available: 23.2.1 -> 25.0.1\n",
      "[notice] To update, run: python.exe -m pip install --upgrade pip\n"
     ]
    }
   ],
   "source": [
    "! pip install pylabel"
   ]
  },
  {
   "cell_type": "code",
   "execution_count": 7,
   "metadata": {},
   "outputs": [
    {
     "name": "stderr",
     "output_type": "stream",
     "text": [
      "Importing VOC files...: 100%|██████████| 6/6 [00:00<00:00, 2998.43it/s]\n",
      "Exporting YOLO files...: 0it [00:00, ?it/s]\n"
     ]
    },
    {
     "data": {
      "text/plain": [
       "['training\\\\dataset.yaml']"
      ]
     },
     "execution_count": 7,
     "metadata": {},
     "output_type": "execute_result"
    }
   ],
   "source": [
    "from pylabel import importer\n",
    "\n",
    "PATH_TO_ANNOTATIONS = 'F:/GitHub/datasets/TableBlank/TableBank/Detection/annotations'\n",
    "\n",
    "dataset = importer.ImportVOC(path=PATH_TO_ANNOTATIONS)\n",
    "dataset.export.ExportToYoloV5()"
   ]
  },
  {
   "cell_type": "code",
   "execution_count": 8,
   "metadata": {},
   "outputs": [
    {
     "name": "stdout",
     "output_type": "stream",
     "text": [
      "Обрабатывается: train\n"
     ]
    },
    {
     "name": "stderr",
     "output_type": "stream",
     "text": [
      "100%|██████████| 187199/187199 [16:38<00:00, 187.42it/s]\n"
     ]
    },
    {
     "name": "stdout",
     "output_type": "stream",
     "text": [
      "Обрабатывается: val\n"
     ]
    },
    {
     "name": "stderr",
     "output_type": "stream",
     "text": [
      "100%|██████████| 7265/7265 [00:38<00:00, 189.47it/s]\n"
     ]
    },
    {
     "name": "stdout",
     "output_type": "stream",
     "text": [
      "Обрабатывается: test\n"
     ]
    },
    {
     "name": "stderr",
     "output_type": "stream",
     "text": [
      "100%|██████████| 5719/5719 [00:30<00:00, 187.16it/s]"
     ]
    },
    {
     "name": "stdout",
     "output_type": "stream",
     "text": [
      "Конвертация завершена!\n",
      "data.yaml создан по пути: dataset_yolo\\data.yaml\n"
     ]
    },
    {
     "name": "stderr",
     "output_type": "stream",
     "text": [
      "\n"
     ]
    }
   ],
   "source": [
    "import json\n",
    "import os\n",
    "import shutil\n",
    "from tqdm import tqdm\n",
    "\n",
    "ANNOTATIONS_DIR = \"F:/GitHub/datasets/TableBlank/TableBank/Detection/annotations\"\n",
    "IMAGES_DIR = \"F:/GitHub/datasets/TableBlank/TableBank/Detection//images\"\n",
    "OUTPUT_DIR = \"dataset_yolo\"\n",
    "SPLITS = [\"train\", \"val\", \"test\"]\n",
    "SOURCE = \"latex\"  # можно поменять на 'word' или объединить оба\n",
    "\n",
    "for split in SPLITS:\n",
    "    os.makedirs(os.path.join(OUTPUT_DIR, \"images\", split), exist_ok=True)\n",
    "    os.makedirs(os.path.join(OUTPUT_DIR, \"labels\", split), exist_ok=True)\n",
    "\n",
    "for split in SPLITS:\n",
    "    print(f\"Обрабатывается: {split}\")\n",
    "    \n",
    "    json_path = os.path.join(ANNOTATIONS_DIR, f\"tablebank_{SOURCE}_{split}.json\")\n",
    "    with open(json_path, \"r\") as f:\n",
    "        data = json.load(f)\n",
    "\n",
    "    # Построим словарь image_id -> info\n",
    "    image_dict = {img[\"id\"]: img for img in data[\"images\"]}\n",
    "\n",
    "    # Разделим аннотации по изображениям\n",
    "    grouped_annotations = {}\n",
    "    for ann in data[\"annotations\"]:\n",
    "        img_id = ann[\"image_id\"]\n",
    "        grouped_annotations.setdefault(img_id, []).append(ann)\n",
    "\n",
    "    # Обрабатываем каждое изображение\n",
    "    for img_id, image_info in tqdm(image_dict.items()):\n",
    "        file_name = image_info[\"file_name\"]\n",
    "        img_w, img_h = image_info[\"width\"], image_info[\"height\"]\n",
    "\n",
    "        # Копируем изображение\n",
    "        src_img_path = os.path.join(IMAGES_DIR, file_name)\n",
    "        dst_img_path = os.path.join(OUTPUT_DIR, \"images\", split, file_name)\n",
    "        if os.path.exists(src_img_path):\n",
    "            shutil.copyfile(src_img_path, dst_img_path)\n",
    "        else:\n",
    "            print(f\"Пропущено (нет изображения): {src_img_path}\")\n",
    "            continue\n",
    "\n",
    "        # Записываем аннотации в YOLO-формате\n",
    "        label_path = os.path.join(\n",
    "            OUTPUT_DIR, \"labels\", split, os.path.splitext(file_name)[0] + \".txt\"\n",
    "        )\n",
    "        with open(label_path, \"w\") as f:\n",
    "            for ann in grouped_annotations.get(img_id, []):\n",
    "                x, y, w, h = ann[\"bbox\"]\n",
    "                x_center = (x + w / 2) / img_w\n",
    "                y_center = (y + h / 2) / img_h\n",
    "                w_norm = w / img_w\n",
    "                h_norm = h / img_h\n",
    "                f.write(f\"0 {x_center:.6f} {y_center:.6f} {w_norm:.6f} {h_norm:.6f}\\n\")\n",
    "\n",
    "print(\"Конвертация завершена!\")\n",
    "\n",
    "# ==== Создание data.yaml ====\n",
    "yaml_path = os.path.join(OUTPUT_DIR, \"data.yaml\")\n",
    "with open(yaml_path, \"w\") as f:\n",
    "    f.write(f\"\"\"\\\n",
    "train: {os.path.abspath(os.path.join(OUTPUT_DIR, 'images/train'))}\n",
    "val: {os.path.abspath(os.path.join(OUTPUT_DIR, 'images/val'))}\n",
    "\n",
    "nc: 1\n",
    "names: ['table']\n",
    "\"\"\")\n",
    "\n",
    "print(f\"data.yaml создан по пути: {yaml_path}\")\n"
   ]
  },
  {
   "cell_type": "code",
   "execution_count": null,
   "metadata": {},
   "outputs": [],
   "source": [
    "from ultralytics import YOLO\n",
    "\n",
    "model = YOLO('yolov8s.pt')\n",
    "\n",
    "model.train(\n",
    "    data='table_data.yaml',  # data.yaml\n",
    "    epochs=50,               # кол-во эпох \n",
    "    imgsz=640,               # размер входного изображения \n",
    "    batch=16,                # размер batch\n",
    "    name='table_detection',  # подпапка для логов (runs/detect/table_detection/)\n",
    "    device=0\n",
    ")"
   ]
  }
 ],
 "metadata": {
  "kernelspec": {
   "display_name": ".venv",
   "language": "python",
   "name": "python3"
  },
  "language_info": {
   "codemirror_mode": {
    "name": "ipython",
    "version": 3
   },
   "file_extension": ".py",
   "mimetype": "text/x-python",
   "name": "python",
   "nbconvert_exporter": "python",
   "pygments_lexer": "ipython3",
   "version": "3.11.7"
  }
 },
 "nbformat": 4,
 "nbformat_minor": 2
}
