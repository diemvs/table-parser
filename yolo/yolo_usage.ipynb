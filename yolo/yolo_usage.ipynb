{
 "cells": [
  {
   "cell_type": "code",
   "execution_count": 1,
   "metadata": {},
   "outputs": [
    {
     "name": "stdout",
     "output_type": "stream",
     "text": [
      "Collecting datasets\n",
      "  Obtaining dependency information for datasets from https://files.pythonhosted.org/packages/d7/84/0df6c5981f5fc722381662ff8cfbdf8aad64bec875f75d80b55bfef394ce/datasets-3.2.0-py3-none-any.whl.metadata\n",
      "  Using cached datasets-3.2.0-py3-none-any.whl.metadata (20 kB)\n",
      "Collecting filelock (from datasets)\n",
      "  Obtaining dependency information for filelock from https://files.pythonhosted.org/packages/89/ec/00d68c4ddfedfe64159999e5f8a98fb8442729a63e2077eb9dcd89623d27/filelock-3.17.0-py3-none-any.whl.metadata\n",
      "  Downloading filelock-3.17.0-py3-none-any.whl.metadata (2.9 kB)\n",
      "Requirement already satisfied: numpy>=1.17 in f:\\github\\table-parser\\.venv\\lib\\site-packages (from datasets) (2.0.2)\n",
      "Requirement already satisfied: pyarrow>=15.0.0 in f:\\github\\table-parser\\.venv\\lib\\site-packages (from datasets) (19.0.0)\n",
      "Collecting dill<0.3.9,>=0.3.0 (from datasets)\n",
      "  Obtaining dependency information for dill<0.3.9,>=0.3.0 from https://files.pythonhosted.org/packages/c9/7a/cef76fd8438a42f96db64ddaa85280485a9c395e7df3db8158cfec1eee34/dill-0.3.8-py3-none-any.whl.metadata\n",
      "  Using cached dill-0.3.8-py3-none-any.whl.metadata (10 kB)\n",
      "Requirement already satisfied: pandas in f:\\github\\table-parser\\.venv\\lib\\site-packages (from datasets) (2.2.3)\n",
      "Collecting requests>=2.32.2 (from datasets)\n",
      "  Obtaining dependency information for requests>=2.32.2 from https://files.pythonhosted.org/packages/f9/9b/335f9764261e915ed497fcdeb11df5dfd6f7bf257d4a6a2a686d80da4d54/requests-2.32.3-py3-none-any.whl.metadata\n",
      "  Using cached requests-2.32.3-py3-none-any.whl.metadata (4.6 kB)\n",
      "Collecting tqdm>=4.66.3 (from datasets)\n",
      "  Obtaining dependency information for tqdm>=4.66.3 from https://files.pythonhosted.org/packages/d0/30/dc54f88dd4a2b5dc8a0279bdd7270e735851848b762aeb1c1184ed1f6b14/tqdm-4.67.1-py3-none-any.whl.metadata\n",
      "  Using cached tqdm-4.67.1-py3-none-any.whl.metadata (57 kB)\n",
      "Collecting xxhash (from datasets)\n",
      "  Obtaining dependency information for xxhash from https://files.pythonhosted.org/packages/52/1c/fa3b61c0cf03e1da4767213672efe186b1dfa4fc901a4a694fb184a513d1/xxhash-3.5.0-cp311-cp311-win_amd64.whl.metadata\n",
      "  Using cached xxhash-3.5.0-cp311-cp311-win_amd64.whl.metadata (13 kB)\n",
      "Collecting multiprocess<0.70.17 (from datasets)\n",
      "  Obtaining dependency information for multiprocess<0.70.17 from https://files.pythonhosted.org/packages/50/15/b56e50e8debaf439f44befec5b2af11db85f6e0f344c3113ae0be0593a91/multiprocess-0.70.16-py311-none-any.whl.metadata\n",
      "  Using cached multiprocess-0.70.16-py311-none-any.whl.metadata (7.2 kB)\n",
      "Collecting fsspec[http]<=2024.9.0,>=2023.1.0 (from datasets)\n",
      "  Obtaining dependency information for fsspec[http]<=2024.9.0,>=2023.1.0 from https://files.pythonhosted.org/packages/1d/a0/6aaea0c2fbea2f89bfd5db25fb1e3481896a423002ebe4e55288907a97a3/fsspec-2024.9.0-py3-none-any.whl.metadata\n",
      "  Downloading fsspec-2024.9.0-py3-none-any.whl.metadata (11 kB)\n",
      "Collecting aiohttp (from datasets)\n",
      "  Obtaining dependency information for aiohttp from https://files.pythonhosted.org/packages/35/97/4d3c5f562f15830de472eb10a7a222655d750839943e0e6d915ef7e26114/aiohttp-3.11.12-cp311-cp311-win_amd64.whl.metadata\n",
      "  Downloading aiohttp-3.11.12-cp311-cp311-win_amd64.whl.metadata (8.0 kB)\n",
      "Collecting huggingface-hub>=0.23.0 (from datasets)\n",
      "  Obtaining dependency information for huggingface-hub>=0.23.0 from https://files.pythonhosted.org/packages/ea/da/6c2bea5327b640920267d3bf2c9fc114cfbd0a5de234d81cda80cc9e33c8/huggingface_hub-0.28.1-py3-none-any.whl.metadata\n",
      "  Downloading huggingface_hub-0.28.1-py3-none-any.whl.metadata (13 kB)\n",
      "Requirement already satisfied: packaging in f:\\github\\table-parser\\.venv\\lib\\site-packages (from datasets) (24.2)\n",
      "Collecting pyyaml>=5.1 (from datasets)\n",
      "  Obtaining dependency information for pyyaml>=5.1 from https://files.pythonhosted.org/packages/ed/23/8da0bbe2ab9dcdd11f4f4557ccaf95c10b9811b13ecced089d43ce59c3c8/PyYAML-6.0.2-cp311-cp311-win_amd64.whl.metadata\n",
      "  Downloading PyYAML-6.0.2-cp311-cp311-win_amd64.whl.metadata (2.1 kB)\n",
      "Collecting aiohappyeyeballs>=2.3.0 (from aiohttp->datasets)\n",
      "  Obtaining dependency information for aiohappyeyeballs>=2.3.0 from https://files.pythonhosted.org/packages/b9/74/fbb6559de3607b3300b9be3cc64e97548d55678e44623db17820dbd20002/aiohappyeyeballs-2.4.4-py3-none-any.whl.metadata\n",
      "  Downloading aiohappyeyeballs-2.4.4-py3-none-any.whl.metadata (6.1 kB)\n",
      "Collecting aiosignal>=1.1.2 (from aiohttp->datasets)\n",
      "  Obtaining dependency information for aiosignal>=1.1.2 from https://files.pythonhosted.org/packages/ec/6a/bc7e17a3e87a2985d3e8f4da4cd0f481060eb78fb08596c42be62c90a4d9/aiosignal-1.3.2-py2.py3-none-any.whl.metadata\n",
      "  Downloading aiosignal-1.3.2-py2.py3-none-any.whl.metadata (3.8 kB)\n",
      "Collecting attrs>=17.3.0 (from aiohttp->datasets)\n",
      "  Obtaining dependency information for attrs>=17.3.0 from https://files.pythonhosted.org/packages/fc/30/d4986a882011f9df997a55e6becd864812ccfcd821d64aac8570ee39f719/attrs-25.1.0-py3-none-any.whl.metadata\n",
      "  Downloading attrs-25.1.0-py3-none-any.whl.metadata (10 kB)\n",
      "Collecting frozenlist>=1.1.1 (from aiohttp->datasets)\n",
      "  Obtaining dependency information for frozenlist>=1.1.1 from https://files.pythonhosted.org/packages/ca/8c/2ddffeb8b60a4bce3b196c32fcc30d8830d4615e7b492ec2071da801b8ad/frozenlist-1.5.0-cp311-cp311-win_amd64.whl.metadata\n",
      "  Downloading frozenlist-1.5.0-cp311-cp311-win_amd64.whl.metadata (14 kB)\n",
      "Collecting multidict<7.0,>=4.5 (from aiohttp->datasets)\n",
      "  Obtaining dependency information for multidict<7.0,>=4.5 from https://files.pythonhosted.org/packages/9f/0b/ad879847ecbf6d27e90a6eabb7eff6b62c129eefe617ea45eae7c1f0aead/multidict-6.1.0-cp311-cp311-win_amd64.whl.metadata\n",
      "  Downloading multidict-6.1.0-cp311-cp311-win_amd64.whl.metadata (5.1 kB)\n",
      "Collecting propcache>=0.2.0 (from aiohttp->datasets)\n",
      "  Obtaining dependency information for propcache>=0.2.0 from https://files.pythonhosted.org/packages/cf/59/7cc7037b295d5772eceb426358bb1b86e6cab4616d971bd74275395d100d/propcache-0.2.1-cp311-cp311-win_amd64.whl.metadata\n",
      "  Downloading propcache-0.2.1-cp311-cp311-win_amd64.whl.metadata (9.5 kB)\n",
      "Collecting yarl<2.0,>=1.17.0 (from aiohttp->datasets)\n",
      "  Obtaining dependency information for yarl<2.0,>=1.17.0 from https://files.pythonhosted.org/packages/ae/7b/8600250b3d89b625f1121d897062f629883c2f45339623b69b1747ec65fa/yarl-1.18.3-cp311-cp311-win_amd64.whl.metadata\n",
      "  Downloading yarl-1.18.3-cp311-cp311-win_amd64.whl.metadata (71 kB)\n",
      "     ---------------------------------------- 0.0/71.4 kB ? eta -:--:--\n",
      "     ----------------- ---------------------- 30.7/71.4 kB 1.3 MB/s eta 0:00:01\n",
      "     ---------------------------------------- 71.4/71.4 kB 1.3 MB/s eta 0:00:00\n",
      "Requirement already satisfied: typing-extensions>=3.7.4.3 in f:\\github\\table-parser\\.venv\\lib\\site-packages (from huggingface-hub>=0.23.0->datasets) (4.12.2)\n",
      "Collecting charset-normalizer<4,>=2 (from requests>=2.32.2->datasets)\n",
      "  Obtaining dependency information for charset-normalizer<4,>=2 from https://files.pythonhosted.org/packages/1e/ab/45b180e175de4402dcf7547e4fb617283bae54ce35c27930a6f35b6bef15/charset_normalizer-3.4.1-cp311-cp311-win_amd64.whl.metadata\n",
      "  Downloading charset_normalizer-3.4.1-cp311-cp311-win_amd64.whl.metadata (36 kB)\n",
      "Collecting idna<4,>=2.5 (from requests>=2.32.2->datasets)\n",
      "  Obtaining dependency information for idna<4,>=2.5 from https://files.pythonhosted.org/packages/76/c6/c88e154df9c4e1a2a66ccf0005a88dfb2650c1dffb6f5ce603dfbd452ce3/idna-3.10-py3-none-any.whl.metadata\n",
      "  Downloading idna-3.10-py3-none-any.whl.metadata (10 kB)\n",
      "Collecting urllib3<3,>=1.21.1 (from requests>=2.32.2->datasets)\n",
      "  Obtaining dependency information for urllib3<3,>=1.21.1 from https://files.pythonhosted.org/packages/c8/19/4ec628951a74043532ca2cf5d97b7b14863931476d117c471e8e2b1eb39f/urllib3-2.3.0-py3-none-any.whl.metadata\n",
      "  Downloading urllib3-2.3.0-py3-none-any.whl.metadata (6.5 kB)\n",
      "Collecting certifi>=2017.4.17 (from requests>=2.32.2->datasets)\n",
      "  Obtaining dependency information for certifi>=2017.4.17 from https://files.pythonhosted.org/packages/38/fc/bce832fd4fd99766c04d1ee0eead6b0ec6486fb100ae5e74c1d91292b982/certifi-2025.1.31-py3-none-any.whl.metadata\n",
      "  Downloading certifi-2025.1.31-py3-none-any.whl.metadata (2.5 kB)\n",
      "Requirement already satisfied: colorama in f:\\github\\table-parser\\.venv\\lib\\site-packages (from tqdm>=4.66.3->datasets) (0.4.6)\n",
      "Requirement already satisfied: python-dateutil>=2.8.2 in f:\\github\\table-parser\\.venv\\lib\\site-packages (from pandas->datasets) (2.9.0.post0)\n",
      "Requirement already satisfied: pytz>=2020.1 in f:\\github\\table-parser\\.venv\\lib\\site-packages (from pandas->datasets) (2024.2)\n",
      "Requirement already satisfied: tzdata>=2022.7 in f:\\github\\table-parser\\.venv\\lib\\site-packages (from pandas->datasets) (2024.2)\n",
      "Requirement already satisfied: six>=1.5 in f:\\github\\table-parser\\.venv\\lib\\site-packages (from python-dateutil>=2.8.2->pandas->datasets) (1.17.0)\n",
      "Using cached datasets-3.2.0-py3-none-any.whl (480 kB)\n",
      "Using cached dill-0.3.8-py3-none-any.whl (116 kB)\n",
      "Downloading aiohttp-3.11.12-cp311-cp311-win_amd64.whl (442 kB)\n",
      "   ---------------------------------------- 0.0/442.7 kB ? eta -:--:--\n",
      "   ------------ --------------------------- 133.1/442.7 kB 4.0 MB/s eta 0:00:01\n",
      "   ---------------------------------------  440.3/442.7 kB 5.5 MB/s eta 0:00:01\n",
      "   ---------------------------------------- 442.7/442.7 kB 5.5 MB/s eta 0:00:00\n",
      "Downloading huggingface_hub-0.28.1-py3-none-any.whl (464 kB)\n",
      "   ---------------------------------------- 0.0/464.1 kB ? eta -:--:--\n",
      "   --------------------------------------- 464.1/464.1 kB 14.6 MB/s eta 0:00:00\n",
      "Using cached multiprocess-0.70.16-py311-none-any.whl (143 kB)\n",
      "Downloading PyYAML-6.0.2-cp311-cp311-win_amd64.whl (161 kB)\n",
      "   ---------------------------------------- 0.0/162.0 kB ? eta -:--:--\n",
      "   ---------------------------------------- 162.0/162.0 kB 9.5 MB/s eta 0:00:00\n",
      "Using cached requests-2.32.3-py3-none-any.whl (64 kB)\n",
      "Using cached tqdm-4.67.1-py3-none-any.whl (78 kB)\n",
      "Downloading filelock-3.17.0-py3-none-any.whl (16 kB)\n",
      "Using cached xxhash-3.5.0-cp311-cp311-win_amd64.whl (30 kB)\n",
      "Downloading aiohappyeyeballs-2.4.4-py3-none-any.whl (14 kB)\n",
      "Downloading aiosignal-1.3.2-py2.py3-none-any.whl (7.6 kB)\n",
      "Downloading attrs-25.1.0-py3-none-any.whl (63 kB)\n",
      "   ---------------------------------------- 0.0/63.2 kB ? eta -:--:--\n",
      "   ---------------------------------------- 63.2/63.2 kB 3.3 MB/s eta 0:00:00\n",
      "Downloading certifi-2025.1.31-py3-none-any.whl (166 kB)\n",
      "   ---------------------------------------- 0.0/166.4 kB ? eta -:--:--\n",
      "   --------------------------------------- 166.4/166.4 kB 10.4 MB/s eta 0:00:00\n",
      "Downloading charset_normalizer-3.4.1-cp311-cp311-win_amd64.whl (102 kB)\n",
      "   ---------------------------------------- 0.0/102.4 kB ? eta -:--:--\n",
      "   ---------------------------------------- 102.4/102.4 kB 5.8 MB/s eta 0:00:00\n",
      "Downloading frozenlist-1.5.0-cp311-cp311-win_amd64.whl (51 kB)\n",
      "   ---------------------------------------- 0.0/51.6 kB ? eta -:--:--\n",
      "   ---------------------------------------- 51.6/51.6 kB ? eta 0:00:00\n",
      "Downloading fsspec-2024.9.0-py3-none-any.whl (179 kB)\n",
      "   ---------------------------------------- 0.0/179.3 kB ? eta -:--:--\n",
      "   ---------------------------------------- 179.3/179.3 kB 5.5 MB/s eta 0:00:00\n",
      "Using cached idna-3.10-py3-none-any.whl (70 kB)\n",
      "Downloading multidict-6.1.0-cp311-cp311-win_amd64.whl (28 kB)\n",
      "Downloading propcache-0.2.1-cp311-cp311-win_amd64.whl (44 kB)\n",
      "   ---------------------------------------- 0.0/44.4 kB ? eta -:--:--\n",
      "   ---------------------------------------- 44.4/44.4 kB ? eta 0:00:00\n",
      "Downloading urllib3-2.3.0-py3-none-any.whl (128 kB)\n",
      "   ---------------------------------------- 0.0/128.4 kB ? eta -:--:--\n",
      "   ---------------------------------------- 128.4/128.4 kB ? eta 0:00:00\n",
      "Downloading yarl-1.18.3-cp311-cp311-win_amd64.whl (91 kB)\n",
      "   ---------------------------------------- 0.0/91.0 kB ? eta -:--:--\n",
      "   ---------------------------------------- 91.0/91.0 kB ? eta 0:00:00\n",
      "Installing collected packages: xxhash, urllib3, tqdm, pyyaml, propcache, multidict, idna, fsspec, frozenlist, filelock, dill, charset-normalizer, certifi, attrs, aiohappyeyeballs, yarl, requests, multiprocess, aiosignal, huggingface-hub, aiohttp, datasets\n",
      "Successfully installed aiohappyeyeballs-2.4.4 aiohttp-3.11.12 aiosignal-1.3.2 attrs-25.1.0 certifi-2025.1.31 charset-normalizer-3.4.1 datasets-3.2.0 dill-0.3.8 filelock-3.17.0 frozenlist-1.5.0 fsspec-2024.9.0 huggingface-hub-0.28.1 idna-3.10 multidict-6.1.0 multiprocess-0.70.16 propcache-0.2.1 pyyaml-6.0.2 requests-2.32.3 tqdm-4.67.1 urllib3-2.3.0 xxhash-3.5.0 yarl-1.18.3\n"
     ]
    },
    {
     "name": "stderr",
     "output_type": "stream",
     "text": [
      "\n",
      "[notice] A new release of pip is available: 23.2.1 -> 25.0\n",
      "[notice] To update, run: python.exe -m pip install --upgrade pip\n"
     ]
    }
   ],
   "source": [
    "! pip install datasets"
   ]
  },
  {
   "cell_type": "code",
   "execution_count": 6,
   "metadata": {},
   "outputs": [
    {
     "ename": "EmptyDatasetError",
     "evalue": "The directory at F:/GitHub/table-parser/yolo/dataset/dataset doesn't contain any data files",
     "output_type": "error",
     "traceback": [
      "\u001b[1;31m---------------------------------------------------------------------------\u001b[0m",
      "\u001b[1;31mEmptyDatasetError\u001b[0m                         Traceback (most recent call last)",
      "Cell \u001b[1;32mIn[6], line 2\u001b[0m\n\u001b[0;32m      1\u001b[0m \u001b[38;5;28;01mfrom\u001b[39;00m\u001b[38;5;250m \u001b[39m\u001b[38;5;21;01mdatasets\u001b[39;00m\u001b[38;5;250m \u001b[39m\u001b[38;5;28;01mimport\u001b[39;00m load_dataset\n\u001b[1;32m----> 2\u001b[0m ds \u001b[38;5;241m=\u001b[39m \u001b[43mload_dataset\u001b[49m\u001b[43m(\u001b[49m\u001b[43mdata_dir\u001b[49m\u001b[38;5;241;43m=\u001b[39;49m\u001b[38;5;124;43m\"\u001b[39;49m\u001b[38;5;124;43mdataset\u001b[39;49m\u001b[38;5;124;43m\"\u001b[39;49m\u001b[43m,\u001b[49m\u001b[43m \u001b[49m\u001b[43mpath\u001b[49m\u001b[38;5;241;43m=\u001b[39;49m\u001b[38;5;124;43m\"\u001b[39;49m\u001b[38;5;124;43mdataset\u001b[39;49m\u001b[38;5;124;43m\"\u001b[39;49m\u001b[43m)\u001b[49m\n\u001b[0;32m      3\u001b[0m example \u001b[38;5;241m=\u001b[39m ds[\u001b[38;5;124m'\u001b[39m\u001b[38;5;124mtrain\u001b[39m\u001b[38;5;124m'\u001b[39m][\u001b[38;5;241m0\u001b[39m]\n",
      "File \u001b[1;32mf:\\GitHub\\table-parser\\.venv\\Lib\\site-packages\\datasets\\load.py:2129\u001b[0m, in \u001b[0;36mload_dataset\u001b[1;34m(path, name, data_dir, data_files, split, cache_dir, features, download_config, download_mode, verification_mode, keep_in_memory, save_infos, revision, token, streaming, num_proc, storage_options, trust_remote_code, **config_kwargs)\u001b[0m\n\u001b[0;32m   2124\u001b[0m verification_mode \u001b[38;5;241m=\u001b[39m VerificationMode(\n\u001b[0;32m   2125\u001b[0m     (verification_mode \u001b[38;5;129;01mor\u001b[39;00m VerificationMode\u001b[38;5;241m.\u001b[39mBASIC_CHECKS) \u001b[38;5;28;01mif\u001b[39;00m \u001b[38;5;129;01mnot\u001b[39;00m save_infos \u001b[38;5;28;01melse\u001b[39;00m VerificationMode\u001b[38;5;241m.\u001b[39mALL_CHECKS\n\u001b[0;32m   2126\u001b[0m )\n\u001b[0;32m   2128\u001b[0m \u001b[38;5;66;03m# Create a dataset builder\u001b[39;00m\n\u001b[1;32m-> 2129\u001b[0m builder_instance \u001b[38;5;241m=\u001b[39m \u001b[43mload_dataset_builder\u001b[49m\u001b[43m(\u001b[49m\n\u001b[0;32m   2130\u001b[0m \u001b[43m    \u001b[49m\u001b[43mpath\u001b[49m\u001b[38;5;241;43m=\u001b[39;49m\u001b[43mpath\u001b[49m\u001b[43m,\u001b[49m\n\u001b[0;32m   2131\u001b[0m \u001b[43m    \u001b[49m\u001b[43mname\u001b[49m\u001b[38;5;241;43m=\u001b[39;49m\u001b[43mname\u001b[49m\u001b[43m,\u001b[49m\n\u001b[0;32m   2132\u001b[0m \u001b[43m    \u001b[49m\u001b[43mdata_dir\u001b[49m\u001b[38;5;241;43m=\u001b[39;49m\u001b[43mdata_dir\u001b[49m\u001b[43m,\u001b[49m\n\u001b[0;32m   2133\u001b[0m \u001b[43m    \u001b[49m\u001b[43mdata_files\u001b[49m\u001b[38;5;241;43m=\u001b[39;49m\u001b[43mdata_files\u001b[49m\u001b[43m,\u001b[49m\n\u001b[0;32m   2134\u001b[0m \u001b[43m    \u001b[49m\u001b[43mcache_dir\u001b[49m\u001b[38;5;241;43m=\u001b[39;49m\u001b[43mcache_dir\u001b[49m\u001b[43m,\u001b[49m\n\u001b[0;32m   2135\u001b[0m \u001b[43m    \u001b[49m\u001b[43mfeatures\u001b[49m\u001b[38;5;241;43m=\u001b[39;49m\u001b[43mfeatures\u001b[49m\u001b[43m,\u001b[49m\n\u001b[0;32m   2136\u001b[0m \u001b[43m    \u001b[49m\u001b[43mdownload_config\u001b[49m\u001b[38;5;241;43m=\u001b[39;49m\u001b[43mdownload_config\u001b[49m\u001b[43m,\u001b[49m\n\u001b[0;32m   2137\u001b[0m \u001b[43m    \u001b[49m\u001b[43mdownload_mode\u001b[49m\u001b[38;5;241;43m=\u001b[39;49m\u001b[43mdownload_mode\u001b[49m\u001b[43m,\u001b[49m\n\u001b[0;32m   2138\u001b[0m \u001b[43m    \u001b[49m\u001b[43mrevision\u001b[49m\u001b[38;5;241;43m=\u001b[39;49m\u001b[43mrevision\u001b[49m\u001b[43m,\u001b[49m\n\u001b[0;32m   2139\u001b[0m \u001b[43m    \u001b[49m\u001b[43mtoken\u001b[49m\u001b[38;5;241;43m=\u001b[39;49m\u001b[43mtoken\u001b[49m\u001b[43m,\u001b[49m\n\u001b[0;32m   2140\u001b[0m \u001b[43m    \u001b[49m\u001b[43mstorage_options\u001b[49m\u001b[38;5;241;43m=\u001b[39;49m\u001b[43mstorage_options\u001b[49m\u001b[43m,\u001b[49m\n\u001b[0;32m   2141\u001b[0m \u001b[43m    \u001b[49m\u001b[43mtrust_remote_code\u001b[49m\u001b[38;5;241;43m=\u001b[39;49m\u001b[43mtrust_remote_code\u001b[49m\u001b[43m,\u001b[49m\n\u001b[0;32m   2142\u001b[0m \u001b[43m    \u001b[49m\u001b[43m_require_default_config_name\u001b[49m\u001b[38;5;241;43m=\u001b[39;49m\u001b[43mname\u001b[49m\u001b[43m \u001b[49m\u001b[38;5;129;43;01mis\u001b[39;49;00m\u001b[43m \u001b[49m\u001b[38;5;28;43;01mNone\u001b[39;49;00m\u001b[43m,\u001b[49m\n\u001b[0;32m   2143\u001b[0m \u001b[43m    \u001b[49m\u001b[38;5;241;43m*\u001b[39;49m\u001b[38;5;241;43m*\u001b[39;49m\u001b[43mconfig_kwargs\u001b[49m\u001b[43m,\u001b[49m\n\u001b[0;32m   2144\u001b[0m \u001b[43m\u001b[49m\u001b[43m)\u001b[49m\n\u001b[0;32m   2146\u001b[0m \u001b[38;5;66;03m# Return iterable dataset in case of streaming\u001b[39;00m\n\u001b[0;32m   2147\u001b[0m \u001b[38;5;28;01mif\u001b[39;00m streaming:\n",
      "File \u001b[1;32mf:\\GitHub\\table-parser\\.venv\\Lib\\site-packages\\datasets\\load.py:1849\u001b[0m, in \u001b[0;36mload_dataset_builder\u001b[1;34m(path, name, data_dir, data_files, cache_dir, features, download_config, download_mode, revision, token, storage_options, trust_remote_code, _require_default_config_name, **config_kwargs)\u001b[0m\n\u001b[0;32m   1847\u001b[0m     download_config \u001b[38;5;241m=\u001b[39m download_config\u001b[38;5;241m.\u001b[39mcopy() \u001b[38;5;28;01mif\u001b[39;00m download_config \u001b[38;5;28;01melse\u001b[39;00m DownloadConfig()\n\u001b[0;32m   1848\u001b[0m     download_config\u001b[38;5;241m.\u001b[39mstorage_options\u001b[38;5;241m.\u001b[39mupdate(storage_options)\n\u001b[1;32m-> 1849\u001b[0m dataset_module \u001b[38;5;241m=\u001b[39m \u001b[43mdataset_module_factory\u001b[49m\u001b[43m(\u001b[49m\n\u001b[0;32m   1850\u001b[0m \u001b[43m    \u001b[49m\u001b[43mpath\u001b[49m\u001b[43m,\u001b[49m\n\u001b[0;32m   1851\u001b[0m \u001b[43m    \u001b[49m\u001b[43mrevision\u001b[49m\u001b[38;5;241;43m=\u001b[39;49m\u001b[43mrevision\u001b[49m\u001b[43m,\u001b[49m\n\u001b[0;32m   1852\u001b[0m \u001b[43m    \u001b[49m\u001b[43mdownload_config\u001b[49m\u001b[38;5;241;43m=\u001b[39;49m\u001b[43mdownload_config\u001b[49m\u001b[43m,\u001b[49m\n\u001b[0;32m   1853\u001b[0m \u001b[43m    \u001b[49m\u001b[43mdownload_mode\u001b[49m\u001b[38;5;241;43m=\u001b[39;49m\u001b[43mdownload_mode\u001b[49m\u001b[43m,\u001b[49m\n\u001b[0;32m   1854\u001b[0m \u001b[43m    \u001b[49m\u001b[43mdata_dir\u001b[49m\u001b[38;5;241;43m=\u001b[39;49m\u001b[43mdata_dir\u001b[49m\u001b[43m,\u001b[49m\n\u001b[0;32m   1855\u001b[0m \u001b[43m    \u001b[49m\u001b[43mdata_files\u001b[49m\u001b[38;5;241;43m=\u001b[39;49m\u001b[43mdata_files\u001b[49m\u001b[43m,\u001b[49m\n\u001b[0;32m   1856\u001b[0m \u001b[43m    \u001b[49m\u001b[43mcache_dir\u001b[49m\u001b[38;5;241;43m=\u001b[39;49m\u001b[43mcache_dir\u001b[49m\u001b[43m,\u001b[49m\n\u001b[0;32m   1857\u001b[0m \u001b[43m    \u001b[49m\u001b[43mtrust_remote_code\u001b[49m\u001b[38;5;241;43m=\u001b[39;49m\u001b[43mtrust_remote_code\u001b[49m\u001b[43m,\u001b[49m\n\u001b[0;32m   1858\u001b[0m \u001b[43m    \u001b[49m\u001b[43m_require_default_config_name\u001b[49m\u001b[38;5;241;43m=\u001b[39;49m\u001b[43m_require_default_config_name\u001b[49m\u001b[43m,\u001b[49m\n\u001b[0;32m   1859\u001b[0m \u001b[43m    \u001b[49m\u001b[43m_require_custom_configs\u001b[49m\u001b[38;5;241;43m=\u001b[39;49m\u001b[38;5;28;43mbool\u001b[39;49m\u001b[43m(\u001b[49m\u001b[43mconfig_kwargs\u001b[49m\u001b[43m)\u001b[49m\u001b[43m,\u001b[49m\n\u001b[0;32m   1860\u001b[0m \u001b[43m\u001b[49m\u001b[43m)\u001b[49m\n\u001b[0;32m   1861\u001b[0m \u001b[38;5;66;03m# Get dataset builder class from the processing script\u001b[39;00m\n\u001b[0;32m   1862\u001b[0m builder_kwargs \u001b[38;5;241m=\u001b[39m dataset_module\u001b[38;5;241m.\u001b[39mbuilder_kwargs\n",
      "File \u001b[1;32mf:\\GitHub\\table-parser\\.venv\\Lib\\site-packages\\datasets\\load.py:1586\u001b[0m, in \u001b[0;36mdataset_module_factory\u001b[1;34m(path, revision, download_config, download_mode, dynamic_modules_path, data_dir, data_files, cache_dir, trust_remote_code, _require_default_config_name, _require_custom_configs, **download_kwargs)\u001b[0m\n\u001b[0;32m   1577\u001b[0m     \u001b[38;5;28;01mreturn\u001b[39;00m LocalDatasetModuleFactoryWithScript(\n\u001b[0;32m   1578\u001b[0m         combined_path,\n\u001b[0;32m   1579\u001b[0m         download_mode\u001b[38;5;241m=\u001b[39mdownload_mode,\n\u001b[0;32m   1580\u001b[0m         dynamic_modules_path\u001b[38;5;241m=\u001b[39mdynamic_modules_path,\n\u001b[0;32m   1581\u001b[0m         trust_remote_code\u001b[38;5;241m=\u001b[39mtrust_remote_code,\n\u001b[0;32m   1582\u001b[0m     )\u001b[38;5;241m.\u001b[39mget_module()\n\u001b[0;32m   1583\u001b[0m \u001b[38;5;28;01melif\u001b[39;00m os\u001b[38;5;241m.\u001b[39mpath\u001b[38;5;241m.\u001b[39misdir(path):\n\u001b[0;32m   1584\u001b[0m     \u001b[38;5;28;01mreturn\u001b[39;00m \u001b[43mLocalDatasetModuleFactoryWithoutScript\u001b[49m\u001b[43m(\u001b[49m\n\u001b[0;32m   1585\u001b[0m \u001b[43m        \u001b[49m\u001b[43mpath\u001b[49m\u001b[43m,\u001b[49m\u001b[43m \u001b[49m\u001b[43mdata_dir\u001b[49m\u001b[38;5;241;43m=\u001b[39;49m\u001b[43mdata_dir\u001b[49m\u001b[43m,\u001b[49m\u001b[43m \u001b[49m\u001b[43mdata_files\u001b[49m\u001b[38;5;241;43m=\u001b[39;49m\u001b[43mdata_files\u001b[49m\u001b[43m,\u001b[49m\u001b[43m \u001b[49m\u001b[43mdownload_mode\u001b[49m\u001b[38;5;241;43m=\u001b[39;49m\u001b[43mdownload_mode\u001b[49m\n\u001b[1;32m-> 1586\u001b[0m \u001b[43m    \u001b[49m\u001b[43m)\u001b[49m\u001b[38;5;241;43m.\u001b[39;49m\u001b[43mget_module\u001b[49m\u001b[43m(\u001b[49m\u001b[43m)\u001b[49m\n\u001b[0;32m   1587\u001b[0m \u001b[38;5;66;03m# Try remotely\u001b[39;00m\n\u001b[0;32m   1588\u001b[0m \u001b[38;5;28;01melif\u001b[39;00m is_relative_path(path) \u001b[38;5;129;01mand\u001b[39;00m path\u001b[38;5;241m.\u001b[39mcount(\u001b[38;5;124m\"\u001b[39m\u001b[38;5;124m/\u001b[39m\u001b[38;5;124m\"\u001b[39m) \u001b[38;5;241m<\u001b[39m\u001b[38;5;241m=\u001b[39m \u001b[38;5;241m1\u001b[39m:\n",
      "File \u001b[1;32mf:\\GitHub\\table-parser\\.venv\\Lib\\site-packages\\datasets\\load.py:836\u001b[0m, in \u001b[0;36mLocalDatasetModuleFactoryWithoutScript.get_module\u001b[1;34m(self)\u001b[0m\n\u001b[0;32m    834\u001b[0m     patterns \u001b[38;5;241m=\u001b[39m sanitize_patterns(\u001b[38;5;28mnext\u001b[39m(\u001b[38;5;28miter\u001b[39m(metadata_configs\u001b[38;5;241m.\u001b[39mvalues()))[\u001b[38;5;124m\"\u001b[39m\u001b[38;5;124mdata_files\u001b[39m\u001b[38;5;124m\"\u001b[39m])\n\u001b[0;32m    835\u001b[0m \u001b[38;5;28;01melse\u001b[39;00m:\n\u001b[1;32m--> 836\u001b[0m     patterns \u001b[38;5;241m=\u001b[39m \u001b[43mget_data_patterns\u001b[49m\u001b[43m(\u001b[49m\u001b[43mbase_path\u001b[49m\u001b[43m)\u001b[49m\n\u001b[0;32m    837\u001b[0m data_files \u001b[38;5;241m=\u001b[39m DataFilesDict\u001b[38;5;241m.\u001b[39mfrom_patterns(\n\u001b[0;32m    838\u001b[0m     patterns,\n\u001b[0;32m    839\u001b[0m     base_path\u001b[38;5;241m=\u001b[39mbase_path,\n\u001b[0;32m    840\u001b[0m     allowed_extensions\u001b[38;5;241m=\u001b[39mALL_ALLOWED_EXTENSIONS,\n\u001b[0;32m    841\u001b[0m )\n\u001b[0;32m    842\u001b[0m module_name, default_builder_kwargs \u001b[38;5;241m=\u001b[39m infer_module_for_data_files(\n\u001b[0;32m    843\u001b[0m     data_files\u001b[38;5;241m=\u001b[39mdata_files,\n\u001b[0;32m    844\u001b[0m     path\u001b[38;5;241m=\u001b[39m\u001b[38;5;28mself\u001b[39m\u001b[38;5;241m.\u001b[39mpath,\n\u001b[0;32m    845\u001b[0m )\n",
      "File \u001b[1;32mf:\\GitHub\\table-parser\\.venv\\Lib\\site-packages\\datasets\\data_files.py:503\u001b[0m, in \u001b[0;36mget_data_patterns\u001b[1;34m(base_path, download_config)\u001b[0m\n\u001b[0;32m    501\u001b[0m     \u001b[38;5;28;01mreturn\u001b[39;00m _get_data_files_patterns(resolver)\n\u001b[0;32m    502\u001b[0m \u001b[38;5;28;01mexcept\u001b[39;00m \u001b[38;5;167;01mFileNotFoundError\u001b[39;00m:\n\u001b[1;32m--> 503\u001b[0m     \u001b[38;5;28;01mraise\u001b[39;00m EmptyDatasetError(\u001b[38;5;124mf\u001b[39m\u001b[38;5;124m\"\u001b[39m\u001b[38;5;124mThe directory at \u001b[39m\u001b[38;5;132;01m{\u001b[39;00mbase_path\u001b[38;5;132;01m}\u001b[39;00m\u001b[38;5;124m doesn\u001b[39m\u001b[38;5;124m'\u001b[39m\u001b[38;5;124mt contain any data files\u001b[39m\u001b[38;5;124m\"\u001b[39m) \u001b[38;5;28;01mfrom\u001b[39;00m\u001b[38;5;250m \u001b[39m\u001b[38;5;28;01mNone\u001b[39;00m\n",
      "\u001b[1;31mEmptyDatasetError\u001b[0m: The directory at F:/GitHub/table-parser/yolo/dataset/dataset doesn't contain any data files"
     ]
    }
   ],
   "source": [
    "from datasets import load_dataset\n",
    "ds = load_dataset(data_dir=\"dataset\", path=\"dataset\")\n",
    "example = ds['train'][0]"
   ]
  },
  {
   "cell_type": "code",
   "execution_count": 7,
   "metadata": {},
   "outputs": [
    {
     "name": "stderr",
     "output_type": "stream",
     "text": [
      "100%|██████████| 238/238 [00:00<00:00, 7694.78it/s]\n"
     ]
    }
   ],
   "source": [
    "import json\n",
    "import os\n",
    "from tqdm import tqdm\n",
    "\n",
    "# Путь к вашему файлу в COCO-формате\n",
    "COCO_JSON = r\"table_dataset/images/train/_annotations.coco.json\"\n",
    "# Папка, где лежат сами изображения\n",
    "IMAGES_DIR = r\"table_dataset/images/train\"  \n",
    "# Папка, куда мы хотим сложить новые txt-файлы\n",
    "OUTPUT_LABELS_DIR = r\"table_dataset/labels/train\"\n",
    "\n",
    "# Убедитесь, что папка для labels существует\n",
    "os.makedirs(OUTPUT_LABELS_DIR, exist_ok=True)\n",
    "\n",
    "with open(COCO_JSON, 'r', encoding='utf-8') as f:\n",
    "    coco_data = json.load(f)\n",
    "\n",
    "images_info = {img['id']: img for img in coco_data['images']}\n",
    "categories_info = {cat['id']: cat['name'] for cat in coco_data['categories']}\n",
    "\n",
    "# Пример: если у вас 2 класса: {\"id\":0,\"name\":\"bordered\"}, {\"id\":1,\"name\":\"borderless\"},\n",
    "# то в YOLO labels будут: class 0 -> \"bordered\", class 1 -> \"borderless\"\n",
    "# Важно, чтобы COCO category_id точно соответствовал индексам YOLO.\n",
    "\n",
    "# Группируем аннотации по ID картинки\n",
    "annotations_by_image = {}\n",
    "for ann in coco_data['annotations']:\n",
    "    img_id = ann['image_id']\n",
    "    if img_id not in annotations_by_image:\n",
    "        annotations_by_image[img_id] = []\n",
    "    annotations_by_image[img_id].append(ann)\n",
    "\n",
    "for img_id, image_dict in tqdm(images_info.items()):\n",
    "    file_name = image_dict['file_name']\n",
    "    width = image_dict['width']\n",
    "    height = image_dict['height']\n",
    "    \n",
    "    # Имя txt-файла такое же, как у изображения, только с .txt\n",
    "    # Например, image.jpg -> image.txt\n",
    "    # (Аккуратнее, если у вас сложные пути, лучше брать os.path.splitext(file_name)[0])\n",
    "    txt_file_name = os.path.splitext(file_name)[0] + \".txt\"\n",
    "    txt_path = os.path.join(OUTPUT_LABELS_DIR, txt_file_name)\n",
    "    \n",
    "    # Составляем контент для этого txt\n",
    "    yolo_lines = []\n",
    "    if img_id in annotations_by_image:\n",
    "        for ann in annotations_by_image[img_id]:\n",
    "            cat_id = ann['category_id']  # ID класса из COCO\n",
    "            # COCO bbox: [x_min, y_min, width, height] (в пикселях)\n",
    "            x, y, w, h = ann['bbox']\n",
    "            \n",
    "            # Координаты центра и ширины/высоты в YOLO-формате (нормализованные)\n",
    "            x_center = x + w/2\n",
    "            y_center = y + h/2\n",
    "            x_center_norm = x_center / width\n",
    "            y_center_norm = y_center / height\n",
    "            w_norm = w / width\n",
    "            h_norm = h / height\n",
    "\n",
    "            # Формируем строчку: <class_id> <x_center> <y_center> <width> <height>\n",
    "            # Все значения - float, YOLO читает в том числе с плавающей точкой\n",
    "            yolo_line = f\"{cat_id} {x_center_norm:.6f} {y_center_norm:.6f} {w_norm:.6f} {h_norm:.6f}\"\n",
    "            yolo_lines.append(yolo_line)\n",
    "    \n",
    "    # Записываем содержимое в txt файл\n",
    "    with open(txt_path, \"w\", encoding=\"utf-8\") as f_txt:\n",
    "        for line in yolo_lines:\n",
    "            f_txt.write(line + \"\\n\")\n"
   ]
  },
  {
   "cell_type": "code",
   "execution_count": 8,
   "metadata": {},
   "outputs": [
    {
     "name": "stdout",
     "output_type": "stream",
     "text": [
      "Collecting ultralytics\n",
      "  Obtaining dependency information for ultralytics from https://files.pythonhosted.org/packages/22/4a/5b2a7577c7b770aa5c232576fa4116f6c0527b745d2a04bf5a19bcfc80ca/ultralytics-8.3.72-py3-none-any.whl.metadata\n",
      "  Downloading ultralytics-8.3.72-py3-none-any.whl.metadata (35 kB)\n",
      "Requirement already satisfied: numpy<=2.1.1,>=1.23.0 in f:\\github\\table-parser\\.venv\\lib\\site-packages (from ultralytics) (2.0.2)\n",
      "Requirement already satisfied: matplotlib>=3.3.0 in f:\\github\\table-parser\\.venv\\lib\\site-packages (from ultralytics) (3.10.0)\n",
      "Collecting opencv-python>=4.6.0 (from ultralytics)\n",
      "  Obtaining dependency information for opencv-python>=4.6.0 from https://files.pythonhosted.org/packages/a4/7d/f1c30a92854540bf789e9cd5dde7ef49bbe63f855b85a2e6b3db8135c591/opencv_python-4.11.0.86-cp37-abi3-win_amd64.whl.metadata\n",
      "  Downloading opencv_python-4.11.0.86-cp37-abi3-win_amd64.whl.metadata (20 kB)\n",
      "Requirement already satisfied: pillow>=7.1.2 in f:\\github\\table-parser\\.venv\\lib\\site-packages (from ultralytics) (11.1.0)\n",
      "Requirement already satisfied: pyyaml>=5.3.1 in f:\\github\\table-parser\\.venv\\lib\\site-packages (from ultralytics) (6.0.2)\n",
      "Requirement already satisfied: requests>=2.23.0 in f:\\github\\table-parser\\.venv\\lib\\site-packages (from ultralytics) (2.32.3)\n",
      "Collecting scipy>=1.4.1 (from ultralytics)\n",
      "  Obtaining dependency information for scipy>=1.4.1 from https://files.pythonhosted.org/packages/af/25/caa430865749d504271757cafd24066d596217e83326155993980bc22f97/scipy-1.15.1-cp311-cp311-win_amd64.whl.metadata\n",
      "  Downloading scipy-1.15.1-cp311-cp311-win_amd64.whl.metadata (60 kB)\n",
      "     ---------------------------------------- 0.0/60.8 kB ? eta -:--:--\n",
      "     -------------------------------- ----- 51.2/60.8 kB 871.5 kB/s eta 0:00:01\n",
      "     ---------------------------------------- 60.8/60.8 kB 1.1 MB/s eta 0:00:00\n",
      "Collecting torch>=1.8.0 (from ultralytics)\n",
      "  Obtaining dependency information for torch>=1.8.0 from https://files.pythonhosted.org/packages/11/c5/2370d96b31eb1841c3a0883a492c15278a6718ccad61bb6a649c80d1d9eb/torch-2.6.0-cp311-cp311-win_amd64.whl.metadata\n",
      "  Downloading torch-2.6.0-cp311-cp311-win_amd64.whl.metadata (28 kB)\n",
      "Collecting torchvision>=0.9.0 (from ultralytics)\n",
      "  Obtaining dependency information for torchvision>=0.9.0 from https://files.pythonhosted.org/packages/88/53/4ad334b9b1d8dd99836869fec139cb74a27781298360b91b9506c53f1d10/torchvision-0.21.0-cp311-cp311-win_amd64.whl.metadata\n",
      "  Downloading torchvision-0.21.0-cp311-cp311-win_amd64.whl.metadata (6.3 kB)\n",
      "Requirement already satisfied: tqdm>=4.64.0 in f:\\github\\table-parser\\.venv\\lib\\site-packages (from ultralytics) (4.67.1)\n",
      "Requirement already satisfied: psutil in f:\\github\\table-parser\\.venv\\lib\\site-packages (from ultralytics) (6.1.1)\n",
      "Collecting py-cpuinfo (from ultralytics)\n",
      "  Obtaining dependency information for py-cpuinfo from https://files.pythonhosted.org/packages/e0/a9/023730ba63db1e494a271cb018dcd361bd2c917ba7004c3e49d5daf795a2/py_cpuinfo-9.0.0-py3-none-any.whl.metadata\n",
      "  Downloading py_cpuinfo-9.0.0-py3-none-any.whl.metadata (794 bytes)\n",
      "Requirement already satisfied: pandas>=1.1.4 in f:\\github\\table-parser\\.venv\\lib\\site-packages (from ultralytics) (2.2.3)\n",
      "Collecting seaborn>=0.11.0 (from ultralytics)\n",
      "  Obtaining dependency information for seaborn>=0.11.0 from https://files.pythonhosted.org/packages/83/11/00d3c3dfc25ad54e731d91449895a79e4bf2384dc3ac01809010ba88f6d5/seaborn-0.13.2-py3-none-any.whl.metadata\n",
      "  Downloading seaborn-0.13.2-py3-none-any.whl.metadata (5.4 kB)\n",
      "Collecting ultralytics-thop>=2.0.0 (from ultralytics)\n",
      "  Obtaining dependency information for ultralytics-thop>=2.0.0 from https://files.pythonhosted.org/packages/a6/10/251f036b4c5d77249f9a119cc89dafe8745dc1ad1f1a5f06b6a3988ca454/ultralytics_thop-2.0.14-py3-none-any.whl.metadata\n",
      "  Downloading ultralytics_thop-2.0.14-py3-none-any.whl.metadata (9.4 kB)\n",
      "Requirement already satisfied: contourpy>=1.0.1 in f:\\github\\table-parser\\.venv\\lib\\site-packages (from matplotlib>=3.3.0->ultralytics) (1.3.1)\n",
      "Requirement already satisfied: cycler>=0.10 in f:\\github\\table-parser\\.venv\\lib\\site-packages (from matplotlib>=3.3.0->ultralytics) (0.12.1)\n",
      "Requirement already satisfied: fonttools>=4.22.0 in f:\\github\\table-parser\\.venv\\lib\\site-packages (from matplotlib>=3.3.0->ultralytics) (4.55.3)\n",
      "Requirement already satisfied: kiwisolver>=1.3.1 in f:\\github\\table-parser\\.venv\\lib\\site-packages (from matplotlib>=3.3.0->ultralytics) (1.4.8)\n",
      "Requirement already satisfied: packaging>=20.0 in f:\\github\\table-parser\\.venv\\lib\\site-packages (from matplotlib>=3.3.0->ultralytics) (24.2)\n",
      "Requirement already satisfied: pyparsing>=2.3.1 in f:\\github\\table-parser\\.venv\\lib\\site-packages (from matplotlib>=3.3.0->ultralytics) (3.2.1)\n",
      "Requirement already satisfied: python-dateutil>=2.7 in f:\\github\\table-parser\\.venv\\lib\\site-packages (from matplotlib>=3.3.0->ultralytics) (2.9.0.post0)\n",
      "Requirement already satisfied: pytz>=2020.1 in f:\\github\\table-parser\\.venv\\lib\\site-packages (from pandas>=1.1.4->ultralytics) (2024.2)\n",
      "Requirement already satisfied: tzdata>=2022.7 in f:\\github\\table-parser\\.venv\\lib\\site-packages (from pandas>=1.1.4->ultralytics) (2024.2)\n",
      "Requirement already satisfied: charset-normalizer<4,>=2 in f:\\github\\table-parser\\.venv\\lib\\site-packages (from requests>=2.23.0->ultralytics) (3.4.1)\n",
      "Requirement already satisfied: idna<4,>=2.5 in f:\\github\\table-parser\\.venv\\lib\\site-packages (from requests>=2.23.0->ultralytics) (3.10)\n",
      "Requirement already satisfied: urllib3<3,>=1.21.1 in f:\\github\\table-parser\\.venv\\lib\\site-packages (from requests>=2.23.0->ultralytics) (2.3.0)\n",
      "Requirement already satisfied: certifi>=2017.4.17 in f:\\github\\table-parser\\.venv\\lib\\site-packages (from requests>=2.23.0->ultralytics) (2025.1.31)\n",
      "Requirement already satisfied: filelock in f:\\github\\table-parser\\.venv\\lib\\site-packages (from torch>=1.8.0->ultralytics) (3.17.0)\n",
      "Requirement already satisfied: typing-extensions>=4.10.0 in f:\\github\\table-parser\\.venv\\lib\\site-packages (from torch>=1.8.0->ultralytics) (4.12.2)\n",
      "Collecting networkx (from torch>=1.8.0->ultralytics)\n",
      "  Obtaining dependency information for networkx from https://files.pythonhosted.org/packages/b9/54/dd730b32ea14ea797530a4479b2ed46a6fb250f682a9cfb997e968bf0261/networkx-3.4.2-py3-none-any.whl.metadata\n",
      "  Downloading networkx-3.4.2-py3-none-any.whl.metadata (6.3 kB)\n",
      "Collecting jinja2 (from torch>=1.8.0->ultralytics)\n",
      "  Obtaining dependency information for jinja2 from https://files.pythonhosted.org/packages/bd/0f/2ba5fbcd631e3e88689309dbe978c5769e883e4b84ebfe7da30b43275c5a/jinja2-3.1.5-py3-none-any.whl.metadata\n",
      "  Downloading jinja2-3.1.5-py3-none-any.whl.metadata (2.6 kB)\n",
      "Requirement already satisfied: fsspec in f:\\github\\table-parser\\.venv\\lib\\site-packages (from torch>=1.8.0->ultralytics) (2024.9.0)\n",
      "Collecting sympy==1.13.1 (from torch>=1.8.0->ultralytics)\n",
      "  Obtaining dependency information for sympy==1.13.1 from https://files.pythonhosted.org/packages/b2/fe/81695a1aa331a842b582453b605175f419fe8540355886031328089d840a/sympy-1.13.1-py3-none-any.whl.metadata\n",
      "  Downloading sympy-1.13.1-py3-none-any.whl.metadata (12 kB)\n",
      "Collecting mpmath<1.4,>=1.1.0 (from sympy==1.13.1->torch>=1.8.0->ultralytics)\n",
      "  Obtaining dependency information for mpmath<1.4,>=1.1.0 from https://files.pythonhosted.org/packages/43/e3/7d92a15f894aa0c9c4b49b8ee9ac9850d6e63b03c9c32c0367a13ae62209/mpmath-1.3.0-py3-none-any.whl.metadata\n",
      "  Downloading mpmath-1.3.0-py3-none-any.whl.metadata (8.6 kB)\n",
      "Requirement already satisfied: colorama in f:\\github\\table-parser\\.venv\\lib\\site-packages (from tqdm>=4.64.0->ultralytics) (0.4.6)\n",
      "Requirement already satisfied: six>=1.5 in f:\\github\\table-parser\\.venv\\lib\\site-packages (from python-dateutil>=2.7->matplotlib>=3.3.0->ultralytics) (1.17.0)\n",
      "Collecting MarkupSafe>=2.0 (from jinja2->torch>=1.8.0->ultralytics)\n",
      "  Obtaining dependency information for MarkupSafe>=2.0 from https://files.pythonhosted.org/packages/da/b8/3a3bd761922d416f3dc5d00bfbed11f66b1ab89a0c2b6e887240a30b0f6b/MarkupSafe-3.0.2-cp311-cp311-win_amd64.whl.metadata\n",
      "  Downloading MarkupSafe-3.0.2-cp311-cp311-win_amd64.whl.metadata (4.1 kB)\n",
      "Downloading ultralytics-8.3.72-py3-none-any.whl (914 kB)\n",
      "   ---------------------------------------- 0.0/914.8 kB ? eta -:--:--\n",
      "   -- ------------------------------------- 61.4/914.8 kB 1.7 MB/s eta 0:00:01\n",
      "   ------- -------------------------------- 174.1/914.8 kB 2.1 MB/s eta 0:00:01\n",
      "   ------------ --------------------------- 286.7/914.8 kB 2.5 MB/s eta 0:00:01\n",
      "   ------------------- -------------------- 440.3/914.8 kB 2.3 MB/s eta 0:00:01\n",
      "   ------------------------ --------------- 563.2/914.8 kB 2.5 MB/s eta 0:00:01\n",
      "   -------------------------------- ------- 747.5/914.8 kB 2.8 MB/s eta 0:00:01\n",
      "   ---------------------------------------- 914.8/914.8 kB 2.9 MB/s eta 0:00:00\n",
      "Downloading opencv_python-4.11.0.86-cp37-abi3-win_amd64.whl (39.5 MB)\n",
      "   ---------------------------------------- 0.0/39.5 MB ? eta -:--:--\n",
      "   ---------------------------------------- 0.3/39.5 MB 5.2 MB/s eta 0:00:08\n",
      "   ---------------------------------------- 0.5/39.5 MB 4.9 MB/s eta 0:00:08\n",
      "    --------------------------------------- 0.8/39.5 MB 5.8 MB/s eta 0:00:07\n",
      "   - -------------------------------------- 1.3/39.5 MB 6.9 MB/s eta 0:00:06\n",
      "   - -------------------------------------- 1.7/39.5 MB 7.1 MB/s eta 0:00:06\n",
      "   -- ------------------------------------- 2.3/39.5 MB 8.1 MB/s eta 0:00:05\n",
      "   -- ------------------------------------- 2.9/39.5 MB 8.7 MB/s eta 0:00:05\n",
      "   --- ------------------------------------ 3.4/39.5 MB 9.1 MB/s eta 0:00:04\n",
      "   --- ------------------------------------ 3.8/39.5 MB 9.1 MB/s eta 0:00:04\n",
      "   ---- ----------------------------------- 4.2/39.5 MB 8.9 MB/s eta 0:00:04\n",
      "   ---- ----------------------------------- 4.9/39.5 MB 9.5 MB/s eta 0:00:04\n",
      "   ----- ---------------------------------- 5.3/39.5 MB 9.3 MB/s eta 0:00:04\n",
      "   ----- ---------------------------------- 5.8/39.5 MB 9.5 MB/s eta 0:00:04\n",
      "   ------ --------------------------------- 6.5/39.5 MB 9.9 MB/s eta 0:00:04\n",
      "   ------- -------------------------------- 7.2/39.5 MB 10.3 MB/s eta 0:00:04\n",
      "   ------- -------------------------------- 7.8/39.5 MB 10.3 MB/s eta 0:00:04\n",
      "   -------- ------------------------------- 8.5/39.5 MB 10.6 MB/s eta 0:00:03\n",
      "   --------- ------------------------------ 9.1/39.5 MB 10.7 MB/s eta 0:00:03\n",
      "   --------- ------------------------------ 9.7/39.5 MB 10.9 MB/s eta 0:00:03\n",
      "   --------- ------------------------------ 9.8/39.5 MB 10.5 MB/s eta 0:00:03\n",
      "   ---------- ----------------------------- 10.3/39.5 MB 10.7 MB/s eta 0:00:03\n",
      "   ----------- ---------------------------- 11.1/39.5 MB 11.5 MB/s eta 0:00:03\n",
      "   ----------- ---------------------------- 11.8/39.5 MB 12.1 MB/s eta 0:00:03\n",
      "   ------------ --------------------------- 12.5/39.5 MB 12.1 MB/s eta 0:00:03\n",
      "   ------------- -------------------------- 13.2/39.5 MB 12.4 MB/s eta 0:00:03\n",
      "   -------------- ------------------------- 13.9/39.5 MB 12.4 MB/s eta 0:00:03\n",
      "   -------------- ------------------------- 14.4/39.5 MB 13.1 MB/s eta 0:00:02\n",
      "   --------------- ------------------------ 15.3/39.5 MB 13.4 MB/s eta 0:00:02\n",
      "   --------------- ------------------------ 15.7/39.5 MB 13.6 MB/s eta 0:00:02\n",
      "   ---------------- ----------------------- 16.4/39.5 MB 13.4 MB/s eta 0:00:02\n",
      "   ----------------- ---------------------- 17.2/39.5 MB 13.4 MB/s eta 0:00:02\n",
      "   ------------------ --------------------- 17.9/39.5 MB 13.6 MB/s eta 0:00:02\n",
      "   ------------------ --------------------- 18.7/39.5 MB 13.6 MB/s eta 0:00:02\n",
      "   ------------------- -------------------- 19.4/39.5 MB 13.9 MB/s eta 0:00:02\n",
      "   -------------------- ------------------- 20.1/39.5 MB 14.9 MB/s eta 0:00:02\n",
      "   -------------------- ------------------- 20.7/39.5 MB 14.9 MB/s eta 0:00:02\n",
      "   --------------------- ------------------ 21.5/39.5 MB 15.2 MB/s eta 0:00:02\n",
      "   ---------------------- ----------------- 22.2/39.5 MB 15.6 MB/s eta 0:00:02\n",
      "   ----------------------- ---------------- 23.1/39.5 MB 15.2 MB/s eta 0:00:02\n",
      "   ------------------------ --------------- 23.9/39.5 MB 15.2 MB/s eta 0:00:02\n",
      "   ------------------------ --------------- 24.3/39.5 MB 14.9 MB/s eta 0:00:02\n",
      "   ------------------------- -------------- 24.8/39.5 MB 14.9 MB/s eta 0:00:01\n",
      "   ------------------------- -------------- 25.6/39.5 MB 14.5 MB/s eta 0:00:01\n",
      "   -------------------------- ------------- 26.1/39.5 MB 14.9 MB/s eta 0:00:01\n",
      "   --------------------------- ------------ 26.7/39.5 MB 14.9 MB/s eta 0:00:01\n",
      "   --------------------------- ------------ 27.1/39.5 MB 14.2 MB/s eta 0:00:01\n",
      "   --------------------------- ------------ 27.4/39.5 MB 13.9 MB/s eta 0:00:01\n",
      "   ---------------------------- ----------- 27.7/39.5 MB 13.1 MB/s eta 0:00:01\n",
      "   ---------------------------- ----------- 28.0/39.5 MB 12.8 MB/s eta 0:00:01\n",
      "   ---------------------------- ----------- 28.6/39.5 MB 12.8 MB/s eta 0:00:01\n",
      "   ----------------------------- ---------- 28.8/39.5 MB 12.6 MB/s eta 0:00:01\n",
      "   ----------------------------- ---------- 28.8/39.5 MB 12.6 MB/s eta 0:00:01\n",
      "   ----------------------------- ---------- 29.2/39.5 MB 11.3 MB/s eta 0:00:01\n",
      "   ------------------------------- -------- 31.0/39.5 MB 12.1 MB/s eta 0:00:01\n",
      "   -------------------------------- ------- 31.7/39.5 MB 12.1 MB/s eta 0:00:01\n",
      "   -------------------------------- ------- 32.2/39.5 MB 11.9 MB/s eta 0:00:01\n",
      "   --------------------------------- ------ 32.9/39.5 MB 11.7 MB/s eta 0:00:01\n",
      "   ---------------------------------- ----- 33.6/39.5 MB 11.7 MB/s eta 0:00:01\n",
      "   ---------------------------------- ----- 34.3/39.5 MB 11.7 MB/s eta 0:00:01\n",
      "   ----------------------------------- ---- 34.7/39.5 MB 11.9 MB/s eta 0:00:01\n",
      "   ----------------------------------- ---- 35.4/39.5 MB 11.9 MB/s eta 0:00:01\n",
      "   ------------------------------------ --- 36.0/39.5 MB 11.9 MB/s eta 0:00:01\n",
      "   ------------------------------------- -- 36.6/39.5 MB 11.9 MB/s eta 0:00:01\n",
      "   ------------------------------------- -- 36.6/39.5 MB 11.9 MB/s eta 0:00:01\n",
      "   ------------------------------------- -- 36.6/39.5 MB 11.9 MB/s eta 0:00:01\n",
      "   ------------------------------------- -- 37.4/39.5 MB 11.3 MB/s eta 0:00:01\n",
      "   ---------------------------------------  38.8/39.5 MB 12.8 MB/s eta 0:00:01\n",
      "   ---------------------------------------  39.5/39.5 MB 15.2 MB/s eta 0:00:01\n",
      "   ---------------------------------------- 39.5/39.5 MB 13.9 MB/s eta 0:00:00\n",
      "Downloading scipy-1.15.1-cp311-cp311-win_amd64.whl (43.9 MB)\n",
      "   ---------------------------------------- 0.0/43.9 MB ? eta -:--:--\n",
      "   ---------------------------------------- 0.4/43.9 MB 12.6 MB/s eta 0:00:04\n",
      "    --------------------------------------- 0.9/43.9 MB 11.8 MB/s eta 0:00:04\n",
      "   - -------------------------------------- 1.8/43.9 MB 14.3 MB/s eta 0:00:03\n",
      "   -- ------------------------------------- 2.4/43.9 MB 14.2 MB/s eta 0:00:03\n",
      "   -- ------------------------------------- 3.2/43.9 MB 14.6 MB/s eta 0:00:03\n",
      "   --- ------------------------------------ 3.9/43.9 MB 14.6 MB/s eta 0:00:03\n",
      "   ---- ----------------------------------- 4.7/43.9 MB 15.0 MB/s eta 0:00:03\n",
      "   ---- ----------------------------------- 5.3/43.9 MB 14.8 MB/s eta 0:00:03\n",
      "   ----- ---------------------------------- 5.9/43.9 MB 14.5 MB/s eta 0:00:03\n",
      "   ----- ---------------------------------- 6.5/43.9 MB 14.3 MB/s eta 0:00:03\n",
      "   ------ --------------------------------- 7.0/43.9 MB 14.0 MB/s eta 0:00:03\n",
      "   ------ --------------------------------- 7.7/43.9 MB 14.0 MB/s eta 0:00:03\n",
      "   ------- -------------------------------- 8.4/43.9 MB 14.1 MB/s eta 0:00:03\n",
      "   -------- ------------------------------- 9.1/43.9 MB 14.1 MB/s eta 0:00:03\n",
      "   -------- ------------------------------- 9.8/43.9 MB 14.2 MB/s eta 0:00:03\n",
      "   --------- ------------------------------ 10.2/43.9 MB 13.9 MB/s eta 0:00:03\n",
      "   --------- ------------------------------ 10.9/43.9 MB 14.2 MB/s eta 0:00:03\n",
      "   ---------- ----------------------------- 11.6/43.9 MB 14.2 MB/s eta 0:00:03\n",
      "   ----------- ---------------------------- 12.3/43.9 MB 13.9 MB/s eta 0:00:03\n",
      "   ----------- ---------------------------- 13.0/43.9 MB 13.9 MB/s eta 0:00:03\n",
      "   ------------ --------------------------- 13.7/43.9 MB 13.9 MB/s eta 0:00:03\n",
      "   ------------- -------------------------- 14.3/43.9 MB 13.9 MB/s eta 0:00:03\n",
      "   ------------- -------------------------- 14.9/43.9 MB 13.6 MB/s eta 0:00:03\n",
      "   -------------- ------------------------- 15.5/43.9 MB 13.9 MB/s eta 0:00:03\n",
      "   -------------- ------------------------- 15.7/43.9 MB 13.4 MB/s eta 0:00:03\n",
      "   -------------- ------------------------- 15.7/43.9 MB 13.4 MB/s eta 0:00:03\n",
      "   -------------- ------------------------- 15.7/43.9 MB 13.4 MB/s eta 0:00:03\n",
      "   --------------- ------------------------ 17.1/43.9 MB 12.8 MB/s eta 0:00:03\n",
      "   --------------- ------------------------ 17.1/43.9 MB 12.8 MB/s eta 0:00:03\n",
      "   --------------- ------------------------ 17.3/43.9 MB 11.7 MB/s eta 0:00:03\n",
      "   ----------------- ---------------------- 19.3/43.9 MB 12.8 MB/s eta 0:00:02\n",
      "   ------------------ --------------------- 19.9/43.9 MB 12.8 MB/s eta 0:00:02\n",
      "   ------------------ --------------------- 20.2/43.9 MB 12.8 MB/s eta 0:00:02\n",
      "   ------------------ --------------------- 20.2/43.9 MB 12.8 MB/s eta 0:00:02\n",
      "   ------------------ --------------------- 20.2/43.9 MB 12.8 MB/s eta 0:00:02\n",
      "   -------------------- ------------------- 22.3/43.9 MB 12.6 MB/s eta 0:00:02\n",
      "   -------------------- ------------------- 22.8/43.9 MB 12.4 MB/s eta 0:00:02\n",
      "   -------------------- ------------------- 23.0/43.9 MB 12.6 MB/s eta 0:00:02\n",
      "   -------------------- ------------------- 23.0/43.9 MB 12.6 MB/s eta 0:00:02\n",
      "   ---------------------- ----------------- 24.7/43.9 MB 12.4 MB/s eta 0:00:02\n",
      "   ----------------------- ---------------- 25.4/43.9 MB 12.6 MB/s eta 0:00:02\n",
      "   ----------------------- ---------------- 26.0/43.9 MB 15.6 MB/s eta 0:00:02\n",
      "   ------------------------ --------------- 26.4/43.9 MB 14.6 MB/s eta 0:00:02\n",
      "   ------------------------ --------------- 26.9/43.9 MB 13.6 MB/s eta 0:00:02\n",
      "   ------------------------- -------------- 27.5/43.9 MB 14.9 MB/s eta 0:00:02\n",
      "   ------------------------- -------------- 28.2/43.9 MB 13.9 MB/s eta 0:00:02\n",
      "   -------------------------- ------------- 29.0/43.9 MB 13.1 MB/s eta 0:00:02\n",
      "   -------------------------- ------------- 29.5/43.9 MB 13.1 MB/s eta 0:00:02\n",
      "   --------------------------- ------------ 30.2/43.9 MB 13.1 MB/s eta 0:00:02\n",
      "   ---------------------------- ----------- 30.9/43.9 MB 15.6 MB/s eta 0:00:01\n",
      "   ---------------------------- ----------- 31.7/43.9 MB 14.6 MB/s eta 0:00:01\n",
      "   ----------------------------- ---------- 32.2/43.9 MB 13.6 MB/s eta 0:00:01\n",
      "   ------------------------------ --------- 32.9/43.9 MB 13.6 MB/s eta 0:00:01\n",
      "   ------------------------------ --------- 33.6/43.9 MB 15.6 MB/s eta 0:00:01\n",
      "   ------------------------------- -------- 34.5/43.9 MB 14.6 MB/s eta 0:00:01\n",
      "   -------------------------------- ------- 35.2/43.9 MB 14.2 MB/s eta 0:00:01\n",
      "   -------------------------------- ------- 36.0/43.9 MB 14.2 MB/s eta 0:00:01\n",
      "   --------------------------------- ------ 36.7/43.9 MB 14.9 MB/s eta 0:00:01\n",
      "   ---------------------------------- ----- 37.5/43.9 MB 15.2 MB/s eta 0:00:01\n",
      "   ---------------------------------- ----- 38.2/43.9 MB 15.2 MB/s eta 0:00:01\n",
      "   ----------------------------------- ---- 38.9/43.9 MB 15.2 MB/s eta 0:00:01\n",
      "   ------------------------------------ --- 39.6/43.9 MB 15.2 MB/s eta 0:00:01\n",
      "   ------------------------------------ --- 40.2/43.9 MB 15.2 MB/s eta 0:00:01\n",
      "   ------------------------------------- -- 40.8/43.9 MB 15.2 MB/s eta 0:00:01\n",
      "   ------------------------------------- -- 41.4/43.9 MB 14.9 MB/s eta 0:00:01\n",
      "   -------------------------------------- - 42.1/43.9 MB 14.9 MB/s eta 0:00:01\n",
      "   ---------------------------------------  43.0/43.9 MB 15.6 MB/s eta 0:00:01\n",
      "   ---------------------------------------  43.7/43.9 MB 15.2 MB/s eta 0:00:01\n",
      "   ---------------------------------------  43.9/43.9 MB 15.2 MB/s eta 0:00:01\n",
      "   ---------------------------------------  43.9/43.9 MB 15.2 MB/s eta 0:00:01\n",
      "   ---------------------------------------- 43.9/43.9 MB 13.4 MB/s eta 0:00:00\n",
      "Downloading seaborn-0.13.2-py3-none-any.whl (294 kB)\n",
      "   ---------------------------------------- 0.0/294.9 kB ? eta -:--:--\n",
      "   -------------------------------------- - 286.7/294.9 kB 5.9 MB/s eta 0:00:01\n",
      "   ---------------------------------------- 294.9/294.9 kB 6.1 MB/s eta 0:00:00\n",
      "Downloading torch-2.6.0-cp311-cp311-win_amd64.whl (204.2 MB)\n",
      "   ---------------------------------------- 0.0/204.2 MB ? eta -:--:--\n",
      "   ---------------------------------------- 0.6/204.2 MB 12.9 MB/s eta 0:00:16\n",
      "   ---------------------------------------- 1.4/204.2 MB 17.4 MB/s eta 0:00:12\n",
      "   ---------------------------------------- 2.2/204.2 MB 17.4 MB/s eta 0:00:12\n",
      "    --------------------------------------- 3.0/204.2 MB 15.9 MB/s eta 0:00:13\n",
      "    --------------------------------------- 3.6/204.2 MB 15.3 MB/s eta 0:00:14\n",
      "    --------------------------------------- 4.4/204.2 MB 16.4 MB/s eta 0:00:13\n",
      "    --------------------------------------- 5.0/204.2 MB 16.0 MB/s eta 0:00:13\n",
      "   - -------------------------------------- 5.8/204.2 MB 16.1 MB/s eta 0:00:13\n",
      "   - -------------------------------------- 6.4/204.2 MB 15.7 MB/s eta 0:00:13\n",
      "   - -------------------------------------- 7.2/204.2 MB 15.8 MB/s eta 0:00:13\n",
      "   - -------------------------------------- 7.7/204.2 MB 15.5 MB/s eta 0:00:13\n",
      "   - -------------------------------------- 8.6/204.2 MB 15.6 MB/s eta 0:00:13\n",
      "   - -------------------------------------- 9.2/204.2 MB 15.5 MB/s eta 0:00:13\n",
      "   - -------------------------------------- 10.0/204.2 MB 15.6 MB/s eta 0:00:13\n",
      "   -- ------------------------------------- 10.8/204.2 MB 16.0 MB/s eta 0:00:13\n",
      "   -- ------------------------------------- 11.5/204.2 MB 15.6 MB/s eta 0:00:13\n",
      "   -- ------------------------------------- 12.2/204.2 MB 15.6 MB/s eta 0:00:13\n",
      "   -- ------------------------------------- 12.9/204.2 MB 15.2 MB/s eta 0:00:13\n",
      "   -- ------------------------------------- 13.4/204.2 MB 15.2 MB/s eta 0:00:13\n",
      "   -- ------------------------------------- 14.1/204.2 MB 15.2 MB/s eta 0:00:13\n",
      "   -- ------------------------------------- 14.8/204.2 MB 14.9 MB/s eta 0:00:13\n",
      "   -- ------------------------------------- 15.0/204.2 MB 14.9 MB/s eta 0:00:13\n",
      "   -- ------------------------------------- 15.0/204.2 MB 14.9 MB/s eta 0:00:13\n",
      "   -- ------------------------------------- 15.0/204.2 MB 14.9 MB/s eta 0:00:13\n",
      "   --- ------------------------------------ 17.5/204.2 MB 14.9 MB/s eta 0:00:13\n",
      "   --- ------------------------------------ 18.1/204.2 MB 14.9 MB/s eta 0:00:13\n",
      "   --- ------------------------------------ 18.7/204.2 MB 14.6 MB/s eta 0:00:13\n",
      "   --- ------------------------------------ 19.4/204.2 MB 14.6 MB/s eta 0:00:13\n",
      "   --- ------------------------------------ 20.2/204.2 MB 14.6 MB/s eta 0:00:13\n",
      "   ---- ----------------------------------- 21.1/204.2 MB 14.6 MB/s eta 0:00:13\n",
      "   ---- ----------------------------------- 21.7/204.2 MB 14.9 MB/s eta 0:00:13\n",
      "   ---- ----------------------------------- 22.6/204.2 MB 14.9 MB/s eta 0:00:13\n",
      "   ---- ----------------------------------- 23.2/204.2 MB 14.9 MB/s eta 0:00:13\n",
      "   ---- ----------------------------------- 23.3/204.2 MB 14.2 MB/s eta 0:00:13\n",
      "   ---- ----------------------------------- 23.3/204.2 MB 13.9 MB/s eta 0:00:13\n",
      "   ---- ----------------------------------- 23.3/204.2 MB 12.8 MB/s eta 0:00:15\n",
      "   ---- ----------------------------------- 23.3/204.2 MB 12.8 MB/s eta 0:00:15\n",
      "   ---- ----------------------------------- 23.4/204.2 MB 11.3 MB/s eta 0:00:17\n",
      "   ---- ----------------------------------- 23.4/204.2 MB 11.3 MB/s eta 0:00:17\n",
      "   ---- ----------------------------------- 23.6/204.2 MB 10.4 MB/s eta 0:00:18\n",
      "   ---- ----------------------------------- 24.5/204.2 MB 10.6 MB/s eta 0:00:18\n",
      "   ---- ----------------------------------- 25.3/204.2 MB 10.6 MB/s eta 0:00:17\n",
      "   ----- ---------------------------------- 26.1/204.2 MB 11.9 MB/s eta 0:00:15\n",
      "   ----- ---------------------------------- 26.9/204.2 MB 11.3 MB/s eta 0:00:16\n",
      "   ----- ---------------------------------- 27.6/204.2 MB 10.9 MB/s eta 0:00:17\n",
      "   ----- ---------------------------------- 28.3/204.2 MB 10.9 MB/s eta 0:00:17\n",
      "   ----- ---------------------------------- 28.8/204.2 MB 10.9 MB/s eta 0:00:17\n",
      "   ----- ---------------------------------- 29.6/204.2 MB 11.1 MB/s eta 0:00:16\n",
      "   ----- ---------------------------------- 30.1/204.2 MB 10.7 MB/s eta 0:00:17\n",
      "   ------ --------------------------------- 30.9/204.2 MB 10.9 MB/s eta 0:00:16\n",
      "   ------ --------------------------------- 31.7/204.2 MB 10.9 MB/s eta 0:00:16\n",
      "   ------ --------------------------------- 32.4/204.2 MB 10.9 MB/s eta 0:00:16\n",
      "   ------ --------------------------------- 33.1/204.2 MB 10.7 MB/s eta 0:00:16\n",
      "   ------ --------------------------------- 33.9/204.2 MB 16.4 MB/s eta 0:00:11\n",
      "   ------ --------------------------------- 34.9/204.2 MB 16.4 MB/s eta 0:00:11\n",
      "   ------ --------------------------------- 35.5/204.2 MB 16.0 MB/s eta 0:00:11\n",
      "   ------- -------------------------------- 36.1/204.2 MB 15.6 MB/s eta 0:00:11\n",
      "   ------- -------------------------------- 36.9/204.2 MB 15.6 MB/s eta 0:00:11\n",
      "   ------- -------------------------------- 37.7/204.2 MB 15.6 MB/s eta 0:00:11\n",
      "   ------- -------------------------------- 38.2/204.2 MB 15.2 MB/s eta 0:00:11\n",
      "   ------- -------------------------------- 39.1/204.2 MB 16.0 MB/s eta 0:00:11\n",
      "   ------- -------------------------------- 39.6/204.2 MB 15.2 MB/s eta 0:00:11\n",
      "   ------- -------------------------------- 40.4/204.2 MB 16.0 MB/s eta 0:00:11\n",
      "   -------- ------------------------------- 41.0/204.2 MB 15.6 MB/s eta 0:00:11\n",
      "   -------- ------------------------------- 41.7/204.2 MB 15.6 MB/s eta 0:00:11\n",
      "   -------- ------------------------------- 42.3/204.2 MB 15.2 MB/s eta 0:00:11\n",
      "   -------- ------------------------------- 43.0/204.2 MB 15.2 MB/s eta 0:00:11\n",
      "   -------- ------------------------------- 43.9/204.2 MB 15.6 MB/s eta 0:00:11\n",
      "   -------- ------------------------------- 44.5/204.2 MB 15.2 MB/s eta 0:00:11\n",
      "   -------- ------------------------------- 45.4/204.2 MB 15.2 MB/s eta 0:00:11\n",
      "   --------- ------------------------------ 46.0/204.2 MB 15.2 MB/s eta 0:00:11\n",
      "   --------- ------------------------------ 46.9/204.2 MB 15.6 MB/s eta 0:00:11\n",
      "   --------- ------------------------------ 47.7/204.2 MB 15.2 MB/s eta 0:00:11\n",
      "   --------- ------------------------------ 48.4/204.2 MB 15.6 MB/s eta 0:00:10\n",
      "   --------- ------------------------------ 49.1/204.2 MB 15.6 MB/s eta 0:00:10\n",
      "   --------- ------------------------------ 49.9/204.2 MB 15.6 MB/s eta 0:00:10\n",
      "   --------- ------------------------------ 50.6/204.2 MB 15.6 MB/s eta 0:00:10\n",
      "   ---------- ----------------------------- 51.3/204.2 MB 16.0 MB/s eta 0:00:10\n",
      "   ---------- ----------------------------- 52.1/204.2 MB 16.0 MB/s eta 0:00:10\n",
      "   ---------- ----------------------------- 52.8/204.2 MB 16.0 MB/s eta 0:00:10\n",
      "   ---------- ----------------------------- 53.5/204.2 MB 16.0 MB/s eta 0:00:10\n",
      "   ---------- ----------------------------- 54.2/204.2 MB 16.0 MB/s eta 0:00:10\n",
      "   ---------- ----------------------------- 55.0/204.2 MB 16.4 MB/s eta 0:00:10\n",
      "   ---------- ----------------------------- 55.4/204.2 MB 15.6 MB/s eta 0:00:10\n",
      "   ---------- ----------------------------- 56.0/204.2 MB 15.6 MB/s eta 0:00:10\n",
      "   ----------- ---------------------------- 56.8/204.2 MB 15.6 MB/s eta 0:00:10\n",
      "   ----------- ---------------------------- 57.6/204.2 MB 15.6 MB/s eta 0:00:10\n",
      "   ----------- ---------------------------- 58.5/204.2 MB 15.6 MB/s eta 0:00:10\n",
      "   ----------- ---------------------------- 59.2/204.2 MB 16.0 MB/s eta 0:00:10\n",
      "   ----------- ---------------------------- 60.0/204.2 MB 16.0 MB/s eta 0:00:10\n",
      "   ----------- ---------------------------- 60.6/204.2 MB 15.6 MB/s eta 0:00:10\n",
      "   ------------ --------------------------- 61.4/204.2 MB 15.6 MB/s eta 0:00:10\n",
      "   ------------ --------------------------- 61.7/204.2 MB 14.9 MB/s eta 0:00:10\n",
      "   ------------ --------------------------- 62.5/204.2 MB 14.9 MB/s eta 0:00:10\n",
      "   ------------ --------------------------- 63.2/204.2 MB 14.9 MB/s eta 0:00:10\n",
      "   ------------ --------------------------- 64.0/204.2 MB 15.2 MB/s eta 0:00:10\n",
      "   ------------ --------------------------- 64.8/204.2 MB 15.2 MB/s eta 0:00:10\n",
      "   ------------ --------------------------- 65.6/204.2 MB 15.6 MB/s eta 0:00:09\n",
      "   ------------ --------------------------- 66.3/204.2 MB 16.0 MB/s eta 0:00:09\n",
      "   ------------- -------------------------- 66.9/204.2 MB 15.6 MB/s eta 0:00:09\n",
      "   ------------- -------------------------- 67.7/204.2 MB 15.6 MB/s eta 0:00:09\n",
      "   ------------- -------------------------- 68.4/204.2 MB 15.6 MB/s eta 0:00:09\n",
      "   ------------- -------------------------- 69.0/204.2 MB 15.2 MB/s eta 0:00:09\n",
      "   ------------- -------------------------- 69.2/204.2 MB 14.5 MB/s eta 0:00:10\n",
      "   ------------- -------------------------- 69.6/204.2 MB 13.9 MB/s eta 0:00:10\n",
      "   ------------- -------------------------- 70.1/204.2 MB 13.6 MB/s eta 0:00:10\n",
      "   ------------- -------------------------- 70.5/204.2 MB 13.4 MB/s eta 0:00:10\n",
      "   ------------- -------------------------- 70.5/204.2 MB 13.4 MB/s eta 0:00:10\n",
      "   ------------- -------------------------- 70.5/204.2 MB 13.4 MB/s eta 0:00:10\n",
      "   ------------- -------------------------- 70.5/204.2 MB 13.4 MB/s eta 0:00:10\n",
      "   ------------- -------------------------- 71.2/204.2 MB 11.5 MB/s eta 0:00:12\n",
      "   -------------- ------------------------- 72.2/204.2 MB 11.9 MB/s eta 0:00:12\n",
      "   -------------- ------------------------- 72.9/204.2 MB 11.7 MB/s eta 0:00:12\n",
      "   -------------- ------------------------- 73.3/204.2 MB 11.5 MB/s eta 0:00:12\n",
      "   -------------- ------------------------- 73.7/204.2 MB 11.1 MB/s eta 0:00:12\n",
      "   -------------- ------------------------- 74.4/204.2 MB 11.1 MB/s eta 0:00:12\n",
      "   -------------- ------------------------- 75.0/204.2 MB 11.1 MB/s eta 0:00:12\n",
      "   -------------- ------------------------- 75.8/204.2 MB 11.3 MB/s eta 0:00:12\n",
      "   -------------- ------------------------- 76.6/204.2 MB 11.1 MB/s eta 0:00:12\n",
      "   --------------- ------------------------ 77.3/204.2 MB 11.1 MB/s eta 0:00:12\n",
      "   --------------- ------------------------ 78.1/204.2 MB 11.3 MB/s eta 0:00:12\n",
      "   --------------- ------------------------ 78.8/204.2 MB 11.3 MB/s eta 0:00:12\n",
      "   --------------- ------------------------ 79.5/204.2 MB 11.9 MB/s eta 0:00:11\n",
      "   --------------- ------------------------ 80.2/204.2 MB 12.4 MB/s eta 0:00:11\n",
      "   --------------- ------------------------ 81.1/204.2 MB 15.2 MB/s eta 0:00:09\n",
      "   ---------------- ----------------------- 81.8/204.2 MB 15.2 MB/s eta 0:00:09\n",
      "   ---------------- ----------------------- 81.9/204.2 MB 14.9 MB/s eta 0:00:09\n",
      "   ---------------- ----------------------- 81.9/204.2 MB 14.9 MB/s eta 0:00:09\n",
      "   ---------------- ----------------------- 81.9/204.2 MB 14.9 MB/s eta 0:00:09\n",
      "   ---------------- ----------------------- 82.5/204.2 MB 12.4 MB/s eta 0:00:10\n",
      "   ---------------- ----------------------- 85.0/204.2 MB 15.6 MB/s eta 0:00:08\n",
      "   ---------------- ----------------------- 85.7/204.2 MB 15.2 MB/s eta 0:00:08\n",
      "   ---------------- ----------------------- 86.3/204.2 MB 14.9 MB/s eta 0:00:08\n",
      "   ----------------- ---------------------- 87.2/204.2 MB 15.2 MB/s eta 0:00:08\n",
      "   ----------------- ---------------------- 87.7/204.2 MB 14.9 MB/s eta 0:00:08\n",
      "   ----------------- ---------------------- 88.4/204.2 MB 14.9 MB/s eta 0:00:08\n",
      "   ----------------- ---------------------- 89.1/204.2 MB 14.6 MB/s eta 0:00:08\n",
      "   ----------------- ---------------------- 89.8/204.2 MB 14.6 MB/s eta 0:00:08\n",
      "   ----------------- ---------------------- 90.4/204.2 MB 14.5 MB/s eta 0:00:08\n",
      "   ----------------- ---------------------- 91.1/204.2 MB 14.2 MB/s eta 0:00:08\n",
      "   ------------------ --------------------- 91.9/204.2 MB 14.6 MB/s eta 0:00:08\n",
      "   ------------------ --------------------- 92.6/204.2 MB 18.2 MB/s eta 0:00:07\n",
      "   ------------------ --------------------- 93.1/204.2 MB 17.2 MB/s eta 0:00:07\n",
      "   ------------------ --------------------- 93.7/204.2 MB 16.0 MB/s eta 0:00:07\n",
      "   ------------------ --------------------- 94.4/204.2 MB 14.9 MB/s eta 0:00:08\n",
      "   ------------------ --------------------- 95.0/204.2 MB 14.2 MB/s eta 0:00:08\n",
      "   ------------------ --------------------- 95.6/204.2 MB 13.9 MB/s eta 0:00:08\n",
      "   ------------------ --------------------- 96.2/204.2 MB 14.2 MB/s eta 0:00:08\n",
      "   ------------------- -------------------- 97.0/204.2 MB 14.2 MB/s eta 0:00:08\n",
      "   ------------------- -------------------- 97.6/204.2 MB 13.9 MB/s eta 0:00:08\n",
      "   ------------------- -------------------- 98.5/204.2 MB 14.2 MB/s eta 0:00:08\n",
      "   ------------------- -------------------- 99.2/204.2 MB 14.6 MB/s eta 0:00:08\n",
      "   ------------------- -------------------- 99.9/204.2 MB 14.6 MB/s eta 0:00:08\n",
      "   ------------------- ------------------- 100.6/204.2 MB 14.6 MB/s eta 0:00:08\n",
      "   ------------------- ------------------- 101.2/204.2 MB 14.5 MB/s eta 0:00:08\n",
      "   ------------------- ------------------- 101.9/204.2 MB 14.2 MB/s eta 0:00:08\n",
      "   ------------------- ------------------- 102.5/204.2 MB 14.2 MB/s eta 0:00:08\n",
      "   ------------------- ------------------- 102.9/204.2 MB 13.6 MB/s eta 0:00:08\n",
      "   ------------------- ------------------- 103.5/204.2 MB 13.9 MB/s eta 0:00:08\n",
      "   ------------------- ------------------- 104.2/204.2 MB 14.2 MB/s eta 0:00:08\n",
      "   ------------------- ------------------- 104.2/204.2 MB 14.2 MB/s eta 0:00:08\n",
      "   ------------------- ------------------- 104.2/204.2 MB 14.2 MB/s eta 0:00:08\n",
      "   -------------------- ------------------ 106.3/204.2 MB 14.2 MB/s eta 0:00:07\n",
      "   -------------------- ------------------ 107.0/204.2 MB 14.6 MB/s eta 0:00:07\n",
      "   -------------------- ------------------ 107.9/204.2 MB 14.9 MB/s eta 0:00:07\n",
      "   -------------------- ------------------ 108.6/204.2 MB 14.9 MB/s eta 0:00:07\n",
      "   -------------------- ------------------ 109.4/204.2 MB 14.9 MB/s eta 0:00:07\n",
      "   -------------------- ------------------ 109.7/204.2 MB 13.9 MB/s eta 0:00:07\n",
      "   -------------------- ------------------ 109.9/204.2 MB 13.6 MB/s eta 0:00:07\n",
      "   --------------------- ----------------- 110.3/204.2 MB 12.8 MB/s eta 0:00:08\n",
      "   --------------------- ----------------- 110.6/204.2 MB 12.6 MB/s eta 0:00:08\n",
      "   --------------------- ----------------- 110.8/204.2 MB 11.9 MB/s eta 0:00:08\n",
      "   --------------------- ----------------- 111.1/204.2 MB 11.7 MB/s eta 0:00:08\n",
      "   --------------------- ----------------- 111.5/204.2 MB 11.7 MB/s eta 0:00:08\n",
      "   --------------------- ----------------- 111.5/204.2 MB 11.7 MB/s eta 0:00:08\n",
      "   --------------------- ----------------- 113.1/204.2 MB 12.4 MB/s eta 0:00:08\n",
      "   --------------------- ----------------- 113.9/204.2 MB 12.4 MB/s eta 0:00:08\n",
      "   --------------------- ----------------- 114.6/204.2 MB 14.2 MB/s eta 0:00:07\n",
      "   ---------------------- ---------------- 115.4/204.2 MB 13.6 MB/s eta 0:00:07\n",
      "   ---------------------- ---------------- 116.2/204.2 MB 12.8 MB/s eta 0:00:07\n",
      "   ---------------------- ---------------- 116.9/204.2 MB 12.6 MB/s eta 0:00:07\n",
      "   ---------------------- ---------------- 117.6/204.2 MB 12.6 MB/s eta 0:00:07\n",
      "   ---------------------- ---------------- 118.3/204.2 MB 12.4 MB/s eta 0:00:07\n",
      "   ---------------------- ---------------- 119.0/204.2 MB 12.4 MB/s eta 0:00:07\n",
      "   ---------------------- ---------------- 119.6/204.2 MB 12.4 MB/s eta 0:00:07\n",
      "   ---------------------- ---------------- 120.4/204.2 MB 13.6 MB/s eta 0:00:07\n",
      "   ----------------------- --------------- 121.2/204.2 MB 15.2 MB/s eta 0:00:06\n",
      "   ----------------------- --------------- 122.0/204.2 MB 18.2 MB/s eta 0:00:05\n",
      "   ----------------------- --------------- 122.7/204.2 MB 16.8 MB/s eta 0:00:05\n",
      "   ----------------------- --------------- 123.4/204.2 MB 16.0 MB/s eta 0:00:06\n",
      "   ----------------------- --------------- 124.2/204.2 MB 16.0 MB/s eta 0:00:06\n",
      "   ----------------------- --------------- 124.9/204.2 MB 16.0 MB/s eta 0:00:05\n",
      "   ------------------------ -------------- 125.8/204.2 MB 16.0 MB/s eta 0:00:05\n",
      "   ------------------------ -------------- 126.2/204.2 MB 15.2 MB/s eta 0:00:06\n",
      "   ------------------------ -------------- 126.6/204.2 MB 14.9 MB/s eta 0:00:06\n",
      "   ------------------------ -------------- 127.0/204.2 MB 14.6 MB/s eta 0:00:06\n",
      "   ------------------------ -------------- 127.4/204.2 MB 13.9 MB/s eta 0:00:06\n",
      "   ------------------------ -------------- 127.9/204.2 MB 13.9 MB/s eta 0:00:06\n",
      "   ------------------------ -------------- 128.3/204.2 MB 13.9 MB/s eta 0:00:06\n",
      "   ------------------------ -------------- 128.3/204.2 MB 13.9 MB/s eta 0:00:06\n",
      "   ------------------------ -------------- 129.6/204.2 MB 13.4 MB/s eta 0:00:06\n",
      "   ------------------------- ------------- 131.2/204.2 MB 14.2 MB/s eta 0:00:06\n",
      "   ------------------------- ------------- 131.9/204.2 MB 14.2 MB/s eta 0:00:06\n",
      "   ------------------------- ------------- 132.8/204.2 MB 14.2 MB/s eta 0:00:06\n",
      "   ------------------------- ------------- 133.5/204.2 MB 14.2 MB/s eta 0:00:05\n",
      "   ------------------------- ------------- 133.8/204.2 MB 13.6 MB/s eta 0:00:06\n",
      "   ------------------------- ------------- 134.1/204.2 MB 13.4 MB/s eta 0:00:06\n",
      "   ------------------------- ------------- 134.6/204.2 MB 13.1 MB/s eta 0:00:06\n",
      "   ------------------------- ------------- 134.9/204.2 MB 12.8 MB/s eta 0:00:06\n",
      "   ------------------------- ------------- 135.6/204.2 MB 12.4 MB/s eta 0:00:06\n",
      "   -------------------------- ------------ 136.2/204.2 MB 12.4 MB/s eta 0:00:06\n",
      "   -------------------------- ------------ 137.0/204.2 MB 13.1 MB/s eta 0:00:06\n",
      "   -------------------------- ------------ 137.8/204.2 MB 13.9 MB/s eta 0:00:05\n",
      "   -------------------------- ------------ 138.6/204.2 MB 14.2 MB/s eta 0:00:05\n",
      "   -------------------------- ------------ 139.4/204.2 MB 15.6 MB/s eta 0:00:05\n",
      "   -------------------------- ------------ 140.2/204.2 MB 14.6 MB/s eta 0:00:05\n",
      "   -------------------------- ------------ 141.1/204.2 MB 14.2 MB/s eta 0:00:05\n",
      "   --------------------------- ----------- 141.9/204.2 MB 14.2 MB/s eta 0:00:05\n",
      "   --------------------------- ----------- 142.8/204.2 MB 14.2 MB/s eta 0:00:05\n",
      "   --------------------------- ----------- 143.5/204.2 MB 14.2 MB/s eta 0:00:05\n",
      "   --------------------------- ----------- 144.1/204.2 MB 14.9 MB/s eta 0:00:05\n",
      "   --------------------------- ----------- 144.8/204.2 MB 15.6 MB/s eta 0:00:04\n",
      "   --------------------------- ----------- 145.4/204.2 MB 16.0 MB/s eta 0:00:04\n",
      "   --------------------------- ----------- 146.2/204.2 MB 16.8 MB/s eta 0:00:04\n",
      "   ---------------------------- ---------- 146.9/204.2 MB 16.4 MB/s eta 0:00:04\n",
      "   ---------------------------- ---------- 147.7/204.2 MB 16.8 MB/s eta 0:00:04\n",
      "   ---------------------------- ---------- 148.3/204.2 MB 16.0 MB/s eta 0:00:04\n",
      "   ---------------------------- ---------- 149.0/204.2 MB 16.0 MB/s eta 0:00:04\n",
      "   ---------------------------- ---------- 149.6/204.2 MB 16.0 MB/s eta 0:00:04\n",
      "   ---------------------------- ---------- 150.2/204.2 MB 15.6 MB/s eta 0:00:04\n",
      "   ---------------------------- ---------- 150.9/204.2 MB 15.6 MB/s eta 0:00:04\n",
      "   ---------------------------- ---------- 151.6/204.2 MB 15.2 MB/s eta 0:00:04\n",
      "   ----------------------------- --------- 152.4/204.2 MB 14.9 MB/s eta 0:00:04\n",
      "   ----------------------------- --------- 152.9/204.2 MB 14.6 MB/s eta 0:00:04\n",
      "   ----------------------------- --------- 153.6/204.2 MB 14.6 MB/s eta 0:00:04\n",
      "   ----------------------------- --------- 154.2/204.2 MB 14.6 MB/s eta 0:00:04\n",
      "   ----------------------------- --------- 155.0/204.2 MB 14.6 MB/s eta 0:00:04\n",
      "   ----------------------------- --------- 155.6/204.2 MB 14.9 MB/s eta 0:00:04\n",
      "   ----------------------------- --------- 156.3/204.2 MB 14.6 MB/s eta 0:00:04\n",
      "   ----------------------------- --------- 156.9/204.2 MB 14.2 MB/s eta 0:00:04\n",
      "   ----------------------------- --------- 156.9/204.2 MB 14.2 MB/s eta 0:00:04\n",
      "   ----------------------------- --------- 156.9/204.2 MB 14.2 MB/s eta 0:00:04\n",
      "   ------------------------------ -------- 157.8/204.2 MB 12.8 MB/s eta 0:00:04\n",
      "   ------------------------------ -------- 158.8/204.2 MB 13.6 MB/s eta 0:00:04\n",
      "   ------------------------------ -------- 160.4/204.2 MB 14.6 MB/s eta 0:00:04\n",
      "   ------------------------------ -------- 161.1/204.2 MB 14.6 MB/s eta 0:00:03\n",
      "   ------------------------------ -------- 161.7/204.2 MB 14.6 MB/s eta 0:00:03\n",
      "   ------------------------------- ------- 162.4/204.2 MB 14.6 MB/s eta 0:00:03\n",
      "   ------------------------------- ------- 163.1/204.2 MB 14.5 MB/s eta 0:00:03\n",
      "   ------------------------------- ------- 163.9/204.2 MB 14.9 MB/s eta 0:00:03\n",
      "   ------------------------------- ------- 164.3/204.2 MB 14.6 MB/s eta 0:00:03\n",
      "   ------------------------------- ------- 165.2/204.2 MB 14.6 MB/s eta 0:00:03\n",
      "   ------------------------------- ------- 165.8/204.2 MB 14.6 MB/s eta 0:00:03\n",
      "   ------------------------------- ------- 166.5/204.2 MB 14.6 MB/s eta 0:00:03\n",
      "   ------------------------------- ------- 167.4/204.2 MB 17.7 MB/s eta 0:00:03\n",
      "   -------------------------------- ------ 168.1/204.2 MB 16.8 MB/s eta 0:00:03\n",
      "   -------------------------------- ------ 168.3/204.2 MB 16.8 MB/s eta 0:00:03\n",
      "   -------------------------------- ------ 168.3/204.2 MB 16.8 MB/s eta 0:00:03\n",
      "   -------------------------------- ------ 168.3/204.2 MB 14.6 MB/s eta 0:00:03\n",
      "   -------------------------------- ------ 168.3/204.2 MB 14.6 MB/s eta 0:00:03\n",
      "   -------------------------------- ------ 168.3/204.2 MB 14.6 MB/s eta 0:00:03\n",
      "   -------------------------------- ------ 168.3/204.2 MB 12.6 MB/s eta 0:00:03\n",
      "   -------------------------------- ------ 168.5/204.2 MB 11.3 MB/s eta 0:00:04\n",
      "   -------------------------------- ------ 169.3/204.2 MB 11.3 MB/s eta 0:00:04\n",
      "   -------------------------------- ------ 170.0/204.2 MB 10.7 MB/s eta 0:00:04\n",
      "   -------------------------------- ------ 170.8/204.2 MB 10.6 MB/s eta 0:00:04\n",
      "   -------------------------------- ------ 171.1/204.2 MB 10.4 MB/s eta 0:00:04\n",
      "   -------------------------------- ------ 171.9/204.2 MB 10.4 MB/s eta 0:00:04\n",
      "   -------------------------------- ------ 172.6/204.2 MB 10.4 MB/s eta 0:00:04\n",
      "   --------------------------------- ----- 173.4/204.2 MB 10.6 MB/s eta 0:00:03\n",
      "   --------------------------------- ----- 174.1/204.2 MB 10.4 MB/s eta 0:00:03\n",
      "   --------------------------------- ----- 174.8/204.2 MB 10.7 MB/s eta 0:00:03\n",
      "   --------------------------------- ----- 175.6/204.2 MB 10.7 MB/s eta 0:00:03\n",
      "   --------------------------------- ----- 176.0/204.2 MB 10.4 MB/s eta 0:00:03\n",
      "   --------------------------------- ----- 176.7/204.2 MB 10.4 MB/s eta 0:00:03\n",
      "   --------------------------------- ----- 177.4/204.2 MB 10.4 MB/s eta 0:00:03\n",
      "   ---------------------------------- ---- 178.3/204.2 MB 10.6 MB/s eta 0:00:03\n",
      "   ---------------------------------- ---- 179.1/204.2 MB 15.2 MB/s eta 0:00:02\n",
      "   ---------------------------------- ---- 180.0/204.2 MB 15.6 MB/s eta 0:00:02\n",
      "   ---------------------------------- ---- 180.7/204.2 MB 15.2 MB/s eta 0:00:02\n",
      "   ---------------------------------- ---- 181.5/204.2 MB 16.0 MB/s eta 0:00:02\n",
      "   ---------------------------------- ---- 182.1/204.2 MB 15.6 MB/s eta 0:00:02\n",
      "   ---------------------------------- ---- 183.0/204.2 MB 16.0 MB/s eta 0:00:02\n",
      "   ----------------------------------- --- 183.7/204.2 MB 16.0 MB/s eta 0:00:02\n",
      "   ----------------------------------- --- 184.6/204.2 MB 16.4 MB/s eta 0:00:02\n",
      "   ----------------------------------- --- 185.1/204.2 MB 16.0 MB/s eta 0:00:02\n",
      "   ----------------------------------- --- 185.3/204.2 MB 15.2 MB/s eta 0:00:02\n",
      "   ----------------------------------- --- 186.1/204.2 MB 15.6 MB/s eta 0:00:02\n",
      "   ----------------------------------- --- 186.6/204.2 MB 15.2 MB/s eta 0:00:02\n",
      "   ----------------------------------- --- 187.4/204.2 MB 15.6 MB/s eta 0:00:02\n",
      "   ----------------------------------- --- 188.2/204.2 MB 15.2 MB/s eta 0:00:02\n",
      "   ------------------------------------ -- 189.1/204.2 MB 15.2 MB/s eta 0:00:01\n",
      "   ------------------------------------ -- 189.8/204.2 MB 15.2 MB/s eta 0:00:01\n",
      "   ------------------------------------ -- 190.6/204.2 MB 15.2 MB/s eta 0:00:01\n",
      "   ------------------------------------ -- 191.4/204.2 MB 15.2 MB/s eta 0:00:01\n",
      "   ------------------------------------ -- 192.1/204.2 MB 15.2 MB/s eta 0:00:01\n",
      "   ------------------------------------ -- 193.0/204.2 MB 15.2 MB/s eta 0:00:01\n",
      "   ------------------------------------ -- 193.6/204.2 MB 15.2 MB/s eta 0:00:01\n",
      "   ------------------------------------- - 194.4/204.2 MB 15.2 MB/s eta 0:00:01\n",
      "   ------------------------------------- - 195.0/204.2 MB 14.9 MB/s eta 0:00:01\n",
      "   ------------------------------------- - 195.9/204.2 MB 16.0 MB/s eta 0:00:01\n",
      "   ------------------------------------- - 196.6/204.2 MB 16.4 MB/s eta 0:00:01\n",
      "   ------------------------------------- - 197.4/204.2 MB 16.4 MB/s eta 0:00:01\n",
      "   ------------------------------------- - 198.1/204.2 MB 16.4 MB/s eta 0:00:01\n",
      "   ------------------------------------- - 198.9/204.2 MB 16.4 MB/s eta 0:00:01\n",
      "   --------------------------------------  199.6/204.2 MB 16.0 MB/s eta 0:00:01\n",
      "   --------------------------------------  200.2/204.2 MB 16.4 MB/s eta 0:00:01\n",
      "   --------------------------------------  200.2/204.2 MB 16.4 MB/s eta 0:00:01\n",
      "   --------------------------------------  200.2/204.2 MB 16.4 MB/s eta 0:00:01\n",
      "   --------------------------------------  201.1/204.2 MB 14.2 MB/s eta 0:00:01\n",
      "   --------------------------------------  201.7/204.2 MB 13.6 MB/s eta 0:00:01\n",
      "   --------------------------------------  204.0/204.2 MB 16.0 MB/s eta 0:00:01\n",
      "   --------------------------------------  204.2/204.2 MB 15.2 MB/s eta 0:00:01\n",
      "   --------------------------------------  204.2/204.2 MB 15.2 MB/s eta 0:00:01\n",
      "   --------------------------------------  204.2/204.2 MB 15.2 MB/s eta 0:00:01\n",
      "   --------------------------------------  204.2/204.2 MB 15.2 MB/s eta 0:00:01\n",
      "   --------------------------------------  204.2/204.2 MB 15.2 MB/s eta 0:00:01\n",
      "   --------------------------------------  204.2/204.2 MB 15.2 MB/s eta 0:00:01\n",
      "   ---------------------------------------- 204.2/204.2 MB 9.8 MB/s eta 0:00:00\n",
      "Downloading sympy-1.13.1-py3-none-any.whl (6.2 MB)\n",
      "   ---------------------------------------- 0.0/6.2 MB ? eta -:--:--\n",
      "   ---- ----------------------------------- 0.7/6.2 MB 14.2 MB/s eta 0:00:01\n",
      "   -------- ------------------------------- 1.4/6.2 MB 17.2 MB/s eta 0:00:01\n",
      "   ------------- -------------------------- 2.0/6.2 MB 16.2 MB/s eta 0:00:01\n",
      "   ------------------ --------------------- 2.9/6.2 MB 15.2 MB/s eta 0:00:01\n",
      "   ----------------------- ---------------- 3.7/6.2 MB 15.6 MB/s eta 0:00:01\n",
      "   ---------------------------- ----------- 4.5/6.2 MB 15.9 MB/s eta 0:00:01\n",
      "   --------------------------------- ------ 5.2/6.2 MB 16.7 MB/s eta 0:00:01\n",
      "   -------------------------------------- - 6.0/6.2 MB 16.7 MB/s eta 0:00:01\n",
      "   ---------------------------------------- 6.2/6.2 MB 15.2 MB/s eta 0:00:00\n",
      "Downloading torchvision-0.21.0-cp311-cp311-win_amd64.whl (1.6 MB)\n",
      "   ---------------------------------------- 0.0/1.6 MB ? eta -:--:--\n",
      "   ---------- ----------------------------- 0.4/1.6 MB 12.2 MB/s eta 0:00:01\n",
      "   -------------------------------- ------- 1.2/1.6 MB 15.9 MB/s eta 0:00:01\n",
      "   ---------------------------------------  1.5/1.6 MB 12.2 MB/s eta 0:00:01\n",
      "   ---------------------------------------- 1.6/1.6 MB 11.0 MB/s eta 0:00:00\n",
      "Downloading ultralytics_thop-2.0.14-py3-none-any.whl (26 kB)\n",
      "Downloading py_cpuinfo-9.0.0-py3-none-any.whl (22 kB)\n",
      "Downloading jinja2-3.1.5-py3-none-any.whl (134 kB)\n",
      "   ---------------------------------------- 0.0/134.6 kB ? eta -:--:--\n",
      "   ---------------------------------------- 134.6/134.6 kB 4.0 MB/s eta 0:00:00\n",
      "Downloading networkx-3.4.2-py3-none-any.whl (1.7 MB)\n",
      "   ---------------------------------------- 0.0/1.7 MB ? eta -:--:--\n",
      "   ------------- -------------------------- 0.6/1.7 MB 11.8 MB/s eta 0:00:01\n",
      "   --------------------------- ------------ 1.2/1.7 MB 12.8 MB/s eta 0:00:01\n",
      "   -------------------------------------- - 1.7/1.7 MB 11.8 MB/s eta 0:00:01\n",
      "   ---------------------------------------- 1.7/1.7 MB 10.0 MB/s eta 0:00:00\n",
      "Downloading MarkupSafe-3.0.2-cp311-cp311-win_amd64.whl (15 kB)\n",
      "Downloading mpmath-1.3.0-py3-none-any.whl (536 kB)\n",
      "   ---------------------------------------- 0.0/536.2 kB ? eta -:--:--\n",
      "   ----------------------- --------------- 317.4/536.2 kB 19.2 MB/s eta 0:00:01\n",
      "   --------------------------------------- 536.2/536.2 kB 11.2 MB/s eta 0:00:00\n",
      "Installing collected packages: py-cpuinfo, mpmath, sympy, scipy, opencv-python, networkx, MarkupSafe, jinja2, torch, seaborn, ultralytics-thop, torchvision, ultralytics\n",
      "Successfully installed MarkupSafe-3.0.2 jinja2-3.1.5 mpmath-1.3.0 networkx-3.4.2 opencv-python-4.11.0.86 py-cpuinfo-9.0.0 scipy-1.15.1 seaborn-0.13.2 sympy-1.13.1 torch-2.6.0 torchvision-0.21.0 ultralytics-8.3.72 ultralytics-thop-2.0.14\n"
     ]
    },
    {
     "name": "stderr",
     "output_type": "stream",
     "text": [
      "\n",
      "[notice] A new release of pip is available: 23.2.1 -> 25.0\n",
      "[notice] To update, run: python.exe -m pip install --upgrade pip\n"
     ]
    }
   ],
   "source": [
    "! pip install ultralytics"
   ]
  },
  {
   "cell_type": "code",
   "execution_count": 12,
   "metadata": {},
   "outputs": [
    {
     "name": "stdout",
     "output_type": "stream",
     "text": [
      "Ultralytics 8.3.72  Python-3.11.7 torch-2.6.0+cpu CPU (12th Gen Intel Core(TM) i7-12700K)\n",
      "\u001b[34m\u001b[1mengine\\trainer: \u001b[0mtask=detect, mode=train, model=yolov8s.pt, data=table_data.yaml, epochs=50, time=None, patience=100, batch=16, imgsz=640, save=True, save_period=-1, cache=False, device=None, workers=8, project=None, name=table_detection4, exist_ok=False, pretrained=True, optimizer=auto, verbose=True, seed=0, deterministic=True, single_cls=False, rect=False, cos_lr=False, close_mosaic=10, resume=False, amp=True, fraction=1.0, profile=False, freeze=None, multi_scale=False, overlap_mask=True, mask_ratio=4, dropout=0.0, val=True, split=val, save_json=False, save_hybrid=False, conf=None, iou=0.7, max_det=300, half=False, dnn=False, plots=True, source=None, vid_stride=1, stream_buffer=False, visualize=False, augment=False, agnostic_nms=False, classes=None, retina_masks=False, embed=None, show=False, save_frames=False, save_txt=False, save_conf=False, save_crop=False, show_labels=True, show_conf=True, show_boxes=True, line_width=None, format=torchscript, keras=False, optimize=False, int8=False, dynamic=False, simplify=True, opset=None, workspace=None, nms=False, lr0=0.01, lrf=0.01, momentum=0.937, weight_decay=0.0005, warmup_epochs=3.0, warmup_momentum=0.8, warmup_bias_lr=0.1, box=7.5, cls=0.5, dfl=1.5, pose=12.0, kobj=1.0, nbs=64, hsv_h=0.015, hsv_s=0.7, hsv_v=0.4, degrees=0.0, translate=0.1, scale=0.5, shear=0.0, perspective=0.0, flipud=0.0, fliplr=0.5, bgr=0.0, mosaic=1.0, mixup=0.0, copy_paste=0.0, copy_paste_mode=flip, auto_augment=randaugment, erasing=0.4, crop_fraction=1.0, cfg=None, tracker=botsort.yaml, save_dir=f:\\GitHub\\table-parser\\runs\\detect\\table_detection4\n",
      "Overriding model.yaml nc=80 with nc=2\n",
      "\n",
      "                   from  n    params  module                                       arguments                     \n",
      "  0                  -1  1       928  ultralytics.nn.modules.conv.Conv             [3, 32, 3, 2]                 \n",
      "  1                  -1  1     18560  ultralytics.nn.modules.conv.Conv             [32, 64, 3, 2]                \n",
      "  2                  -1  1     29056  ultralytics.nn.modules.block.C2f             [64, 64, 1, True]             \n",
      "  3                  -1  1     73984  ultralytics.nn.modules.conv.Conv             [64, 128, 3, 2]               \n",
      "  4                  -1  2    197632  ultralytics.nn.modules.block.C2f             [128, 128, 2, True]           \n",
      "  5                  -1  1    295424  ultralytics.nn.modules.conv.Conv             [128, 256, 3, 2]              \n",
      "  6                  -1  2    788480  ultralytics.nn.modules.block.C2f             [256, 256, 2, True]           \n",
      "  7                  -1  1   1180672  ultralytics.nn.modules.conv.Conv             [256, 512, 3, 2]              \n",
      "  8                  -1  1   1838080  ultralytics.nn.modules.block.C2f             [512, 512, 1, True]           \n",
      "  9                  -1  1    656896  ultralytics.nn.modules.block.SPPF            [512, 512, 5]                 \n",
      " 10                  -1  1         0  torch.nn.modules.upsampling.Upsample         [None, 2, 'nearest']          \n",
      " 11             [-1, 6]  1         0  ultralytics.nn.modules.conv.Concat           [1]                           \n",
      " 12                  -1  1    591360  ultralytics.nn.modules.block.C2f             [768, 256, 1]                 \n",
      " 13                  -1  1         0  torch.nn.modules.upsampling.Upsample         [None, 2, 'nearest']          \n",
      " 14             [-1, 4]  1         0  ultralytics.nn.modules.conv.Concat           [1]                           \n",
      " 15                  -1  1    148224  ultralytics.nn.modules.block.C2f             [384, 128, 1]                 \n",
      " 16                  -1  1    147712  ultralytics.nn.modules.conv.Conv             [128, 128, 3, 2]              \n",
      " 17            [-1, 12]  1         0  ultralytics.nn.modules.conv.Concat           [1]                           \n",
      " 18                  -1  1    493056  ultralytics.nn.modules.block.C2f             [384, 256, 1]                 \n",
      " 19                  -1  1    590336  ultralytics.nn.modules.conv.Conv             [256, 256, 3, 2]              \n",
      " 20             [-1, 9]  1         0  ultralytics.nn.modules.conv.Concat           [1]                           \n",
      " 21                  -1  1   1969152  ultralytics.nn.modules.block.C2f             [768, 512, 1]                 \n",
      " 22        [15, 18, 21]  1   2116822  ultralytics.nn.modules.head.Detect           [2, [128, 256, 512]]          \n",
      "Model summary: 225 layers, 11,136,374 parameters, 11,136,358 gradients, 28.6 GFLOPs\n",
      "\n",
      "Transferred 349/355 items from pretrained weights\n",
      "Freezing layer 'model.22.dfl.conv.weight'\n"
     ]
    },
    {
     "name": "stderr",
     "output_type": "stream",
     "text": [
      "\u001b[34m\u001b[1mtrain: \u001b[0mScanning F:\\GitHub\\datasets\\table_dataset\\labels\\train... 238 images, 0 backgrounds, 0 corrupt: 100%|██████████| 238/238 [00:00<00:00, 676.06it/s]"
     ]
    },
    {
     "name": "stdout",
     "output_type": "stream",
     "text": [
      "\u001b[34m\u001b[1mtrain: \u001b[0mNew cache created: F:\\GitHub\\datasets\\table_dataset\\labels\\train.cache\n"
     ]
    },
    {
     "name": "stderr",
     "output_type": "stream",
     "text": [
      "\n",
      "\u001b[34m\u001b[1mval: \u001b[0mScanning F:\\GitHub\\datasets\\table_dataset\\labels\\val... 70 images, 0 backgrounds, 0 corrupt: 100%|██████████| 70/70 [00:00<00:00, 750.92it/s]"
     ]
    },
    {
     "name": "stdout",
     "output_type": "stream",
     "text": [
      "\u001b[34m\u001b[1mval: \u001b[0mNew cache created: F:\\GitHub\\datasets\\table_dataset\\labels\\val.cache\n"
     ]
    },
    {
     "name": "stderr",
     "output_type": "stream",
     "text": [
      "\n"
     ]
    },
    {
     "name": "stdout",
     "output_type": "stream",
     "text": [
      "Plotting labels to f:\\GitHub\\table-parser\\runs\\detect\\table_detection4\\labels.jpg... \n",
      "\u001b[34m\u001b[1moptimizer:\u001b[0m 'optimizer=auto' found, ignoring 'lr0=0.01' and 'momentum=0.937' and determining best 'optimizer', 'lr0' and 'momentum' automatically... \n",
      "\u001b[34m\u001b[1moptimizer:\u001b[0m AdamW(lr=0.001667, momentum=0.9) with parameter groups 57 weight(decay=0.0), 64 weight(decay=0.0005), 63 bias(decay=0.0)\n",
      "Image sizes 640 train, 640 val\n",
      "Using 0 dataloader workers\n",
      "Logging results to \u001b[1mf:\\GitHub\\table-parser\\runs\\detect\\table_detection4\u001b[0m\n",
      "Starting training for 50 epochs...\n",
      "\n",
      "      Epoch    GPU_mem   box_loss   cls_loss   dfl_loss  Instances       Size\n"
     ]
    },
    {
     "name": "stderr",
     "output_type": "stream",
     "text": [
      "       1/50         0G      1.269      2.827      1.354         51        640: 100%|██████████| 15/15 [01:26<00:00,  5.79s/it]\n",
      "                 Class     Images  Instances      Box(P          R      mAP50  mAP50-95): 100%|██████████| 3/3 [00:10<00:00,  3.63s/it]"
     ]
    },
    {
     "name": "stdout",
     "output_type": "stream",
     "text": [
      "                   all         70        109      0.337      0.453      0.343       0.26\n"
     ]
    },
    {
     "name": "stderr",
     "output_type": "stream",
     "text": [
      "\n"
     ]
    },
    {
     "name": "stdout",
     "output_type": "stream",
     "text": [
      "\n",
      "      Epoch    GPU_mem   box_loss   cls_loss   dfl_loss  Instances       Size\n"
     ]
    },
    {
     "name": "stderr",
     "output_type": "stream",
     "text": [
      "       2/50         0G     0.6833      1.541      1.027         50        640: 100%|██████████| 15/15 [01:23<00:00,  5.60s/it]\n",
      "                 Class     Images  Instances      Box(P          R      mAP50  mAP50-95): 100%|██████████| 3/3 [00:08<00:00,  2.99s/it]"
     ]
    },
    {
     "name": "stdout",
     "output_type": "stream",
     "text": [
      "                   all         70        109      0.364      0.752      0.656      0.528\n"
     ]
    },
    {
     "name": "stderr",
     "output_type": "stream",
     "text": [
      "\n"
     ]
    },
    {
     "name": "stdout",
     "output_type": "stream",
     "text": [
      "\n",
      "      Epoch    GPU_mem   box_loss   cls_loss   dfl_loss  Instances       Size\n"
     ]
    },
    {
     "name": "stderr",
     "output_type": "stream",
     "text": [
      "       3/50         0G     0.6272      1.239     0.9826         54        640: 100%|██████████| 15/15 [01:23<00:00,  5.59s/it]\n",
      "                 Class     Images  Instances      Box(P          R      mAP50  mAP50-95): 100%|██████████| 3/3 [00:08<00:00,  2.95s/it]"
     ]
    },
    {
     "name": "stdout",
     "output_type": "stream",
     "text": [
      "                   all         70        109      0.467      0.505       0.52      0.378\n"
     ]
    },
    {
     "name": "stderr",
     "output_type": "stream",
     "text": [
      "\n"
     ]
    },
    {
     "name": "stdout",
     "output_type": "stream",
     "text": [
      "\n",
      "      Epoch    GPU_mem   box_loss   cls_loss   dfl_loss  Instances       Size\n"
     ]
    },
    {
     "name": "stderr",
     "output_type": "stream",
     "text": [
      "       4/50         0G        0.7      1.093      1.012         49        640: 100%|██████████| 15/15 [01:24<00:00,  5.61s/it]\n",
      "                 Class     Images  Instances      Box(P          R      mAP50  mAP50-95): 100%|██████████| 3/3 [00:08<00:00,  2.96s/it]"
     ]
    },
    {
     "name": "stdout",
     "output_type": "stream",
     "text": [
      "                   all         70        109       0.34      0.474      0.362      0.167\n"
     ]
    },
    {
     "name": "stderr",
     "output_type": "stream",
     "text": [
      "\n"
     ]
    },
    {
     "name": "stdout",
     "output_type": "stream",
     "text": [
      "\n",
      "      Epoch    GPU_mem   box_loss   cls_loss   dfl_loss  Instances       Size\n"
     ]
    },
    {
     "name": "stderr",
     "output_type": "stream",
     "text": [
      "       5/50         0G     0.7368      1.095      1.041         48        640: 100%|██████████| 15/15 [01:24<00:00,  5.60s/it]\n",
      "                 Class     Images  Instances      Box(P          R      mAP50  mAP50-95): 100%|██████████| 3/3 [00:08<00:00,  3.00s/it]"
     ]
    },
    {
     "name": "stdout",
     "output_type": "stream",
     "text": [
      "                   all         70        109      0.337      0.595       0.26      0.153\n"
     ]
    },
    {
     "name": "stderr",
     "output_type": "stream",
     "text": [
      "\n"
     ]
    },
    {
     "name": "stdout",
     "output_type": "stream",
     "text": [
      "\n",
      "      Epoch    GPU_mem   box_loss   cls_loss   dfl_loss  Instances       Size\n"
     ]
    },
    {
     "name": "stderr",
     "output_type": "stream",
     "text": [
      "       6/50         0G     0.7534       1.12      1.046         45        640: 100%|██████████| 15/15 [01:23<00:00,  5.59s/it]\n",
      "                 Class     Images  Instances      Box(P          R      mAP50  mAP50-95): 100%|██████████| 3/3 [00:09<00:00,  3.06s/it]"
     ]
    },
    {
     "name": "stdout",
     "output_type": "stream",
     "text": [
      "                   all         70        109      0.469      0.199      0.274      0.184\n"
     ]
    },
    {
     "name": "stderr",
     "output_type": "stream",
     "text": [
      "\n"
     ]
    },
    {
     "name": "stdout",
     "output_type": "stream",
     "text": [
      "\n",
      "      Epoch    GPU_mem   box_loss   cls_loss   dfl_loss  Instances       Size\n"
     ]
    },
    {
     "name": "stderr",
     "output_type": "stream",
     "text": [
      "       7/50         0G      0.763      1.112      1.044         44        640: 100%|██████████| 15/15 [01:24<00:00,  5.60s/it]\n",
      "                 Class     Images  Instances      Box(P          R      mAP50  mAP50-95): 100%|██████████| 3/3 [00:09<00:00,  3.22s/it]"
     ]
    },
    {
     "name": "stdout",
     "output_type": "stream",
     "text": [
      "                   all         70        109      0.256      0.623      0.419      0.185\n"
     ]
    },
    {
     "name": "stderr",
     "output_type": "stream",
     "text": [
      "\n"
     ]
    },
    {
     "name": "stdout",
     "output_type": "stream",
     "text": [
      "\n",
      "      Epoch    GPU_mem   box_loss   cls_loss   dfl_loss  Instances       Size\n"
     ]
    },
    {
     "name": "stderr",
     "output_type": "stream",
     "text": [
      "       8/50         0G     0.7407      1.028      1.031         54        640: 100%|██████████| 15/15 [01:27<00:00,  5.84s/it]\n",
      "                 Class     Images  Instances      Box(P          R      mAP50  mAP50-95): 100%|██████████| 3/3 [00:08<00:00,  2.96s/it]"
     ]
    },
    {
     "name": "stdout",
     "output_type": "stream",
     "text": [
      "                   all         70        109      0.564      0.788      0.723      0.383\n"
     ]
    },
    {
     "name": "stderr",
     "output_type": "stream",
     "text": [
      "\n"
     ]
    },
    {
     "name": "stdout",
     "output_type": "stream",
     "text": [
      "\n",
      "      Epoch    GPU_mem   box_loss   cls_loss   dfl_loss  Instances       Size\n"
     ]
    },
    {
     "name": "stderr",
     "output_type": "stream",
     "text": [
      "       9/50         0G     0.7251     0.8838      1.022         64        640: 100%|██████████| 15/15 [01:27<00:00,  5.86s/it]\n",
      "                 Class     Images  Instances      Box(P          R      mAP50  mAP50-95): 100%|██████████| 3/3 [00:10<00:00,  3.42s/it]"
     ]
    },
    {
     "name": "stdout",
     "output_type": "stream",
     "text": [
      "                   all         70        109      0.574      0.665      0.664      0.435\n"
     ]
    },
    {
     "name": "stderr",
     "output_type": "stream",
     "text": [
      "\n"
     ]
    },
    {
     "name": "stdout",
     "output_type": "stream",
     "text": [
      "\n",
      "      Epoch    GPU_mem   box_loss   cls_loss   dfl_loss  Instances       Size\n"
     ]
    },
    {
     "name": "stderr",
     "output_type": "stream",
     "text": [
      "      10/50         0G        0.7     0.8716     0.9879         53        640: 100%|██████████| 15/15 [01:32<00:00,  6.18s/it]\n",
      "                 Class     Images  Instances      Box(P          R      mAP50  mAP50-95): 100%|██████████| 3/3 [00:09<00:00,  3.25s/it]"
     ]
    },
    {
     "name": "stdout",
     "output_type": "stream",
     "text": [
      "                   all         70        109      0.714      0.698      0.803      0.591\n"
     ]
    },
    {
     "name": "stderr",
     "output_type": "stream",
     "text": [
      "\n"
     ]
    },
    {
     "name": "stdout",
     "output_type": "stream",
     "text": [
      "\n",
      "      Epoch    GPU_mem   box_loss   cls_loss   dfl_loss  Instances       Size\n"
     ]
    },
    {
     "name": "stderr",
     "output_type": "stream",
     "text": [
      "      11/50         0G     0.6805      0.853     0.9915         47        640: 100%|██████████| 15/15 [01:31<00:00,  6.13s/it]\n",
      "                 Class     Images  Instances      Box(P          R      mAP50  mAP50-95): 100%|██████████| 3/3 [00:09<00:00,  3.27s/it]"
     ]
    },
    {
     "name": "stdout",
     "output_type": "stream",
     "text": [
      "                   all         70        109      0.759       0.72      0.783      0.607\n"
     ]
    },
    {
     "name": "stderr",
     "output_type": "stream",
     "text": [
      "\n"
     ]
    },
    {
     "name": "stdout",
     "output_type": "stream",
     "text": [
      "\n",
      "      Epoch    GPU_mem   box_loss   cls_loss   dfl_loss  Instances       Size\n"
     ]
    },
    {
     "name": "stderr",
     "output_type": "stream",
     "text": [
      "      12/50         0G     0.6837     0.8888     0.9851         57        640: 100%|██████████| 15/15 [01:33<00:00,  6.23s/it]\n",
      "                 Class     Images  Instances      Box(P          R      mAP50  mAP50-95): 100%|██████████| 3/3 [00:09<00:00,  3.28s/it]"
     ]
    },
    {
     "name": "stdout",
     "output_type": "stream",
     "text": [
      "                   all         70        109      0.411      0.611      0.561      0.449\n"
     ]
    },
    {
     "name": "stderr",
     "output_type": "stream",
     "text": [
      "\n"
     ]
    },
    {
     "name": "stdout",
     "output_type": "stream",
     "text": [
      "\n",
      "      Epoch    GPU_mem   box_loss   cls_loss   dfl_loss  Instances       Size\n"
     ]
    },
    {
     "name": "stderr",
     "output_type": "stream",
     "text": [
      "      13/50         0G     0.6758     0.9104      1.008         50        640: 100%|██████████| 15/15 [01:32<00:00,  6.16s/it]\n",
      "                 Class     Images  Instances      Box(P          R      mAP50  mAP50-95): 100%|██████████| 3/3 [00:09<00:00,  3.30s/it]"
     ]
    },
    {
     "name": "stdout",
     "output_type": "stream",
     "text": [
      "                   all         70        109      0.459      0.683      0.634      0.435\n"
     ]
    },
    {
     "name": "stderr",
     "output_type": "stream",
     "text": [
      "\n"
     ]
    },
    {
     "name": "stdout",
     "output_type": "stream",
     "text": [
      "\n",
      "      Epoch    GPU_mem   box_loss   cls_loss   dfl_loss  Instances       Size\n"
     ]
    },
    {
     "name": "stderr",
     "output_type": "stream",
     "text": [
      "      14/50         0G     0.6405     0.8827     0.9677         52        640: 100%|██████████| 15/15 [01:23<00:00,  5.59s/it]\n",
      "                 Class     Images  Instances      Box(P          R      mAP50  mAP50-95): 100%|██████████| 3/3 [00:08<00:00,  2.94s/it]"
     ]
    },
    {
     "name": "stdout",
     "output_type": "stream",
     "text": [
      "                   all         70        109      0.903      0.868      0.934      0.772\n"
     ]
    },
    {
     "name": "stderr",
     "output_type": "stream",
     "text": [
      "\n"
     ]
    },
    {
     "name": "stdout",
     "output_type": "stream",
     "text": [
      "\n",
      "      Epoch    GPU_mem   box_loss   cls_loss   dfl_loss  Instances       Size\n"
     ]
    },
    {
     "name": "stderr",
     "output_type": "stream",
     "text": [
      "      15/50         0G     0.6177     0.7944     0.9667         50        640: 100%|██████████| 15/15 [01:23<00:00,  5.59s/it]\n",
      "                 Class     Images  Instances      Box(P          R      mAP50  mAP50-95): 100%|██████████| 3/3 [00:08<00:00,  2.96s/it]"
     ]
    },
    {
     "name": "stdout",
     "output_type": "stream",
     "text": [
      "                   all         70        109      0.879      0.792      0.903      0.761\n"
     ]
    },
    {
     "name": "stderr",
     "output_type": "stream",
     "text": [
      "\n"
     ]
    },
    {
     "name": "stdout",
     "output_type": "stream",
     "text": [
      "\n",
      "      Epoch    GPU_mem   box_loss   cls_loss   dfl_loss  Instances       Size\n"
     ]
    },
    {
     "name": "stderr",
     "output_type": "stream",
     "text": [
      "      16/50         0G     0.5804     0.7393     0.9477         55        640: 100%|██████████| 15/15 [01:23<00:00,  5.57s/it]\n",
      "                 Class     Images  Instances      Box(P          R      mAP50  mAP50-95): 100%|██████████| 3/3 [00:08<00:00,  2.94s/it]"
     ]
    },
    {
     "name": "stdout",
     "output_type": "stream",
     "text": [
      "                   all         70        109      0.802      0.829      0.875      0.767\n"
     ]
    },
    {
     "name": "stderr",
     "output_type": "stream",
     "text": [
      "\n"
     ]
    },
    {
     "name": "stdout",
     "output_type": "stream",
     "text": [
      "\n",
      "      Epoch    GPU_mem   box_loss   cls_loss   dfl_loss  Instances       Size\n"
     ]
    },
    {
     "name": "stderr",
     "output_type": "stream",
     "text": [
      "      17/50         0G     0.5964     0.7989     0.9652         58        640: 100%|██████████| 15/15 [01:27<00:00,  5.83s/it]\n",
      "                 Class     Images  Instances      Box(P          R      mAP50  mAP50-95): 100%|██████████| 3/3 [00:09<00:00,  3.29s/it]"
     ]
    },
    {
     "name": "stdout",
     "output_type": "stream",
     "text": [
      "                   all         70        109      0.856      0.814      0.881      0.756\n"
     ]
    },
    {
     "name": "stderr",
     "output_type": "stream",
     "text": [
      "\n"
     ]
    },
    {
     "name": "stdout",
     "output_type": "stream",
     "text": [
      "\n",
      "      Epoch    GPU_mem   box_loss   cls_loss   dfl_loss  Instances       Size\n"
     ]
    },
    {
     "name": "stderr",
     "output_type": "stream",
     "text": [
      "      18/50         0G     0.5641     0.6877     0.9474         56        640: 100%|██████████| 15/15 [01:28<00:00,  5.90s/it]\n",
      "                 Class     Images  Instances      Box(P          R      mAP50  mAP50-95): 100%|██████████| 3/3 [00:08<00:00,  2.97s/it]"
     ]
    },
    {
     "name": "stdout",
     "output_type": "stream",
     "text": [
      "                   all         70        109      0.834       0.84      0.897      0.772\n"
     ]
    },
    {
     "name": "stderr",
     "output_type": "stream",
     "text": [
      "\n"
     ]
    },
    {
     "name": "stdout",
     "output_type": "stream",
     "text": [
      "\n",
      "      Epoch    GPU_mem   box_loss   cls_loss   dfl_loss  Instances       Size\n"
     ]
    },
    {
     "name": "stderr",
     "output_type": "stream",
     "text": [
      "      19/50         0G     0.5438     0.6865     0.9445         46        640: 100%|██████████| 15/15 [01:28<00:00,  5.90s/it]\n",
      "                 Class     Images  Instances      Box(P          R      mAP50  mAP50-95): 100%|██████████| 3/3 [00:10<00:00,  3.44s/it]"
     ]
    },
    {
     "name": "stdout",
     "output_type": "stream",
     "text": [
      "                   all         70        109       0.65      0.674      0.679      0.387\n"
     ]
    },
    {
     "name": "stderr",
     "output_type": "stream",
     "text": [
      "\n"
     ]
    },
    {
     "name": "stdout",
     "output_type": "stream",
     "text": [
      "\n",
      "      Epoch    GPU_mem   box_loss   cls_loss   dfl_loss  Instances       Size\n"
     ]
    },
    {
     "name": "stderr",
     "output_type": "stream",
     "text": [
      "      20/50         0G     0.5172     0.6425     0.9324         59        640: 100%|██████████| 15/15 [01:35<00:00,  6.34s/it]\n",
      "                 Class     Images  Instances      Box(P          R      mAP50  mAP50-95): 100%|██████████| 3/3 [00:09<00:00,  3.32s/it]"
     ]
    },
    {
     "name": "stdout",
     "output_type": "stream",
     "text": [
      "                   all         70        109      0.832      0.814      0.879      0.742\n"
     ]
    },
    {
     "name": "stderr",
     "output_type": "stream",
     "text": [
      "\n"
     ]
    },
    {
     "name": "stdout",
     "output_type": "stream",
     "text": [
      "\n",
      "      Epoch    GPU_mem   box_loss   cls_loss   dfl_loss  Instances       Size\n"
     ]
    },
    {
     "name": "stderr",
     "output_type": "stream",
     "text": [
      "      21/50         0G     0.5345     0.6687     0.9499         50        640: 100%|██████████| 15/15 [01:37<00:00,  6.47s/it]\n",
      "                 Class     Images  Instances      Box(P          R      mAP50  mAP50-95): 100%|██████████| 3/3 [00:10<00:00,  3.37s/it]"
     ]
    },
    {
     "name": "stdout",
     "output_type": "stream",
     "text": [
      "                   all         70        109      0.821       0.71      0.771      0.574\n"
     ]
    },
    {
     "name": "stderr",
     "output_type": "stream",
     "text": [
      "\n"
     ]
    },
    {
     "name": "stdout",
     "output_type": "stream",
     "text": [
      "\n",
      "      Epoch    GPU_mem   box_loss   cls_loss   dfl_loss  Instances       Size\n"
     ]
    },
    {
     "name": "stderr",
     "output_type": "stream",
     "text": [
      "      22/50         0G     0.5211     0.6909      0.946         57        640: 100%|██████████| 15/15 [01:33<00:00,  6.20s/it]\n",
      "                 Class     Images  Instances      Box(P          R      mAP50  mAP50-95): 100%|██████████| 3/3 [00:10<00:00,  3.48s/it]"
     ]
    },
    {
     "name": "stdout",
     "output_type": "stream",
     "text": [
      "                   all         70        109      0.897      0.792      0.865      0.731\n"
     ]
    },
    {
     "name": "stderr",
     "output_type": "stream",
     "text": [
      "\n"
     ]
    },
    {
     "name": "stdout",
     "output_type": "stream",
     "text": [
      "\n",
      "      Epoch    GPU_mem   box_loss   cls_loss   dfl_loss  Instances       Size\n"
     ]
    },
    {
     "name": "stderr",
     "output_type": "stream",
     "text": [
      "      23/50         0G     0.5083       0.62     0.9316         51        640: 100%|██████████| 15/15 [01:30<00:00,  6.02s/it]\n",
      "                 Class     Images  Instances      Box(P          R      mAP50  mAP50-95): 100%|██████████| 3/3 [00:09<00:00,  3.15s/it]"
     ]
    },
    {
     "name": "stdout",
     "output_type": "stream",
     "text": [
      "                   all         70        109      0.876      0.823      0.881      0.774\n"
     ]
    },
    {
     "name": "stderr",
     "output_type": "stream",
     "text": [
      "\n"
     ]
    },
    {
     "name": "stdout",
     "output_type": "stream",
     "text": [
      "\n",
      "      Epoch    GPU_mem   box_loss   cls_loss   dfl_loss  Instances       Size\n"
     ]
    },
    {
     "name": "stderr",
     "output_type": "stream",
     "text": [
      "      24/50         0G     0.4743      0.585     0.9296         31        640: 100%|██████████| 15/15 [01:26<00:00,  5.78s/it]\n",
      "                 Class     Images  Instances      Box(P          R      mAP50  mAP50-95): 100%|██████████| 3/3 [00:09<00:00,  3.03s/it]"
     ]
    },
    {
     "name": "stdout",
     "output_type": "stream",
     "text": [
      "                   all         70        109      0.896      0.875      0.917      0.842\n"
     ]
    },
    {
     "name": "stderr",
     "output_type": "stream",
     "text": [
      "\n"
     ]
    },
    {
     "name": "stdout",
     "output_type": "stream",
     "text": [
      "\n",
      "      Epoch    GPU_mem   box_loss   cls_loss   dfl_loss  Instances       Size\n"
     ]
    },
    {
     "name": "stderr",
     "output_type": "stream",
     "text": [
      "      25/50         0G     0.4906     0.6484     0.9197         55        640: 100%|██████████| 15/15 [01:25<00:00,  5.70s/it]\n",
      "                 Class     Images  Instances      Box(P          R      mAP50  mAP50-95): 100%|██████████| 3/3 [00:09<00:00,  3.04s/it]"
     ]
    },
    {
     "name": "stdout",
     "output_type": "stream",
     "text": [
      "                   all         70        109      0.878      0.852      0.892       0.78\n"
     ]
    },
    {
     "name": "stderr",
     "output_type": "stream",
     "text": [
      "\n"
     ]
    },
    {
     "name": "stdout",
     "output_type": "stream",
     "text": [
      "\n",
      "      Epoch    GPU_mem   box_loss   cls_loss   dfl_loss  Instances       Size\n"
     ]
    },
    {
     "name": "stderr",
     "output_type": "stream",
     "text": [
      "      26/50         0G     0.4779     0.6187     0.9339         51        640: 100%|██████████| 15/15 [01:28<00:00,  5.89s/it]\n",
      "                 Class     Images  Instances      Box(P          R      mAP50  mAP50-95): 100%|██████████| 3/3 [00:09<00:00,  3.09s/it]"
     ]
    },
    {
     "name": "stdout",
     "output_type": "stream",
     "text": [
      "                   all         70        109      0.913      0.845      0.928      0.841\n"
     ]
    },
    {
     "name": "stderr",
     "output_type": "stream",
     "text": [
      "\n"
     ]
    },
    {
     "name": "stdout",
     "output_type": "stream",
     "text": [
      "\n",
      "      Epoch    GPU_mem   box_loss   cls_loss   dfl_loss  Instances       Size\n"
     ]
    },
    {
     "name": "stderr",
     "output_type": "stream",
     "text": [
      "      27/50         0G     0.4387     0.5437     0.8963         39        640: 100%|██████████| 15/15 [01:28<00:00,  5.90s/it]\n",
      "                 Class     Images  Instances      Box(P          R      mAP50  mAP50-95): 100%|██████████| 3/3 [00:09<00:00,  3.13s/it]"
     ]
    },
    {
     "name": "stdout",
     "output_type": "stream",
     "text": [
      "                   all         70        109      0.863      0.877       0.93      0.839\n"
     ]
    },
    {
     "name": "stderr",
     "output_type": "stream",
     "text": [
      "\n"
     ]
    },
    {
     "name": "stdout",
     "output_type": "stream",
     "text": [
      "\n",
      "      Epoch    GPU_mem   box_loss   cls_loss   dfl_loss  Instances       Size\n"
     ]
    },
    {
     "name": "stderr",
     "output_type": "stream",
     "text": [
      "      28/50         0G     0.4646     0.5538     0.9128         55        640: 100%|██████████| 15/15 [01:30<00:00,  6.05s/it]\n",
      "                 Class     Images  Instances      Box(P          R      mAP50  mAP50-95): 100%|██████████| 3/3 [00:09<00:00,  3.11s/it]"
     ]
    },
    {
     "name": "stdout",
     "output_type": "stream",
     "text": [
      "                   all         70        109      0.928      0.822      0.929      0.831\n"
     ]
    },
    {
     "name": "stderr",
     "output_type": "stream",
     "text": [
      "\n"
     ]
    },
    {
     "name": "stdout",
     "output_type": "stream",
     "text": [
      "\n",
      "      Epoch    GPU_mem   box_loss   cls_loss   dfl_loss  Instances       Size\n"
     ]
    },
    {
     "name": "stderr",
     "output_type": "stream",
     "text": [
      "      29/50         0G     0.4515     0.5448     0.9051         39        640: 100%|██████████| 15/15 [01:30<00:00,  6.02s/it]\n",
      "                 Class     Images  Instances      Box(P          R      mAP50  mAP50-95): 100%|██████████| 3/3 [00:09<00:00,  3.18s/it]"
     ]
    },
    {
     "name": "stdout",
     "output_type": "stream",
     "text": [
      "                   all         70        109      0.889      0.826      0.914      0.811\n"
     ]
    },
    {
     "name": "stderr",
     "output_type": "stream",
     "text": [
      "\n"
     ]
    },
    {
     "name": "stdout",
     "output_type": "stream",
     "text": [
      "\n",
      "      Epoch    GPU_mem   box_loss   cls_loss   dfl_loss  Instances       Size\n"
     ]
    },
    {
     "name": "stderr",
     "output_type": "stream",
     "text": [
      "      30/50         0G     0.4291     0.5231     0.9171         40        640: 100%|██████████| 15/15 [01:28<00:00,  5.87s/it]\n",
      "                 Class     Images  Instances      Box(P          R      mAP50  mAP50-95): 100%|██████████| 3/3 [00:09<00:00,  3.19s/it]"
     ]
    },
    {
     "name": "stdout",
     "output_type": "stream",
     "text": [
      "                   all         70        109      0.882       0.86      0.894      0.814\n"
     ]
    },
    {
     "name": "stderr",
     "output_type": "stream",
     "text": [
      "\n"
     ]
    },
    {
     "name": "stdout",
     "output_type": "stream",
     "text": [
      "\n",
      "      Epoch    GPU_mem   box_loss   cls_loss   dfl_loss  Instances       Size\n"
     ]
    },
    {
     "name": "stderr",
     "output_type": "stream",
     "text": [
      "      31/50         0G     0.4113     0.5041     0.8942         53        640: 100%|██████████| 15/15 [01:27<00:00,  5.86s/it]\n",
      "                 Class     Images  Instances      Box(P          R      mAP50  mAP50-95): 100%|██████████| 3/3 [00:09<00:00,  3.16s/it]"
     ]
    },
    {
     "name": "stdout",
     "output_type": "stream",
     "text": [
      "                   all         70        109      0.921      0.817      0.887      0.793\n"
     ]
    },
    {
     "name": "stderr",
     "output_type": "stream",
     "text": [
      "\n"
     ]
    },
    {
     "name": "stdout",
     "output_type": "stream",
     "text": [
      "\n",
      "      Epoch    GPU_mem   box_loss   cls_loss   dfl_loss  Instances       Size\n"
     ]
    },
    {
     "name": "stderr",
     "output_type": "stream",
     "text": [
      "      32/50         0G     0.4086     0.4961     0.9001         49        640: 100%|██████████| 15/15 [01:28<00:00,  5.88s/it]\n",
      "                 Class     Images  Instances      Box(P          R      mAP50  mAP50-95): 100%|██████████| 3/3 [00:09<00:00,  3.15s/it]"
     ]
    },
    {
     "name": "stdout",
     "output_type": "stream",
     "text": [
      "                   all         70        109      0.953      0.771      0.909      0.828\n"
     ]
    },
    {
     "name": "stderr",
     "output_type": "stream",
     "text": [
      "\n"
     ]
    },
    {
     "name": "stdout",
     "output_type": "stream",
     "text": [
      "\n",
      "      Epoch    GPU_mem   box_loss   cls_loss   dfl_loss  Instances       Size\n"
     ]
    },
    {
     "name": "stderr",
     "output_type": "stream",
     "text": [
      "      33/50         0G      0.409     0.4618     0.8985         50        640: 100%|██████████| 15/15 [01:28<00:00,  5.88s/it]\n",
      "                 Class     Images  Instances      Box(P          R      mAP50  mAP50-95): 100%|██████████| 3/3 [00:09<00:00,  3.17s/it]"
     ]
    },
    {
     "name": "stdout",
     "output_type": "stream",
     "text": [
      "                   all         70        109       0.91      0.831      0.919      0.839\n"
     ]
    },
    {
     "name": "stderr",
     "output_type": "stream",
     "text": [
      "\n"
     ]
    },
    {
     "name": "stdout",
     "output_type": "stream",
     "text": [
      "\n",
      "      Epoch    GPU_mem   box_loss   cls_loss   dfl_loss  Instances       Size\n"
     ]
    },
    {
     "name": "stderr",
     "output_type": "stream",
     "text": [
      "      34/50         0G     0.3811     0.4694     0.8773         48        640: 100%|██████████| 15/15 [01:27<00:00,  5.85s/it]\n",
      "                 Class     Images  Instances      Box(P          R      mAP50  mAP50-95): 100%|██████████| 3/3 [00:09<00:00,  3.18s/it]"
     ]
    },
    {
     "name": "stdout",
     "output_type": "stream",
     "text": [
      "                   all         70        109        0.9      0.769      0.902        0.8\n"
     ]
    },
    {
     "name": "stderr",
     "output_type": "stream",
     "text": [
      "\n"
     ]
    },
    {
     "name": "stdout",
     "output_type": "stream",
     "text": [
      "\n",
      "      Epoch    GPU_mem   box_loss   cls_loss   dfl_loss  Instances       Size\n"
     ]
    },
    {
     "name": "stderr",
     "output_type": "stream",
     "text": [
      "      35/50         0G     0.3882     0.4152     0.8853         50        640: 100%|██████████| 15/15 [01:27<00:00,  5.86s/it]\n",
      "                 Class     Images  Instances      Box(P          R      mAP50  mAP50-95): 100%|██████████| 3/3 [00:09<00:00,  3.17s/it]"
     ]
    },
    {
     "name": "stdout",
     "output_type": "stream",
     "text": [
      "                   all         70        109      0.908       0.77       0.87      0.761\n"
     ]
    },
    {
     "name": "stderr",
     "output_type": "stream",
     "text": [
      "\n"
     ]
    },
    {
     "name": "stdout",
     "output_type": "stream",
     "text": [
      "\n",
      "      Epoch    GPU_mem   box_loss   cls_loss   dfl_loss  Instances       Size\n"
     ]
    },
    {
     "name": "stderr",
     "output_type": "stream",
     "text": [
      "      36/50         0G     0.3594     0.4135     0.8807         53        640: 100%|██████████| 15/15 [01:28<00:00,  5.87s/it]\n",
      "                 Class     Images  Instances      Box(P          R      mAP50  mAP50-95): 100%|██████████| 3/3 [00:09<00:00,  3.11s/it]"
     ]
    },
    {
     "name": "stdout",
     "output_type": "stream",
     "text": [
      "                   all         70        109      0.912      0.817      0.913      0.844\n"
     ]
    },
    {
     "name": "stderr",
     "output_type": "stream",
     "text": [
      "\n"
     ]
    },
    {
     "name": "stdout",
     "output_type": "stream",
     "text": [
      "\n",
      "      Epoch    GPU_mem   box_loss   cls_loss   dfl_loss  Instances       Size\n"
     ]
    },
    {
     "name": "stderr",
     "output_type": "stream",
     "text": [
      "      37/50         0G     0.3689     0.4308     0.9076         58        640: 100%|██████████| 15/15 [01:27<00:00,  5.86s/it]\n",
      "                 Class     Images  Instances      Box(P          R      mAP50  mAP50-95): 100%|██████████| 3/3 [00:09<00:00,  3.10s/it]"
     ]
    },
    {
     "name": "stdout",
     "output_type": "stream",
     "text": [
      "                   all         70        109      0.867      0.874      0.927      0.851\n"
     ]
    },
    {
     "name": "stderr",
     "output_type": "stream",
     "text": [
      "\n"
     ]
    },
    {
     "name": "stdout",
     "output_type": "stream",
     "text": [
      "\n",
      "      Epoch    GPU_mem   box_loss   cls_loss   dfl_loss  Instances       Size\n"
     ]
    },
    {
     "name": "stderr",
     "output_type": "stream",
     "text": [
      "      38/50         0G     0.3583     0.4075     0.8695         56        640: 100%|██████████| 15/15 [01:28<00:00,  5.89s/it]\n",
      "                 Class     Images  Instances      Box(P          R      mAP50  mAP50-95): 100%|██████████| 3/3 [00:09<00:00,  3.10s/it]"
     ]
    },
    {
     "name": "stdout",
     "output_type": "stream",
     "text": [
      "                   all         70        109      0.882      0.876      0.925      0.853\n"
     ]
    },
    {
     "name": "stderr",
     "output_type": "stream",
     "text": [
      "\n"
     ]
    },
    {
     "name": "stdout",
     "output_type": "stream",
     "text": [
      "\n",
      "      Epoch    GPU_mem   box_loss   cls_loss   dfl_loss  Instances       Size\n"
     ]
    },
    {
     "name": "stderr",
     "output_type": "stream",
     "text": [
      "      39/50         0G     0.3558     0.4157     0.8866         48        640: 100%|██████████| 15/15 [01:28<00:00,  5.88s/it]\n",
      "                 Class     Images  Instances      Box(P          R      mAP50  mAP50-95): 100%|██████████| 3/3 [00:09<00:00,  3.09s/it]"
     ]
    },
    {
     "name": "stdout",
     "output_type": "stream",
     "text": [
      "                   all         70        109      0.902      0.839      0.909      0.837\n"
     ]
    },
    {
     "name": "stderr",
     "output_type": "stream",
     "text": [
      "\n"
     ]
    },
    {
     "name": "stdout",
     "output_type": "stream",
     "text": [
      "\n",
      "      Epoch    GPU_mem   box_loss   cls_loss   dfl_loss  Instances       Size\n"
     ]
    },
    {
     "name": "stderr",
     "output_type": "stream",
     "text": [
      "      40/50         0G     0.3564     0.4284     0.8747         54        640: 100%|██████████| 15/15 [01:28<00:00,  5.91s/it]\n",
      "                 Class     Images  Instances      Box(P          R      mAP50  mAP50-95): 100%|██████████| 3/3 [00:09<00:00,  3.07s/it]"
     ]
    },
    {
     "name": "stdout",
     "output_type": "stream",
     "text": [
      "                   all         70        109      0.866      0.837      0.891      0.838\n"
     ]
    },
    {
     "name": "stderr",
     "output_type": "stream",
     "text": [
      "\n"
     ]
    },
    {
     "name": "stdout",
     "output_type": "stream",
     "text": [
      "Closing dataloader mosaic\n",
      "\n",
      "      Epoch    GPU_mem   box_loss   cls_loss   dfl_loss  Instances       Size\n"
     ]
    },
    {
     "name": "stderr",
     "output_type": "stream",
     "text": [
      "      41/50         0G     0.3343     0.3864     0.8453         20        640: 100%|██████████| 15/15 [01:27<00:00,  5.84s/it]\n",
      "                 Class     Images  Instances      Box(P          R      mAP50  mAP50-95): 100%|██████████| 3/3 [00:09<00:00,  3.07s/it]"
     ]
    },
    {
     "name": "stdout",
     "output_type": "stream",
     "text": [
      "                   all         70        109      0.903      0.866      0.929      0.864\n"
     ]
    },
    {
     "name": "stderr",
     "output_type": "stream",
     "text": [
      "\n"
     ]
    },
    {
     "name": "stdout",
     "output_type": "stream",
     "text": [
      "\n",
      "      Epoch    GPU_mem   box_loss   cls_loss   dfl_loss  Instances       Size\n"
     ]
    },
    {
     "name": "stderr",
     "output_type": "stream",
     "text": [
      "      42/50         0G     0.3177     0.3474     0.8519         22        640: 100%|██████████| 15/15 [01:27<00:00,  5.84s/it]\n",
      "                 Class     Images  Instances      Box(P          R      mAP50  mAP50-95): 100%|██████████| 3/3 [00:09<00:00,  3.21s/it]"
     ]
    },
    {
     "name": "stdout",
     "output_type": "stream",
     "text": [
      "                   all         70        109      0.841      0.924      0.917      0.832\n"
     ]
    },
    {
     "name": "stderr",
     "output_type": "stream",
     "text": [
      "\n"
     ]
    },
    {
     "name": "stdout",
     "output_type": "stream",
     "text": [
      "\n",
      "      Epoch    GPU_mem   box_loss   cls_loss   dfl_loss  Instances       Size\n"
     ]
    },
    {
     "name": "stderr",
     "output_type": "stream",
     "text": [
      "      43/50         0G     0.2916     0.3162     0.8159         19        640: 100%|██████████| 15/15 [01:27<00:00,  5.84s/it]\n",
      "                 Class     Images  Instances      Box(P          R      mAP50  mAP50-95): 100%|██████████| 3/3 [00:09<00:00,  3.19s/it]"
     ]
    },
    {
     "name": "stdout",
     "output_type": "stream",
     "text": [
      "                   all         70        109      0.895      0.864      0.917      0.836\n"
     ]
    },
    {
     "name": "stderr",
     "output_type": "stream",
     "text": [
      "\n"
     ]
    },
    {
     "name": "stdout",
     "output_type": "stream",
     "text": [
      "\n",
      "      Epoch    GPU_mem   box_loss   cls_loss   dfl_loss  Instances       Size\n"
     ]
    },
    {
     "name": "stderr",
     "output_type": "stream",
     "text": [
      "      44/50         0G     0.3178     0.3346     0.8403         23        640: 100%|██████████| 15/15 [01:27<00:00,  5.83s/it]\n",
      "                 Class     Images  Instances      Box(P          R      mAP50  mAP50-95): 100%|██████████| 3/3 [00:09<00:00,  3.13s/it]"
     ]
    },
    {
     "name": "stdout",
     "output_type": "stream",
     "text": [
      "                   all         70        109      0.937      0.804      0.919      0.839\n"
     ]
    },
    {
     "name": "stderr",
     "output_type": "stream",
     "text": [
      "\n"
     ]
    },
    {
     "name": "stdout",
     "output_type": "stream",
     "text": [
      "\n",
      "      Epoch    GPU_mem   box_loss   cls_loss   dfl_loss  Instances       Size\n"
     ]
    },
    {
     "name": "stderr",
     "output_type": "stream",
     "text": [
      "      45/50         0G     0.3155     0.3325     0.8503         22        640: 100%|██████████| 15/15 [01:27<00:00,  5.86s/it]\n",
      "                 Class     Images  Instances      Box(P          R      mAP50  mAP50-95): 100%|██████████| 3/3 [00:09<00:00,  3.19s/it]"
     ]
    },
    {
     "name": "stdout",
     "output_type": "stream",
     "text": [
      "                   all         70        109      0.858       0.83      0.887        0.8\n"
     ]
    },
    {
     "name": "stderr",
     "output_type": "stream",
     "text": [
      "\n"
     ]
    },
    {
     "name": "stdout",
     "output_type": "stream",
     "text": [
      "\n",
      "      Epoch    GPU_mem   box_loss   cls_loss   dfl_loss  Instances       Size\n"
     ]
    },
    {
     "name": "stderr",
     "output_type": "stream",
     "text": [
      "      46/50         0G     0.3086     0.3231     0.8381         20        640: 100%|██████████| 15/15 [01:27<00:00,  5.84s/it]\n",
      "                 Class     Images  Instances      Box(P          R      mAP50  mAP50-95): 100%|██████████| 3/3 [00:09<00:00,  3.11s/it]"
     ]
    },
    {
     "name": "stdout",
     "output_type": "stream",
     "text": [
      "                   all         70        109      0.844      0.849      0.911      0.832\n"
     ]
    },
    {
     "name": "stderr",
     "output_type": "stream",
     "text": [
      "\n"
     ]
    },
    {
     "name": "stdout",
     "output_type": "stream",
     "text": [
      "\n",
      "      Epoch    GPU_mem   box_loss   cls_loss   dfl_loss  Instances       Size\n"
     ]
    },
    {
     "name": "stderr",
     "output_type": "stream",
     "text": [
      "      47/50         0G     0.2721     0.2819     0.8164         20        640: 100%|██████████| 15/15 [01:27<00:00,  5.84s/it]\n",
      "                 Class     Images  Instances      Box(P          R      mAP50  mAP50-95): 100%|██████████| 3/3 [00:09<00:00,  3.11s/it]"
     ]
    },
    {
     "name": "stdout",
     "output_type": "stream",
     "text": [
      "                   all         70        109      0.905      0.844      0.929      0.865\n"
     ]
    },
    {
     "name": "stderr",
     "output_type": "stream",
     "text": [
      "\n"
     ]
    },
    {
     "name": "stdout",
     "output_type": "stream",
     "text": [
      "\n",
      "      Epoch    GPU_mem   box_loss   cls_loss   dfl_loss  Instances       Size\n"
     ]
    },
    {
     "name": "stderr",
     "output_type": "stream",
     "text": [
      "      48/50         0G     0.2663     0.2763     0.8275         19        640: 100%|██████████| 15/15 [01:28<00:00,  5.89s/it]\n",
      "                 Class     Images  Instances      Box(P          R      mAP50  mAP50-95): 100%|██████████| 3/3 [00:09<00:00,  3.08s/it]"
     ]
    },
    {
     "name": "stdout",
     "output_type": "stream",
     "text": [
      "                   all         70        109      0.933      0.814      0.933      0.874\n"
     ]
    },
    {
     "name": "stderr",
     "output_type": "stream",
     "text": [
      "\n"
     ]
    },
    {
     "name": "stdout",
     "output_type": "stream",
     "text": [
      "\n",
      "      Epoch    GPU_mem   box_loss   cls_loss   dfl_loss  Instances       Size\n"
     ]
    },
    {
     "name": "stderr",
     "output_type": "stream",
     "text": [
      "      49/50         0G     0.2698       0.27     0.8335         20        640: 100%|██████████| 15/15 [01:27<00:00,  5.85s/it]\n",
      "                 Class     Images  Instances      Box(P          R      mAP50  mAP50-95): 100%|██████████| 3/3 [00:09<00:00,  3.08s/it]"
     ]
    },
    {
     "name": "stdout",
     "output_type": "stream",
     "text": [
      "                   all         70        109      0.862      0.867       0.93       0.87\n"
     ]
    },
    {
     "name": "stderr",
     "output_type": "stream",
     "text": [
      "\n"
     ]
    },
    {
     "name": "stdout",
     "output_type": "stream",
     "text": [
      "\n",
      "      Epoch    GPU_mem   box_loss   cls_loss   dfl_loss  Instances       Size\n"
     ]
    },
    {
     "name": "stderr",
     "output_type": "stream",
     "text": [
      "      50/50         0G     0.2642     0.2602     0.8132         17        640: 100%|██████████| 15/15 [01:33<00:00,  6.23s/it]\n",
      "                 Class     Images  Instances      Box(P          R      mAP50  mAP50-95): 100%|██████████| 3/3 [00:10<00:00,  3.34s/it]"
     ]
    },
    {
     "name": "stdout",
     "output_type": "stream",
     "text": [
      "                   all         70        109      0.889       0.81      0.929       0.86\n"
     ]
    },
    {
     "name": "stderr",
     "output_type": "stream",
     "text": [
      "\n"
     ]
    },
    {
     "name": "stdout",
     "output_type": "stream",
     "text": [
      "\n",
      "50 epochs completed in 1.362 hours.\n",
      "Optimizer stripped from f:\\GitHub\\table-parser\\runs\\detect\\table_detection4\\weights\\last.pt, 22.5MB\n",
      "Optimizer stripped from f:\\GitHub\\table-parser\\runs\\detect\\table_detection4\\weights\\best.pt, 22.5MB\n",
      "\n",
      "Validating f:\\GitHub\\table-parser\\runs\\detect\\table_detection4\\weights\\best.pt...\n",
      "Ultralytics 8.3.72  Python-3.11.7 torch-2.6.0+cpu CPU (12th Gen Intel Core(TM) i7-12700K)\n",
      "Model summary (fused): 168 layers, 11,126,358 parameters, 0 gradients, 28.4 GFLOPs\n"
     ]
    },
    {
     "name": "stderr",
     "output_type": "stream",
     "text": [
      "                 Class     Images  Instances      Box(P          R      mAP50  mAP50-95): 100%|██████████| 3/3 [00:08<00:00,  2.77s/it]\n"
     ]
    },
    {
     "name": "stdout",
     "output_type": "stream",
     "text": [
      "                   all         70        109      0.933      0.814      0.933      0.873\n",
      "              bordered         18         23          1      0.779      0.957      0.926\n",
      "            borderless         52         86      0.866      0.849      0.908       0.82\n",
      "Speed: 1.5ms preprocess, 112.6ms inference, 0.0ms loss, 0.2ms postprocess per image\n",
      "Results saved to \u001b[1mf:\\GitHub\\table-parser\\runs\\detect\\table_detection4\u001b[0m\n"
     ]
    },
    {
     "data": {
      "text/plain": [
       "ultralytics.utils.metrics.DetMetrics object with attributes:\n",
       "\n",
       "ap_class_index: array([0, 1])\n",
       "box: ultralytics.utils.metrics.Metric object\n",
       "confusion_matrix: <ultralytics.utils.metrics.ConfusionMatrix object at 0x000001B63750F510>\n",
       "curves: ['Precision-Recall(B)', 'F1-Confidence(B)', 'Precision-Confidence(B)', 'Recall-Confidence(B)']\n",
       "curves_results: [[array([          0,    0.001001,    0.002002,    0.003003,    0.004004,    0.005005,    0.006006,    0.007007,    0.008008,    0.009009,     0.01001,    0.011011,    0.012012,    0.013013,    0.014014,    0.015015,    0.016016,    0.017017,    0.018018,    0.019019,     0.02002,    0.021021,    0.022022,    0.023023,\n",
       "          0.024024,    0.025025,    0.026026,    0.027027,    0.028028,    0.029029,     0.03003,    0.031031,    0.032032,    0.033033,    0.034034,    0.035035,    0.036036,    0.037037,    0.038038,    0.039039,     0.04004,    0.041041,    0.042042,    0.043043,    0.044044,    0.045045,    0.046046,    0.047047,\n",
       "          0.048048,    0.049049,     0.05005,    0.051051,    0.052052,    0.053053,    0.054054,    0.055055,    0.056056,    0.057057,    0.058058,    0.059059,     0.06006,    0.061061,    0.062062,    0.063063,    0.064064,    0.065065,    0.066066,    0.067067,    0.068068,    0.069069,     0.07007,    0.071071,\n",
       "          0.072072,    0.073073,    0.074074,    0.075075,    0.076076,    0.077077,    0.078078,    0.079079,     0.08008,    0.081081,    0.082082,    0.083083,    0.084084,    0.085085,    0.086086,    0.087087,    0.088088,    0.089089,     0.09009,    0.091091,    0.092092,    0.093093,    0.094094,    0.095095,\n",
       "          0.096096,    0.097097,    0.098098,    0.099099,      0.1001,      0.1011,      0.1021,      0.1031,      0.1041,     0.10511,     0.10611,     0.10711,     0.10811,     0.10911,     0.11011,     0.11111,     0.11211,     0.11311,     0.11411,     0.11512,     0.11612,     0.11712,     0.11812,     0.11912,\n",
       "           0.12012,     0.12112,     0.12212,     0.12312,     0.12412,     0.12513,     0.12613,     0.12713,     0.12813,     0.12913,     0.13013,     0.13113,     0.13213,     0.13313,     0.13413,     0.13514,     0.13614,     0.13714,     0.13814,     0.13914,     0.14014,     0.14114,     0.14214,     0.14314,\n",
       "           0.14414,     0.14515,     0.14615,     0.14715,     0.14815,     0.14915,     0.15015,     0.15115,     0.15215,     0.15315,     0.15415,     0.15516,     0.15616,     0.15716,     0.15816,     0.15916,     0.16016,     0.16116,     0.16216,     0.16316,     0.16416,     0.16517,     0.16617,     0.16717,\n",
       "           0.16817,     0.16917,     0.17017,     0.17117,     0.17217,     0.17317,     0.17417,     0.17518,     0.17618,     0.17718,     0.17818,     0.17918,     0.18018,     0.18118,     0.18218,     0.18318,     0.18418,     0.18519,     0.18619,     0.18719,     0.18819,     0.18919,     0.19019,     0.19119,\n",
       "           0.19219,     0.19319,     0.19419,      0.1952,      0.1962,      0.1972,      0.1982,      0.1992,      0.2002,      0.2012,      0.2022,      0.2032,      0.2042,     0.20521,     0.20621,     0.20721,     0.20821,     0.20921,     0.21021,     0.21121,     0.21221,     0.21321,     0.21421,     0.21522,\n",
       "           0.21622,     0.21722,     0.21822,     0.21922,     0.22022,     0.22122,     0.22222,     0.22322,     0.22422,     0.22523,     0.22623,     0.22723,     0.22823,     0.22923,     0.23023,     0.23123,     0.23223,     0.23323,     0.23423,     0.23524,     0.23624,     0.23724,     0.23824,     0.23924,\n",
       "           0.24024,     0.24124,     0.24224,     0.24324,     0.24424,     0.24525,     0.24625,     0.24725,     0.24825,     0.24925,     0.25025,     0.25125,     0.25225,     0.25325,     0.25425,     0.25526,     0.25626,     0.25726,     0.25826,     0.25926,     0.26026,     0.26126,     0.26226,     0.26326,\n",
       "           0.26426,     0.26527,     0.26627,     0.26727,     0.26827,     0.26927,     0.27027,     0.27127,     0.27227,     0.27327,     0.27427,     0.27528,     0.27628,     0.27728,     0.27828,     0.27928,     0.28028,     0.28128,     0.28228,     0.28328,     0.28428,     0.28529,     0.28629,     0.28729,\n",
       "           0.28829,     0.28929,     0.29029,     0.29129,     0.29229,     0.29329,     0.29429,      0.2953,      0.2963,      0.2973,      0.2983,      0.2993,      0.3003,      0.3013,      0.3023,      0.3033,      0.3043,     0.30531,     0.30631,     0.30731,     0.30831,     0.30931,     0.31031,     0.31131,\n",
       "           0.31231,     0.31331,     0.31431,     0.31532,     0.31632,     0.31732,     0.31832,     0.31932,     0.32032,     0.32132,     0.32232,     0.32332,     0.32432,     0.32533,     0.32633,     0.32733,     0.32833,     0.32933,     0.33033,     0.33133,     0.33233,     0.33333,     0.33433,     0.33534,\n",
       "           0.33634,     0.33734,     0.33834,     0.33934,     0.34034,     0.34134,     0.34234,     0.34334,     0.34434,     0.34535,     0.34635,     0.34735,     0.34835,     0.34935,     0.35035,     0.35135,     0.35235,     0.35335,     0.35435,     0.35536,     0.35636,     0.35736,     0.35836,     0.35936,\n",
       "           0.36036,     0.36136,     0.36236,     0.36336,     0.36436,     0.36537,     0.36637,     0.36737,     0.36837,     0.36937,     0.37037,     0.37137,     0.37237,     0.37337,     0.37437,     0.37538,     0.37638,     0.37738,     0.37838,     0.37938,     0.38038,     0.38138,     0.38238,     0.38338,\n",
       "           0.38438,     0.38539,     0.38639,     0.38739,     0.38839,     0.38939,     0.39039,     0.39139,     0.39239,     0.39339,     0.39439,      0.3954,      0.3964,      0.3974,      0.3984,      0.3994,      0.4004,      0.4014,      0.4024,      0.4034,      0.4044,     0.40541,     0.40641,     0.40741,\n",
       "           0.40841,     0.40941,     0.41041,     0.41141,     0.41241,     0.41341,     0.41441,     0.41542,     0.41642,     0.41742,     0.41842,     0.41942,     0.42042,     0.42142,     0.42242,     0.42342,     0.42442,     0.42543,     0.42643,     0.42743,     0.42843,     0.42943,     0.43043,     0.43143,\n",
       "           0.43243,     0.43343,     0.43443,     0.43544,     0.43644,     0.43744,     0.43844,     0.43944,     0.44044,     0.44144,     0.44244,     0.44344,     0.44444,     0.44545,     0.44645,     0.44745,     0.44845,     0.44945,     0.45045,     0.45145,     0.45245,     0.45345,     0.45445,     0.45546,\n",
       "           0.45646,     0.45746,     0.45846,     0.45946,     0.46046,     0.46146,     0.46246,     0.46346,     0.46446,     0.46547,     0.46647,     0.46747,     0.46847,     0.46947,     0.47047,     0.47147,     0.47247,     0.47347,     0.47447,     0.47548,     0.47648,     0.47748,     0.47848,     0.47948,\n",
       "           0.48048,     0.48148,     0.48248,     0.48348,     0.48448,     0.48549,     0.48649,     0.48749,     0.48849,     0.48949,     0.49049,     0.49149,     0.49249,     0.49349,     0.49449,      0.4955,      0.4965,      0.4975,      0.4985,      0.4995,      0.5005,      0.5015,      0.5025,      0.5035,\n",
       "            0.5045,     0.50551,     0.50651,     0.50751,     0.50851,     0.50951,     0.51051,     0.51151,     0.51251,     0.51351,     0.51451,     0.51552,     0.51652,     0.51752,     0.51852,     0.51952,     0.52052,     0.52152,     0.52252,     0.52352,     0.52452,     0.52553,     0.52653,     0.52753,\n",
       "           0.52853,     0.52953,     0.53053,     0.53153,     0.53253,     0.53353,     0.53453,     0.53554,     0.53654,     0.53754,     0.53854,     0.53954,     0.54054,     0.54154,     0.54254,     0.54354,     0.54454,     0.54555,     0.54655,     0.54755,     0.54855,     0.54955,     0.55055,     0.55155,\n",
       "           0.55255,     0.55355,     0.55455,     0.55556,     0.55656,     0.55756,     0.55856,     0.55956,     0.56056,     0.56156,     0.56256,     0.56356,     0.56456,     0.56557,     0.56657,     0.56757,     0.56857,     0.56957,     0.57057,     0.57157,     0.57257,     0.57357,     0.57457,     0.57558,\n",
       "           0.57658,     0.57758,     0.57858,     0.57958,     0.58058,     0.58158,     0.58258,     0.58358,     0.58458,     0.58559,     0.58659,     0.58759,     0.58859,     0.58959,     0.59059,     0.59159,     0.59259,     0.59359,     0.59459,      0.5956,      0.5966,      0.5976,      0.5986,      0.5996,\n",
       "            0.6006,      0.6016,      0.6026,      0.6036,      0.6046,     0.60561,     0.60661,     0.60761,     0.60861,     0.60961,     0.61061,     0.61161,     0.61261,     0.61361,     0.61461,     0.61562,     0.61662,     0.61762,     0.61862,     0.61962,     0.62062,     0.62162,     0.62262,     0.62362,\n",
       "           0.62462,     0.62563,     0.62663,     0.62763,     0.62863,     0.62963,     0.63063,     0.63163,     0.63263,     0.63363,     0.63463,     0.63564,     0.63664,     0.63764,     0.63864,     0.63964,     0.64064,     0.64164,     0.64264,     0.64364,     0.64464,     0.64565,     0.64665,     0.64765,\n",
       "           0.64865,     0.64965,     0.65065,     0.65165,     0.65265,     0.65365,     0.65465,     0.65566,     0.65666,     0.65766,     0.65866,     0.65966,     0.66066,     0.66166,     0.66266,     0.66366,     0.66466,     0.66567,     0.66667,     0.66767,     0.66867,     0.66967,     0.67067,     0.67167,\n",
       "           0.67267,     0.67367,     0.67467,     0.67568,     0.67668,     0.67768,     0.67868,     0.67968,     0.68068,     0.68168,     0.68268,     0.68368,     0.68468,     0.68569,     0.68669,     0.68769,     0.68869,     0.68969,     0.69069,     0.69169,     0.69269,     0.69369,     0.69469,      0.6957,\n",
       "            0.6967,      0.6977,      0.6987,      0.6997,      0.7007,      0.7017,      0.7027,      0.7037,      0.7047,     0.70571,     0.70671,     0.70771,     0.70871,     0.70971,     0.71071,     0.71171,     0.71271,     0.71371,     0.71471,     0.71572,     0.71672,     0.71772,     0.71872,     0.71972,\n",
       "           0.72072,     0.72172,     0.72272,     0.72372,     0.72472,     0.72573,     0.72673,     0.72773,     0.72873,     0.72973,     0.73073,     0.73173,     0.73273,     0.73373,     0.73473,     0.73574,     0.73674,     0.73774,     0.73874,     0.73974,     0.74074,     0.74174,     0.74274,     0.74374,\n",
       "           0.74474,     0.74575,     0.74675,     0.74775,     0.74875,     0.74975,     0.75075,     0.75175,     0.75275,     0.75375,     0.75475,     0.75576,     0.75676,     0.75776,     0.75876,     0.75976,     0.76076,     0.76176,     0.76276,     0.76376,     0.76476,     0.76577,     0.76677,     0.76777,\n",
       "           0.76877,     0.76977,     0.77077,     0.77177,     0.77277,     0.77377,     0.77477,     0.77578,     0.77678,     0.77778,     0.77878,     0.77978,     0.78078,     0.78178,     0.78278,     0.78378,     0.78478,     0.78579,     0.78679,     0.78779,     0.78879,     0.78979,     0.79079,     0.79179,\n",
       "           0.79279,     0.79379,     0.79479,      0.7958,      0.7968,      0.7978,      0.7988,      0.7998,      0.8008,      0.8018,      0.8028,      0.8038,      0.8048,     0.80581,     0.80681,     0.80781,     0.80881,     0.80981,     0.81081,     0.81181,     0.81281,     0.81381,     0.81481,     0.81582,\n",
       "           0.81682,     0.81782,     0.81882,     0.81982,     0.82082,     0.82182,     0.82282,     0.82382,     0.82482,     0.82583,     0.82683,     0.82783,     0.82883,     0.82983,     0.83083,     0.83183,     0.83283,     0.83383,     0.83483,     0.83584,     0.83684,     0.83784,     0.83884,     0.83984,\n",
       "           0.84084,     0.84184,     0.84284,     0.84384,     0.84484,     0.84585,     0.84685,     0.84785,     0.84885,     0.84985,     0.85085,     0.85185,     0.85285,     0.85385,     0.85485,     0.85586,     0.85686,     0.85786,     0.85886,     0.85986,     0.86086,     0.86186,     0.86286,     0.86386,\n",
       "           0.86486,     0.86587,     0.86687,     0.86787,     0.86887,     0.86987,     0.87087,     0.87187,     0.87287,     0.87387,     0.87487,     0.87588,     0.87688,     0.87788,     0.87888,     0.87988,     0.88088,     0.88188,     0.88288,     0.88388,     0.88488,     0.88589,     0.88689,     0.88789,\n",
       "           0.88889,     0.88989,     0.89089,     0.89189,     0.89289,     0.89389,     0.89489,      0.8959,      0.8969,      0.8979,      0.8989,      0.8999,      0.9009,      0.9019,      0.9029,      0.9039,      0.9049,     0.90591,     0.90691,     0.90791,     0.90891,     0.90991,     0.91091,     0.91191,\n",
       "           0.91291,     0.91391,     0.91491,     0.91592,     0.91692,     0.91792,     0.91892,     0.91992,     0.92092,     0.92192,     0.92292,     0.92392,     0.92492,     0.92593,     0.92693,     0.92793,     0.92893,     0.92993,     0.93093,     0.93193,     0.93293,     0.93393,     0.93493,     0.93594,\n",
       "           0.93694,     0.93794,     0.93894,     0.93994,     0.94094,     0.94194,     0.94294,     0.94394,     0.94494,     0.94595,     0.94695,     0.94795,     0.94895,     0.94995,     0.95095,     0.95195,     0.95295,     0.95395,     0.95495,     0.95596,     0.95696,     0.95796,     0.95896,     0.95996,\n",
       "           0.96096,     0.96196,     0.96296,     0.96396,     0.96496,     0.96597,     0.96697,     0.96797,     0.96897,     0.96997,     0.97097,     0.97197,     0.97297,     0.97397,     0.97497,     0.97598,     0.97698,     0.97798,     0.97898,     0.97998,     0.98098,     0.98198,     0.98298,     0.98398,\n",
       "           0.98498,     0.98599,     0.98699,     0.98799,     0.98899,     0.98999,     0.99099,     0.99199,     0.99299,     0.99399,     0.99499,       0.996,       0.997,       0.998,       0.999,           1]), array([[          1,           1,           1, ...,     0.69697,     0.69697,           0],\n",
       "       [          1,           1,           1, ...,    0.025337,    0.012669,           0]]), 'Recall', 'Precision'], [array([          0,    0.001001,    0.002002,    0.003003,    0.004004,    0.005005,    0.006006,    0.007007,    0.008008,    0.009009,     0.01001,    0.011011,    0.012012,    0.013013,    0.014014,    0.015015,    0.016016,    0.017017,    0.018018,    0.019019,     0.02002,    0.021021,    0.022022,    0.023023,\n",
       "          0.024024,    0.025025,    0.026026,    0.027027,    0.028028,    0.029029,     0.03003,    0.031031,    0.032032,    0.033033,    0.034034,    0.035035,    0.036036,    0.037037,    0.038038,    0.039039,     0.04004,    0.041041,    0.042042,    0.043043,    0.044044,    0.045045,    0.046046,    0.047047,\n",
       "          0.048048,    0.049049,     0.05005,    0.051051,    0.052052,    0.053053,    0.054054,    0.055055,    0.056056,    0.057057,    0.058058,    0.059059,     0.06006,    0.061061,    0.062062,    0.063063,    0.064064,    0.065065,    0.066066,    0.067067,    0.068068,    0.069069,     0.07007,    0.071071,\n",
       "          0.072072,    0.073073,    0.074074,    0.075075,    0.076076,    0.077077,    0.078078,    0.079079,     0.08008,    0.081081,    0.082082,    0.083083,    0.084084,    0.085085,    0.086086,    0.087087,    0.088088,    0.089089,     0.09009,    0.091091,    0.092092,    0.093093,    0.094094,    0.095095,\n",
       "          0.096096,    0.097097,    0.098098,    0.099099,      0.1001,      0.1011,      0.1021,      0.1031,      0.1041,     0.10511,     0.10611,     0.10711,     0.10811,     0.10911,     0.11011,     0.11111,     0.11211,     0.11311,     0.11411,     0.11512,     0.11612,     0.11712,     0.11812,     0.11912,\n",
       "           0.12012,     0.12112,     0.12212,     0.12312,     0.12412,     0.12513,     0.12613,     0.12713,     0.12813,     0.12913,     0.13013,     0.13113,     0.13213,     0.13313,     0.13413,     0.13514,     0.13614,     0.13714,     0.13814,     0.13914,     0.14014,     0.14114,     0.14214,     0.14314,\n",
       "           0.14414,     0.14515,     0.14615,     0.14715,     0.14815,     0.14915,     0.15015,     0.15115,     0.15215,     0.15315,     0.15415,     0.15516,     0.15616,     0.15716,     0.15816,     0.15916,     0.16016,     0.16116,     0.16216,     0.16316,     0.16416,     0.16517,     0.16617,     0.16717,\n",
       "           0.16817,     0.16917,     0.17017,     0.17117,     0.17217,     0.17317,     0.17417,     0.17518,     0.17618,     0.17718,     0.17818,     0.17918,     0.18018,     0.18118,     0.18218,     0.18318,     0.18418,     0.18519,     0.18619,     0.18719,     0.18819,     0.18919,     0.19019,     0.19119,\n",
       "           0.19219,     0.19319,     0.19419,      0.1952,      0.1962,      0.1972,      0.1982,      0.1992,      0.2002,      0.2012,      0.2022,      0.2032,      0.2042,     0.20521,     0.20621,     0.20721,     0.20821,     0.20921,     0.21021,     0.21121,     0.21221,     0.21321,     0.21421,     0.21522,\n",
       "           0.21622,     0.21722,     0.21822,     0.21922,     0.22022,     0.22122,     0.22222,     0.22322,     0.22422,     0.22523,     0.22623,     0.22723,     0.22823,     0.22923,     0.23023,     0.23123,     0.23223,     0.23323,     0.23423,     0.23524,     0.23624,     0.23724,     0.23824,     0.23924,\n",
       "           0.24024,     0.24124,     0.24224,     0.24324,     0.24424,     0.24525,     0.24625,     0.24725,     0.24825,     0.24925,     0.25025,     0.25125,     0.25225,     0.25325,     0.25425,     0.25526,     0.25626,     0.25726,     0.25826,     0.25926,     0.26026,     0.26126,     0.26226,     0.26326,\n",
       "           0.26426,     0.26527,     0.26627,     0.26727,     0.26827,     0.26927,     0.27027,     0.27127,     0.27227,     0.27327,     0.27427,     0.27528,     0.27628,     0.27728,     0.27828,     0.27928,     0.28028,     0.28128,     0.28228,     0.28328,     0.28428,     0.28529,     0.28629,     0.28729,\n",
       "           0.28829,     0.28929,     0.29029,     0.29129,     0.29229,     0.29329,     0.29429,      0.2953,      0.2963,      0.2973,      0.2983,      0.2993,      0.3003,      0.3013,      0.3023,      0.3033,      0.3043,     0.30531,     0.30631,     0.30731,     0.30831,     0.30931,     0.31031,     0.31131,\n",
       "           0.31231,     0.31331,     0.31431,     0.31532,     0.31632,     0.31732,     0.31832,     0.31932,     0.32032,     0.32132,     0.32232,     0.32332,     0.32432,     0.32533,     0.32633,     0.32733,     0.32833,     0.32933,     0.33033,     0.33133,     0.33233,     0.33333,     0.33433,     0.33534,\n",
       "           0.33634,     0.33734,     0.33834,     0.33934,     0.34034,     0.34134,     0.34234,     0.34334,     0.34434,     0.34535,     0.34635,     0.34735,     0.34835,     0.34935,     0.35035,     0.35135,     0.35235,     0.35335,     0.35435,     0.35536,     0.35636,     0.35736,     0.35836,     0.35936,\n",
       "           0.36036,     0.36136,     0.36236,     0.36336,     0.36436,     0.36537,     0.36637,     0.36737,     0.36837,     0.36937,     0.37037,     0.37137,     0.37237,     0.37337,     0.37437,     0.37538,     0.37638,     0.37738,     0.37838,     0.37938,     0.38038,     0.38138,     0.38238,     0.38338,\n",
       "           0.38438,     0.38539,     0.38639,     0.38739,     0.38839,     0.38939,     0.39039,     0.39139,     0.39239,     0.39339,     0.39439,      0.3954,      0.3964,      0.3974,      0.3984,      0.3994,      0.4004,      0.4014,      0.4024,      0.4034,      0.4044,     0.40541,     0.40641,     0.40741,\n",
       "           0.40841,     0.40941,     0.41041,     0.41141,     0.41241,     0.41341,     0.41441,     0.41542,     0.41642,     0.41742,     0.41842,     0.41942,     0.42042,     0.42142,     0.42242,     0.42342,     0.42442,     0.42543,     0.42643,     0.42743,     0.42843,     0.42943,     0.43043,     0.43143,\n",
       "           0.43243,     0.43343,     0.43443,     0.43544,     0.43644,     0.43744,     0.43844,     0.43944,     0.44044,     0.44144,     0.44244,     0.44344,     0.44444,     0.44545,     0.44645,     0.44745,     0.44845,     0.44945,     0.45045,     0.45145,     0.45245,     0.45345,     0.45445,     0.45546,\n",
       "           0.45646,     0.45746,     0.45846,     0.45946,     0.46046,     0.46146,     0.46246,     0.46346,     0.46446,     0.46547,     0.46647,     0.46747,     0.46847,     0.46947,     0.47047,     0.47147,     0.47247,     0.47347,     0.47447,     0.47548,     0.47648,     0.47748,     0.47848,     0.47948,\n",
       "           0.48048,     0.48148,     0.48248,     0.48348,     0.48448,     0.48549,     0.48649,     0.48749,     0.48849,     0.48949,     0.49049,     0.49149,     0.49249,     0.49349,     0.49449,      0.4955,      0.4965,      0.4975,      0.4985,      0.4995,      0.5005,      0.5015,      0.5025,      0.5035,\n",
       "            0.5045,     0.50551,     0.50651,     0.50751,     0.50851,     0.50951,     0.51051,     0.51151,     0.51251,     0.51351,     0.51451,     0.51552,     0.51652,     0.51752,     0.51852,     0.51952,     0.52052,     0.52152,     0.52252,     0.52352,     0.52452,     0.52553,     0.52653,     0.52753,\n",
       "           0.52853,     0.52953,     0.53053,     0.53153,     0.53253,     0.53353,     0.53453,     0.53554,     0.53654,     0.53754,     0.53854,     0.53954,     0.54054,     0.54154,     0.54254,     0.54354,     0.54454,     0.54555,     0.54655,     0.54755,     0.54855,     0.54955,     0.55055,     0.55155,\n",
       "           0.55255,     0.55355,     0.55455,     0.55556,     0.55656,     0.55756,     0.55856,     0.55956,     0.56056,     0.56156,     0.56256,     0.56356,     0.56456,     0.56557,     0.56657,     0.56757,     0.56857,     0.56957,     0.57057,     0.57157,     0.57257,     0.57357,     0.57457,     0.57558,\n",
       "           0.57658,     0.57758,     0.57858,     0.57958,     0.58058,     0.58158,     0.58258,     0.58358,     0.58458,     0.58559,     0.58659,     0.58759,     0.58859,     0.58959,     0.59059,     0.59159,     0.59259,     0.59359,     0.59459,      0.5956,      0.5966,      0.5976,      0.5986,      0.5996,\n",
       "            0.6006,      0.6016,      0.6026,      0.6036,      0.6046,     0.60561,     0.60661,     0.60761,     0.60861,     0.60961,     0.61061,     0.61161,     0.61261,     0.61361,     0.61461,     0.61562,     0.61662,     0.61762,     0.61862,     0.61962,     0.62062,     0.62162,     0.62262,     0.62362,\n",
       "           0.62462,     0.62563,     0.62663,     0.62763,     0.62863,     0.62963,     0.63063,     0.63163,     0.63263,     0.63363,     0.63463,     0.63564,     0.63664,     0.63764,     0.63864,     0.63964,     0.64064,     0.64164,     0.64264,     0.64364,     0.64464,     0.64565,     0.64665,     0.64765,\n",
       "           0.64865,     0.64965,     0.65065,     0.65165,     0.65265,     0.65365,     0.65465,     0.65566,     0.65666,     0.65766,     0.65866,     0.65966,     0.66066,     0.66166,     0.66266,     0.66366,     0.66466,     0.66567,     0.66667,     0.66767,     0.66867,     0.66967,     0.67067,     0.67167,\n",
       "           0.67267,     0.67367,     0.67467,     0.67568,     0.67668,     0.67768,     0.67868,     0.67968,     0.68068,     0.68168,     0.68268,     0.68368,     0.68468,     0.68569,     0.68669,     0.68769,     0.68869,     0.68969,     0.69069,     0.69169,     0.69269,     0.69369,     0.69469,      0.6957,\n",
       "            0.6967,      0.6977,      0.6987,      0.6997,      0.7007,      0.7017,      0.7027,      0.7037,      0.7047,     0.70571,     0.70671,     0.70771,     0.70871,     0.70971,     0.71071,     0.71171,     0.71271,     0.71371,     0.71471,     0.71572,     0.71672,     0.71772,     0.71872,     0.71972,\n",
       "           0.72072,     0.72172,     0.72272,     0.72372,     0.72472,     0.72573,     0.72673,     0.72773,     0.72873,     0.72973,     0.73073,     0.73173,     0.73273,     0.73373,     0.73473,     0.73574,     0.73674,     0.73774,     0.73874,     0.73974,     0.74074,     0.74174,     0.74274,     0.74374,\n",
       "           0.74474,     0.74575,     0.74675,     0.74775,     0.74875,     0.74975,     0.75075,     0.75175,     0.75275,     0.75375,     0.75475,     0.75576,     0.75676,     0.75776,     0.75876,     0.75976,     0.76076,     0.76176,     0.76276,     0.76376,     0.76476,     0.76577,     0.76677,     0.76777,\n",
       "           0.76877,     0.76977,     0.77077,     0.77177,     0.77277,     0.77377,     0.77477,     0.77578,     0.77678,     0.77778,     0.77878,     0.77978,     0.78078,     0.78178,     0.78278,     0.78378,     0.78478,     0.78579,     0.78679,     0.78779,     0.78879,     0.78979,     0.79079,     0.79179,\n",
       "           0.79279,     0.79379,     0.79479,      0.7958,      0.7968,      0.7978,      0.7988,      0.7998,      0.8008,      0.8018,      0.8028,      0.8038,      0.8048,     0.80581,     0.80681,     0.80781,     0.80881,     0.80981,     0.81081,     0.81181,     0.81281,     0.81381,     0.81481,     0.81582,\n",
       "           0.81682,     0.81782,     0.81882,     0.81982,     0.82082,     0.82182,     0.82282,     0.82382,     0.82482,     0.82583,     0.82683,     0.82783,     0.82883,     0.82983,     0.83083,     0.83183,     0.83283,     0.83383,     0.83483,     0.83584,     0.83684,     0.83784,     0.83884,     0.83984,\n",
       "           0.84084,     0.84184,     0.84284,     0.84384,     0.84484,     0.84585,     0.84685,     0.84785,     0.84885,     0.84985,     0.85085,     0.85185,     0.85285,     0.85385,     0.85485,     0.85586,     0.85686,     0.85786,     0.85886,     0.85986,     0.86086,     0.86186,     0.86286,     0.86386,\n",
       "           0.86486,     0.86587,     0.86687,     0.86787,     0.86887,     0.86987,     0.87087,     0.87187,     0.87287,     0.87387,     0.87487,     0.87588,     0.87688,     0.87788,     0.87888,     0.87988,     0.88088,     0.88188,     0.88288,     0.88388,     0.88488,     0.88589,     0.88689,     0.88789,\n",
       "           0.88889,     0.88989,     0.89089,     0.89189,     0.89289,     0.89389,     0.89489,      0.8959,      0.8969,      0.8979,      0.8989,      0.8999,      0.9009,      0.9019,      0.9029,      0.9039,      0.9049,     0.90591,     0.90691,     0.90791,     0.90891,     0.90991,     0.91091,     0.91191,\n",
       "           0.91291,     0.91391,     0.91491,     0.91592,     0.91692,     0.91792,     0.91892,     0.91992,     0.92092,     0.92192,     0.92292,     0.92392,     0.92492,     0.92593,     0.92693,     0.92793,     0.92893,     0.92993,     0.93093,     0.93193,     0.93293,     0.93393,     0.93493,     0.93594,\n",
       "           0.93694,     0.93794,     0.93894,     0.93994,     0.94094,     0.94194,     0.94294,     0.94394,     0.94494,     0.94595,     0.94695,     0.94795,     0.94895,     0.94995,     0.95095,     0.95195,     0.95295,     0.95395,     0.95495,     0.95596,     0.95696,     0.95796,     0.95896,     0.95996,\n",
       "           0.96096,     0.96196,     0.96296,     0.96396,     0.96496,     0.96597,     0.96697,     0.96797,     0.96897,     0.96997,     0.97097,     0.97197,     0.97297,     0.97397,     0.97497,     0.97598,     0.97698,     0.97798,     0.97898,     0.97998,     0.98098,     0.98198,     0.98298,     0.98398,\n",
       "           0.98498,     0.98599,     0.98699,     0.98799,     0.98899,     0.98999,     0.99099,     0.99199,     0.99299,     0.99399,     0.99499,       0.996,       0.997,       0.998,       0.999,           1]), array([[    0.33333,     0.33333,     0.40878, ...,           0,           0,           0],\n",
       "       [    0.60584,     0.60584,     0.67919, ...,           0,           0,           0]]), 'Confidence', 'F1'], [array([          0,    0.001001,    0.002002,    0.003003,    0.004004,    0.005005,    0.006006,    0.007007,    0.008008,    0.009009,     0.01001,    0.011011,    0.012012,    0.013013,    0.014014,    0.015015,    0.016016,    0.017017,    0.018018,    0.019019,     0.02002,    0.021021,    0.022022,    0.023023,\n",
       "          0.024024,    0.025025,    0.026026,    0.027027,    0.028028,    0.029029,     0.03003,    0.031031,    0.032032,    0.033033,    0.034034,    0.035035,    0.036036,    0.037037,    0.038038,    0.039039,     0.04004,    0.041041,    0.042042,    0.043043,    0.044044,    0.045045,    0.046046,    0.047047,\n",
       "          0.048048,    0.049049,     0.05005,    0.051051,    0.052052,    0.053053,    0.054054,    0.055055,    0.056056,    0.057057,    0.058058,    0.059059,     0.06006,    0.061061,    0.062062,    0.063063,    0.064064,    0.065065,    0.066066,    0.067067,    0.068068,    0.069069,     0.07007,    0.071071,\n",
       "          0.072072,    0.073073,    0.074074,    0.075075,    0.076076,    0.077077,    0.078078,    0.079079,     0.08008,    0.081081,    0.082082,    0.083083,    0.084084,    0.085085,    0.086086,    0.087087,    0.088088,    0.089089,     0.09009,    0.091091,    0.092092,    0.093093,    0.094094,    0.095095,\n",
       "          0.096096,    0.097097,    0.098098,    0.099099,      0.1001,      0.1011,      0.1021,      0.1031,      0.1041,     0.10511,     0.10611,     0.10711,     0.10811,     0.10911,     0.11011,     0.11111,     0.11211,     0.11311,     0.11411,     0.11512,     0.11612,     0.11712,     0.11812,     0.11912,\n",
       "           0.12012,     0.12112,     0.12212,     0.12312,     0.12412,     0.12513,     0.12613,     0.12713,     0.12813,     0.12913,     0.13013,     0.13113,     0.13213,     0.13313,     0.13413,     0.13514,     0.13614,     0.13714,     0.13814,     0.13914,     0.14014,     0.14114,     0.14214,     0.14314,\n",
       "           0.14414,     0.14515,     0.14615,     0.14715,     0.14815,     0.14915,     0.15015,     0.15115,     0.15215,     0.15315,     0.15415,     0.15516,     0.15616,     0.15716,     0.15816,     0.15916,     0.16016,     0.16116,     0.16216,     0.16316,     0.16416,     0.16517,     0.16617,     0.16717,\n",
       "           0.16817,     0.16917,     0.17017,     0.17117,     0.17217,     0.17317,     0.17417,     0.17518,     0.17618,     0.17718,     0.17818,     0.17918,     0.18018,     0.18118,     0.18218,     0.18318,     0.18418,     0.18519,     0.18619,     0.18719,     0.18819,     0.18919,     0.19019,     0.19119,\n",
       "           0.19219,     0.19319,     0.19419,      0.1952,      0.1962,      0.1972,      0.1982,      0.1992,      0.2002,      0.2012,      0.2022,      0.2032,      0.2042,     0.20521,     0.20621,     0.20721,     0.20821,     0.20921,     0.21021,     0.21121,     0.21221,     0.21321,     0.21421,     0.21522,\n",
       "           0.21622,     0.21722,     0.21822,     0.21922,     0.22022,     0.22122,     0.22222,     0.22322,     0.22422,     0.22523,     0.22623,     0.22723,     0.22823,     0.22923,     0.23023,     0.23123,     0.23223,     0.23323,     0.23423,     0.23524,     0.23624,     0.23724,     0.23824,     0.23924,\n",
       "           0.24024,     0.24124,     0.24224,     0.24324,     0.24424,     0.24525,     0.24625,     0.24725,     0.24825,     0.24925,     0.25025,     0.25125,     0.25225,     0.25325,     0.25425,     0.25526,     0.25626,     0.25726,     0.25826,     0.25926,     0.26026,     0.26126,     0.26226,     0.26326,\n",
       "           0.26426,     0.26527,     0.26627,     0.26727,     0.26827,     0.26927,     0.27027,     0.27127,     0.27227,     0.27327,     0.27427,     0.27528,     0.27628,     0.27728,     0.27828,     0.27928,     0.28028,     0.28128,     0.28228,     0.28328,     0.28428,     0.28529,     0.28629,     0.28729,\n",
       "           0.28829,     0.28929,     0.29029,     0.29129,     0.29229,     0.29329,     0.29429,      0.2953,      0.2963,      0.2973,      0.2983,      0.2993,      0.3003,      0.3013,      0.3023,      0.3033,      0.3043,     0.30531,     0.30631,     0.30731,     0.30831,     0.30931,     0.31031,     0.31131,\n",
       "           0.31231,     0.31331,     0.31431,     0.31532,     0.31632,     0.31732,     0.31832,     0.31932,     0.32032,     0.32132,     0.32232,     0.32332,     0.32432,     0.32533,     0.32633,     0.32733,     0.32833,     0.32933,     0.33033,     0.33133,     0.33233,     0.33333,     0.33433,     0.33534,\n",
       "           0.33634,     0.33734,     0.33834,     0.33934,     0.34034,     0.34134,     0.34234,     0.34334,     0.34434,     0.34535,     0.34635,     0.34735,     0.34835,     0.34935,     0.35035,     0.35135,     0.35235,     0.35335,     0.35435,     0.35536,     0.35636,     0.35736,     0.35836,     0.35936,\n",
       "           0.36036,     0.36136,     0.36236,     0.36336,     0.36436,     0.36537,     0.36637,     0.36737,     0.36837,     0.36937,     0.37037,     0.37137,     0.37237,     0.37337,     0.37437,     0.37538,     0.37638,     0.37738,     0.37838,     0.37938,     0.38038,     0.38138,     0.38238,     0.38338,\n",
       "           0.38438,     0.38539,     0.38639,     0.38739,     0.38839,     0.38939,     0.39039,     0.39139,     0.39239,     0.39339,     0.39439,      0.3954,      0.3964,      0.3974,      0.3984,      0.3994,      0.4004,      0.4014,      0.4024,      0.4034,      0.4044,     0.40541,     0.40641,     0.40741,\n",
       "           0.40841,     0.40941,     0.41041,     0.41141,     0.41241,     0.41341,     0.41441,     0.41542,     0.41642,     0.41742,     0.41842,     0.41942,     0.42042,     0.42142,     0.42242,     0.42342,     0.42442,     0.42543,     0.42643,     0.42743,     0.42843,     0.42943,     0.43043,     0.43143,\n",
       "           0.43243,     0.43343,     0.43443,     0.43544,     0.43644,     0.43744,     0.43844,     0.43944,     0.44044,     0.44144,     0.44244,     0.44344,     0.44444,     0.44545,     0.44645,     0.44745,     0.44845,     0.44945,     0.45045,     0.45145,     0.45245,     0.45345,     0.45445,     0.45546,\n",
       "           0.45646,     0.45746,     0.45846,     0.45946,     0.46046,     0.46146,     0.46246,     0.46346,     0.46446,     0.46547,     0.46647,     0.46747,     0.46847,     0.46947,     0.47047,     0.47147,     0.47247,     0.47347,     0.47447,     0.47548,     0.47648,     0.47748,     0.47848,     0.47948,\n",
       "           0.48048,     0.48148,     0.48248,     0.48348,     0.48448,     0.48549,     0.48649,     0.48749,     0.48849,     0.48949,     0.49049,     0.49149,     0.49249,     0.49349,     0.49449,      0.4955,      0.4965,      0.4975,      0.4985,      0.4995,      0.5005,      0.5015,      0.5025,      0.5035,\n",
       "            0.5045,     0.50551,     0.50651,     0.50751,     0.50851,     0.50951,     0.51051,     0.51151,     0.51251,     0.51351,     0.51451,     0.51552,     0.51652,     0.51752,     0.51852,     0.51952,     0.52052,     0.52152,     0.52252,     0.52352,     0.52452,     0.52553,     0.52653,     0.52753,\n",
       "           0.52853,     0.52953,     0.53053,     0.53153,     0.53253,     0.53353,     0.53453,     0.53554,     0.53654,     0.53754,     0.53854,     0.53954,     0.54054,     0.54154,     0.54254,     0.54354,     0.54454,     0.54555,     0.54655,     0.54755,     0.54855,     0.54955,     0.55055,     0.55155,\n",
       "           0.55255,     0.55355,     0.55455,     0.55556,     0.55656,     0.55756,     0.55856,     0.55956,     0.56056,     0.56156,     0.56256,     0.56356,     0.56456,     0.56557,     0.56657,     0.56757,     0.56857,     0.56957,     0.57057,     0.57157,     0.57257,     0.57357,     0.57457,     0.57558,\n",
       "           0.57658,     0.57758,     0.57858,     0.57958,     0.58058,     0.58158,     0.58258,     0.58358,     0.58458,     0.58559,     0.58659,     0.58759,     0.58859,     0.58959,     0.59059,     0.59159,     0.59259,     0.59359,     0.59459,      0.5956,      0.5966,      0.5976,      0.5986,      0.5996,\n",
       "            0.6006,      0.6016,      0.6026,      0.6036,      0.6046,     0.60561,     0.60661,     0.60761,     0.60861,     0.60961,     0.61061,     0.61161,     0.61261,     0.61361,     0.61461,     0.61562,     0.61662,     0.61762,     0.61862,     0.61962,     0.62062,     0.62162,     0.62262,     0.62362,\n",
       "           0.62462,     0.62563,     0.62663,     0.62763,     0.62863,     0.62963,     0.63063,     0.63163,     0.63263,     0.63363,     0.63463,     0.63564,     0.63664,     0.63764,     0.63864,     0.63964,     0.64064,     0.64164,     0.64264,     0.64364,     0.64464,     0.64565,     0.64665,     0.64765,\n",
       "           0.64865,     0.64965,     0.65065,     0.65165,     0.65265,     0.65365,     0.65465,     0.65566,     0.65666,     0.65766,     0.65866,     0.65966,     0.66066,     0.66166,     0.66266,     0.66366,     0.66466,     0.66567,     0.66667,     0.66767,     0.66867,     0.66967,     0.67067,     0.67167,\n",
       "           0.67267,     0.67367,     0.67467,     0.67568,     0.67668,     0.67768,     0.67868,     0.67968,     0.68068,     0.68168,     0.68268,     0.68368,     0.68468,     0.68569,     0.68669,     0.68769,     0.68869,     0.68969,     0.69069,     0.69169,     0.69269,     0.69369,     0.69469,      0.6957,\n",
       "            0.6967,      0.6977,      0.6987,      0.6997,      0.7007,      0.7017,      0.7027,      0.7037,      0.7047,     0.70571,     0.70671,     0.70771,     0.70871,     0.70971,     0.71071,     0.71171,     0.71271,     0.71371,     0.71471,     0.71572,     0.71672,     0.71772,     0.71872,     0.71972,\n",
       "           0.72072,     0.72172,     0.72272,     0.72372,     0.72472,     0.72573,     0.72673,     0.72773,     0.72873,     0.72973,     0.73073,     0.73173,     0.73273,     0.73373,     0.73473,     0.73574,     0.73674,     0.73774,     0.73874,     0.73974,     0.74074,     0.74174,     0.74274,     0.74374,\n",
       "           0.74474,     0.74575,     0.74675,     0.74775,     0.74875,     0.74975,     0.75075,     0.75175,     0.75275,     0.75375,     0.75475,     0.75576,     0.75676,     0.75776,     0.75876,     0.75976,     0.76076,     0.76176,     0.76276,     0.76376,     0.76476,     0.76577,     0.76677,     0.76777,\n",
       "           0.76877,     0.76977,     0.77077,     0.77177,     0.77277,     0.77377,     0.77477,     0.77578,     0.77678,     0.77778,     0.77878,     0.77978,     0.78078,     0.78178,     0.78278,     0.78378,     0.78478,     0.78579,     0.78679,     0.78779,     0.78879,     0.78979,     0.79079,     0.79179,\n",
       "           0.79279,     0.79379,     0.79479,      0.7958,      0.7968,      0.7978,      0.7988,      0.7998,      0.8008,      0.8018,      0.8028,      0.8038,      0.8048,     0.80581,     0.80681,     0.80781,     0.80881,     0.80981,     0.81081,     0.81181,     0.81281,     0.81381,     0.81481,     0.81582,\n",
       "           0.81682,     0.81782,     0.81882,     0.81982,     0.82082,     0.82182,     0.82282,     0.82382,     0.82482,     0.82583,     0.82683,     0.82783,     0.82883,     0.82983,     0.83083,     0.83183,     0.83283,     0.83383,     0.83483,     0.83584,     0.83684,     0.83784,     0.83884,     0.83984,\n",
       "           0.84084,     0.84184,     0.84284,     0.84384,     0.84484,     0.84585,     0.84685,     0.84785,     0.84885,     0.84985,     0.85085,     0.85185,     0.85285,     0.85385,     0.85485,     0.85586,     0.85686,     0.85786,     0.85886,     0.85986,     0.86086,     0.86186,     0.86286,     0.86386,\n",
       "           0.86486,     0.86587,     0.86687,     0.86787,     0.86887,     0.86987,     0.87087,     0.87187,     0.87287,     0.87387,     0.87487,     0.87588,     0.87688,     0.87788,     0.87888,     0.87988,     0.88088,     0.88188,     0.88288,     0.88388,     0.88488,     0.88589,     0.88689,     0.88789,\n",
       "           0.88889,     0.88989,     0.89089,     0.89189,     0.89289,     0.89389,     0.89489,      0.8959,      0.8969,      0.8979,      0.8989,      0.8999,      0.9009,      0.9019,      0.9029,      0.9039,      0.9049,     0.90591,     0.90691,     0.90791,     0.90891,     0.90991,     0.91091,     0.91191,\n",
       "           0.91291,     0.91391,     0.91491,     0.91592,     0.91692,     0.91792,     0.91892,     0.91992,     0.92092,     0.92192,     0.92292,     0.92392,     0.92492,     0.92593,     0.92693,     0.92793,     0.92893,     0.92993,     0.93093,     0.93193,     0.93293,     0.93393,     0.93493,     0.93594,\n",
       "           0.93694,     0.93794,     0.93894,     0.93994,     0.94094,     0.94194,     0.94294,     0.94394,     0.94494,     0.94595,     0.94695,     0.94795,     0.94895,     0.94995,     0.95095,     0.95195,     0.95295,     0.95395,     0.95495,     0.95596,     0.95696,     0.95796,     0.95896,     0.95996,\n",
       "           0.96096,     0.96196,     0.96296,     0.96396,     0.96496,     0.96597,     0.96697,     0.96797,     0.96897,     0.96997,     0.97097,     0.97197,     0.97297,     0.97397,     0.97497,     0.97598,     0.97698,     0.97798,     0.97898,     0.97998,     0.98098,     0.98198,     0.98298,     0.98398,\n",
       "           0.98498,     0.98599,     0.98699,     0.98799,     0.98899,     0.98999,     0.99099,     0.99199,     0.99299,     0.99399,     0.99499,       0.996,       0.997,       0.998,       0.999,           1]), array([[        0.2,         0.2,      0.2569, ...,           1,           1,           1],\n",
       "       [    0.44149,     0.44149,     0.52745, ...,           1,           1,           1]]), 'Confidence', 'Precision'], [array([          0,    0.001001,    0.002002,    0.003003,    0.004004,    0.005005,    0.006006,    0.007007,    0.008008,    0.009009,     0.01001,    0.011011,    0.012012,    0.013013,    0.014014,    0.015015,    0.016016,    0.017017,    0.018018,    0.019019,     0.02002,    0.021021,    0.022022,    0.023023,\n",
       "          0.024024,    0.025025,    0.026026,    0.027027,    0.028028,    0.029029,     0.03003,    0.031031,    0.032032,    0.033033,    0.034034,    0.035035,    0.036036,    0.037037,    0.038038,    0.039039,     0.04004,    0.041041,    0.042042,    0.043043,    0.044044,    0.045045,    0.046046,    0.047047,\n",
       "          0.048048,    0.049049,     0.05005,    0.051051,    0.052052,    0.053053,    0.054054,    0.055055,    0.056056,    0.057057,    0.058058,    0.059059,     0.06006,    0.061061,    0.062062,    0.063063,    0.064064,    0.065065,    0.066066,    0.067067,    0.068068,    0.069069,     0.07007,    0.071071,\n",
       "          0.072072,    0.073073,    0.074074,    0.075075,    0.076076,    0.077077,    0.078078,    0.079079,     0.08008,    0.081081,    0.082082,    0.083083,    0.084084,    0.085085,    0.086086,    0.087087,    0.088088,    0.089089,     0.09009,    0.091091,    0.092092,    0.093093,    0.094094,    0.095095,\n",
       "          0.096096,    0.097097,    0.098098,    0.099099,      0.1001,      0.1011,      0.1021,      0.1031,      0.1041,     0.10511,     0.10611,     0.10711,     0.10811,     0.10911,     0.11011,     0.11111,     0.11211,     0.11311,     0.11411,     0.11512,     0.11612,     0.11712,     0.11812,     0.11912,\n",
       "           0.12012,     0.12112,     0.12212,     0.12312,     0.12412,     0.12513,     0.12613,     0.12713,     0.12813,     0.12913,     0.13013,     0.13113,     0.13213,     0.13313,     0.13413,     0.13514,     0.13614,     0.13714,     0.13814,     0.13914,     0.14014,     0.14114,     0.14214,     0.14314,\n",
       "           0.14414,     0.14515,     0.14615,     0.14715,     0.14815,     0.14915,     0.15015,     0.15115,     0.15215,     0.15315,     0.15415,     0.15516,     0.15616,     0.15716,     0.15816,     0.15916,     0.16016,     0.16116,     0.16216,     0.16316,     0.16416,     0.16517,     0.16617,     0.16717,\n",
       "           0.16817,     0.16917,     0.17017,     0.17117,     0.17217,     0.17317,     0.17417,     0.17518,     0.17618,     0.17718,     0.17818,     0.17918,     0.18018,     0.18118,     0.18218,     0.18318,     0.18418,     0.18519,     0.18619,     0.18719,     0.18819,     0.18919,     0.19019,     0.19119,\n",
       "           0.19219,     0.19319,     0.19419,      0.1952,      0.1962,      0.1972,      0.1982,      0.1992,      0.2002,      0.2012,      0.2022,      0.2032,      0.2042,     0.20521,     0.20621,     0.20721,     0.20821,     0.20921,     0.21021,     0.21121,     0.21221,     0.21321,     0.21421,     0.21522,\n",
       "           0.21622,     0.21722,     0.21822,     0.21922,     0.22022,     0.22122,     0.22222,     0.22322,     0.22422,     0.22523,     0.22623,     0.22723,     0.22823,     0.22923,     0.23023,     0.23123,     0.23223,     0.23323,     0.23423,     0.23524,     0.23624,     0.23724,     0.23824,     0.23924,\n",
       "           0.24024,     0.24124,     0.24224,     0.24324,     0.24424,     0.24525,     0.24625,     0.24725,     0.24825,     0.24925,     0.25025,     0.25125,     0.25225,     0.25325,     0.25425,     0.25526,     0.25626,     0.25726,     0.25826,     0.25926,     0.26026,     0.26126,     0.26226,     0.26326,\n",
       "           0.26426,     0.26527,     0.26627,     0.26727,     0.26827,     0.26927,     0.27027,     0.27127,     0.27227,     0.27327,     0.27427,     0.27528,     0.27628,     0.27728,     0.27828,     0.27928,     0.28028,     0.28128,     0.28228,     0.28328,     0.28428,     0.28529,     0.28629,     0.28729,\n",
       "           0.28829,     0.28929,     0.29029,     0.29129,     0.29229,     0.29329,     0.29429,      0.2953,      0.2963,      0.2973,      0.2983,      0.2993,      0.3003,      0.3013,      0.3023,      0.3033,      0.3043,     0.30531,     0.30631,     0.30731,     0.30831,     0.30931,     0.31031,     0.31131,\n",
       "           0.31231,     0.31331,     0.31431,     0.31532,     0.31632,     0.31732,     0.31832,     0.31932,     0.32032,     0.32132,     0.32232,     0.32332,     0.32432,     0.32533,     0.32633,     0.32733,     0.32833,     0.32933,     0.33033,     0.33133,     0.33233,     0.33333,     0.33433,     0.33534,\n",
       "           0.33634,     0.33734,     0.33834,     0.33934,     0.34034,     0.34134,     0.34234,     0.34334,     0.34434,     0.34535,     0.34635,     0.34735,     0.34835,     0.34935,     0.35035,     0.35135,     0.35235,     0.35335,     0.35435,     0.35536,     0.35636,     0.35736,     0.35836,     0.35936,\n",
       "           0.36036,     0.36136,     0.36236,     0.36336,     0.36436,     0.36537,     0.36637,     0.36737,     0.36837,     0.36937,     0.37037,     0.37137,     0.37237,     0.37337,     0.37437,     0.37538,     0.37638,     0.37738,     0.37838,     0.37938,     0.38038,     0.38138,     0.38238,     0.38338,\n",
       "           0.38438,     0.38539,     0.38639,     0.38739,     0.38839,     0.38939,     0.39039,     0.39139,     0.39239,     0.39339,     0.39439,      0.3954,      0.3964,      0.3974,      0.3984,      0.3994,      0.4004,      0.4014,      0.4024,      0.4034,      0.4044,     0.40541,     0.40641,     0.40741,\n",
       "           0.40841,     0.40941,     0.41041,     0.41141,     0.41241,     0.41341,     0.41441,     0.41542,     0.41642,     0.41742,     0.41842,     0.41942,     0.42042,     0.42142,     0.42242,     0.42342,     0.42442,     0.42543,     0.42643,     0.42743,     0.42843,     0.42943,     0.43043,     0.43143,\n",
       "           0.43243,     0.43343,     0.43443,     0.43544,     0.43644,     0.43744,     0.43844,     0.43944,     0.44044,     0.44144,     0.44244,     0.44344,     0.44444,     0.44545,     0.44645,     0.44745,     0.44845,     0.44945,     0.45045,     0.45145,     0.45245,     0.45345,     0.45445,     0.45546,\n",
       "           0.45646,     0.45746,     0.45846,     0.45946,     0.46046,     0.46146,     0.46246,     0.46346,     0.46446,     0.46547,     0.46647,     0.46747,     0.46847,     0.46947,     0.47047,     0.47147,     0.47247,     0.47347,     0.47447,     0.47548,     0.47648,     0.47748,     0.47848,     0.47948,\n",
       "           0.48048,     0.48148,     0.48248,     0.48348,     0.48448,     0.48549,     0.48649,     0.48749,     0.48849,     0.48949,     0.49049,     0.49149,     0.49249,     0.49349,     0.49449,      0.4955,      0.4965,      0.4975,      0.4985,      0.4995,      0.5005,      0.5015,      0.5025,      0.5035,\n",
       "            0.5045,     0.50551,     0.50651,     0.50751,     0.50851,     0.50951,     0.51051,     0.51151,     0.51251,     0.51351,     0.51451,     0.51552,     0.51652,     0.51752,     0.51852,     0.51952,     0.52052,     0.52152,     0.52252,     0.52352,     0.52452,     0.52553,     0.52653,     0.52753,\n",
       "           0.52853,     0.52953,     0.53053,     0.53153,     0.53253,     0.53353,     0.53453,     0.53554,     0.53654,     0.53754,     0.53854,     0.53954,     0.54054,     0.54154,     0.54254,     0.54354,     0.54454,     0.54555,     0.54655,     0.54755,     0.54855,     0.54955,     0.55055,     0.55155,\n",
       "           0.55255,     0.55355,     0.55455,     0.55556,     0.55656,     0.55756,     0.55856,     0.55956,     0.56056,     0.56156,     0.56256,     0.56356,     0.56456,     0.56557,     0.56657,     0.56757,     0.56857,     0.56957,     0.57057,     0.57157,     0.57257,     0.57357,     0.57457,     0.57558,\n",
       "           0.57658,     0.57758,     0.57858,     0.57958,     0.58058,     0.58158,     0.58258,     0.58358,     0.58458,     0.58559,     0.58659,     0.58759,     0.58859,     0.58959,     0.59059,     0.59159,     0.59259,     0.59359,     0.59459,      0.5956,      0.5966,      0.5976,      0.5986,      0.5996,\n",
       "            0.6006,      0.6016,      0.6026,      0.6036,      0.6046,     0.60561,     0.60661,     0.60761,     0.60861,     0.60961,     0.61061,     0.61161,     0.61261,     0.61361,     0.61461,     0.61562,     0.61662,     0.61762,     0.61862,     0.61962,     0.62062,     0.62162,     0.62262,     0.62362,\n",
       "           0.62462,     0.62563,     0.62663,     0.62763,     0.62863,     0.62963,     0.63063,     0.63163,     0.63263,     0.63363,     0.63463,     0.63564,     0.63664,     0.63764,     0.63864,     0.63964,     0.64064,     0.64164,     0.64264,     0.64364,     0.64464,     0.64565,     0.64665,     0.64765,\n",
       "           0.64865,     0.64965,     0.65065,     0.65165,     0.65265,     0.65365,     0.65465,     0.65566,     0.65666,     0.65766,     0.65866,     0.65966,     0.66066,     0.66166,     0.66266,     0.66366,     0.66466,     0.66567,     0.66667,     0.66767,     0.66867,     0.66967,     0.67067,     0.67167,\n",
       "           0.67267,     0.67367,     0.67467,     0.67568,     0.67668,     0.67768,     0.67868,     0.67968,     0.68068,     0.68168,     0.68268,     0.68368,     0.68468,     0.68569,     0.68669,     0.68769,     0.68869,     0.68969,     0.69069,     0.69169,     0.69269,     0.69369,     0.69469,      0.6957,\n",
       "            0.6967,      0.6977,      0.6987,      0.6997,      0.7007,      0.7017,      0.7027,      0.7037,      0.7047,     0.70571,     0.70671,     0.70771,     0.70871,     0.70971,     0.71071,     0.71171,     0.71271,     0.71371,     0.71471,     0.71572,     0.71672,     0.71772,     0.71872,     0.71972,\n",
       "           0.72072,     0.72172,     0.72272,     0.72372,     0.72472,     0.72573,     0.72673,     0.72773,     0.72873,     0.72973,     0.73073,     0.73173,     0.73273,     0.73373,     0.73473,     0.73574,     0.73674,     0.73774,     0.73874,     0.73974,     0.74074,     0.74174,     0.74274,     0.74374,\n",
       "           0.74474,     0.74575,     0.74675,     0.74775,     0.74875,     0.74975,     0.75075,     0.75175,     0.75275,     0.75375,     0.75475,     0.75576,     0.75676,     0.75776,     0.75876,     0.75976,     0.76076,     0.76176,     0.76276,     0.76376,     0.76476,     0.76577,     0.76677,     0.76777,\n",
       "           0.76877,     0.76977,     0.77077,     0.77177,     0.77277,     0.77377,     0.77477,     0.77578,     0.77678,     0.77778,     0.77878,     0.77978,     0.78078,     0.78178,     0.78278,     0.78378,     0.78478,     0.78579,     0.78679,     0.78779,     0.78879,     0.78979,     0.79079,     0.79179,\n",
       "           0.79279,     0.79379,     0.79479,      0.7958,      0.7968,      0.7978,      0.7988,      0.7998,      0.8008,      0.8018,      0.8028,      0.8038,      0.8048,     0.80581,     0.80681,     0.80781,     0.80881,     0.80981,     0.81081,     0.81181,     0.81281,     0.81381,     0.81481,     0.81582,\n",
       "           0.81682,     0.81782,     0.81882,     0.81982,     0.82082,     0.82182,     0.82282,     0.82382,     0.82482,     0.82583,     0.82683,     0.82783,     0.82883,     0.82983,     0.83083,     0.83183,     0.83283,     0.83383,     0.83483,     0.83584,     0.83684,     0.83784,     0.83884,     0.83984,\n",
       "           0.84084,     0.84184,     0.84284,     0.84384,     0.84484,     0.84585,     0.84685,     0.84785,     0.84885,     0.84985,     0.85085,     0.85185,     0.85285,     0.85385,     0.85485,     0.85586,     0.85686,     0.85786,     0.85886,     0.85986,     0.86086,     0.86186,     0.86286,     0.86386,\n",
       "           0.86486,     0.86587,     0.86687,     0.86787,     0.86887,     0.86987,     0.87087,     0.87187,     0.87287,     0.87387,     0.87487,     0.87588,     0.87688,     0.87788,     0.87888,     0.87988,     0.88088,     0.88188,     0.88288,     0.88388,     0.88488,     0.88589,     0.88689,     0.88789,\n",
       "           0.88889,     0.88989,     0.89089,     0.89189,     0.89289,     0.89389,     0.89489,      0.8959,      0.8969,      0.8979,      0.8989,      0.8999,      0.9009,      0.9019,      0.9029,      0.9039,      0.9049,     0.90591,     0.90691,     0.90791,     0.90891,     0.90991,     0.91091,     0.91191,\n",
       "           0.91291,     0.91391,     0.91491,     0.91592,     0.91692,     0.91792,     0.91892,     0.91992,     0.92092,     0.92192,     0.92292,     0.92392,     0.92492,     0.92593,     0.92693,     0.92793,     0.92893,     0.92993,     0.93093,     0.93193,     0.93293,     0.93393,     0.93493,     0.93594,\n",
       "           0.93694,     0.93794,     0.93894,     0.93994,     0.94094,     0.94194,     0.94294,     0.94394,     0.94494,     0.94595,     0.94695,     0.94795,     0.94895,     0.94995,     0.95095,     0.95195,     0.95295,     0.95395,     0.95495,     0.95596,     0.95696,     0.95796,     0.95896,     0.95996,\n",
       "           0.96096,     0.96196,     0.96296,     0.96396,     0.96496,     0.96597,     0.96697,     0.96797,     0.96897,     0.96997,     0.97097,     0.97197,     0.97297,     0.97397,     0.97497,     0.97598,     0.97698,     0.97798,     0.97898,     0.97998,     0.98098,     0.98198,     0.98298,     0.98398,\n",
       "           0.98498,     0.98599,     0.98699,     0.98799,     0.98899,     0.98999,     0.99099,     0.99199,     0.99299,     0.99399,     0.99499,       0.996,       0.997,       0.998,       0.999,           1]), array([[          1,           1,           1, ...,           0,           0,           0],\n",
       "       [    0.96512,     0.96512,     0.95349, ...,           0,           0,           0]]), 'Confidence', 'Recall']]\n",
       "fitness: np.float64(0.8791479889594858)\n",
       "keys: ['metrics/precision(B)', 'metrics/recall(B)', 'metrics/mAP50(B)', 'metrics/mAP50-95(B)']\n",
       "maps: array([    0.92625,     0.82016])\n",
       "names: {0: 'bordered', 1: 'borderless'}\n",
       "plot: True\n",
       "results_dict: {'metrics/precision(B)': np.float64(0.9328814614241769), 'metrics/recall(B)': np.float64(0.8139690410873179), 'metrics/mAP50(B)': np.float64(0.9326127803756668), 'metrics/mAP50-95(B)': np.float64(0.8732074565799101), 'fitness': np.float64(0.8791479889594858)}\n",
       "save_dir: WindowsPath('f:/GitHub/table-parser/runs/detect/table_detection4')\n",
       "speed: {'preprocess': 1.4554057802472797, 'inference': 112.61642660413469, 'loss': 0.0, 'postprocess': 0.17340523856026785}\n",
       "task: 'detect'"
      ]
     },
     "execution_count": 12,
     "metadata": {},
     "output_type": "execute_result"
    }
   ],
   "source": [
    "from ultralytics import YOLO\n",
    "\n",
    "# Загружаем предобученные веса (например, yolo8s.pt)\n",
    "model = YOLO('yolov8s.pt')\n",
    "\n",
    "# Запускаем обучение\n",
    "model.train(\n",
    "    data='table_data.yaml',  # наш data.yaml\n",
    "    epochs=50,               # кол-во эпох (меняйте под нужды)\n",
    "    imgsz=640,               # размер входного изображения (можно увеличить до 640, 768, ...)\n",
    "    batch=16,                # размер batch (корректируйте в зависимости от GPU)\n",
    "    name='table_detection'   # подпапка для логов (runs/detect/table_detection/)\n",
    ")"
   ]
  }
 ],
 "metadata": {
  "kernelspec": {
   "display_name": ".venv",
   "language": "python",
   "name": "python3"
  },
  "language_info": {
   "codemirror_mode": {
    "name": "ipython",
    "version": 3
   },
   "file_extension": ".py",
   "mimetype": "text/x-python",
   "name": "python",
   "nbconvert_exporter": "python",
   "pygments_lexer": "ipython3",
   "version": "3.11.7"
  }
 },
 "nbformat": 4,
 "nbformat_minor": 2
}
