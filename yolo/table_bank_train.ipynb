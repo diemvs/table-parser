{
 "cells": [
  {
   "cell_type": "code",
   "execution_count": 1,
   "metadata": {},
   "outputs": [
    {
     "name": "stdout",
     "output_type": "stream",
     "text": [
      "Collecting ultralytics\n",
      "  Obtaining dependency information for ultralytics from https://files.pythonhosted.org/packages/78/62/4e68d12ae5c61d77322dc36ed8100f137ed5d10b3a559a45921f9139f775/ultralytics-8.3.98-py3-none-any.whl.metadata\n",
      "  Downloading ultralytics-8.3.98-py3-none-any.whl.metadata (37 kB)\n",
      "Collecting numpy<=2.1.1,>=1.23.0 (from ultralytics)\n",
      "  Obtaining dependency information for numpy<=2.1.1,>=1.23.0 from https://files.pythonhosted.org/packages/94/7a/4c00332a3ca79702bbc86228afd0e84e6f91b47222ec8cdf00677dd16481/numpy-2.1.1-cp311-cp311-win_amd64.whl.metadata\n",
      "  Downloading numpy-2.1.1-cp311-cp311-win_amd64.whl.metadata (59 kB)\n",
      "     ---------------------------------------- 0.0/59.7 kB ? eta -:--:--\n",
      "     ------ --------------------------------- 10.2/59.7 kB ? eta -:--:--\n",
      "     -------------------------------------- 59.7/59.7 kB 785.8 kB/s eta 0:00:00\n",
      "Collecting matplotlib>=3.3.0 (from ultralytics)\n",
      "  Obtaining dependency information for matplotlib>=3.3.0 from https://files.pythonhosted.org/packages/d7/68/0d03098b3feb786cbd494df0aac15b571effda7f7cbdec267e8a8d398c16/matplotlib-3.10.1-cp311-cp311-win_amd64.whl.metadata\n",
      "  Using cached matplotlib-3.10.1-cp311-cp311-win_amd64.whl.metadata (11 kB)\n",
      "Collecting opencv-python>=4.6.0 (from ultralytics)\n",
      "  Obtaining dependency information for opencv-python>=4.6.0 from https://files.pythonhosted.org/packages/a4/7d/f1c30a92854540bf789e9cd5dde7ef49bbe63f855b85a2e6b3db8135c591/opencv_python-4.11.0.86-cp37-abi3-win_amd64.whl.metadata\n",
      "  Using cached opencv_python-4.11.0.86-cp37-abi3-win_amd64.whl.metadata (20 kB)\n",
      "Collecting pillow>=7.1.2 (from ultralytics)\n",
      "  Obtaining dependency information for pillow>=7.1.2 from https://files.pythonhosted.org/packages/3a/c6/fce9255272bcf0c39e15abd2f8fd8429a954cf344469eaceb9d0d1366913/pillow-11.1.0-cp311-cp311-win_amd64.whl.metadata\n",
      "  Using cached pillow-11.1.0-cp311-cp311-win_amd64.whl.metadata (9.3 kB)\n",
      "Collecting pyyaml>=5.3.1 (from ultralytics)\n",
      "  Obtaining dependency information for pyyaml>=5.3.1 from https://files.pythonhosted.org/packages/ed/23/8da0bbe2ab9dcdd11f4f4557ccaf95c10b9811b13ecced089d43ce59c3c8/PyYAML-6.0.2-cp311-cp311-win_amd64.whl.metadata\n",
      "  Using cached PyYAML-6.0.2-cp311-cp311-win_amd64.whl.metadata (2.1 kB)\n",
      "Collecting requests>=2.23.0 (from ultralytics)\n",
      "  Obtaining dependency information for requests>=2.23.0 from https://files.pythonhosted.org/packages/f9/9b/335f9764261e915ed497fcdeb11df5dfd6f7bf257d4a6a2a686d80da4d54/requests-2.32.3-py3-none-any.whl.metadata\n",
      "  Using cached requests-2.32.3-py3-none-any.whl.metadata (4.6 kB)\n",
      "Collecting scipy>=1.4.1 (from ultralytics)\n",
      "  Obtaining dependency information for scipy>=1.4.1 from https://files.pythonhosted.org/packages/b9/8b/7ec1832b09dbc88f3db411f8cdd47db04505c4b72c99b11c920a8f0479c3/scipy-1.15.2-cp311-cp311-win_amd64.whl.metadata\n",
      "  Downloading scipy-1.15.2-cp311-cp311-win_amd64.whl.metadata (60 kB)\n",
      "     ---------------------------------------- 0.0/60.8 kB ? eta -:--:--\n",
      "     ---------------------------------------- 60.8/60.8 kB 1.6 MB/s eta 0:00:00\n",
      "Collecting torch>=1.8.0 (from ultralytics)\n",
      "  Obtaining dependency information for torch>=1.8.0 from https://files.pythonhosted.org/packages/11/c5/2370d96b31eb1841c3a0883a492c15278a6718ccad61bb6a649c80d1d9eb/torch-2.6.0-cp311-cp311-win_amd64.whl.metadata\n",
      "  Using cached torch-2.6.0-cp311-cp311-win_amd64.whl.metadata (28 kB)\n",
      "Collecting torchvision>=0.9.0 (from ultralytics)\n",
      "  Obtaining dependency information for torchvision>=0.9.0 from https://files.pythonhosted.org/packages/88/53/4ad334b9b1d8dd99836869fec139cb74a27781298360b91b9506c53f1d10/torchvision-0.21.0-cp311-cp311-win_amd64.whl.metadata\n",
      "  Using cached torchvision-0.21.0-cp311-cp311-win_amd64.whl.metadata (6.3 kB)\n",
      "Collecting tqdm>=4.64.0 (from ultralytics)\n",
      "  Obtaining dependency information for tqdm>=4.64.0 from https://files.pythonhosted.org/packages/d0/30/dc54f88dd4a2b5dc8a0279bdd7270e735851848b762aeb1c1184ed1f6b14/tqdm-4.67.1-py3-none-any.whl.metadata\n",
      "  Using cached tqdm-4.67.1-py3-none-any.whl.metadata (57 kB)\n",
      "Requirement already satisfied: psutil in f:\\github\\table-parser\\.venv-2\\lib\\site-packages (from ultralytics) (7.0.0)\n",
      "Collecting py-cpuinfo (from ultralytics)\n",
      "  Obtaining dependency information for py-cpuinfo from https://files.pythonhosted.org/packages/e0/a9/023730ba63db1e494a271cb018dcd361bd2c917ba7004c3e49d5daf795a2/py_cpuinfo-9.0.0-py3-none-any.whl.metadata\n",
      "  Using cached py_cpuinfo-9.0.0-py3-none-any.whl.metadata (794 bytes)\n",
      "Collecting pandas>=1.1.4 (from ultralytics)\n",
      "  Obtaining dependency information for pandas>=1.1.4 from https://files.pythonhosted.org/packages/ed/8c/87ddf1fcb55d11f9f847e3c69bb1c6f8e46e2f40ab1a2d2abadb2401b007/pandas-2.2.3-cp311-cp311-win_amd64.whl.metadata\n",
      "  Using cached pandas-2.2.3-cp311-cp311-win_amd64.whl.metadata (19 kB)\n",
      "Collecting seaborn>=0.11.0 (from ultralytics)\n",
      "  Obtaining dependency information for seaborn>=0.11.0 from https://files.pythonhosted.org/packages/83/11/00d3c3dfc25ad54e731d91449895a79e4bf2384dc3ac01809010ba88f6d5/seaborn-0.13.2-py3-none-any.whl.metadata\n",
      "  Using cached seaborn-0.13.2-py3-none-any.whl.metadata (5.4 kB)\n",
      "Collecting ultralytics-thop>=2.0.0 (from ultralytics)\n",
      "  Obtaining dependency information for ultralytics-thop>=2.0.0 from https://files.pythonhosted.org/packages/a6/10/251f036b4c5d77249f9a119cc89dafe8745dc1ad1f1a5f06b6a3988ca454/ultralytics_thop-2.0.14-py3-none-any.whl.metadata\n",
      "  Using cached ultralytics_thop-2.0.14-py3-none-any.whl.metadata (9.4 kB)\n",
      "Collecting contourpy>=1.0.1 (from matplotlib>=3.3.0->ultralytics)\n",
      "  Obtaining dependency information for contourpy>=1.0.1 from https://files.pythonhosted.org/packages/a8/7e/cd93cab453720a5d6cb75588cc17dcdc08fc3484b9de98b885924ff61900/contourpy-1.3.1-cp311-cp311-win_amd64.whl.metadata\n",
      "  Using cached contourpy-1.3.1-cp311-cp311-win_amd64.whl.metadata (5.4 kB)\n",
      "Collecting cycler>=0.10 (from matplotlib>=3.3.0->ultralytics)\n",
      "  Obtaining dependency information for cycler>=0.10 from https://files.pythonhosted.org/packages/e7/05/c19819d5e3d95294a6f5947fb9b9629efb316b96de511b418c53d245aae6/cycler-0.12.1-py3-none-any.whl.metadata\n",
      "  Using cached cycler-0.12.1-py3-none-any.whl.metadata (3.8 kB)\n",
      "Collecting fonttools>=4.22.0 (from matplotlib>=3.3.0->ultralytics)\n",
      "  Obtaining dependency information for fonttools>=4.22.0 from https://files.pythonhosted.org/packages/3b/90/4926e653041c4116ecd43e50e3c79f5daae6dcafc58ceb64bc4f71dd4924/fonttools-4.56.0-cp311-cp311-win_amd64.whl.metadata\n",
      "  Using cached fonttools-4.56.0-cp311-cp311-win_amd64.whl.metadata (103 kB)\n",
      "Collecting kiwisolver>=1.3.1 (from matplotlib>=3.3.0->ultralytics)\n",
      "  Obtaining dependency information for kiwisolver>=1.3.1 from https://files.pythonhosted.org/packages/2d/27/bdf1c769c83f74d98cbc34483a972f221440703054894a37d174fba8aa68/kiwisolver-1.4.8-cp311-cp311-win_amd64.whl.metadata\n",
      "  Using cached kiwisolver-1.4.8-cp311-cp311-win_amd64.whl.metadata (6.3 kB)\n",
      "Requirement already satisfied: packaging>=20.0 in f:\\github\\table-parser\\.venv-2\\lib\\site-packages (from matplotlib>=3.3.0->ultralytics) (24.2)\n",
      "Collecting pyparsing>=2.3.1 (from matplotlib>=3.3.0->ultralytics)\n",
      "  Obtaining dependency information for pyparsing>=2.3.1 from https://files.pythonhosted.org/packages/05/e7/df2285f3d08fee213f2d041540fa4fc9ca6c2d44cf36d3a035bf2a8d2bcc/pyparsing-3.2.3-py3-none-any.whl.metadata\n",
      "  Using cached pyparsing-3.2.3-py3-none-any.whl.metadata (5.0 kB)\n",
      "Requirement already satisfied: python-dateutil>=2.7 in f:\\github\\table-parser\\.venv-2\\lib\\site-packages (from matplotlib>=3.3.0->ultralytics) (2.9.0.post0)\n",
      "Collecting pytz>=2020.1 (from pandas>=1.1.4->ultralytics)\n",
      "  Obtaining dependency information for pytz>=2020.1 from https://files.pythonhosted.org/packages/81/c4/34e93fe5f5429d7570ec1fa436f1986fb1f00c3e0f43a589fe2bbcd22c3f/pytz-2025.2-py2.py3-none-any.whl.metadata\n",
      "  Downloading pytz-2025.2-py2.py3-none-any.whl.metadata (22 kB)\n",
      "Collecting tzdata>=2022.7 (from pandas>=1.1.4->ultralytics)\n",
      "  Obtaining dependency information for tzdata>=2022.7 from https://files.pythonhosted.org/packages/5c/23/c7abc0ca0a1526a0774eca151daeb8de62ec457e77262b66b359c3c7679e/tzdata-2025.2-py2.py3-none-any.whl.metadata\n",
      "  Downloading tzdata-2025.2-py2.py3-none-any.whl.metadata (1.4 kB)\n",
      "Collecting charset-normalizer<4,>=2 (from requests>=2.23.0->ultralytics)\n",
      "  Obtaining dependency information for charset-normalizer<4,>=2 from https://files.pythonhosted.org/packages/1e/ab/45b180e175de4402dcf7547e4fb617283bae54ce35c27930a6f35b6bef15/charset_normalizer-3.4.1-cp311-cp311-win_amd64.whl.metadata\n",
      "  Using cached charset_normalizer-3.4.1-cp311-cp311-win_amd64.whl.metadata (36 kB)\n",
      "Collecting idna<4,>=2.5 (from requests>=2.23.0->ultralytics)\n",
      "  Obtaining dependency information for idna<4,>=2.5 from https://files.pythonhosted.org/packages/76/c6/c88e154df9c4e1a2a66ccf0005a88dfb2650c1dffb6f5ce603dfbd452ce3/idna-3.10-py3-none-any.whl.metadata\n",
      "  Using cached idna-3.10-py3-none-any.whl.metadata (10 kB)\n",
      "Collecting urllib3<3,>=1.21.1 (from requests>=2.23.0->ultralytics)\n",
      "  Obtaining dependency information for urllib3<3,>=1.21.1 from https://files.pythonhosted.org/packages/c8/19/4ec628951a74043532ca2cf5d97b7b14863931476d117c471e8e2b1eb39f/urllib3-2.3.0-py3-none-any.whl.metadata\n",
      "  Using cached urllib3-2.3.0-py3-none-any.whl.metadata (6.5 kB)\n",
      "Collecting certifi>=2017.4.17 (from requests>=2.23.0->ultralytics)\n",
      "  Obtaining dependency information for certifi>=2017.4.17 from https://files.pythonhosted.org/packages/38/fc/bce832fd4fd99766c04d1ee0eead6b0ec6486fb100ae5e74c1d91292b982/certifi-2025.1.31-py3-none-any.whl.metadata\n",
      "  Using cached certifi-2025.1.31-py3-none-any.whl.metadata (2.5 kB)\n",
      "Collecting filelock (from torch>=1.8.0->ultralytics)\n",
      "  Obtaining dependency information for filelock from https://files.pythonhosted.org/packages/4d/36/2a115987e2d8c300a974597416d9de88f2444426de9571f4b59b2cca3acc/filelock-3.18.0-py3-none-any.whl.metadata\n",
      "  Downloading filelock-3.18.0-py3-none-any.whl.metadata (2.9 kB)\n",
      "Requirement already satisfied: typing-extensions>=4.10.0 in f:\\github\\table-parser\\.venv-2\\lib\\site-packages (from torch>=1.8.0->ultralytics) (4.13.0)\n",
      "Collecting networkx (from torch>=1.8.0->ultralytics)\n",
      "  Obtaining dependency information for networkx from https://files.pythonhosted.org/packages/b9/54/dd730b32ea14ea797530a4479b2ed46a6fb250f682a9cfb997e968bf0261/networkx-3.4.2-py3-none-any.whl.metadata\n",
      "  Using cached networkx-3.4.2-py3-none-any.whl.metadata (6.3 kB)\n",
      "Collecting jinja2 (from torch>=1.8.0->ultralytics)\n",
      "  Obtaining dependency information for jinja2 from https://files.pythonhosted.org/packages/62/a1/3d680cbfd5f4b8f15abc1d571870c5fc3e594bb582bc3b64ea099db13e56/jinja2-3.1.6-py3-none-any.whl.metadata\n",
      "  Downloading jinja2-3.1.6-py3-none-any.whl.metadata (2.9 kB)\n",
      "Collecting fsspec (from torch>=1.8.0->ultralytics)\n",
      "  Obtaining dependency information for fsspec from https://files.pythonhosted.org/packages/56/53/eb690efa8513166adef3e0669afd31e95ffde69fb3c52ec2ac7223ed6018/fsspec-2025.3.0-py3-none-any.whl.metadata\n",
      "  Downloading fsspec-2025.3.0-py3-none-any.whl.metadata (11 kB)\n",
      "Collecting sympy==1.13.1 (from torch>=1.8.0->ultralytics)\n",
      "  Obtaining dependency information for sympy==1.13.1 from https://files.pythonhosted.org/packages/b2/fe/81695a1aa331a842b582453b605175f419fe8540355886031328089d840a/sympy-1.13.1-py3-none-any.whl.metadata\n",
      "  Using cached sympy-1.13.1-py3-none-any.whl.metadata (12 kB)\n",
      "Collecting mpmath<1.4,>=1.1.0 (from sympy==1.13.1->torch>=1.8.0->ultralytics)\n",
      "  Obtaining dependency information for mpmath<1.4,>=1.1.0 from https://files.pythonhosted.org/packages/43/e3/7d92a15f894aa0c9c4b49b8ee9ac9850d6e63b03c9c32c0367a13ae62209/mpmath-1.3.0-py3-none-any.whl.metadata\n",
      "  Using cached mpmath-1.3.0-py3-none-any.whl.metadata (8.6 kB)\n",
      "Requirement already satisfied: colorama in f:\\github\\table-parser\\.venv-2\\lib\\site-packages (from tqdm>=4.64.0->ultralytics) (0.4.6)\n",
      "Requirement already satisfied: six>=1.5 in f:\\github\\table-parser\\.venv-2\\lib\\site-packages (from python-dateutil>=2.7->matplotlib>=3.3.0->ultralytics) (1.17.0)\n",
      "Collecting MarkupSafe>=2.0 (from jinja2->torch>=1.8.0->ultralytics)\n",
      "  Obtaining dependency information for MarkupSafe>=2.0 from https://files.pythonhosted.org/packages/da/b8/3a3bd761922d416f3dc5d00bfbed11f66b1ab89a0c2b6e887240a30b0f6b/MarkupSafe-3.0.2-cp311-cp311-win_amd64.whl.metadata\n",
      "  Using cached MarkupSafe-3.0.2-cp311-cp311-win_amd64.whl.metadata (4.1 kB)\n",
      "Downloading ultralytics-8.3.98-py3-none-any.whl (949 kB)\n",
      "   ---------------------------------------- 0.0/950.0 kB ? eta -:--:--\n",
      "   --- ------------------------------------ 81.9/950.0 kB 4.8 MB/s eta 0:00:01\n",
      "   -------- ------------------------------- 204.8/950.0 kB 3.1 MB/s eta 0:00:01\n",
      "   ---------------- ----------------------- 399.4/950.0 kB 3.1 MB/s eta 0:00:01\n",
      "   ------------------------------- -------- 747.5/950.0 kB 4.3 MB/s eta 0:00:01\n",
      "   ---------------------------------------- 950.0/950.0 kB 5.0 MB/s eta 0:00:00\n",
      "Using cached matplotlib-3.10.1-cp311-cp311-win_amd64.whl (8.1 MB)\n",
      "Downloading numpy-2.1.1-cp311-cp311-win_amd64.whl (12.9 MB)\n",
      "   ---------------------------------------- 0.0/12.9 MB ? eta -:--:--\n",
      "   -- ------------------------------------- 0.6/12.9 MB 13.8 MB/s eta 0:00:01\n",
      "   -- ------------------------------------- 1.0/12.9 MB 12.2 MB/s eta 0:00:01\n",
      "   ---- ----------------------------------- 1.5/12.9 MB 10.9 MB/s eta 0:00:02\n",
      "   ------ --------------------------------- 2.0/12.9 MB 11.4 MB/s eta 0:00:01\n",
      "   ------- -------------------------------- 2.3/12.9 MB 10.4 MB/s eta 0:00:02\n",
      "   --------- ------------------------------ 3.1/12.9 MB 11.5 MB/s eta 0:00:01\n",
      "   ----------- ---------------------------- 3.7/12.9 MB 11.9 MB/s eta 0:00:01\n",
      "   ------------- -------------------------- 4.4/12.9 MB 12.3 MB/s eta 0:00:01\n",
      "   ---------------- ----------------------- 5.2/12.9 MB 12.8 MB/s eta 0:00:01\n",
      "   ------------------ --------------------- 6.0/12.9 MB 13.2 MB/s eta 0:00:01\n",
      "   --------------------- ------------------ 6.9/12.9 MB 13.7 MB/s eta 0:00:01\n",
      "   ----------------------- ---------------- 7.7/12.9 MB 14.0 MB/s eta 0:00:01\n",
      "   ------------------------- -------------- 8.1/12.9 MB 13.7 MB/s eta 0:00:01\n",
      "   --------------------------- ------------ 8.8/12.9 MB 13.8 MB/s eta 0:00:01\n",
      "   ----------------------------- ---------- 9.3/12.9 MB 13.6 MB/s eta 0:00:01\n",
      "   ------------------------------- -------- 10.1/12.9 MB 13.8 MB/s eta 0:00:01\n",
      "   --------------------------------- ------ 10.7/12.9 MB 13.6 MB/s eta 0:00:01\n",
      "   ----------------------------------- ---- 11.3/12.9 MB 14.2 MB/s eta 0:00:01\n",
      "   ------------------------------------- -- 11.9/12.9 MB 14.2 MB/s eta 0:00:01\n",
      "   ---------------------------------------  12.8/12.9 MB 14.9 MB/s eta 0:00:01\n",
      "   ---------------------------------------- 12.9/12.9 MB 14.5 MB/s eta 0:00:00\n",
      "Using cached opencv_python-4.11.0.86-cp37-abi3-win_amd64.whl (39.5 MB)\n",
      "Using cached pandas-2.2.3-cp311-cp311-win_amd64.whl (11.6 MB)\n",
      "Using cached pillow-11.1.0-cp311-cp311-win_amd64.whl (2.6 MB)\n",
      "Using cached PyYAML-6.0.2-cp311-cp311-win_amd64.whl (161 kB)\n",
      "Using cached requests-2.32.3-py3-none-any.whl (64 kB)\n",
      "Downloading scipy-1.15.2-cp311-cp311-win_amd64.whl (41.2 MB)\n",
      "   ---------------------------------------- 0.0/41.2 MB ? eta -:--:--\n",
      "   ---------------------------------------- 0.5/41.2 MB 15.2 MB/s eta 0:00:03\n",
      "   - -------------------------------------- 1.2/41.2 MB 14.7 MB/s eta 0:00:03\n",
      "   - -------------------------------------- 1.9/41.2 MB 14.9 MB/s eta 0:00:03\n",
      "   -- ------------------------------------- 2.6/41.2 MB 16.6 MB/s eta 0:00:03\n",
      "   --- ------------------------------------ 3.2/41.2 MB 15.8 MB/s eta 0:00:03\n",
      "   --- ------------------------------------ 3.9/41.2 MB 15.6 MB/s eta 0:00:03\n",
      "   ---- ----------------------------------- 4.6/41.2 MB 15.6 MB/s eta 0:00:03\n",
      "   ----- ---------------------------------- 5.2/41.2 MB 15.3 MB/s eta 0:00:03\n",
      "   ----- ---------------------------------- 5.4/41.2 MB 15.1 MB/s eta 0:00:03\n",
      "   ----- ---------------------------------- 5.4/41.2 MB 15.1 MB/s eta 0:00:03\n",
      "   ----- ---------------------------------- 5.4/41.2 MB 15.1 MB/s eta 0:00:03\n",
      "   ------- -------------------------------- 7.7/41.2 MB 14.6 MB/s eta 0:00:03\n",
      "   -------- ------------------------------- 8.6/41.2 MB 14.8 MB/s eta 0:00:03\n",
      "   --------- ------------------------------ 9.5/41.2 MB 15.1 MB/s eta 0:00:03\n",
      "   ---------- ----------------------------- 10.4/41.2 MB 15.6 MB/s eta 0:00:02\n",
      "   ---------- ----------------------------- 11.2/41.2 MB 15.6 MB/s eta 0:00:02\n",
      "   ----------- ---------------------------- 12.2/41.2 MB 16.0 MB/s eta 0:00:02\n",
      "   ------------ --------------------------- 13.2/41.2 MB 16.8 MB/s eta 0:00:02\n",
      "   ------------- -------------------------- 14.1/41.2 MB 16.8 MB/s eta 0:00:02\n",
      "   -------------- ------------------------- 15.0/41.2 MB 17.2 MB/s eta 0:00:02\n",
      "   --------------- ------------------------ 16.1/41.2 MB 22.6 MB/s eta 0:00:02\n",
      "   ---------------- ----------------------- 16.5/41.2 MB 20.5 MB/s eta 0:00:02\n",
      "   ---------------- ----------------------- 17.4/41.2 MB 18.7 MB/s eta 0:00:02\n",
      "   ----------------- ---------------------- 18.5/41.2 MB 19.3 MB/s eta 0:00:02\n",
      "   ------------------ --------------------- 19.5/41.2 MB 19.9 MB/s eta 0:00:02\n",
      "   ------------------- -------------------- 20.6/41.2 MB 19.9 MB/s eta 0:00:02\n",
      "   --------------------- ------------------ 21.6/41.2 MB 19.8 MB/s eta 0:00:01\n",
      "   ---------------------- ----------------- 22.7/41.2 MB 20.5 MB/s eta 0:00:01\n",
      "   ----------------------- ---------------- 23.8/41.2 MB 20.5 MB/s eta 0:00:01\n",
      "   ------------------------ --------------- 24.8/41.2 MB 21.1 MB/s eta 0:00:01\n",
      "   ------------------------- -------------- 25.9/41.2 MB 21.1 MB/s eta 0:00:01\n",
      "   -------------------------- ------------- 26.8/41.2 MB 21.9 MB/s eta 0:00:01\n",
      "   --------------------------- ------------ 27.9/41.2 MB 23.4 MB/s eta 0:00:01\n",
      "   ---------------------------- ----------- 29.1/41.2 MB 22.6 MB/s eta 0:00:01\n",
      "   ---------------------------- ----------- 29.8/41.2 MB 22.6 MB/s eta 0:00:01\n",
      "   ------------------------------ --------- 31.1/41.2 MB 23.4 MB/s eta 0:00:01\n",
      "   ------------------------------ --------- 31.8/41.2 MB 22.6 MB/s eta 0:00:01\n",
      "   ------------------------------- -------- 32.5/41.2 MB 21.8 MB/s eta 0:00:01\n",
      "   -------------------------------- ------- 33.6/41.2 MB 21.8 MB/s eta 0:00:01\n",
      "   --------------------------------- ------ 34.7/41.2 MB 21.8 MB/s eta 0:00:01\n",
      "   ---------------------------------- ----- 35.8/41.2 MB 21.8 MB/s eta 0:00:01\n",
      "   ----------------------------------- ---- 36.6/41.2 MB 21.1 MB/s eta 0:00:01\n",
      "   ------------------------------------ --- 37.8/41.2 MB 21.1 MB/s eta 0:00:01\n",
      "   ------------------------------------- -- 38.4/41.2 MB 21.1 MB/s eta 0:00:01\n",
      "   -------------------------------------- - 39.3/41.2 MB 19.9 MB/s eta 0:00:01\n",
      "   -------------------------------------- - 40.1/41.2 MB 20.5 MB/s eta 0:00:01\n",
      "   ---------------------------------------  40.9/41.2 MB 19.8 MB/s eta 0:00:01\n",
      "   ---------------------------------------  41.2/41.2 MB 18.7 MB/s eta 0:00:01\n",
      "   ---------------------------------------  41.2/41.2 MB 18.7 MB/s eta 0:00:01\n",
      "   ---------------------------------------- 41.2/41.2 MB 16.4 MB/s eta 0:00:00\n",
      "Using cached seaborn-0.13.2-py3-none-any.whl (294 kB)\n",
      "Using cached torch-2.6.0-cp311-cp311-win_amd64.whl (204.2 MB)\n",
      "Using cached sympy-1.13.1-py3-none-any.whl (6.2 MB)\n",
      "Using cached torchvision-0.21.0-cp311-cp311-win_amd64.whl (1.6 MB)\n",
      "Using cached tqdm-4.67.1-py3-none-any.whl (78 kB)\n",
      "Using cached ultralytics_thop-2.0.14-py3-none-any.whl (26 kB)\n",
      "Using cached py_cpuinfo-9.0.0-py3-none-any.whl (22 kB)\n",
      "Using cached certifi-2025.1.31-py3-none-any.whl (166 kB)\n",
      "Using cached charset_normalizer-3.4.1-cp311-cp311-win_amd64.whl (102 kB)\n",
      "Using cached contourpy-1.3.1-cp311-cp311-win_amd64.whl (219 kB)\n",
      "Using cached cycler-0.12.1-py3-none-any.whl (8.3 kB)\n",
      "Using cached fonttools-4.56.0-cp311-cp311-win_amd64.whl (2.2 MB)\n",
      "Using cached idna-3.10-py3-none-any.whl (70 kB)\n",
      "Using cached kiwisolver-1.4.8-cp311-cp311-win_amd64.whl (71 kB)\n",
      "Using cached pyparsing-3.2.3-py3-none-any.whl (111 kB)\n",
      "Downloading pytz-2025.2-py2.py3-none-any.whl (509 kB)\n",
      "   ---------------------------------------- 0.0/509.2 kB ? eta -:--:--\n",
      "   ------------------------------------- -- 471.0/509.2 kB 9.8 MB/s eta 0:00:01\n",
      "   ---------------------------------------- 509.2/509.2 kB 7.9 MB/s eta 0:00:00\n",
      "Using cached tzdata-2025.2-py2.py3-none-any.whl (347 kB)\n",
      "Using cached urllib3-2.3.0-py3-none-any.whl (128 kB)\n",
      "Using cached filelock-3.18.0-py3-none-any.whl (16 kB)\n",
      "Using cached fsspec-2025.3.0-py3-none-any.whl (193 kB)\n",
      "Using cached jinja2-3.1.6-py3-none-any.whl (134 kB)\n",
      "Using cached networkx-3.4.2-py3-none-any.whl (1.7 MB)\n",
      "Using cached MarkupSafe-3.0.2-cp311-cp311-win_amd64.whl (15 kB)\n",
      "Using cached mpmath-1.3.0-py3-none-any.whl (536 kB)\n",
      "Installing collected packages: pytz, py-cpuinfo, mpmath, urllib3, tzdata, tqdm, sympy, pyyaml, pyparsing, pillow, numpy, networkx, MarkupSafe, kiwisolver, idna, fsspec, fonttools, filelock, cycler, charset-normalizer, certifi, scipy, requests, pandas, opencv-python, jinja2, contourpy, torch, matplotlib, ultralytics-thop, torchvision, seaborn, ultralytics\n",
      "Successfully installed MarkupSafe-3.0.2 certifi-2025.1.31 charset-normalizer-3.4.1 contourpy-1.3.1 cycler-0.12.1 filelock-3.18.0 fonttools-4.56.0 fsspec-2025.3.0 idna-3.10 jinja2-3.1.6 kiwisolver-1.4.8 matplotlib-3.10.1 mpmath-1.3.0 networkx-3.4.2 numpy-2.1.1 opencv-python-4.11.0.86 pandas-2.2.3 pillow-11.1.0 py-cpuinfo-9.0.0 pyparsing-3.2.3 pytz-2025.2 pyyaml-6.0.2 requests-2.32.3 scipy-1.15.2 seaborn-0.13.2 sympy-1.13.1 torch-2.6.0 torchvision-0.21.0 tqdm-4.67.1 tzdata-2025.2 ultralytics-8.3.98 ultralytics-thop-2.0.14 urllib3-2.3.0\n"
     ]
    },
    {
     "name": "stderr",
     "output_type": "stream",
     "text": [
      "\n",
      "[notice] A new release of pip is available: 23.2.1 -> 25.0.1\n",
      "[notice] To update, run: python.exe -m pip install --upgrade pip\n"
     ]
    }
   ],
   "source": [
    "! pip install ultralytics"
   ]
  },
  {
   "cell_type": "code",
   "execution_count": 4,
   "metadata": {},
   "outputs": [
    {
     "name": "stdout",
     "output_type": "stream",
     "text": [
      "Looking in indexes: https://download.pytorch.org/whl/cu126\n",
      "Requirement already satisfied: torch in f:\\github\\table-parser\\.venv-2\\lib\\site-packages (2.6.0+cu126)\n",
      "Requirement already satisfied: torchvision in f:\\github\\table-parser\\.venv-2\\lib\\site-packages (0.21.0)\n",
      "Collecting torchaudio\n",
      "  Obtaining dependency information for torchaudio from https://download.pytorch.org/whl/cu126/torchaudio-2.6.0%2Bcu126-cp311-cp311-win_amd64.whl.metadata\n",
      "  Using cached https://download.pytorch.org/whl/cu126/torchaudio-2.6.0%2Bcu126-cp311-cp311-win_amd64.whl.metadata (6.8 kB)\n",
      "Requirement already satisfied: filelock in f:\\github\\table-parser\\.venv-2\\lib\\site-packages (from torch) (3.18.0)\n",
      "Requirement already satisfied: typing-extensions>=4.10.0 in f:\\github\\table-parser\\.venv-2\\lib\\site-packages (from torch) (4.13.0)\n",
      "Requirement already satisfied: networkx in f:\\github\\table-parser\\.venv-2\\lib\\site-packages (from torch) (3.4.2)\n",
      "Requirement already satisfied: jinja2 in f:\\github\\table-parser\\.venv-2\\lib\\site-packages (from torch) (3.1.6)\n",
      "Requirement already satisfied: fsspec in f:\\github\\table-parser\\.venv-2\\lib\\site-packages (from torch) (2025.3.0)\n",
      "Requirement already satisfied: sympy==1.13.1 in f:\\github\\table-parser\\.venv-2\\lib\\site-packages (from torch) (1.13.1)\n",
      "Requirement already satisfied: mpmath<1.4,>=1.1.0 in f:\\github\\table-parser\\.venv-2\\lib\\site-packages (from sympy==1.13.1->torch) (1.3.0)\n",
      "Requirement already satisfied: numpy in f:\\github\\table-parser\\.venv-2\\lib\\site-packages (from torchvision) (2.1.1)\n",
      "Requirement already satisfied: pillow!=8.3.*,>=5.3.0 in f:\\github\\table-parser\\.venv-2\\lib\\site-packages (from torchvision) (11.1.0)\n",
      "Requirement already satisfied: MarkupSafe>=2.0 in f:\\github\\table-parser\\.venv-2\\lib\\site-packages (from jinja2->torch) (3.0.2)\n",
      "Using cached https://download.pytorch.org/whl/cu126/torchaudio-2.6.0%2Bcu126-cp311-cp311-win_amd64.whl (4.2 MB)\n",
      "Installing collected packages: torchaudio\n",
      "Successfully installed torchaudio-2.6.0+cu126\n"
     ]
    },
    {
     "name": "stderr",
     "output_type": "stream",
     "text": [
      "\n",
      "[notice] A new release of pip is available: 23.2.1 -> 25.0.1\n",
      "[notice] To update, run: python.exe -m pip install --upgrade pip\n"
     ]
    }
   ],
   "source": [
    "! pip3 install torch torchvision torchaudio --index-url https://download.pytorch.org/whl/cu126"
   ]
  },
  {
   "cell_type": "code",
   "execution_count": null,
   "metadata": {},
   "outputs": [
    {
     "data": {
      "text/plain": [
       "True"
      ]
     },
     "execution_count": 3,
     "metadata": {},
     "output_type": "execute_result"
    }
   ],
   "source": [
    "import torch\n",
    "\n",
    "torch.cuda.is_available()"
   ]
  },
  {
   "cell_type": "code",
   "execution_count": 3,
   "metadata": {},
   "outputs": [
    {
     "name": "stdout",
     "output_type": "stream",
     "text": [
      "Ultralytics 8.3.98  Python-3.11.7 torch-2.6.0+cu126 CUDA:0 (NVIDIA GeForce RTX 3080, 10240MiB)\n",
      "\u001b[34m\u001b[1mengine\\trainer: \u001b[0mtask=detect, mode=train, model=yolov8s.pt, data=F:/GitHub/datasets/TableBlankDetectionYolo/data.yaml, epochs=50, time=None, patience=100, batch=16, imgsz=640, save=True, save_period=-1, cache=False, device=0, workers=8, project=None, name=table_bank4, exist_ok=False, pretrained=True, optimizer=auto, verbose=True, seed=0, deterministic=True, single_cls=False, rect=False, cos_lr=False, close_mosaic=10, resume=False, amp=True, fraction=1.0, profile=False, freeze=None, multi_scale=False, overlap_mask=True, mask_ratio=4, dropout=0.0, val=True, split=val, save_json=False, save_hybrid=False, conf=None, iou=0.7, max_det=300, half=False, dnn=False, plots=True, source=None, vid_stride=1, stream_buffer=False, visualize=False, augment=False, agnostic_nms=False, classes=None, retina_masks=False, embed=None, show=False, save_frames=False, save_txt=False, save_conf=False, save_crop=False, show_labels=True, show_conf=True, show_boxes=True, line_width=None, format=torchscript, keras=False, optimize=False, int8=False, dynamic=False, simplify=True, opset=None, workspace=None, nms=False, lr0=0.01, lrf=0.01, momentum=0.937, weight_decay=0.0005, warmup_epochs=3.0, warmup_momentum=0.8, warmup_bias_lr=0.1, box=7.5, cls=0.5, dfl=1.5, pose=12.0, kobj=1.0, nbs=64, hsv_h=0.015, hsv_s=0.7, hsv_v=0.4, degrees=0.0, translate=0.1, scale=0.5, shear=0.0, perspective=0.0, flipud=0.0, fliplr=0.5, bgr=0.0, mosaic=1.0, mixup=0.0, copy_paste=0.0, copy_paste_mode=flip, auto_augment=randaugment, erasing=0.4, crop_fraction=1.0, cfg=None, tracker=botsort.yaml, save_dir=f:\\GitHub\\table-parser\\runs\\detect\\table_bank4\n",
      "Overriding model.yaml nc=80 with nc=1\n",
      "\n",
      "                   from  n    params  module                                       arguments                     \n",
      "  0                  -1  1       928  ultralytics.nn.modules.conv.Conv             [3, 32, 3, 2]                 \n",
      "  1                  -1  1     18560  ultralytics.nn.modules.conv.Conv             [32, 64, 3, 2]                \n",
      "  2                  -1  1     29056  ultralytics.nn.modules.block.C2f             [64, 64, 1, True]             \n",
      "  3                  -1  1     73984  ultralytics.nn.modules.conv.Conv             [64, 128, 3, 2]               \n",
      "  4                  -1  2    197632  ultralytics.nn.modules.block.C2f             [128, 128, 2, True]           \n",
      "  5                  -1  1    295424  ultralytics.nn.modules.conv.Conv             [128, 256, 3, 2]              \n",
      "  6                  -1  2    788480  ultralytics.nn.modules.block.C2f             [256, 256, 2, True]           \n",
      "  7                  -1  1   1180672  ultralytics.nn.modules.conv.Conv             [256, 512, 3, 2]              \n",
      "  8                  -1  1   1838080  ultralytics.nn.modules.block.C2f             [512, 512, 1, True]           \n",
      "  9                  -1  1    656896  ultralytics.nn.modules.block.SPPF            [512, 512, 5]                 \n",
      " 10                  -1  1         0  torch.nn.modules.upsampling.Upsample         [None, 2, 'nearest']          \n",
      " 11             [-1, 6]  1         0  ultralytics.nn.modules.conv.Concat           [1]                           \n",
      " 12                  -1  1    591360  ultralytics.nn.modules.block.C2f             [768, 256, 1]                 \n",
      " 13                  -1  1         0  torch.nn.modules.upsampling.Upsample         [None, 2, 'nearest']          \n",
      " 14             [-1, 4]  1         0  ultralytics.nn.modules.conv.Concat           [1]                           \n",
      " 15                  -1  1    148224  ultralytics.nn.modules.block.C2f             [384, 128, 1]                 \n",
      " 16                  -1  1    147712  ultralytics.nn.modules.conv.Conv             [128, 128, 3, 2]              \n",
      " 17            [-1, 12]  1         0  ultralytics.nn.modules.conv.Concat           [1]                           \n",
      " 18                  -1  1    493056  ultralytics.nn.modules.block.C2f             [384, 256, 1]                 \n",
      " 19                  -1  1    590336  ultralytics.nn.modules.conv.Conv             [256, 256, 3, 2]              \n",
      " 20             [-1, 9]  1         0  ultralytics.nn.modules.conv.Concat           [1]                           \n",
      " 21                  -1  1   1969152  ultralytics.nn.modules.block.C2f             [768, 512, 1]                 \n",
      " 22        [15, 18, 21]  1   2116435  ultralytics.nn.modules.head.Detect           [1, [128, 256, 512]]          \n",
      "Model summary: 129 layers, 11,135,987 parameters, 11,135,971 gradients, 28.6 GFLOPs\n",
      "\n",
      "Transferred 349/355 items from pretrained weights\n",
      "Freezing layer 'model.22.dfl.conv.weight'\n",
      "\u001b[34m\u001b[1mAMP: \u001b[0mrunning Automatic Mixed Precision (AMP) checks...\n",
      "\u001b[34m\u001b[1mAMP: \u001b[0mchecks passed \n"
     ]
    },
    {
     "name": "stderr",
     "output_type": "stream",
     "text": [
      "\u001b[34m\u001b[1mtrain: \u001b[0mScanning F:\\GitHub\\datasets\\TableBlankDetectionYolo\\labels\\train... 187199 images, 0 backgrounds, 0 corrupt: 100%|██████████| 187199/187199 [04:43<00:00, 660.08it/s]\n"
     ]
    },
    {
     "name": "stdout",
     "output_type": "stream",
     "text": [
      "\u001b[34m\u001b[1mtrain: \u001b[0mNew cache created: F:\\GitHub\\datasets\\TableBlankDetectionYolo\\labels\\train.cache\n"
     ]
    },
    {
     "name": "stderr",
     "output_type": "stream",
     "text": [
      "\u001b[34m\u001b[1mval: \u001b[0mScanning F:\\GitHub\\datasets\\TableBlankDetectionYolo\\labels\\val... 7265 images, 0 backgrounds, 0 corrupt: 100%|██████████| 7265/7265 [00:11<00:00, 639.05it/s]\n"
     ]
    },
    {
     "name": "stdout",
     "output_type": "stream",
     "text": [
      "\u001b[34m\u001b[1mval: \u001b[0mNew cache created: F:\\GitHub\\datasets\\TableBlankDetectionYolo\\labels\\val.cache\n",
      "Plotting labels to f:\\GitHub\\table-parser\\runs\\detect\\table_bank4\\labels.jpg... \n",
      "\u001b[34m\u001b[1moptimizer:\u001b[0m 'optimizer=auto' found, ignoring 'lr0=0.01' and 'momentum=0.937' and determining best 'optimizer', 'lr0' and 'momentum' automatically... \n",
      "\u001b[34m\u001b[1moptimizer:\u001b[0m SGD(lr=0.01, momentum=0.9) with parameter groups 57 weight(decay=0.0), 64 weight(decay=0.0005), 63 bias(decay=0.0)\n",
      "Image sizes 640 train, 640 val\n",
      "Using 8 dataloader workers\n",
      "Logging results to \u001b[1mf:\\GitHub\\table-parser\\runs\\detect\\table_bank4\u001b[0m\n",
      "Starting training for 50 epochs...\n",
      "\n",
      "      Epoch    GPU_mem   box_loss   cls_loss   dfl_loss  Instances       Size\n"
     ]
    },
    {
     "name": "stderr",
     "output_type": "stream",
     "text": [
      "       1/50      3.76G      0.321      0.382     0.8716         32        640: 100%|██████████| 11700/11700 [25:40<00:00,  7.60it/s]\n",
      "                 Class     Images  Instances      Box(P          R      mAP50  mAP50-95): 100%|██████████| 228/228 [00:32<00:00,  7.00it/s]"
     ]
    },
    {
     "name": "stdout",
     "output_type": "stream",
     "text": [
      "                   all       7265       9140      0.978      0.986      0.989      0.969\n"
     ]
    },
    {
     "name": "stderr",
     "output_type": "stream",
     "text": [
      "\n"
     ]
    },
    {
     "name": "stdout",
     "output_type": "stream",
     "text": [
      "\n",
      "      Epoch    GPU_mem   box_loss   cls_loss   dfl_loss  Instances       Size\n"
     ]
    },
    {
     "name": "stderr",
     "output_type": "stream",
     "text": [
      "       2/50      4.56G     0.2975      0.293     0.8635         40        640: 100%|██████████| 11700/11700 [24:30<00:00,  7.96it/s]\n",
      "                 Class     Images  Instances      Box(P          R      mAP50  mAP50-95): 100%|██████████| 228/228 [00:30<00:00,  7.54it/s]\n"
     ]
    },
    {
     "name": "stdout",
     "output_type": "stream",
     "text": [
      "                   all       7265       9140      0.977      0.989      0.988      0.972\n",
      "\n",
      "      Epoch    GPU_mem   box_loss   cls_loss   dfl_loss  Instances       Size\n"
     ]
    },
    {
     "name": "stderr",
     "output_type": "stream",
     "text": [
      "       3/50      4.58G     0.2957     0.2911     0.8658         43        640: 100%|██████████| 11700/11700 [23:04<00:00,  8.45it/s]\n",
      "                 Class     Images  Instances      Box(P          R      mAP50  mAP50-95): 100%|██████████| 228/228 [00:30<00:00,  7.59it/s]\n"
     ]
    },
    {
     "name": "stdout",
     "output_type": "stream",
     "text": [
      "                   all       7265       9140      0.975      0.991      0.989      0.974\n",
      "\n",
      "      Epoch    GPU_mem   box_loss   cls_loss   dfl_loss  Instances       Size\n"
     ]
    },
    {
     "name": "stderr",
     "output_type": "stream",
     "text": [
      "       4/50       4.6G     0.2725     0.2726     0.8622         41        640: 100%|██████████| 11700/11700 [22:53<00:00,  8.52it/s]\n",
      "                 Class     Images  Instances      Box(P          R      mAP50  mAP50-95): 100%|██████████| 228/228 [00:30<00:00,  7.50it/s]"
     ]
    },
    {
     "name": "stdout",
     "output_type": "stream",
     "text": [
      "                   all       7265       9140       0.98      0.968      0.988      0.966\n"
     ]
    },
    {
     "name": "stderr",
     "output_type": "stream",
     "text": [
      "\n"
     ]
    },
    {
     "name": "stdout",
     "output_type": "stream",
     "text": [
      "\n",
      "      Epoch    GPU_mem   box_loss   cls_loss   dfl_loss  Instances       Size\n"
     ]
    },
    {
     "name": "stderr",
     "output_type": "stream",
     "text": [
      "       5/50      4.63G     0.2494     0.2501     0.8566         32        640: 100%|██████████| 11700/11700 [22:51<00:00,  8.53it/s]\n",
      "                 Class     Images  Instances      Box(P          R      mAP50  mAP50-95): 100%|██████████| 228/228 [00:30<00:00,  7.54it/s]"
     ]
    },
    {
     "name": "stdout",
     "output_type": "stream",
     "text": [
      "                   all       7265       9140      0.926       0.98      0.978      0.949\n"
     ]
    },
    {
     "name": "stderr",
     "output_type": "stream",
     "text": [
      "\n"
     ]
    },
    {
     "name": "stdout",
     "output_type": "stream",
     "text": [
      "\n",
      "      Epoch    GPU_mem   box_loss   cls_loss   dfl_loss  Instances       Size\n"
     ]
    },
    {
     "name": "stderr",
     "output_type": "stream",
     "text": [
      "       6/50      4.65G      0.238     0.2377     0.8525         48        640: 100%|██████████| 11700/11700 [22:53<00:00,  8.52it/s]\n",
      "                 Class     Images  Instances      Box(P          R      mAP50  mAP50-95): 100%|██████████| 228/228 [00:30<00:00,  7.54it/s]\n"
     ]
    },
    {
     "name": "stdout",
     "output_type": "stream",
     "text": [
      "                   all       7265       9140      0.931      0.977      0.976      0.947\n",
      "\n",
      "      Epoch    GPU_mem   box_loss   cls_loss   dfl_loss  Instances       Size\n"
     ]
    },
    {
     "name": "stderr",
     "output_type": "stream",
     "text": [
      "       7/50      4.68G     0.2302     0.2322     0.8492         44        640: 100%|██████████| 11700/11700 [22:53<00:00,  8.52it/s]\n",
      "                 Class     Images  Instances      Box(P          R      mAP50  mAP50-95): 100%|██████████| 228/228 [00:30<00:00,  7.53it/s]"
     ]
    },
    {
     "name": "stdout",
     "output_type": "stream",
     "text": [
      "                   all       7265       9140      0.922      0.985       0.98      0.956\n"
     ]
    },
    {
     "name": "stderr",
     "output_type": "stream",
     "text": [
      "\n"
     ]
    },
    {
     "name": "stdout",
     "output_type": "stream",
     "text": [
      "\n",
      "      Epoch    GPU_mem   box_loss   cls_loss   dfl_loss  Instances       Size\n"
     ]
    },
    {
     "name": "stderr",
     "output_type": "stream",
     "text": [
      "       8/50       4.7G     0.2234     0.2262     0.8462         35        640: 100%|██████████| 11700/11700 [22:55<00:00,  8.51it/s]\n",
      "                 Class     Images  Instances      Box(P          R      mAP50  mAP50-95): 100%|██████████| 228/228 [00:30<00:00,  7.49it/s]"
     ]
    },
    {
     "name": "stdout",
     "output_type": "stream",
     "text": [
      "                   all       7265       9140      0.984      0.956      0.986      0.966\n"
     ]
    },
    {
     "name": "stderr",
     "output_type": "stream",
     "text": [
      "\n"
     ]
    },
    {
     "name": "stdout",
     "output_type": "stream",
     "text": [
      "\n",
      "      Epoch    GPU_mem   box_loss   cls_loss   dfl_loss  Instances       Size\n"
     ]
    },
    {
     "name": "stderr",
     "output_type": "stream",
     "text": [
      "       9/50      4.72G     0.2219     0.2245     0.8461         40        640: 100%|██████████| 11700/11700 [22:55<00:00,  8.50it/s]\n",
      "                 Class     Images  Instances      Box(P          R      mAP50  mAP50-95): 100%|██████████| 228/228 [00:30<00:00,  7.50it/s]"
     ]
    },
    {
     "name": "stdout",
     "output_type": "stream",
     "text": [
      "                   all       7265       9140      0.981      0.981      0.989      0.974\n"
     ]
    },
    {
     "name": "stderr",
     "output_type": "stream",
     "text": [
      "\n"
     ]
    },
    {
     "name": "stdout",
     "output_type": "stream",
     "text": [
      "\n",
      "      Epoch    GPU_mem   box_loss   cls_loss   dfl_loss  Instances       Size\n"
     ]
    },
    {
     "name": "stderr",
     "output_type": "stream",
     "text": [
      "      10/50      4.75G     0.2188     0.2217     0.8444         30        640: 100%|██████████| 11700/11700 [22:52<00:00,  8.52it/s]\n",
      "                 Class     Images  Instances      Box(P          R      mAP50  mAP50-95): 100%|██████████| 228/228 [00:30<00:00,  7.50it/s]\n"
     ]
    },
    {
     "name": "stdout",
     "output_type": "stream",
     "text": [
      "                   all       7265       9140       0.98      0.988      0.991      0.978\n",
      "\n",
      "      Epoch    GPU_mem   box_loss   cls_loss   dfl_loss  Instances       Size\n"
     ]
    },
    {
     "name": "stderr",
     "output_type": "stream",
     "text": [
      "      11/50      4.77G     0.2161     0.2196     0.8427         36        640: 100%|██████████| 11700/11700 [22:49<00:00,  8.54it/s]\n",
      "                 Class     Images  Instances      Box(P          R      mAP50  mAP50-95): 100%|██████████| 228/228 [00:30<00:00,  7.52it/s]\n"
     ]
    },
    {
     "name": "stdout",
     "output_type": "stream",
     "text": [
      "                   all       7265       9140      0.982      0.988      0.991      0.981\n",
      "\n",
      "      Epoch    GPU_mem   box_loss   cls_loss   dfl_loss  Instances       Size\n"
     ]
    },
    {
     "name": "stderr",
     "output_type": "stream",
     "text": [
      "      12/50       4.8G     0.2132     0.2158      0.841         36        640: 100%|██████████| 11700/11700 [22:52<00:00,  8.52it/s]\n",
      "                 Class     Images  Instances      Box(P          R      mAP50  mAP50-95): 100%|██████████| 228/228 [00:30<00:00,  7.53it/s]\n"
     ]
    },
    {
     "name": "stdout",
     "output_type": "stream",
     "text": [
      "                   all       7265       9140      0.982      0.989      0.991      0.982\n",
      "\n",
      "      Epoch    GPU_mem   box_loss   cls_loss   dfl_loss  Instances       Size\n"
     ]
    },
    {
     "name": "stderr",
     "output_type": "stream",
     "text": [
      "      13/50      4.82G       0.21     0.2144     0.8401         39        640: 100%|██████████| 11700/11700 [23:01<00:00,  8.47it/s]\n",
      "                 Class     Images  Instances      Box(P          R      mAP50  mAP50-95): 100%|██████████| 228/228 [00:30<00:00,  7.49it/s]"
     ]
    },
    {
     "name": "stdout",
     "output_type": "stream",
     "text": [
      "                   all       7265       9140       0.98      0.992      0.992      0.982\n"
     ]
    },
    {
     "name": "stderr",
     "output_type": "stream",
     "text": [
      "\n"
     ]
    },
    {
     "name": "stdout",
     "output_type": "stream",
     "text": [
      "\n",
      "      Epoch    GPU_mem   box_loss   cls_loss   dfl_loss  Instances       Size\n"
     ]
    },
    {
     "name": "stderr",
     "output_type": "stream",
     "text": [
      "      14/50      4.85G     0.2094     0.2124     0.8405         51        640: 100%|██████████| 11700/11700 [23:07<00:00,  8.43it/s]\n",
      "                 Class     Images  Instances      Box(P          R      mAP50  mAP50-95): 100%|██████████| 228/228 [00:30<00:00,  7.49it/s]"
     ]
    },
    {
     "name": "stdout",
     "output_type": "stream",
     "text": [
      "                   all       7265       9140      0.979      0.992      0.991      0.983\n"
     ]
    },
    {
     "name": "stderr",
     "output_type": "stream",
     "text": [
      "\n"
     ]
    },
    {
     "name": "stdout",
     "output_type": "stream",
     "text": [
      "\n",
      "      Epoch    GPU_mem   box_loss   cls_loss   dfl_loss  Instances       Size\n"
     ]
    },
    {
     "name": "stderr",
     "output_type": "stream",
     "text": [
      "      15/50      4.87G     0.2078      0.211     0.8397         40        640: 100%|██████████| 11700/11700 [23:02<00:00,  8.46it/s]\n",
      "                 Class     Images  Instances      Box(P          R      mAP50  mAP50-95): 100%|██████████| 228/228 [00:30<00:00,  7.42it/s]"
     ]
    },
    {
     "name": "stdout",
     "output_type": "stream",
     "text": [
      "                   all       7265       9140      0.981       0.99      0.991      0.983\n"
     ]
    },
    {
     "name": "stderr",
     "output_type": "stream",
     "text": [
      "\n"
     ]
    },
    {
     "name": "stdout",
     "output_type": "stream",
     "text": [
      "\n",
      "      Epoch    GPU_mem   box_loss   cls_loss   dfl_loss  Instances       Size\n"
     ]
    },
    {
     "name": "stderr",
     "output_type": "stream",
     "text": [
      "      16/50      4.89G     0.2052     0.2088     0.8381         30        640: 100%|██████████| 11700/11700 [23:04<00:00,  8.45it/s]\n",
      "                 Class     Images  Instances      Box(P          R      mAP50  mAP50-95): 100%|██████████| 228/228 [00:30<00:00,  7.38it/s]"
     ]
    },
    {
     "name": "stdout",
     "output_type": "stream",
     "text": [
      "                   all       7265       9140       0.98      0.991      0.991      0.983\n"
     ]
    },
    {
     "name": "stderr",
     "output_type": "stream",
     "text": [
      "\n"
     ]
    },
    {
     "name": "stdout",
     "output_type": "stream",
     "text": [
      "\n",
      "      Epoch    GPU_mem   box_loss   cls_loss   dfl_loss  Instances       Size\n"
     ]
    },
    {
     "name": "stderr",
     "output_type": "stream",
     "text": [
      "      17/50      4.92G     0.2034     0.2087     0.8377         37        640: 100%|██████████| 11700/11700 [23:04<00:00,  8.45it/s]\n",
      "                 Class     Images  Instances      Box(P          R      mAP50  mAP50-95): 100%|██████████| 228/228 [00:30<00:00,  7.43it/s]\n"
     ]
    },
    {
     "name": "stdout",
     "output_type": "stream",
     "text": [
      "                   all       7265       9140      0.981      0.992      0.991      0.984\n",
      "\n",
      "      Epoch    GPU_mem   box_loss   cls_loss   dfl_loss  Instances       Size\n"
     ]
    },
    {
     "name": "stderr",
     "output_type": "stream",
     "text": [
      "      18/50      4.94G     0.2032     0.2082      0.838         42        640: 100%|██████████| 11700/11700 [23:03<00:00,  8.45it/s]\n",
      "                 Class     Images  Instances      Box(P          R      mAP50  mAP50-95): 100%|██████████| 228/228 [00:30<00:00,  7.52it/s]"
     ]
    },
    {
     "name": "stdout",
     "output_type": "stream",
     "text": [
      "                   all       7265       9140      0.981       0.99      0.991      0.984\n"
     ]
    },
    {
     "name": "stderr",
     "output_type": "stream",
     "text": [
      "\n"
     ]
    },
    {
     "name": "stdout",
     "output_type": "stream",
     "text": [
      "\n",
      "      Epoch    GPU_mem   box_loss   cls_loss   dfl_loss  Instances       Size\n"
     ]
    },
    {
     "name": "stderr",
     "output_type": "stream",
     "text": [
      "      19/50      4.97G     0.2008     0.2053     0.8364         43        640: 100%|██████████| 11700/11700 [23:01<00:00,  8.47it/s]\n",
      "                 Class     Images  Instances      Box(P          R      mAP50  mAP50-95): 100%|██████████| 228/228 [00:30<00:00,  7.46it/s]"
     ]
    },
    {
     "name": "stdout",
     "output_type": "stream",
     "text": [
      "                   all       7265       9140      0.981      0.991      0.991      0.984\n"
     ]
    },
    {
     "name": "stderr",
     "output_type": "stream",
     "text": [
      "\n"
     ]
    },
    {
     "name": "stdout",
     "output_type": "stream",
     "text": [
      "\n",
      "      Epoch    GPU_mem   box_loss   cls_loss   dfl_loss  Instances       Size\n"
     ]
    },
    {
     "name": "stderr",
     "output_type": "stream",
     "text": [
      "      20/50      4.99G     0.1989     0.2024     0.8367         41        640: 100%|██████████| 11700/11700 [23:03<00:00,  8.46it/s]\n",
      "                 Class     Images  Instances      Box(P          R      mAP50  mAP50-95): 100%|██████████| 228/228 [00:30<00:00,  7.45it/s]"
     ]
    },
    {
     "name": "stdout",
     "output_type": "stream",
     "text": [
      "                   all       7265       9140      0.981       0.99      0.991      0.984\n"
     ]
    },
    {
     "name": "stderr",
     "output_type": "stream",
     "text": [
      "\n"
     ]
    },
    {
     "name": "stdout",
     "output_type": "stream",
     "text": [
      "\n",
      "      Epoch    GPU_mem   box_loss   cls_loss   dfl_loss  Instances       Size\n"
     ]
    },
    {
     "name": "stderr",
     "output_type": "stream",
     "text": [
      "      21/50      5.02G     0.1969     0.2018     0.8358         35        640: 100%|██████████| 11700/11700 [23:02<00:00,  8.46it/s]\n",
      "                 Class     Images  Instances      Box(P          R      mAP50  mAP50-95): 100%|██████████| 228/228 [00:30<00:00,  7.43it/s]\n"
     ]
    },
    {
     "name": "stdout",
     "output_type": "stream",
     "text": [
      "                   all       7265       9140      0.982       0.99      0.991      0.984\n",
      "\n",
      "      Epoch    GPU_mem   box_loss   cls_loss   dfl_loss  Instances       Size\n"
     ]
    },
    {
     "name": "stderr",
     "output_type": "stream",
     "text": [
      "      22/50      5.04G     0.1968     0.2029     0.8358         36        640: 100%|██████████| 11700/11700 [23:04<00:00,  8.45it/s]\n",
      "                 Class     Images  Instances      Box(P          R      mAP50  mAP50-95): 100%|██████████| 228/228 [00:30<00:00,  7.47it/s]"
     ]
    },
    {
     "name": "stdout",
     "output_type": "stream",
     "text": [
      "                   all       7265       9140      0.982       0.99      0.991      0.984\n"
     ]
    },
    {
     "name": "stderr",
     "output_type": "stream",
     "text": [
      "\n"
     ]
    },
    {
     "name": "stdout",
     "output_type": "stream",
     "text": [
      "\n",
      "      Epoch    GPU_mem   box_loss   cls_loss   dfl_loss  Instances       Size\n"
     ]
    },
    {
     "name": "stderr",
     "output_type": "stream",
     "text": [
      "      23/50      5.06G     0.1942      0.199     0.8339         47        640: 100%|██████████| 11700/11700 [23:00<00:00,  8.47it/s]\n",
      "                 Class     Images  Instances      Box(P          R      mAP50  mAP50-95): 100%|██████████| 228/228 [00:30<00:00,  7.43it/s]\n"
     ]
    },
    {
     "name": "stdout",
     "output_type": "stream",
     "text": [
      "                   all       7265       9140      0.982       0.99      0.991      0.984\n",
      "\n",
      "      Epoch    GPU_mem   box_loss   cls_loss   dfl_loss  Instances       Size\n"
     ]
    },
    {
     "name": "stderr",
     "output_type": "stream",
     "text": [
      "      24/50      5.09G     0.1938      0.199     0.8346         34        640: 100%|██████████| 11700/11700 [23:03<00:00,  8.46it/s]\n",
      "                 Class     Images  Instances      Box(P          R      mAP50  mAP50-95): 100%|██████████| 228/228 [00:30<00:00,  7.47it/s]\n"
     ]
    },
    {
     "name": "stdout",
     "output_type": "stream",
     "text": [
      "                   all       7265       9140      0.982      0.991      0.991      0.984\n",
      "\n",
      "      Epoch    GPU_mem   box_loss   cls_loss   dfl_loss  Instances       Size\n"
     ]
    },
    {
     "name": "stderr",
     "output_type": "stream",
     "text": [
      "      25/50      5.11G        inf     0.1973     0.8338         32        640: 100%|██████████| 11700/11700 [23:35<00:00,  8.27it/s]\n",
      "                 Class     Images  Instances      Box(P          R      mAP50  mAP50-95): 100%|██████████| 228/228 [00:32<00:00,  7.06it/s]\n"
     ]
    },
    {
     "name": "stdout",
     "output_type": "stream",
     "text": [
      "                   all       7265       9140      0.983       0.99      0.991      0.985\n",
      "\n",
      "      Epoch    GPU_mem   box_loss   cls_loss   dfl_loss  Instances       Size\n"
     ]
    },
    {
     "name": "stderr",
     "output_type": "stream",
     "text": [
      "      26/50      5.14G     0.1904     0.1943      0.833         33        640: 100%|██████████| 11700/11700 [23:48<00:00,  8.19it/s]\n",
      "                 Class     Images  Instances      Box(P          R      mAP50  mAP50-95): 100%|██████████| 228/228 [00:30<00:00,  7.46it/s]\n"
     ]
    },
    {
     "name": "stdout",
     "output_type": "stream",
     "text": [
      "                   all       7265       9140      0.983      0.991      0.991      0.985\n",
      "\n",
      "      Epoch    GPU_mem   box_loss   cls_loss   dfl_loss  Instances       Size\n"
     ]
    },
    {
     "name": "stderr",
     "output_type": "stream",
     "text": [
      "      27/50      5.16G     0.1883     0.1937     0.8329         36        640: 100%|██████████| 11700/11700 [24:20<00:00,  8.01it/s]\n",
      "                 Class     Images  Instances      Box(P          R      mAP50  mAP50-95): 100%|██████████| 228/228 [00:32<00:00,  6.97it/s]"
     ]
    },
    {
     "name": "stdout",
     "output_type": "stream",
     "text": [
      "                   all       7265       9140      0.983       0.99      0.991      0.985\n"
     ]
    },
    {
     "name": "stderr",
     "output_type": "stream",
     "text": [
      "\n"
     ]
    },
    {
     "name": "stdout",
     "output_type": "stream",
     "text": [
      "\n",
      "      Epoch    GPU_mem   box_loss   cls_loss   dfl_loss  Instances       Size\n"
     ]
    },
    {
     "name": "stderr",
     "output_type": "stream",
     "text": [
      "      28/50      5.19G     0.1868     0.1916     0.8319         31        640: 100%|██████████| 11700/11700 [23:20<00:00,  8.35it/s]\n",
      "                 Class     Images  Instances      Box(P          R      mAP50  mAP50-95): 100%|██████████| 228/228 [00:30<00:00,  7.44it/s]"
     ]
    },
    {
     "name": "stdout",
     "output_type": "stream",
     "text": [
      "                   all       7265       9140      0.982      0.992      0.991      0.985\n"
     ]
    },
    {
     "name": "stderr",
     "output_type": "stream",
     "text": [
      "\n"
     ]
    },
    {
     "name": "stdout",
     "output_type": "stream",
     "text": [
      "\n",
      "      Epoch    GPU_mem   box_loss   cls_loss   dfl_loss  Instances       Size\n"
     ]
    },
    {
     "name": "stderr",
     "output_type": "stream",
     "text": [
      "      29/50      5.21G     0.1863     0.1915     0.8317         34        640: 100%|██████████| 11700/11700 [23:04<00:00,  8.45it/s]\n",
      "                 Class     Images  Instances      Box(P          R      mAP50  mAP50-95): 100%|██████████| 228/228 [00:30<00:00,  7.41it/s]\n"
     ]
    },
    {
     "name": "stdout",
     "output_type": "stream",
     "text": [
      "                   all       7265       9140      0.983      0.991      0.991      0.985\n",
      "\n",
      "      Epoch    GPU_mem   box_loss   cls_loss   dfl_loss  Instances       Size\n"
     ]
    },
    {
     "name": "stderr",
     "output_type": "stream",
     "text": [
      "      30/50      5.23G     0.1843     0.1877     0.8312         38        640: 100%|██████████| 11700/11700 [23:06<00:00,  8.44it/s]\n",
      "                 Class     Images  Instances      Box(P          R      mAP50  mAP50-95): 100%|██████████| 228/228 [00:30<00:00,  7.41it/s]\n"
     ]
    },
    {
     "name": "stdout",
     "output_type": "stream",
     "text": [
      "                   all       7265       9140      0.983      0.992      0.991      0.985\n",
      "\n",
      "      Epoch    GPU_mem   box_loss   cls_loss   dfl_loss  Instances       Size\n"
     ]
    },
    {
     "name": "stderr",
     "output_type": "stream",
     "text": [
      "      31/50      5.26G     0.1832     0.1878     0.8301         40        640: 100%|██████████| 11700/11700 [23:05<00:00,  8.45it/s]\n",
      "                 Class     Images  Instances      Box(P          R      mAP50  mAP50-95): 100%|██████████| 228/228 [00:30<00:00,  7.39it/s]"
     ]
    },
    {
     "name": "stdout",
     "output_type": "stream",
     "text": [
      "                   all       7265       9140      0.983      0.992      0.991      0.985\n"
     ]
    },
    {
     "name": "stderr",
     "output_type": "stream",
     "text": [
      "\n"
     ]
    },
    {
     "name": "stdout",
     "output_type": "stream",
     "text": [
      "\n",
      "      Epoch    GPU_mem   box_loss   cls_loss   dfl_loss  Instances       Size\n"
     ]
    },
    {
     "name": "stderr",
     "output_type": "stream",
     "text": [
      "      32/50      5.28G     0.1817     0.1869     0.8293         29        640: 100%|██████████| 11700/11700 [23:07<00:00,  8.43it/s]\n",
      "                 Class     Images  Instances      Box(P          R      mAP50  mAP50-95): 100%|██████████| 228/228 [00:30<00:00,  7.38it/s]"
     ]
    },
    {
     "name": "stdout",
     "output_type": "stream",
     "text": [
      "                   all       7265       9140      0.983      0.991      0.991      0.986\n"
     ]
    },
    {
     "name": "stderr",
     "output_type": "stream",
     "text": [
      "\n"
     ]
    },
    {
     "name": "stdout",
     "output_type": "stream",
     "text": [
      "\n",
      "      Epoch    GPU_mem   box_loss   cls_loss   dfl_loss  Instances       Size\n"
     ]
    },
    {
     "name": "stderr",
     "output_type": "stream",
     "text": [
      "      33/50      5.31G      0.179     0.1835       0.83         45        640: 100%|██████████| 11700/11700 [23:08<00:00,  8.43it/s]\n",
      "                 Class     Images  Instances      Box(P          R      mAP50  mAP50-95): 100%|██████████| 228/228 [00:30<00:00,  7.37it/s]"
     ]
    },
    {
     "name": "stdout",
     "output_type": "stream",
     "text": [
      "                   all       7265       9140      0.983      0.992      0.991      0.986\n"
     ]
    },
    {
     "name": "stderr",
     "output_type": "stream",
     "text": [
      "\n"
     ]
    },
    {
     "name": "stdout",
     "output_type": "stream",
     "text": [
      "\n",
      "      Epoch    GPU_mem   box_loss   cls_loss   dfl_loss  Instances       Size\n"
     ]
    },
    {
     "name": "stderr",
     "output_type": "stream",
     "text": [
      "      34/50      5.33G     0.1782     0.1835     0.8296         32        640: 100%|██████████| 11700/11700 [23:06<00:00,  8.44it/s]\n",
      "                 Class     Images  Instances      Box(P          R      mAP50  mAP50-95): 100%|██████████| 228/228 [00:30<00:00,  7.41it/s]"
     ]
    },
    {
     "name": "stdout",
     "output_type": "stream",
     "text": [
      "                   all       7265       9140      0.984      0.992      0.991      0.986\n"
     ]
    },
    {
     "name": "stderr",
     "output_type": "stream",
     "text": [
      "\n"
     ]
    },
    {
     "name": "stdout",
     "output_type": "stream",
     "text": [
      "\n",
      "      Epoch    GPU_mem   box_loss   cls_loss   dfl_loss  Instances       Size\n"
     ]
    },
    {
     "name": "stderr",
     "output_type": "stream",
     "text": [
      "      35/50      5.36G     0.1762     0.1828      0.829         31        640: 100%|██████████| 11700/11700 [23:08<00:00,  8.42it/s]\n",
      "                 Class     Images  Instances      Box(P          R      mAP50  mAP50-95): 100%|██████████| 228/228 [00:30<00:00,  7.40it/s]\n"
     ]
    },
    {
     "name": "stdout",
     "output_type": "stream",
     "text": [
      "                   all       7265       9140      0.984      0.991      0.992      0.986\n",
      "\n",
      "      Epoch    GPU_mem   box_loss   cls_loss   dfl_loss  Instances       Size\n"
     ]
    },
    {
     "name": "stderr",
     "output_type": "stream",
     "text": [
      "      36/50      5.38G      0.174     0.1786     0.8271         32        640: 100%|██████████| 11700/11700 [23:10<00:00,  8.42it/s]\n",
      "                 Class     Images  Instances      Box(P          R      mAP50  mAP50-95): 100%|██████████| 228/228 [00:31<00:00,  7.33it/s]\n"
     ]
    },
    {
     "name": "stdout",
     "output_type": "stream",
     "text": [
      "                   all       7265       9140      0.984      0.992      0.991      0.986\n",
      "\n",
      "      Epoch    GPU_mem   box_loss   cls_loss   dfl_loss  Instances       Size\n"
     ]
    },
    {
     "name": "stderr",
     "output_type": "stream",
     "text": [
      "      37/50       5.4G     0.1725     0.1774      0.827         43        640: 100%|██████████| 11700/11700 [23:10<00:00,  8.41it/s]\n",
      "                 Class     Images  Instances      Box(P          R      mAP50  mAP50-95): 100%|██████████| 228/228 [00:31<00:00,  7.30it/s]\n"
     ]
    },
    {
     "name": "stdout",
     "output_type": "stream",
     "text": [
      "                   all       7265       9140      0.985      0.992      0.991      0.986\n",
      "\n",
      "      Epoch    GPU_mem   box_loss   cls_loss   dfl_loss  Instances       Size\n"
     ]
    },
    {
     "name": "stderr",
     "output_type": "stream",
     "text": [
      "      38/50      5.43G     0.1707     0.1747     0.8274         37        640: 100%|██████████| 11700/11700 [23:12<00:00,  8.40it/s]\n",
      "                 Class     Images  Instances      Box(P          R      mAP50  mAP50-95): 100%|██████████| 228/228 [00:31<00:00,  7.22it/s]\n"
     ]
    },
    {
     "name": "stdout",
     "output_type": "stream",
     "text": [
      "                   all       7265       9140      0.984      0.992      0.992      0.986\n",
      "\n",
      "      Epoch    GPU_mem   box_loss   cls_loss   dfl_loss  Instances       Size\n"
     ]
    },
    {
     "name": "stderr",
     "output_type": "stream",
     "text": [
      "      39/50      5.46G     0.1681     0.1715     0.8258         31        640: 100%|██████████| 11700/11700 [23:15<00:00,  8.38it/s]\n",
      "                 Class     Images  Instances      Box(P          R      mAP50  mAP50-95): 100%|██████████| 228/228 [00:31<00:00,  7.28it/s]"
     ]
    },
    {
     "name": "stdout",
     "output_type": "stream",
     "text": [
      "                   all       7265       9140      0.985      0.991      0.992      0.986\n"
     ]
    },
    {
     "name": "stderr",
     "output_type": "stream",
     "text": [
      "\n"
     ]
    },
    {
     "name": "stdout",
     "output_type": "stream",
     "text": [
      "\n",
      "      Epoch    GPU_mem   box_loss   cls_loss   dfl_loss  Instances       Size\n"
     ]
    },
    {
     "name": "stderr",
     "output_type": "stream",
     "text": [
      "      40/50      5.48G     0.1667     0.1704     0.8254         40        640: 100%|██████████| 11700/11700 [23:21<00:00,  8.35it/s]\n",
      "                 Class     Images  Instances      Box(P          R      mAP50  mAP50-95): 100%|██████████| 228/228 [00:31<00:00,  7.31it/s]"
     ]
    },
    {
     "name": "stdout",
     "output_type": "stream",
     "text": [
      "                   all       7265       9140      0.985      0.992      0.992      0.986\n"
     ]
    },
    {
     "name": "stderr",
     "output_type": "stream",
     "text": [
      "\n"
     ]
    },
    {
     "name": "stdout",
     "output_type": "stream",
     "text": [
      "Closing dataloader mosaic\n",
      "\n",
      "      Epoch    GPU_mem   box_loss   cls_loss   dfl_loss  Instances       Size\n"
     ]
    },
    {
     "name": "stderr",
     "output_type": "stream",
     "text": [
      "      41/50      5.51G     0.1613     0.1513     0.7923         16        640: 100%|██████████| 11700/11700 [22:57<00:00,  8.49it/s]\n",
      "                 Class     Images  Instances      Box(P          R      mAP50  mAP50-95): 100%|██████████| 228/228 [00:31<00:00,  7.14it/s]"
     ]
    },
    {
     "name": "stdout",
     "output_type": "stream",
     "text": [
      "                   all       7265       9140      0.986      0.991      0.992      0.986\n"
     ]
    },
    {
     "name": "stderr",
     "output_type": "stream",
     "text": [
      "\n"
     ]
    },
    {
     "name": "stdout",
     "output_type": "stream",
     "text": [
      "\n",
      "      Epoch    GPU_mem   box_loss   cls_loss   dfl_loss  Instances       Size\n"
     ]
    },
    {
     "name": "stderr",
     "output_type": "stream",
     "text": [
      "      42/50      5.53G     0.1582     0.1476      0.792         23        640: 100%|██████████| 11700/11700 [22:54<00:00,  8.51it/s]\n",
      "                 Class     Images  Instances      Box(P          R      mAP50  mAP50-95): 100%|██████████| 228/228 [00:31<00:00,  7.33it/s]\n"
     ]
    },
    {
     "name": "stdout",
     "output_type": "stream",
     "text": [
      "                   all       7265       9140      0.986      0.991      0.992      0.986\n",
      "\n",
      "      Epoch    GPU_mem   box_loss   cls_loss   dfl_loss  Instances       Size\n"
     ]
    },
    {
     "name": "stderr",
     "output_type": "stream",
     "text": [
      "      43/50      5.55G     0.1543     0.1437     0.7914         20        640: 100%|██████████| 11700/11700 [22:55<00:00,  8.51it/s]\n",
      "                 Class     Images  Instances      Box(P          R      mAP50  mAP50-95): 100%|██████████| 228/228 [00:31<00:00,  7.33it/s]\n"
     ]
    },
    {
     "name": "stdout",
     "output_type": "stream",
     "text": [
      "                   all       7265       9140      0.985      0.992      0.992      0.987\n",
      "\n",
      "      Epoch    GPU_mem   box_loss   cls_loss   dfl_loss  Instances       Size\n"
     ]
    },
    {
     "name": "stderr",
     "output_type": "stream",
     "text": [
      "      44/50      5.58G      0.151     0.1397     0.7894         15        640: 100%|██████████| 11700/11700 [23:04<00:00,  8.45it/s]\n",
      "                 Class     Images  Instances      Box(P          R      mAP50  mAP50-95): 100%|██████████| 228/228 [00:31<00:00,  7.33it/s]\n"
     ]
    },
    {
     "name": "stdout",
     "output_type": "stream",
     "text": [
      "                   all       7265       9140      0.987       0.99      0.992      0.987\n",
      "\n",
      "      Epoch    GPU_mem   box_loss   cls_loss   dfl_loss  Instances       Size\n"
     ]
    },
    {
     "name": "stderr",
     "output_type": "stream",
     "text": [
      "      45/50       5.6G      0.148     0.1364     0.7886         24        640: 100%|██████████| 11700/11700 [22:55<00:00,  8.51it/s]\n",
      "                 Class     Images  Instances      Box(P          R      mAP50  mAP50-95): 100%|██████████| 228/228 [00:31<00:00,  7.35it/s]\n"
     ]
    },
    {
     "name": "stdout",
     "output_type": "stream",
     "text": [
      "                   all       7265       9140      0.986       0.99      0.992      0.987\n",
      "\n",
      "      Epoch    GPU_mem   box_loss   cls_loss   dfl_loss  Instances       Size\n"
     ]
    },
    {
     "name": "stderr",
     "output_type": "stream",
     "text": [
      "      46/50      5.62G      0.144     0.1312     0.7868         21        640: 100%|██████████| 11700/11700 [22:52<00:00,  8.52it/s]\n",
      "                 Class     Images  Instances      Box(P          R      mAP50  mAP50-95): 100%|██████████| 228/228 [00:30<00:00,  7.43it/s]\n"
     ]
    },
    {
     "name": "stdout",
     "output_type": "stream",
     "text": [
      "                   all       7265       9140      0.986      0.991      0.992      0.987\n",
      "\n",
      "      Epoch    GPU_mem   box_loss   cls_loss   dfl_loss  Instances       Size\n"
     ]
    },
    {
     "name": "stderr",
     "output_type": "stream",
     "text": [
      "      47/50      5.65G     0.1403     0.1269      0.785         23        640: 100%|██████████| 11700/11700 [23:48<00:00,  8.19it/s]\n",
      "                 Class     Images  Instances      Box(P          R      mAP50  mAP50-95): 100%|██████████| 228/228 [00:32<00:00,  6.95it/s]\n"
     ]
    },
    {
     "name": "stdout",
     "output_type": "stream",
     "text": [
      "                   all       7265       9140      0.986      0.992      0.992      0.987\n",
      "\n",
      "      Epoch    GPU_mem   box_loss   cls_loss   dfl_loss  Instances       Size\n"
     ]
    },
    {
     "name": "stderr",
     "output_type": "stream",
     "text": [
      "      48/50      5.68G     0.1362     0.1214      0.783         18        640: 100%|██████████| 11700/11700 [23:22<00:00,  8.34it/s]\n",
      "                 Class     Images  Instances      Box(P          R      mAP50  mAP50-95): 100%|██████████| 228/228 [00:31<00:00,  7.18it/s]"
     ]
    },
    {
     "name": "stdout",
     "output_type": "stream",
     "text": [
      "                   all       7265       9140      0.987       0.99      0.992      0.987\n"
     ]
    },
    {
     "name": "stderr",
     "output_type": "stream",
     "text": [
      "\n"
     ]
    },
    {
     "name": "stdout",
     "output_type": "stream",
     "text": [
      "\n",
      "      Epoch    GPU_mem   box_loss   cls_loss   dfl_loss  Instances       Size\n"
     ]
    },
    {
     "name": "stderr",
     "output_type": "stream",
     "text": [
      "      49/50       5.7G     0.1329     0.1166     0.7825         20        640: 100%|██████████| 11700/11700 [23:47<00:00,  8.20it/s]\n",
      "                 Class     Images  Instances      Box(P          R      mAP50  mAP50-95): 100%|██████████| 228/228 [00:33<00:00,  6.90it/s]\n"
     ]
    },
    {
     "name": "stdout",
     "output_type": "stream",
     "text": [
      "                   all       7265       9140      0.986      0.991      0.992      0.987\n",
      "\n",
      "      Epoch    GPU_mem   box_loss   cls_loss   dfl_loss  Instances       Size\n"
     ]
    },
    {
     "name": "stderr",
     "output_type": "stream",
     "text": [
      "      50/50      5.72G     0.1288     0.1113     0.7814         17        640: 100%|██████████| 11700/11700 [24:38<00:00,  7.91it/s]\n",
      "                 Class     Images  Instances      Box(P          R      mAP50  mAP50-95): 100%|██████████| 228/228 [00:33<00:00,  6.84it/s]\n"
     ]
    },
    {
     "name": "stdout",
     "output_type": "stream",
     "text": [
      "                   all       7265       9140      0.984      0.993      0.992      0.987\n",
      "\n",
      "50 epochs completed in 19.821 hours.\n",
      "Optimizer stripped from f:\\GitHub\\table-parser\\runs\\detect\\table_bank4\\weights\\last.pt, 22.5MB\n",
      "Optimizer stripped from f:\\GitHub\\table-parser\\runs\\detect\\table_bank4\\weights\\best.pt, 22.5MB\n",
      "\n",
      "Validating f:\\GitHub\\table-parser\\runs\\detect\\table_bank4\\weights\\best.pt...\n",
      "Ultralytics 8.3.98  Python-3.11.7 torch-2.6.0+cu126 CUDA:0 (NVIDIA GeForce RTX 3080, 10240MiB)\n",
      "Model summary (fused): 72 layers, 11,125,971 parameters, 0 gradients, 28.4 GFLOPs\n"
     ]
    },
    {
     "name": "stderr",
     "output_type": "stream",
     "text": [
      "                 Class     Images  Instances      Box(P          R      mAP50  mAP50-95): 100%|██████████| 228/228 [00:34<00:00,  6.52it/s]\n"
     ]
    },
    {
     "name": "stdout",
     "output_type": "stream",
     "text": [
      "                   all       7265       9140      0.986      0.991      0.992      0.987\n",
      "Speed: 0.1ms preprocess, 1.3ms inference, 0.0ms loss, 0.8ms postprocess per image\n",
      "Results saved to \u001b[1mf:\\GitHub\\table-parser\\runs\\detect\\table_bank4\u001b[0m\n"
     ]
    },
    {
     "data": {
      "text/plain": [
       "ultralytics.utils.metrics.DetMetrics object with attributes:\n",
       "\n",
       "ap_class_index: array([0])\n",
       "box: ultralytics.utils.metrics.Metric object\n",
       "confusion_matrix: <ultralytics.utils.metrics.ConfusionMatrix object at 0x0000017068883790>\n",
       "curves: ['Precision-Recall(B)', 'F1-Confidence(B)', 'Precision-Confidence(B)', 'Recall-Confidence(B)']\n",
       "curves_results: [[array([          0,    0.001001,    0.002002,    0.003003,    0.004004,    0.005005,    0.006006,    0.007007,    0.008008,    0.009009,     0.01001,    0.011011,    0.012012,    0.013013,    0.014014,    0.015015,    0.016016,    0.017017,    0.018018,    0.019019,     0.02002,    0.021021,    0.022022,    0.023023,\n",
       "          0.024024,    0.025025,    0.026026,    0.027027,    0.028028,    0.029029,     0.03003,    0.031031,    0.032032,    0.033033,    0.034034,    0.035035,    0.036036,    0.037037,    0.038038,    0.039039,     0.04004,    0.041041,    0.042042,    0.043043,    0.044044,    0.045045,    0.046046,    0.047047,\n",
       "          0.048048,    0.049049,     0.05005,    0.051051,    0.052052,    0.053053,    0.054054,    0.055055,    0.056056,    0.057057,    0.058058,    0.059059,     0.06006,    0.061061,    0.062062,    0.063063,    0.064064,    0.065065,    0.066066,    0.067067,    0.068068,    0.069069,     0.07007,    0.071071,\n",
       "          0.072072,    0.073073,    0.074074,    0.075075,    0.076076,    0.077077,    0.078078,    0.079079,     0.08008,    0.081081,    0.082082,    0.083083,    0.084084,    0.085085,    0.086086,    0.087087,    0.088088,    0.089089,     0.09009,    0.091091,    0.092092,    0.093093,    0.094094,    0.095095,\n",
       "          0.096096,    0.097097,    0.098098,    0.099099,      0.1001,      0.1011,      0.1021,      0.1031,      0.1041,     0.10511,     0.10611,     0.10711,     0.10811,     0.10911,     0.11011,     0.11111,     0.11211,     0.11311,     0.11411,     0.11512,     0.11612,     0.11712,     0.11812,     0.11912,\n",
       "           0.12012,     0.12112,     0.12212,     0.12312,     0.12412,     0.12513,     0.12613,     0.12713,     0.12813,     0.12913,     0.13013,     0.13113,     0.13213,     0.13313,     0.13413,     0.13514,     0.13614,     0.13714,     0.13814,     0.13914,     0.14014,     0.14114,     0.14214,     0.14314,\n",
       "           0.14414,     0.14515,     0.14615,     0.14715,     0.14815,     0.14915,     0.15015,     0.15115,     0.15215,     0.15315,     0.15415,     0.15516,     0.15616,     0.15716,     0.15816,     0.15916,     0.16016,     0.16116,     0.16216,     0.16316,     0.16416,     0.16517,     0.16617,     0.16717,\n",
       "           0.16817,     0.16917,     0.17017,     0.17117,     0.17217,     0.17317,     0.17417,     0.17518,     0.17618,     0.17718,     0.17818,     0.17918,     0.18018,     0.18118,     0.18218,     0.18318,     0.18418,     0.18519,     0.18619,     0.18719,     0.18819,     0.18919,     0.19019,     0.19119,\n",
       "           0.19219,     0.19319,     0.19419,      0.1952,      0.1962,      0.1972,      0.1982,      0.1992,      0.2002,      0.2012,      0.2022,      0.2032,      0.2042,     0.20521,     0.20621,     0.20721,     0.20821,     0.20921,     0.21021,     0.21121,     0.21221,     0.21321,     0.21421,     0.21522,\n",
       "           0.21622,     0.21722,     0.21822,     0.21922,     0.22022,     0.22122,     0.22222,     0.22322,     0.22422,     0.22523,     0.22623,     0.22723,     0.22823,     0.22923,     0.23023,     0.23123,     0.23223,     0.23323,     0.23423,     0.23524,     0.23624,     0.23724,     0.23824,     0.23924,\n",
       "           0.24024,     0.24124,     0.24224,     0.24324,     0.24424,     0.24525,     0.24625,     0.24725,     0.24825,     0.24925,     0.25025,     0.25125,     0.25225,     0.25325,     0.25425,     0.25526,     0.25626,     0.25726,     0.25826,     0.25926,     0.26026,     0.26126,     0.26226,     0.26326,\n",
       "           0.26426,     0.26527,     0.26627,     0.26727,     0.26827,     0.26927,     0.27027,     0.27127,     0.27227,     0.27327,     0.27427,     0.27528,     0.27628,     0.27728,     0.27828,     0.27928,     0.28028,     0.28128,     0.28228,     0.28328,     0.28428,     0.28529,     0.28629,     0.28729,\n",
       "           0.28829,     0.28929,     0.29029,     0.29129,     0.29229,     0.29329,     0.29429,      0.2953,      0.2963,      0.2973,      0.2983,      0.2993,      0.3003,      0.3013,      0.3023,      0.3033,      0.3043,     0.30531,     0.30631,     0.30731,     0.30831,     0.30931,     0.31031,     0.31131,\n",
       "           0.31231,     0.31331,     0.31431,     0.31532,     0.31632,     0.31732,     0.31832,     0.31932,     0.32032,     0.32132,     0.32232,     0.32332,     0.32432,     0.32533,     0.32633,     0.32733,     0.32833,     0.32933,     0.33033,     0.33133,     0.33233,     0.33333,     0.33433,     0.33534,\n",
       "           0.33634,     0.33734,     0.33834,     0.33934,     0.34034,     0.34134,     0.34234,     0.34334,     0.34434,     0.34535,     0.34635,     0.34735,     0.34835,     0.34935,     0.35035,     0.35135,     0.35235,     0.35335,     0.35435,     0.35536,     0.35636,     0.35736,     0.35836,     0.35936,\n",
       "           0.36036,     0.36136,     0.36236,     0.36336,     0.36436,     0.36537,     0.36637,     0.36737,     0.36837,     0.36937,     0.37037,     0.37137,     0.37237,     0.37337,     0.37437,     0.37538,     0.37638,     0.37738,     0.37838,     0.37938,     0.38038,     0.38138,     0.38238,     0.38338,\n",
       "           0.38438,     0.38539,     0.38639,     0.38739,     0.38839,     0.38939,     0.39039,     0.39139,     0.39239,     0.39339,     0.39439,      0.3954,      0.3964,      0.3974,      0.3984,      0.3994,      0.4004,      0.4014,      0.4024,      0.4034,      0.4044,     0.40541,     0.40641,     0.40741,\n",
       "           0.40841,     0.40941,     0.41041,     0.41141,     0.41241,     0.41341,     0.41441,     0.41542,     0.41642,     0.41742,     0.41842,     0.41942,     0.42042,     0.42142,     0.42242,     0.42342,     0.42442,     0.42543,     0.42643,     0.42743,     0.42843,     0.42943,     0.43043,     0.43143,\n",
       "           0.43243,     0.43343,     0.43443,     0.43544,     0.43644,     0.43744,     0.43844,     0.43944,     0.44044,     0.44144,     0.44244,     0.44344,     0.44444,     0.44545,     0.44645,     0.44745,     0.44845,     0.44945,     0.45045,     0.45145,     0.45245,     0.45345,     0.45445,     0.45546,\n",
       "           0.45646,     0.45746,     0.45846,     0.45946,     0.46046,     0.46146,     0.46246,     0.46346,     0.46446,     0.46547,     0.46647,     0.46747,     0.46847,     0.46947,     0.47047,     0.47147,     0.47247,     0.47347,     0.47447,     0.47548,     0.47648,     0.47748,     0.47848,     0.47948,\n",
       "           0.48048,     0.48148,     0.48248,     0.48348,     0.48448,     0.48549,     0.48649,     0.48749,     0.48849,     0.48949,     0.49049,     0.49149,     0.49249,     0.49349,     0.49449,      0.4955,      0.4965,      0.4975,      0.4985,      0.4995,      0.5005,      0.5015,      0.5025,      0.5035,\n",
       "            0.5045,     0.50551,     0.50651,     0.50751,     0.50851,     0.50951,     0.51051,     0.51151,     0.51251,     0.51351,     0.51451,     0.51552,     0.51652,     0.51752,     0.51852,     0.51952,     0.52052,     0.52152,     0.52252,     0.52352,     0.52452,     0.52553,     0.52653,     0.52753,\n",
       "           0.52853,     0.52953,     0.53053,     0.53153,     0.53253,     0.53353,     0.53453,     0.53554,     0.53654,     0.53754,     0.53854,     0.53954,     0.54054,     0.54154,     0.54254,     0.54354,     0.54454,     0.54555,     0.54655,     0.54755,     0.54855,     0.54955,     0.55055,     0.55155,\n",
       "           0.55255,     0.55355,     0.55455,     0.55556,     0.55656,     0.55756,     0.55856,     0.55956,     0.56056,     0.56156,     0.56256,     0.56356,     0.56456,     0.56557,     0.56657,     0.56757,     0.56857,     0.56957,     0.57057,     0.57157,     0.57257,     0.57357,     0.57457,     0.57558,\n",
       "           0.57658,     0.57758,     0.57858,     0.57958,     0.58058,     0.58158,     0.58258,     0.58358,     0.58458,     0.58559,     0.58659,     0.58759,     0.58859,     0.58959,     0.59059,     0.59159,     0.59259,     0.59359,     0.59459,      0.5956,      0.5966,      0.5976,      0.5986,      0.5996,\n",
       "            0.6006,      0.6016,      0.6026,      0.6036,      0.6046,     0.60561,     0.60661,     0.60761,     0.60861,     0.60961,     0.61061,     0.61161,     0.61261,     0.61361,     0.61461,     0.61562,     0.61662,     0.61762,     0.61862,     0.61962,     0.62062,     0.62162,     0.62262,     0.62362,\n",
       "           0.62462,     0.62563,     0.62663,     0.62763,     0.62863,     0.62963,     0.63063,     0.63163,     0.63263,     0.63363,     0.63463,     0.63564,     0.63664,     0.63764,     0.63864,     0.63964,     0.64064,     0.64164,     0.64264,     0.64364,     0.64464,     0.64565,     0.64665,     0.64765,\n",
       "           0.64865,     0.64965,     0.65065,     0.65165,     0.65265,     0.65365,     0.65465,     0.65566,     0.65666,     0.65766,     0.65866,     0.65966,     0.66066,     0.66166,     0.66266,     0.66366,     0.66466,     0.66567,     0.66667,     0.66767,     0.66867,     0.66967,     0.67067,     0.67167,\n",
       "           0.67267,     0.67367,     0.67467,     0.67568,     0.67668,     0.67768,     0.67868,     0.67968,     0.68068,     0.68168,     0.68268,     0.68368,     0.68468,     0.68569,     0.68669,     0.68769,     0.68869,     0.68969,     0.69069,     0.69169,     0.69269,     0.69369,     0.69469,      0.6957,\n",
       "            0.6967,      0.6977,      0.6987,      0.6997,      0.7007,      0.7017,      0.7027,      0.7037,      0.7047,     0.70571,     0.70671,     0.70771,     0.70871,     0.70971,     0.71071,     0.71171,     0.71271,     0.71371,     0.71471,     0.71572,     0.71672,     0.71772,     0.71872,     0.71972,\n",
       "           0.72072,     0.72172,     0.72272,     0.72372,     0.72472,     0.72573,     0.72673,     0.72773,     0.72873,     0.72973,     0.73073,     0.73173,     0.73273,     0.73373,     0.73473,     0.73574,     0.73674,     0.73774,     0.73874,     0.73974,     0.74074,     0.74174,     0.74274,     0.74374,\n",
       "           0.74474,     0.74575,     0.74675,     0.74775,     0.74875,     0.74975,     0.75075,     0.75175,     0.75275,     0.75375,     0.75475,     0.75576,     0.75676,     0.75776,     0.75876,     0.75976,     0.76076,     0.76176,     0.76276,     0.76376,     0.76476,     0.76577,     0.76677,     0.76777,\n",
       "           0.76877,     0.76977,     0.77077,     0.77177,     0.77277,     0.77377,     0.77477,     0.77578,     0.77678,     0.77778,     0.77878,     0.77978,     0.78078,     0.78178,     0.78278,     0.78378,     0.78478,     0.78579,     0.78679,     0.78779,     0.78879,     0.78979,     0.79079,     0.79179,\n",
       "           0.79279,     0.79379,     0.79479,      0.7958,      0.7968,      0.7978,      0.7988,      0.7998,      0.8008,      0.8018,      0.8028,      0.8038,      0.8048,     0.80581,     0.80681,     0.80781,     0.80881,     0.80981,     0.81081,     0.81181,     0.81281,     0.81381,     0.81481,     0.81582,\n",
       "           0.81682,     0.81782,     0.81882,     0.81982,     0.82082,     0.82182,     0.82282,     0.82382,     0.82482,     0.82583,     0.82683,     0.82783,     0.82883,     0.82983,     0.83083,     0.83183,     0.83283,     0.83383,     0.83483,     0.83584,     0.83684,     0.83784,     0.83884,     0.83984,\n",
       "           0.84084,     0.84184,     0.84284,     0.84384,     0.84484,     0.84585,     0.84685,     0.84785,     0.84885,     0.84985,     0.85085,     0.85185,     0.85285,     0.85385,     0.85485,     0.85586,     0.85686,     0.85786,     0.85886,     0.85986,     0.86086,     0.86186,     0.86286,     0.86386,\n",
       "           0.86486,     0.86587,     0.86687,     0.86787,     0.86887,     0.86987,     0.87087,     0.87187,     0.87287,     0.87387,     0.87487,     0.87588,     0.87688,     0.87788,     0.87888,     0.87988,     0.88088,     0.88188,     0.88288,     0.88388,     0.88488,     0.88589,     0.88689,     0.88789,\n",
       "           0.88889,     0.88989,     0.89089,     0.89189,     0.89289,     0.89389,     0.89489,      0.8959,      0.8969,      0.8979,      0.8989,      0.8999,      0.9009,      0.9019,      0.9029,      0.9039,      0.9049,     0.90591,     0.90691,     0.90791,     0.90891,     0.90991,     0.91091,     0.91191,\n",
       "           0.91291,     0.91391,     0.91491,     0.91592,     0.91692,     0.91792,     0.91892,     0.91992,     0.92092,     0.92192,     0.92292,     0.92392,     0.92492,     0.92593,     0.92693,     0.92793,     0.92893,     0.92993,     0.93093,     0.93193,     0.93293,     0.93393,     0.93493,     0.93594,\n",
       "           0.93694,     0.93794,     0.93894,     0.93994,     0.94094,     0.94194,     0.94294,     0.94394,     0.94494,     0.94595,     0.94695,     0.94795,     0.94895,     0.94995,     0.95095,     0.95195,     0.95295,     0.95395,     0.95495,     0.95596,     0.95696,     0.95796,     0.95896,     0.95996,\n",
       "           0.96096,     0.96196,     0.96296,     0.96396,     0.96496,     0.96597,     0.96697,     0.96797,     0.96897,     0.96997,     0.97097,     0.97197,     0.97297,     0.97397,     0.97497,     0.97598,     0.97698,     0.97798,     0.97898,     0.97998,     0.98098,     0.98198,     0.98298,     0.98398,\n",
       "           0.98498,     0.98599,     0.98699,     0.98799,     0.98899,     0.98999,     0.99099,     0.99199,     0.99299,     0.99399,     0.99499,       0.996,       0.997,       0.998,       0.999,           1]), array([[          1,           1,           1,           1,           1,           1,           1,           1,           1,           1,           1,           1,           1,           1,           1,           1,           1,           1,           1,           1,           1,           1,           1,\n",
       "                  1,           1,           1,           1,           1,           1,           1,           1,           1,     0.99892,     0.99892,     0.99892,     0.99892,     0.99892,     0.99892,     0.99892,     0.99892,     0.99892,     0.99892,     0.99892,     0.99892,     0.99892,     0.99892,\n",
       "            0.99892,     0.99892,     0.99892,     0.99892,     0.99892,     0.99892,     0.99892,     0.99892,     0.99892,     0.99892,     0.99892,     0.99892,     0.99892,     0.99892,     0.99892,     0.99892,     0.99892,     0.99892,     0.99892,     0.99892,     0.99892,     0.99892,     0.99892,\n",
       "            0.99892,     0.99892,     0.99892,     0.99892,     0.99892,     0.99892,     0.99892,     0.99892,     0.99892,     0.99892,     0.99892,     0.99892,     0.99892,     0.99892,     0.99892,     0.99892,     0.99892,     0.99892,     0.99892,     0.99892,     0.99892,     0.99892,     0.99892,\n",
       "            0.99892,     0.99892,     0.99892,     0.99892,     0.99892,     0.99892,     0.99892,     0.99892,     0.99892,     0.99892,      0.9983,      0.9983,      0.9983,      0.9983,      0.9983,      0.9983,      0.9983,      0.9983,      0.9983,      0.9983,      0.9983,      0.9983,      0.9983,\n",
       "             0.9983,      0.9983,      0.9983,      0.9983,      0.9983,      0.9983,      0.9983,      0.9983,      0.9983,      0.9983,      0.9983,      0.9983,      0.9983,      0.9983,     0.99798,     0.99798,     0.99798,     0.99798,     0.99798,     0.99798,     0.99798,     0.99798,     0.99798,\n",
       "            0.99798,     0.99798,     0.99798,     0.99798,     0.99798,     0.99798,     0.99798,     0.99798,     0.99798,     0.99798,     0.99798,     0.99798,     0.99798,     0.99798,     0.99798,     0.99798,     0.99798,     0.99798,     0.99798,     0.99798,     0.99798,     0.99798,     0.99798,\n",
       "            0.99798,     0.99798,     0.99798,     0.99798,     0.99798,     0.99798,     0.99798,     0.99798,     0.99798,     0.99798,     0.99798,     0.99798,     0.99798,     0.99798,     0.99798,     0.99798,     0.99798,     0.99798,     0.99798,     0.99798,     0.99798,     0.99798,     0.99798,\n",
       "            0.99798,     0.99798,     0.99798,     0.99798,     0.99798,     0.99798,     0.99798,     0.99798,     0.99798,     0.99798,     0.99798,     0.99798,     0.99798,     0.99798,     0.99798,     0.99798,     0.99798,     0.99798,     0.99798,     0.99798,     0.99798,     0.99798,     0.99798,\n",
       "            0.99798,     0.99798,     0.99798,     0.99798,     0.99798,     0.99798,     0.99798,     0.99798,     0.99798,     0.99798,     0.99787,     0.99787,     0.99787,     0.99787,     0.99787,     0.99787,     0.99787,     0.99787,     0.99787,     0.99787,     0.99787,     0.99787,     0.99787,\n",
       "            0.99787,     0.99787,     0.99787,     0.99787,     0.99787,     0.99787,     0.99787,     0.99787,     0.99787,     0.99787,     0.99787,     0.99787,     0.99787,     0.99787,     0.99787,     0.99787,     0.99787,     0.99787,     0.99787,     0.99787,     0.99787,     0.99787,     0.99787,\n",
       "            0.99787,     0.99787,     0.99787,     0.99787,     0.99787,     0.99787,     0.99787,     0.99787,     0.99787,     0.99787,     0.99787,     0.99787,     0.99787,     0.99787,     0.99787,     0.99787,     0.99787,     0.99787,     0.99787,     0.99787,     0.99787,     0.99787,     0.99787,\n",
       "            0.99787,     0.99787,     0.99787,     0.99787,     0.99787,     0.99787,     0.99787,     0.99787,     0.99787,     0.99787,     0.99787,     0.99787,     0.99787,     0.99787,     0.99787,     0.99787,     0.99787,     0.99787,     0.99787,     0.99787,     0.99787,     0.99787,     0.99787,\n",
       "            0.99787,     0.99787,     0.99787,     0.99787,     0.99787,     0.99787,     0.99787,     0.99787,     0.99787,     0.99783,     0.99783,     0.99783,     0.99783,     0.99783,     0.99783,     0.99783,     0.99783,     0.99783,     0.99783,     0.99783,     0.99783,     0.99783,     0.99783,\n",
       "            0.99783,     0.99783,     0.99783,     0.99783,     0.99783,     0.99783,     0.99783,     0.99783,     0.99783,     0.99783,     0.99783,     0.99783,     0.99783,     0.99783,     0.99783,     0.99783,     0.99783,     0.99783,     0.99783,     0.99783,     0.99783,     0.99783,     0.99783,\n",
       "            0.99783,     0.99783,     0.99783,     0.99783,     0.99783,     0.99783,     0.99783,     0.99783,     0.99783,     0.99783,     0.99783,     0.99783,     0.99783,     0.99783,     0.99783,     0.99783,     0.99783,     0.99783,     0.99783,     0.99783,     0.99783,     0.99783,     0.99783,\n",
       "            0.99783,     0.99783,     0.99783,     0.99783,     0.99783,     0.99783,     0.99783,     0.99783,     0.99783,     0.99783,     0.99783,     0.99783,     0.99783,     0.99783,     0.99783,     0.99783,     0.99783,     0.99783,     0.99783,     0.99783,     0.99783,     0.99783,     0.99783,\n",
       "            0.99783,     0.99783,     0.99783,     0.99783,     0.99783,     0.99783,     0.99783,     0.99783,     0.99783,     0.99783,     0.99783,     0.99783,     0.99783,     0.99783,     0.99783,     0.99783,     0.99783,     0.99783,     0.99783,     0.99783,     0.99783,     0.99783,     0.99783,\n",
       "            0.99783,     0.99783,     0.99783,     0.99783,     0.99783,     0.99783,     0.99783,     0.99783,     0.99783,     0.99783,     0.99783,     0.99783,     0.99783,     0.99783,     0.99783,     0.99783,     0.99783,     0.99783,     0.99783,     0.99783,     0.99783,     0.99783,     0.99783,\n",
       "            0.99783,     0.99783,     0.99783,     0.99783,     0.99783,     0.99783,     0.99783,     0.99783,     0.99783,     0.99783,     0.99783,     0.99783,     0.99783,     0.99783,     0.99783,     0.99783,     0.99783,     0.99783,     0.99783,     0.99783,     0.99783,     0.99783,     0.99783,\n",
       "            0.99783,     0.99783,     0.99783,     0.99783,     0.99783,     0.99783,     0.99783,     0.99783,     0.99783,     0.99783,     0.99783,     0.99783,     0.99783,     0.99783,     0.99783,     0.99783,     0.99783,     0.99783,     0.99783,     0.99783,     0.99783,     0.99783,     0.99783,\n",
       "            0.99783,     0.99783,     0.99783,     0.99783,     0.99783,     0.99783,     0.99783,     0.99783,     0.99783,     0.99783,     0.99783,     0.99783,     0.99783,     0.99783,     0.99783,     0.99783,     0.99783,     0.99783,     0.99783,     0.99783,     0.99783,     0.99783,     0.99783,\n",
       "            0.99783,     0.99783,     0.99783,     0.99783,     0.99783,     0.99783,     0.99783,     0.99783,     0.99783,     0.99783,     0.99783,     0.99783,     0.99783,     0.99783,     0.99783,     0.99783,     0.99783,     0.99783,     0.99783,     0.99783,     0.99783,     0.99783,     0.99783,\n",
       "            0.99783,     0.99783,     0.99783,     0.99783,     0.99783,     0.99783,     0.99783,     0.99783,     0.99783,     0.99783,     0.99783,     0.99783,     0.99783,     0.99783,     0.99783,     0.99783,     0.99783,     0.99783,     0.99783,     0.99783,     0.99783,     0.99783,     0.99783,\n",
       "            0.99783,     0.99773,     0.99773,     0.99773,     0.99773,     0.99773,     0.99773,     0.99773,     0.99773,     0.99773,     0.99773,     0.99773,     0.99773,     0.99773,     0.99773,     0.99773,     0.99773,     0.99773,     0.99773,     0.99773,     0.99773,     0.99773,     0.99773,\n",
       "            0.99773,     0.99773,     0.99773,     0.99761,     0.99761,     0.99761,     0.99761,     0.99761,     0.99761,     0.99761,     0.99761,     0.99761,     0.99761,     0.99761,     0.99761,     0.99761,     0.99761,     0.99761,     0.99748,     0.99748,     0.99748,     0.99748,     0.99748,\n",
       "            0.99748,     0.99748,     0.99748,     0.99748,     0.99748,     0.99748,     0.99748,     0.99748,     0.99731,     0.99731,     0.99714,     0.99714,     0.99705,     0.99705,     0.99705,     0.99705,     0.99705,     0.99705,     0.99705,     0.99705,     0.99705,     0.99705,     0.99705,\n",
       "            0.99705,     0.99705,     0.99705,     0.99705,     0.99705,     0.99705,     0.99705,      0.9969,      0.9969,      0.9969,      0.9969,      0.9969,     0.99678,     0.99678,     0.99678,     0.99678,     0.99678,     0.99678,     0.99678,     0.99678,     0.99678,     0.99678,     0.99678,\n",
       "            0.99673,     0.99673,     0.99673,     0.99673,     0.99673,     0.99673,     0.99673,     0.99673,     0.99673,     0.99673,     0.99673,     0.99673,     0.99673,     0.99673,     0.99673,     0.99673,     0.99673,     0.99673,     0.99673,     0.99673,     0.99673,     0.99673,      0.9966,\n",
       "             0.9966,      0.9966,      0.9966,      0.9966,      0.9966,      0.9966,      0.9966,     0.99646,     0.99646,     0.99646,     0.99646,     0.99631,     0.99631,     0.99622,     0.99622,     0.99622,     0.99622,     0.99622,     0.99622,     0.99622,     0.99622,     0.99622,     0.99622,\n",
       "            0.99622,     0.99612,     0.99612,     0.99612,     0.99612,     0.99612,     0.99612,     0.99612,     0.99612,     0.99612,     0.99612,     0.99612,     0.99612,     0.99603,     0.99603,     0.99603,     0.99603,     0.99603,     0.99603,     0.99603,     0.99603,     0.99603,     0.99603,\n",
       "            0.99603,     0.99603,     0.99603,     0.99603,     0.99603,     0.99603,     0.99603,     0.99603,     0.99603,     0.99603,     0.99603,     0.99603,     0.99603,     0.99603,     0.99603,     0.99603,     0.99603,     0.99603,     0.99603,     0.99603,     0.99603,     0.99603,     0.99603,\n",
       "            0.99603,     0.99603,     0.99603,     0.99603,     0.99603,     0.99592,     0.99592,     0.99592,     0.99592,     0.99592,     0.99592,     0.99583,     0.99583,     0.99583,     0.99583,     0.99583,     0.99583,     0.99583,     0.99583,     0.99583,     0.99583,     0.99583,     0.99572,\n",
       "            0.99572,     0.99572,     0.99572,     0.99572,     0.99572,      0.9956,      0.9956,     0.99559,     0.99559,     0.99559,     0.99559,     0.99559,     0.99559,     0.99559,     0.99559,     0.99559,     0.99559,     0.99559,     0.99559,     0.99559,     0.99559,     0.99559,     0.99559,\n",
       "            0.99559,     0.99559,     0.99559,     0.99559,     0.99559,     0.99559,     0.99559,     0.99559,     0.99558,     0.99558,     0.99558,     0.99558,     0.99558,     0.99558,     0.99558,     0.99558,     0.99558,     0.99558,     0.99558,     0.99558,     0.99558,     0.99558,     0.99558,\n",
       "            0.99558,     0.99558,     0.99558,     0.99558,     0.99558,     0.99558,     0.99558,     0.99558,     0.99558,     0.99558,     0.99558,     0.99558,     0.99558,     0.99558,     0.99558,     0.99558,     0.99558,     0.99558,     0.99558,     0.99558,     0.99558,     0.99558,     0.99558,\n",
       "            0.99558,     0.99558,     0.99558,     0.99558,     0.99558,     0.99558,     0.99558,     0.99558,     0.99558,     0.99558,     0.99558,     0.99558,     0.99558,     0.99558,     0.99558,     0.99558,     0.99558,     0.99558,     0.99558,     0.99558,     0.99558,     0.99558,     0.99558,\n",
       "            0.99558,     0.99558,     0.99558,     0.99558,     0.99558,     0.99558,     0.99558,     0.99558,     0.99558,     0.99558,     0.99558,     0.99558,     0.99549,     0.99549,     0.99549,     0.99549,     0.99549,     0.99549,     0.99549,     0.99541,     0.99541,     0.99541,     0.99541,\n",
       "            0.99541,     0.99541,     0.99541,     0.99533,     0.99533,     0.99533,     0.99533,     0.99533,     0.99533,     0.99533,     0.99533,     0.99533,     0.99529,     0.99529,     0.99529,     0.99529,     0.99529,     0.99529,     0.99529,     0.99529,     0.99529,     0.99529,     0.99529,\n",
       "            0.99529,     0.99529,     0.99529,     0.99529,     0.99529,     0.99529,     0.99529,     0.99529,     0.99529,     0.99529,     0.99529,     0.99529,     0.99529,     0.99529,     0.99529,     0.99529,     0.99529,     0.99529,     0.99529,     0.99529,     0.99529,     0.99529,     0.99529,\n",
       "            0.99529,     0.99529,     0.99529,     0.99529,     0.99529,     0.99518,     0.99518,     0.99507,     0.99499,     0.99499,     0.99499,     0.99499,     0.99499,     0.99487,     0.99479,     0.99479,     0.99479,     0.99479,     0.99479,     0.99468,     0.99457,     0.99447,     0.99447,\n",
       "            0.99441,     0.99441,     0.99441,     0.99441,     0.99441,     0.99441,     0.99441,     0.99441,     0.99441,     0.99441,     0.99431,     0.99431,     0.99421,     0.99421,     0.99421,      0.9941,       0.994,     0.99379,     0.99379,     0.99379,     0.99369,     0.99359,     0.99359,\n",
       "             0.9935,      0.9935,      0.9935,      0.9935,     0.99317,     0.99296,     0.99286,     0.99276,     0.99265,     0.99212,     0.99212,      0.9919,      0.9918,     0.99159,     0.99138,     0.99095,     0.99074,     0.99042,     0.99023,     0.99023,     0.99001,     0.98872,     0.98776,\n",
       "            0.98713,     0.98564,      0.9848,     0.98417,     0.98228,     0.98059,     0.97945,     0.97601,     0.95981,     0.64685,           0]]), 'Recall', 'Precision'], [array([          0,    0.001001,    0.002002,    0.003003,    0.004004,    0.005005,    0.006006,    0.007007,    0.008008,    0.009009,     0.01001,    0.011011,    0.012012,    0.013013,    0.014014,    0.015015,    0.016016,    0.017017,    0.018018,    0.019019,     0.02002,    0.021021,    0.022022,    0.023023,\n",
       "          0.024024,    0.025025,    0.026026,    0.027027,    0.028028,    0.029029,     0.03003,    0.031031,    0.032032,    0.033033,    0.034034,    0.035035,    0.036036,    0.037037,    0.038038,    0.039039,     0.04004,    0.041041,    0.042042,    0.043043,    0.044044,    0.045045,    0.046046,    0.047047,\n",
       "          0.048048,    0.049049,     0.05005,    0.051051,    0.052052,    0.053053,    0.054054,    0.055055,    0.056056,    0.057057,    0.058058,    0.059059,     0.06006,    0.061061,    0.062062,    0.063063,    0.064064,    0.065065,    0.066066,    0.067067,    0.068068,    0.069069,     0.07007,    0.071071,\n",
       "          0.072072,    0.073073,    0.074074,    0.075075,    0.076076,    0.077077,    0.078078,    0.079079,     0.08008,    0.081081,    0.082082,    0.083083,    0.084084,    0.085085,    0.086086,    0.087087,    0.088088,    0.089089,     0.09009,    0.091091,    0.092092,    0.093093,    0.094094,    0.095095,\n",
       "          0.096096,    0.097097,    0.098098,    0.099099,      0.1001,      0.1011,      0.1021,      0.1031,      0.1041,     0.10511,     0.10611,     0.10711,     0.10811,     0.10911,     0.11011,     0.11111,     0.11211,     0.11311,     0.11411,     0.11512,     0.11612,     0.11712,     0.11812,     0.11912,\n",
       "           0.12012,     0.12112,     0.12212,     0.12312,     0.12412,     0.12513,     0.12613,     0.12713,     0.12813,     0.12913,     0.13013,     0.13113,     0.13213,     0.13313,     0.13413,     0.13514,     0.13614,     0.13714,     0.13814,     0.13914,     0.14014,     0.14114,     0.14214,     0.14314,\n",
       "           0.14414,     0.14515,     0.14615,     0.14715,     0.14815,     0.14915,     0.15015,     0.15115,     0.15215,     0.15315,     0.15415,     0.15516,     0.15616,     0.15716,     0.15816,     0.15916,     0.16016,     0.16116,     0.16216,     0.16316,     0.16416,     0.16517,     0.16617,     0.16717,\n",
       "           0.16817,     0.16917,     0.17017,     0.17117,     0.17217,     0.17317,     0.17417,     0.17518,     0.17618,     0.17718,     0.17818,     0.17918,     0.18018,     0.18118,     0.18218,     0.18318,     0.18418,     0.18519,     0.18619,     0.18719,     0.18819,     0.18919,     0.19019,     0.19119,\n",
       "           0.19219,     0.19319,     0.19419,      0.1952,      0.1962,      0.1972,      0.1982,      0.1992,      0.2002,      0.2012,      0.2022,      0.2032,      0.2042,     0.20521,     0.20621,     0.20721,     0.20821,     0.20921,     0.21021,     0.21121,     0.21221,     0.21321,     0.21421,     0.21522,\n",
       "           0.21622,     0.21722,     0.21822,     0.21922,     0.22022,     0.22122,     0.22222,     0.22322,     0.22422,     0.22523,     0.22623,     0.22723,     0.22823,     0.22923,     0.23023,     0.23123,     0.23223,     0.23323,     0.23423,     0.23524,     0.23624,     0.23724,     0.23824,     0.23924,\n",
       "           0.24024,     0.24124,     0.24224,     0.24324,     0.24424,     0.24525,     0.24625,     0.24725,     0.24825,     0.24925,     0.25025,     0.25125,     0.25225,     0.25325,     0.25425,     0.25526,     0.25626,     0.25726,     0.25826,     0.25926,     0.26026,     0.26126,     0.26226,     0.26326,\n",
       "           0.26426,     0.26527,     0.26627,     0.26727,     0.26827,     0.26927,     0.27027,     0.27127,     0.27227,     0.27327,     0.27427,     0.27528,     0.27628,     0.27728,     0.27828,     0.27928,     0.28028,     0.28128,     0.28228,     0.28328,     0.28428,     0.28529,     0.28629,     0.28729,\n",
       "           0.28829,     0.28929,     0.29029,     0.29129,     0.29229,     0.29329,     0.29429,      0.2953,      0.2963,      0.2973,      0.2983,      0.2993,      0.3003,      0.3013,      0.3023,      0.3033,      0.3043,     0.30531,     0.30631,     0.30731,     0.30831,     0.30931,     0.31031,     0.31131,\n",
       "           0.31231,     0.31331,     0.31431,     0.31532,     0.31632,     0.31732,     0.31832,     0.31932,     0.32032,     0.32132,     0.32232,     0.32332,     0.32432,     0.32533,     0.32633,     0.32733,     0.32833,     0.32933,     0.33033,     0.33133,     0.33233,     0.33333,     0.33433,     0.33534,\n",
       "           0.33634,     0.33734,     0.33834,     0.33934,     0.34034,     0.34134,     0.34234,     0.34334,     0.34434,     0.34535,     0.34635,     0.34735,     0.34835,     0.34935,     0.35035,     0.35135,     0.35235,     0.35335,     0.35435,     0.35536,     0.35636,     0.35736,     0.35836,     0.35936,\n",
       "           0.36036,     0.36136,     0.36236,     0.36336,     0.36436,     0.36537,     0.36637,     0.36737,     0.36837,     0.36937,     0.37037,     0.37137,     0.37237,     0.37337,     0.37437,     0.37538,     0.37638,     0.37738,     0.37838,     0.37938,     0.38038,     0.38138,     0.38238,     0.38338,\n",
       "           0.38438,     0.38539,     0.38639,     0.38739,     0.38839,     0.38939,     0.39039,     0.39139,     0.39239,     0.39339,     0.39439,      0.3954,      0.3964,      0.3974,      0.3984,      0.3994,      0.4004,      0.4014,      0.4024,      0.4034,      0.4044,     0.40541,     0.40641,     0.40741,\n",
       "           0.40841,     0.40941,     0.41041,     0.41141,     0.41241,     0.41341,     0.41441,     0.41542,     0.41642,     0.41742,     0.41842,     0.41942,     0.42042,     0.42142,     0.42242,     0.42342,     0.42442,     0.42543,     0.42643,     0.42743,     0.42843,     0.42943,     0.43043,     0.43143,\n",
       "           0.43243,     0.43343,     0.43443,     0.43544,     0.43644,     0.43744,     0.43844,     0.43944,     0.44044,     0.44144,     0.44244,     0.44344,     0.44444,     0.44545,     0.44645,     0.44745,     0.44845,     0.44945,     0.45045,     0.45145,     0.45245,     0.45345,     0.45445,     0.45546,\n",
       "           0.45646,     0.45746,     0.45846,     0.45946,     0.46046,     0.46146,     0.46246,     0.46346,     0.46446,     0.46547,     0.46647,     0.46747,     0.46847,     0.46947,     0.47047,     0.47147,     0.47247,     0.47347,     0.47447,     0.47548,     0.47648,     0.47748,     0.47848,     0.47948,\n",
       "           0.48048,     0.48148,     0.48248,     0.48348,     0.48448,     0.48549,     0.48649,     0.48749,     0.48849,     0.48949,     0.49049,     0.49149,     0.49249,     0.49349,     0.49449,      0.4955,      0.4965,      0.4975,      0.4985,      0.4995,      0.5005,      0.5015,      0.5025,      0.5035,\n",
       "            0.5045,     0.50551,     0.50651,     0.50751,     0.50851,     0.50951,     0.51051,     0.51151,     0.51251,     0.51351,     0.51451,     0.51552,     0.51652,     0.51752,     0.51852,     0.51952,     0.52052,     0.52152,     0.52252,     0.52352,     0.52452,     0.52553,     0.52653,     0.52753,\n",
       "           0.52853,     0.52953,     0.53053,     0.53153,     0.53253,     0.53353,     0.53453,     0.53554,     0.53654,     0.53754,     0.53854,     0.53954,     0.54054,     0.54154,     0.54254,     0.54354,     0.54454,     0.54555,     0.54655,     0.54755,     0.54855,     0.54955,     0.55055,     0.55155,\n",
       "           0.55255,     0.55355,     0.55455,     0.55556,     0.55656,     0.55756,     0.55856,     0.55956,     0.56056,     0.56156,     0.56256,     0.56356,     0.56456,     0.56557,     0.56657,     0.56757,     0.56857,     0.56957,     0.57057,     0.57157,     0.57257,     0.57357,     0.57457,     0.57558,\n",
       "           0.57658,     0.57758,     0.57858,     0.57958,     0.58058,     0.58158,     0.58258,     0.58358,     0.58458,     0.58559,     0.58659,     0.58759,     0.58859,     0.58959,     0.59059,     0.59159,     0.59259,     0.59359,     0.59459,      0.5956,      0.5966,      0.5976,      0.5986,      0.5996,\n",
       "            0.6006,      0.6016,      0.6026,      0.6036,      0.6046,     0.60561,     0.60661,     0.60761,     0.60861,     0.60961,     0.61061,     0.61161,     0.61261,     0.61361,     0.61461,     0.61562,     0.61662,     0.61762,     0.61862,     0.61962,     0.62062,     0.62162,     0.62262,     0.62362,\n",
       "           0.62462,     0.62563,     0.62663,     0.62763,     0.62863,     0.62963,     0.63063,     0.63163,     0.63263,     0.63363,     0.63463,     0.63564,     0.63664,     0.63764,     0.63864,     0.63964,     0.64064,     0.64164,     0.64264,     0.64364,     0.64464,     0.64565,     0.64665,     0.64765,\n",
       "           0.64865,     0.64965,     0.65065,     0.65165,     0.65265,     0.65365,     0.65465,     0.65566,     0.65666,     0.65766,     0.65866,     0.65966,     0.66066,     0.66166,     0.66266,     0.66366,     0.66466,     0.66567,     0.66667,     0.66767,     0.66867,     0.66967,     0.67067,     0.67167,\n",
       "           0.67267,     0.67367,     0.67467,     0.67568,     0.67668,     0.67768,     0.67868,     0.67968,     0.68068,     0.68168,     0.68268,     0.68368,     0.68468,     0.68569,     0.68669,     0.68769,     0.68869,     0.68969,     0.69069,     0.69169,     0.69269,     0.69369,     0.69469,      0.6957,\n",
       "            0.6967,      0.6977,      0.6987,      0.6997,      0.7007,      0.7017,      0.7027,      0.7037,      0.7047,     0.70571,     0.70671,     0.70771,     0.70871,     0.70971,     0.71071,     0.71171,     0.71271,     0.71371,     0.71471,     0.71572,     0.71672,     0.71772,     0.71872,     0.71972,\n",
       "           0.72072,     0.72172,     0.72272,     0.72372,     0.72472,     0.72573,     0.72673,     0.72773,     0.72873,     0.72973,     0.73073,     0.73173,     0.73273,     0.73373,     0.73473,     0.73574,     0.73674,     0.73774,     0.73874,     0.73974,     0.74074,     0.74174,     0.74274,     0.74374,\n",
       "           0.74474,     0.74575,     0.74675,     0.74775,     0.74875,     0.74975,     0.75075,     0.75175,     0.75275,     0.75375,     0.75475,     0.75576,     0.75676,     0.75776,     0.75876,     0.75976,     0.76076,     0.76176,     0.76276,     0.76376,     0.76476,     0.76577,     0.76677,     0.76777,\n",
       "           0.76877,     0.76977,     0.77077,     0.77177,     0.77277,     0.77377,     0.77477,     0.77578,     0.77678,     0.77778,     0.77878,     0.77978,     0.78078,     0.78178,     0.78278,     0.78378,     0.78478,     0.78579,     0.78679,     0.78779,     0.78879,     0.78979,     0.79079,     0.79179,\n",
       "           0.79279,     0.79379,     0.79479,      0.7958,      0.7968,      0.7978,      0.7988,      0.7998,      0.8008,      0.8018,      0.8028,      0.8038,      0.8048,     0.80581,     0.80681,     0.80781,     0.80881,     0.80981,     0.81081,     0.81181,     0.81281,     0.81381,     0.81481,     0.81582,\n",
       "           0.81682,     0.81782,     0.81882,     0.81982,     0.82082,     0.82182,     0.82282,     0.82382,     0.82482,     0.82583,     0.82683,     0.82783,     0.82883,     0.82983,     0.83083,     0.83183,     0.83283,     0.83383,     0.83483,     0.83584,     0.83684,     0.83784,     0.83884,     0.83984,\n",
       "           0.84084,     0.84184,     0.84284,     0.84384,     0.84484,     0.84585,     0.84685,     0.84785,     0.84885,     0.84985,     0.85085,     0.85185,     0.85285,     0.85385,     0.85485,     0.85586,     0.85686,     0.85786,     0.85886,     0.85986,     0.86086,     0.86186,     0.86286,     0.86386,\n",
       "           0.86486,     0.86587,     0.86687,     0.86787,     0.86887,     0.86987,     0.87087,     0.87187,     0.87287,     0.87387,     0.87487,     0.87588,     0.87688,     0.87788,     0.87888,     0.87988,     0.88088,     0.88188,     0.88288,     0.88388,     0.88488,     0.88589,     0.88689,     0.88789,\n",
       "           0.88889,     0.88989,     0.89089,     0.89189,     0.89289,     0.89389,     0.89489,      0.8959,      0.8969,      0.8979,      0.8989,      0.8999,      0.9009,      0.9019,      0.9029,      0.9039,      0.9049,     0.90591,     0.90691,     0.90791,     0.90891,     0.90991,     0.91091,     0.91191,\n",
       "           0.91291,     0.91391,     0.91491,     0.91592,     0.91692,     0.91792,     0.91892,     0.91992,     0.92092,     0.92192,     0.92292,     0.92392,     0.92492,     0.92593,     0.92693,     0.92793,     0.92893,     0.92993,     0.93093,     0.93193,     0.93293,     0.93393,     0.93493,     0.93594,\n",
       "           0.93694,     0.93794,     0.93894,     0.93994,     0.94094,     0.94194,     0.94294,     0.94394,     0.94494,     0.94595,     0.94695,     0.94795,     0.94895,     0.94995,     0.95095,     0.95195,     0.95295,     0.95395,     0.95495,     0.95596,     0.95696,     0.95796,     0.95896,     0.95996,\n",
       "           0.96096,     0.96196,     0.96296,     0.96396,     0.96496,     0.96597,     0.96697,     0.96797,     0.96897,     0.96997,     0.97097,     0.97197,     0.97297,     0.97397,     0.97497,     0.97598,     0.97698,     0.97798,     0.97898,     0.97998,     0.98098,     0.98198,     0.98298,     0.98398,\n",
       "           0.98498,     0.98599,     0.98699,     0.98799,     0.98899,     0.98999,     0.99099,     0.99199,     0.99299,     0.99399,     0.99499,       0.996,       0.997,       0.998,       0.999,           1]), array([[    0.91743,     0.91743,     0.93304,     0.94132,     0.94575,     0.94933,     0.95222,     0.95457,     0.95612,     0.95731,     0.95882,      0.9597,     0.96065,     0.96129,      0.9621,     0.96291,     0.96365,     0.96384,     0.96421,     0.96463,     0.96505,     0.96544,     0.96593,\n",
       "            0.96629,     0.96667,     0.96697,     0.96709,     0.96741,     0.96761,     0.96794,     0.96831,     0.96876,     0.96881,     0.96886,     0.96912,     0.96946,     0.96955,     0.96989,     0.97029,     0.97051,     0.97084,     0.97104,      0.9714,     0.97178,     0.97218,     0.97251,\n",
       "            0.97269,     0.97285,     0.97316,      0.9737,     0.97395,     0.97403,     0.97434,     0.97444,     0.97454,     0.97455,     0.97473,     0.97494,     0.97549,     0.97569,      0.9759,     0.97607,     0.97644,     0.97663,     0.97668,      0.9767,     0.97688,     0.97704,     0.97727,\n",
       "             0.9774,     0.97771,     0.97803,     0.97823,     0.97827,     0.97833,     0.97851,     0.97858,     0.97866,     0.97876,     0.97883,     0.97898,     0.97911,     0.97938,      0.9796,     0.97977,      0.9798,     0.97994,     0.98001,     0.98011,      0.9802,     0.98033,      0.9804,\n",
       "            0.98049,     0.98055,     0.98066,     0.98081,     0.98088,     0.98097,     0.98106,     0.98121,      0.9812,     0.98125,     0.98138,     0.98148,     0.98153,     0.98161,     0.98172,     0.98182,     0.98185,     0.98202,     0.98206,     0.98219,     0.98224,     0.98235,     0.98238,\n",
       "            0.98241,     0.98244,     0.98248,     0.98258,     0.98267,     0.98277,     0.98288,     0.98292,       0.983,     0.98303,     0.98305,     0.98308,     0.98316,     0.98326,      0.9833,     0.98332,     0.98336,      0.9834,     0.98344,     0.98352,     0.98356,     0.98358,      0.9836,\n",
       "            0.98364,     0.98369,     0.98372,     0.98374,     0.98376,     0.98377,     0.98378,     0.98379,     0.98379,      0.9838,     0.98381,     0.98382,     0.98378,     0.98384,     0.98384,     0.98383,     0.98386,     0.98391,     0.98399,     0.98401,     0.98405,     0.98409,      0.9841,\n",
       "            0.98411,     0.98413,     0.98415,     0.98418,     0.98424,     0.98426,     0.98427,     0.98429,     0.98431,     0.98433,     0.98434,     0.98437,     0.98439,      0.9844,     0.98441,     0.98442,     0.98443,     0.98444,     0.98445,     0.98452,     0.98467,     0.98473,     0.98476,\n",
       "            0.98483,     0.98486,      0.9849,     0.98493,     0.98496,     0.98498,     0.98496,     0.98495,     0.98493,     0.98501,     0.98509,     0.98512,     0.98517,     0.98521,     0.98522,     0.98523,     0.98525,     0.98527,      0.9853,     0.98527,     0.98526,     0.98531,     0.98533,\n",
       "            0.98539,     0.98547,     0.98549,      0.9855,     0.98552,     0.98554,     0.98556,      0.9856,     0.98569,     0.98572,     0.98575,     0.98578,     0.98581,     0.98583,     0.98588,     0.98594,     0.98595,     0.98596,     0.98597,     0.98598,     0.98598,     0.98599,       0.986,\n",
       "            0.98603,     0.98607,     0.98614,     0.98616,     0.98618,     0.98619,     0.98621,     0.98621,     0.98622,     0.98623,     0.98623,     0.98624,     0.98625,     0.98625,     0.98628,     0.98631,     0.98636,     0.98635,     0.98635,     0.98634,     0.98633,     0.98633,     0.98632,\n",
       "            0.98632,     0.98633,     0.98638,      0.9864,     0.98641,     0.98637,     0.98641,      0.9864,     0.98638,     0.98636,     0.98637,     0.98637,     0.98638,     0.98639,     0.98639,      0.9864,     0.98641,     0.98641,     0.98643,     0.98645,     0.98646,     0.98644,     0.98642,\n",
       "            0.98645,     0.98649,     0.98653,     0.98656,     0.98654,     0.98652,     0.98655,     0.98658,     0.98659,     0.98659,      0.9866,     0.98661,     0.98662,     0.98663,     0.98664,     0.98665,     0.98666,     0.98667,     0.98665,     0.98664,     0.98667,     0.98669,     0.98672,\n",
       "            0.98678,     0.98676,     0.98675,     0.98672,      0.9868,     0.98685,     0.98688,     0.98691,     0.98693,     0.98696,     0.98699,     0.98695,     0.98701,     0.98705,     0.98707,     0.98709,     0.98705,     0.98709,     0.98712,     0.98714,     0.98719,     0.98722,     0.98725,\n",
       "            0.98727,     0.98728,     0.98729,     0.98731,     0.98732,     0.98734,     0.98735,     0.98737,     0.98741,      0.9874,     0.98742,     0.98743,     0.98745,     0.98746,     0.98749,     0.98752,      0.9876,     0.98764,     0.98765,     0.98766,     0.98767,     0.98768,     0.98767,\n",
       "            0.98765,     0.98768,     0.98768,     0.98767,     0.98766,     0.98765,     0.98764,     0.98762,      0.9876,     0.98758,     0.98756,     0.98753,     0.98751,      0.9875,     0.98749,     0.98747,     0.98745,     0.98742,     0.98745,     0.98742,     0.98744,     0.98746,      0.9875,\n",
       "            0.98752,     0.98753,     0.98753,     0.98754,     0.98754,     0.98755,     0.98755,     0.98756,     0.98756,     0.98757,     0.98758,      0.9876,     0.98761,     0.98763,     0.98764,     0.98763,     0.98765,     0.98766,     0.98768,     0.98772,     0.98772,      0.9877,     0.98769,\n",
       "            0.98768,     0.98778,     0.98777,     0.98775,     0.98774,     0.98773,     0.98773,     0.98774,     0.98774,     0.98775,     0.98775,     0.98776,     0.98776,     0.98777,     0.98777,     0.98778,      0.9878,     0.98784,     0.98786,     0.98788,     0.98788,     0.98786,     0.98784,\n",
       "            0.98784,     0.98785,     0.98787,     0.98789,     0.98784,     0.98789,      0.9879,     0.98791,     0.98793,     0.98793,     0.98789,      0.9879,     0.98792,     0.98794,     0.98795,     0.98796,     0.98797,     0.98799,       0.988,     0.98802,     0.98803,     0.98805,     0.98806,\n",
       "            0.98807,     0.98808,      0.9881,     0.98813,     0.98816,     0.98819,     0.98821,     0.98822,     0.98823,     0.98824,     0.98825,     0.98827,     0.98831,     0.98828,     0.98833,     0.98836,     0.98833,     0.98831,      0.9883,     0.98828,     0.98827,     0.98826,     0.98824,\n",
       "            0.98822,     0.98819,     0.98815,     0.98814,     0.98814,     0.98813,     0.98813,     0.98812,     0.98812,     0.98811,     0.98811,      0.9881,      0.9881,     0.98809,     0.98805,     0.98805,     0.98808,     0.98814,     0.98809,      0.9881,     0.98811,     0.98811,     0.98812,\n",
       "            0.98813,     0.98814,     0.98819,     0.98817,     0.98816,     0.98816,     0.98814,     0.98818,      0.9883,     0.98831,     0.98831,     0.98831,     0.98832,     0.98832,     0.98833,     0.98833,     0.98834,     0.98834,     0.98835,     0.98835,     0.98836,     0.98838,      0.9884,\n",
       "            0.98846,     0.98847,     0.98848,     0.98849,      0.9885,     0.98851,     0.98851,     0.98849,     0.98848,     0.98846,     0.98849,     0.98851,     0.98847,     0.98849,     0.98851,     0.98849,     0.98848,     0.98847,     0.98852,     0.98853,     0.98855,     0.98856,      0.9886,\n",
       "             0.9886,     0.98858,     0.98856,     0.98855,     0.98854,     0.98852,     0.98851,     0.98854,     0.98855,     0.98852,      0.9885,     0.98849,     0.98848,     0.98847,     0.98846,     0.98845,     0.98841,     0.98839,     0.98837,     0.98836,     0.98833,     0.98828,     0.98827,\n",
       "            0.98825,     0.98824,     0.98821,     0.98819,     0.98823,     0.98824,     0.98825,     0.98825,     0.98826,     0.98827,     0.98828,     0.98828,     0.98829,      0.9883,     0.98831,     0.98832,     0.98833,     0.98841,     0.98843,     0.98839,      0.9884,     0.98841,     0.98842,\n",
       "            0.98843,     0.98844,     0.98844,     0.98843,     0.98842,     0.98842,     0.98841,      0.9884,     0.98839,     0.98832,     0.98838,     0.98835,     0.98834,     0.98836,     0.98837,     0.98838,     0.98836,     0.98834,      0.9884,     0.98844,     0.98843,     0.98842,     0.98841,\n",
       "            0.98841,      0.9884,     0.98839,     0.98838,     0.98835,     0.98832,     0.98829,     0.98834,     0.98836,     0.98839,     0.98843,     0.98836,     0.98834,     0.98832,      0.9883,     0.98828,     0.98828,     0.98829,     0.98831,     0.98834,     0.98836,     0.98839,     0.98841,\n",
       "            0.98843,     0.98845,     0.98848,     0.98849,      0.9885,     0.98851,     0.98852,     0.98853,     0.98851,     0.98846,     0.98849,      0.9885,     0.98851,     0.98852,     0.98853,     0.98855,     0.98859,     0.98857,     0.98855,     0.98859,     0.98856,     0.98854,     0.98855,\n",
       "            0.98857,     0.98859,     0.98856,     0.98854,     0.98852,     0.98849,     0.98847,     0.98843,     0.98843,     0.98845,     0.98846,     0.98848,     0.98853,     0.98859,      0.9886,     0.98861,     0.98862,     0.98863,     0.98864,     0.98858,     0.98856,     0.98854,     0.98854,\n",
       "            0.98859,     0.98861,     0.98863,     0.98857,     0.98853,     0.98854,     0.98855,     0.98857,     0.98858,     0.98856,     0.98854,      0.9885,     0.98841,     0.98836,     0.98839,      0.9884,     0.98837,     0.98837,     0.98838,      0.9884,      0.9884,     0.98835,     0.98833,\n",
       "            0.98831,     0.98833,     0.98834,     0.98831,     0.98828,     0.98825,     0.98829,     0.98833,     0.98833,      0.9883,     0.98831,     0.98833,     0.98835,     0.98836,     0.98836,     0.98837,     0.98838,     0.98838,     0.98839,      0.9884,      0.9884,     0.98839,     0.98838,\n",
       "            0.98836,     0.98835,     0.98837,     0.98839,      0.9884,     0.98844,     0.98845,     0.98844,     0.98842,     0.98841,     0.98839,     0.98838,     0.98836,     0.98835,     0.98838,     0.98835,     0.98836,     0.98837,     0.98838,     0.98839,     0.98836,     0.98827,     0.98824,\n",
       "            0.98825,     0.98827,     0.98829,     0.98831,     0.98833,     0.98833,      0.9883,     0.98832,     0.98831,     0.98823,     0.98825,     0.98827,     0.98831,     0.98835,      0.9884,     0.98842,     0.98844,     0.98846,     0.98847,     0.98849,     0.98851,     0.98854,     0.98855,\n",
       "            0.98851,     0.98853,     0.98855,     0.98849,     0.98846,     0.98844,     0.98847,     0.98847,     0.98842,     0.98839,     0.98825,     0.98822,     0.98802,      0.9879,      0.9877,     0.98758,     0.98754,     0.98752,     0.98749,     0.98747,     0.98745,     0.98743,     0.98742,\n",
       "             0.9874,     0.98739,     0.98735,      0.9873,     0.98729,     0.98729,     0.98728,     0.98724,     0.98721,      0.9872,     0.98718,     0.98717,     0.98716,     0.98712,     0.98708,     0.98694,     0.98688,     0.98682,     0.98684,     0.98687,     0.98685,     0.98684,     0.98675,\n",
       "            0.98672,     0.98674,     0.98668,     0.98659,     0.98655,     0.98645,     0.98644,     0.98647,     0.98657,     0.98649,     0.98632,     0.98623,     0.98617,     0.98619,     0.98619,     0.98608,     0.98602,     0.98596,     0.98594,     0.98592,     0.98588,     0.98577,     0.98574,\n",
       "            0.98568,     0.98564,     0.98549,     0.98537,     0.98537,     0.98526,     0.98514,     0.98508,     0.98512,     0.98502,     0.98491,     0.98485,     0.98481,     0.98479,     0.98461,     0.98428,     0.98414,     0.98393,     0.98382,     0.98376,      0.9837,     0.98374,     0.98376,\n",
       "            0.98375,     0.98376,     0.98375,     0.98362,     0.98358,     0.98355,     0.98341,     0.98333,     0.98326,     0.98276,     0.98278,     0.98274,     0.98271,     0.98257,      0.9823,     0.98212,     0.98197,     0.98201,     0.98194,     0.98171,     0.98159,     0.98166,     0.98164,\n",
       "            0.98147,     0.98129,     0.98112,     0.98101,     0.98061,     0.98038,     0.98015,     0.97981,     0.97965,      0.9794,     0.97917,     0.97895,     0.97871,     0.97843,     0.97826,     0.97808,     0.97785,     0.97763,      0.9775,     0.97716,     0.97704,     0.97675,     0.97663,\n",
       "            0.97628,     0.97611,     0.97579,     0.97565,     0.97541,     0.97524,     0.97495,     0.97478,     0.97443,     0.97408,     0.97356,     0.97327,     0.97304,     0.97286,     0.97246,     0.97182,      0.9713,     0.97078,     0.97048,     0.96956,     0.96904,     0.96863,     0.96816,\n",
       "            0.96723,     0.96647,     0.96564,     0.96488,     0.96406,     0.96341,      0.9627,     0.96212,     0.96064,     0.96017,     0.95909,     0.95809,      0.9566,     0.95553,      0.9547,      0.9532,     0.95135,      0.9496,     0.94749,     0.94549,     0.94252,      0.9408,     0.93847,\n",
       "            0.93593,     0.93264,     0.92953,     0.92695,     0.92322,     0.92043,     0.91597,     0.91217,     0.90731,     0.90267,     0.89704,      0.8897,     0.88504,     0.87881,     0.87073,     0.86207,     0.85328,     0.83829,     0.82742,     0.81425,     0.80019,     0.78674,     0.77269,\n",
       "             0.7562,     0.74208,     0.72175,     0.69843,     0.67391,     0.64734,     0.61844,     0.58804,     0.54889,     0.50842,     0.46313,     0.41134,     0.36405,     0.31229,     0.24172,     0.19094,     0.15461,     0.11832,    0.081385,    0.044439,     0.02435,   0.0075427,  0.00077662,\n",
       "                  0,           0,           0,           0,           0,           0,           0,           0,           0,           0,           0]]), 'Confidence', 'F1'], [array([          0,    0.001001,    0.002002,    0.003003,    0.004004,    0.005005,    0.006006,    0.007007,    0.008008,    0.009009,     0.01001,    0.011011,    0.012012,    0.013013,    0.014014,    0.015015,    0.016016,    0.017017,    0.018018,    0.019019,     0.02002,    0.021021,    0.022022,    0.023023,\n",
       "          0.024024,    0.025025,    0.026026,    0.027027,    0.028028,    0.029029,     0.03003,    0.031031,    0.032032,    0.033033,    0.034034,    0.035035,    0.036036,    0.037037,    0.038038,    0.039039,     0.04004,    0.041041,    0.042042,    0.043043,    0.044044,    0.045045,    0.046046,    0.047047,\n",
       "          0.048048,    0.049049,     0.05005,    0.051051,    0.052052,    0.053053,    0.054054,    0.055055,    0.056056,    0.057057,    0.058058,    0.059059,     0.06006,    0.061061,    0.062062,    0.063063,    0.064064,    0.065065,    0.066066,    0.067067,    0.068068,    0.069069,     0.07007,    0.071071,\n",
       "          0.072072,    0.073073,    0.074074,    0.075075,    0.076076,    0.077077,    0.078078,    0.079079,     0.08008,    0.081081,    0.082082,    0.083083,    0.084084,    0.085085,    0.086086,    0.087087,    0.088088,    0.089089,     0.09009,    0.091091,    0.092092,    0.093093,    0.094094,    0.095095,\n",
       "          0.096096,    0.097097,    0.098098,    0.099099,      0.1001,      0.1011,      0.1021,      0.1031,      0.1041,     0.10511,     0.10611,     0.10711,     0.10811,     0.10911,     0.11011,     0.11111,     0.11211,     0.11311,     0.11411,     0.11512,     0.11612,     0.11712,     0.11812,     0.11912,\n",
       "           0.12012,     0.12112,     0.12212,     0.12312,     0.12412,     0.12513,     0.12613,     0.12713,     0.12813,     0.12913,     0.13013,     0.13113,     0.13213,     0.13313,     0.13413,     0.13514,     0.13614,     0.13714,     0.13814,     0.13914,     0.14014,     0.14114,     0.14214,     0.14314,\n",
       "           0.14414,     0.14515,     0.14615,     0.14715,     0.14815,     0.14915,     0.15015,     0.15115,     0.15215,     0.15315,     0.15415,     0.15516,     0.15616,     0.15716,     0.15816,     0.15916,     0.16016,     0.16116,     0.16216,     0.16316,     0.16416,     0.16517,     0.16617,     0.16717,\n",
       "           0.16817,     0.16917,     0.17017,     0.17117,     0.17217,     0.17317,     0.17417,     0.17518,     0.17618,     0.17718,     0.17818,     0.17918,     0.18018,     0.18118,     0.18218,     0.18318,     0.18418,     0.18519,     0.18619,     0.18719,     0.18819,     0.18919,     0.19019,     0.19119,\n",
       "           0.19219,     0.19319,     0.19419,      0.1952,      0.1962,      0.1972,      0.1982,      0.1992,      0.2002,      0.2012,      0.2022,      0.2032,      0.2042,     0.20521,     0.20621,     0.20721,     0.20821,     0.20921,     0.21021,     0.21121,     0.21221,     0.21321,     0.21421,     0.21522,\n",
       "           0.21622,     0.21722,     0.21822,     0.21922,     0.22022,     0.22122,     0.22222,     0.22322,     0.22422,     0.22523,     0.22623,     0.22723,     0.22823,     0.22923,     0.23023,     0.23123,     0.23223,     0.23323,     0.23423,     0.23524,     0.23624,     0.23724,     0.23824,     0.23924,\n",
       "           0.24024,     0.24124,     0.24224,     0.24324,     0.24424,     0.24525,     0.24625,     0.24725,     0.24825,     0.24925,     0.25025,     0.25125,     0.25225,     0.25325,     0.25425,     0.25526,     0.25626,     0.25726,     0.25826,     0.25926,     0.26026,     0.26126,     0.26226,     0.26326,\n",
       "           0.26426,     0.26527,     0.26627,     0.26727,     0.26827,     0.26927,     0.27027,     0.27127,     0.27227,     0.27327,     0.27427,     0.27528,     0.27628,     0.27728,     0.27828,     0.27928,     0.28028,     0.28128,     0.28228,     0.28328,     0.28428,     0.28529,     0.28629,     0.28729,\n",
       "           0.28829,     0.28929,     0.29029,     0.29129,     0.29229,     0.29329,     0.29429,      0.2953,      0.2963,      0.2973,      0.2983,      0.2993,      0.3003,      0.3013,      0.3023,      0.3033,      0.3043,     0.30531,     0.30631,     0.30731,     0.30831,     0.30931,     0.31031,     0.31131,\n",
       "           0.31231,     0.31331,     0.31431,     0.31532,     0.31632,     0.31732,     0.31832,     0.31932,     0.32032,     0.32132,     0.32232,     0.32332,     0.32432,     0.32533,     0.32633,     0.32733,     0.32833,     0.32933,     0.33033,     0.33133,     0.33233,     0.33333,     0.33433,     0.33534,\n",
       "           0.33634,     0.33734,     0.33834,     0.33934,     0.34034,     0.34134,     0.34234,     0.34334,     0.34434,     0.34535,     0.34635,     0.34735,     0.34835,     0.34935,     0.35035,     0.35135,     0.35235,     0.35335,     0.35435,     0.35536,     0.35636,     0.35736,     0.35836,     0.35936,\n",
       "           0.36036,     0.36136,     0.36236,     0.36336,     0.36436,     0.36537,     0.36637,     0.36737,     0.36837,     0.36937,     0.37037,     0.37137,     0.37237,     0.37337,     0.37437,     0.37538,     0.37638,     0.37738,     0.37838,     0.37938,     0.38038,     0.38138,     0.38238,     0.38338,\n",
       "           0.38438,     0.38539,     0.38639,     0.38739,     0.38839,     0.38939,     0.39039,     0.39139,     0.39239,     0.39339,     0.39439,      0.3954,      0.3964,      0.3974,      0.3984,      0.3994,      0.4004,      0.4014,      0.4024,      0.4034,      0.4044,     0.40541,     0.40641,     0.40741,\n",
       "           0.40841,     0.40941,     0.41041,     0.41141,     0.41241,     0.41341,     0.41441,     0.41542,     0.41642,     0.41742,     0.41842,     0.41942,     0.42042,     0.42142,     0.42242,     0.42342,     0.42442,     0.42543,     0.42643,     0.42743,     0.42843,     0.42943,     0.43043,     0.43143,\n",
       "           0.43243,     0.43343,     0.43443,     0.43544,     0.43644,     0.43744,     0.43844,     0.43944,     0.44044,     0.44144,     0.44244,     0.44344,     0.44444,     0.44545,     0.44645,     0.44745,     0.44845,     0.44945,     0.45045,     0.45145,     0.45245,     0.45345,     0.45445,     0.45546,\n",
       "           0.45646,     0.45746,     0.45846,     0.45946,     0.46046,     0.46146,     0.46246,     0.46346,     0.46446,     0.46547,     0.46647,     0.46747,     0.46847,     0.46947,     0.47047,     0.47147,     0.47247,     0.47347,     0.47447,     0.47548,     0.47648,     0.47748,     0.47848,     0.47948,\n",
       "           0.48048,     0.48148,     0.48248,     0.48348,     0.48448,     0.48549,     0.48649,     0.48749,     0.48849,     0.48949,     0.49049,     0.49149,     0.49249,     0.49349,     0.49449,      0.4955,      0.4965,      0.4975,      0.4985,      0.4995,      0.5005,      0.5015,      0.5025,      0.5035,\n",
       "            0.5045,     0.50551,     0.50651,     0.50751,     0.50851,     0.50951,     0.51051,     0.51151,     0.51251,     0.51351,     0.51451,     0.51552,     0.51652,     0.51752,     0.51852,     0.51952,     0.52052,     0.52152,     0.52252,     0.52352,     0.52452,     0.52553,     0.52653,     0.52753,\n",
       "           0.52853,     0.52953,     0.53053,     0.53153,     0.53253,     0.53353,     0.53453,     0.53554,     0.53654,     0.53754,     0.53854,     0.53954,     0.54054,     0.54154,     0.54254,     0.54354,     0.54454,     0.54555,     0.54655,     0.54755,     0.54855,     0.54955,     0.55055,     0.55155,\n",
       "           0.55255,     0.55355,     0.55455,     0.55556,     0.55656,     0.55756,     0.55856,     0.55956,     0.56056,     0.56156,     0.56256,     0.56356,     0.56456,     0.56557,     0.56657,     0.56757,     0.56857,     0.56957,     0.57057,     0.57157,     0.57257,     0.57357,     0.57457,     0.57558,\n",
       "           0.57658,     0.57758,     0.57858,     0.57958,     0.58058,     0.58158,     0.58258,     0.58358,     0.58458,     0.58559,     0.58659,     0.58759,     0.58859,     0.58959,     0.59059,     0.59159,     0.59259,     0.59359,     0.59459,      0.5956,      0.5966,      0.5976,      0.5986,      0.5996,\n",
       "            0.6006,      0.6016,      0.6026,      0.6036,      0.6046,     0.60561,     0.60661,     0.60761,     0.60861,     0.60961,     0.61061,     0.61161,     0.61261,     0.61361,     0.61461,     0.61562,     0.61662,     0.61762,     0.61862,     0.61962,     0.62062,     0.62162,     0.62262,     0.62362,\n",
       "           0.62462,     0.62563,     0.62663,     0.62763,     0.62863,     0.62963,     0.63063,     0.63163,     0.63263,     0.63363,     0.63463,     0.63564,     0.63664,     0.63764,     0.63864,     0.63964,     0.64064,     0.64164,     0.64264,     0.64364,     0.64464,     0.64565,     0.64665,     0.64765,\n",
       "           0.64865,     0.64965,     0.65065,     0.65165,     0.65265,     0.65365,     0.65465,     0.65566,     0.65666,     0.65766,     0.65866,     0.65966,     0.66066,     0.66166,     0.66266,     0.66366,     0.66466,     0.66567,     0.66667,     0.66767,     0.66867,     0.66967,     0.67067,     0.67167,\n",
       "           0.67267,     0.67367,     0.67467,     0.67568,     0.67668,     0.67768,     0.67868,     0.67968,     0.68068,     0.68168,     0.68268,     0.68368,     0.68468,     0.68569,     0.68669,     0.68769,     0.68869,     0.68969,     0.69069,     0.69169,     0.69269,     0.69369,     0.69469,      0.6957,\n",
       "            0.6967,      0.6977,      0.6987,      0.6997,      0.7007,      0.7017,      0.7027,      0.7037,      0.7047,     0.70571,     0.70671,     0.70771,     0.70871,     0.70971,     0.71071,     0.71171,     0.71271,     0.71371,     0.71471,     0.71572,     0.71672,     0.71772,     0.71872,     0.71972,\n",
       "           0.72072,     0.72172,     0.72272,     0.72372,     0.72472,     0.72573,     0.72673,     0.72773,     0.72873,     0.72973,     0.73073,     0.73173,     0.73273,     0.73373,     0.73473,     0.73574,     0.73674,     0.73774,     0.73874,     0.73974,     0.74074,     0.74174,     0.74274,     0.74374,\n",
       "           0.74474,     0.74575,     0.74675,     0.74775,     0.74875,     0.74975,     0.75075,     0.75175,     0.75275,     0.75375,     0.75475,     0.75576,     0.75676,     0.75776,     0.75876,     0.75976,     0.76076,     0.76176,     0.76276,     0.76376,     0.76476,     0.76577,     0.76677,     0.76777,\n",
       "           0.76877,     0.76977,     0.77077,     0.77177,     0.77277,     0.77377,     0.77477,     0.77578,     0.77678,     0.77778,     0.77878,     0.77978,     0.78078,     0.78178,     0.78278,     0.78378,     0.78478,     0.78579,     0.78679,     0.78779,     0.78879,     0.78979,     0.79079,     0.79179,\n",
       "           0.79279,     0.79379,     0.79479,      0.7958,      0.7968,      0.7978,      0.7988,      0.7998,      0.8008,      0.8018,      0.8028,      0.8038,      0.8048,     0.80581,     0.80681,     0.80781,     0.80881,     0.80981,     0.81081,     0.81181,     0.81281,     0.81381,     0.81481,     0.81582,\n",
       "           0.81682,     0.81782,     0.81882,     0.81982,     0.82082,     0.82182,     0.82282,     0.82382,     0.82482,     0.82583,     0.82683,     0.82783,     0.82883,     0.82983,     0.83083,     0.83183,     0.83283,     0.83383,     0.83483,     0.83584,     0.83684,     0.83784,     0.83884,     0.83984,\n",
       "           0.84084,     0.84184,     0.84284,     0.84384,     0.84484,     0.84585,     0.84685,     0.84785,     0.84885,     0.84985,     0.85085,     0.85185,     0.85285,     0.85385,     0.85485,     0.85586,     0.85686,     0.85786,     0.85886,     0.85986,     0.86086,     0.86186,     0.86286,     0.86386,\n",
       "           0.86486,     0.86587,     0.86687,     0.86787,     0.86887,     0.86987,     0.87087,     0.87187,     0.87287,     0.87387,     0.87487,     0.87588,     0.87688,     0.87788,     0.87888,     0.87988,     0.88088,     0.88188,     0.88288,     0.88388,     0.88488,     0.88589,     0.88689,     0.88789,\n",
       "           0.88889,     0.88989,     0.89089,     0.89189,     0.89289,     0.89389,     0.89489,      0.8959,      0.8969,      0.8979,      0.8989,      0.8999,      0.9009,      0.9019,      0.9029,      0.9039,      0.9049,     0.90591,     0.90691,     0.90791,     0.90891,     0.90991,     0.91091,     0.91191,\n",
       "           0.91291,     0.91391,     0.91491,     0.91592,     0.91692,     0.91792,     0.91892,     0.91992,     0.92092,     0.92192,     0.92292,     0.92392,     0.92492,     0.92593,     0.92693,     0.92793,     0.92893,     0.92993,     0.93093,     0.93193,     0.93293,     0.93393,     0.93493,     0.93594,\n",
       "           0.93694,     0.93794,     0.93894,     0.93994,     0.94094,     0.94194,     0.94294,     0.94394,     0.94494,     0.94595,     0.94695,     0.94795,     0.94895,     0.94995,     0.95095,     0.95195,     0.95295,     0.95395,     0.95495,     0.95596,     0.95696,     0.95796,     0.95896,     0.95996,\n",
       "           0.96096,     0.96196,     0.96296,     0.96396,     0.96496,     0.96597,     0.96697,     0.96797,     0.96897,     0.96997,     0.97097,     0.97197,     0.97297,     0.97397,     0.97497,     0.97598,     0.97698,     0.97798,     0.97898,     0.97998,     0.98098,     0.98198,     0.98298,     0.98398,\n",
       "           0.98498,     0.98599,     0.98699,     0.98799,     0.98899,     0.98999,     0.99099,     0.99199,     0.99299,     0.99399,     0.99499,       0.996,       0.997,       0.998,       0.999,           1]), array([[    0.84841,     0.84841,      0.8755,     0.89018,     0.89823,      0.9047,     0.90997,     0.91427,     0.91712,     0.91931,     0.92211,     0.92383,     0.92559,     0.92677,     0.92829,      0.9298,     0.93117,     0.93154,     0.93223,     0.93301,      0.9338,     0.93452,     0.93544,\n",
       "            0.93612,     0.93692,      0.9375,     0.93772,     0.93831,      0.9387,     0.93932,     0.94002,     0.94086,     0.94096,     0.94106,     0.94155,     0.94218,     0.94237,       0.943,     0.94376,     0.94418,      0.9448,     0.94517,     0.94586,     0.94658,     0.94733,     0.94797,\n",
       "             0.9483,     0.94862,     0.94919,     0.95023,      0.9507,     0.95086,     0.95145,     0.95174,     0.95194,       0.952,      0.9524,     0.95279,     0.95385,     0.95423,     0.95463,     0.95496,     0.95565,     0.95604,     0.95612,     0.95616,      0.9565,     0.95682,     0.95725,\n",
       "            0.95751,      0.9581,     0.95872,      0.9592,     0.95928,     0.95939,     0.95985,     0.95997,     0.96013,     0.96033,     0.96045,     0.96075,     0.96099,     0.96151,     0.96195,     0.96226,     0.96233,     0.96259,     0.96274,     0.96292,      0.9631,     0.96335,     0.96349,\n",
       "            0.96366,     0.96377,     0.96398,     0.96427,     0.96442,     0.96458,     0.96475,     0.96508,     0.96513,     0.96524,     0.96548,     0.96568,     0.96578,     0.96593,     0.96615,     0.96634,     0.96639,     0.96673,     0.96679,     0.96706,     0.96714,     0.96735,     0.96742,\n",
       "            0.96748,     0.96753,     0.96762,     0.96782,     0.96798,     0.96818,     0.96839,     0.96846,     0.96861,     0.96868,     0.96873,     0.96878,     0.96893,     0.96913,      0.9692,     0.96925,     0.96932,      0.9694,     0.96948,     0.96963,     0.96971,     0.96975,     0.96978,\n",
       "            0.96986,     0.96996,     0.97002,     0.97006,      0.9701,     0.97012,     0.97013,     0.97015,     0.97016,     0.97018,     0.97019,     0.97021,     0.97024,     0.97036,     0.97041,     0.97043,     0.97049,     0.97059,     0.97074,      0.9708,     0.97087,     0.97094,     0.97097,\n",
       "            0.97099,     0.97102,     0.97107,     0.97113,     0.97124,     0.97128,     0.97131,     0.97134,     0.97137,     0.97141,     0.97144,     0.97148,     0.97153,     0.97156,     0.97158,      0.9716,     0.97161,     0.97163,     0.97165,     0.97178,     0.97208,      0.9722,     0.97225,\n",
       "            0.97239,     0.97246,     0.97252,     0.97258,     0.97265,     0.97269,     0.97269,     0.97269,     0.97269,     0.97284,       0.973,     0.97306,     0.97316,     0.97323,     0.97326,     0.97328,     0.97331,     0.97336,     0.97341,     0.97341,     0.97344,     0.97353,     0.97358,\n",
       "            0.97369,     0.97385,     0.97388,     0.97391,     0.97394,     0.97398,     0.97402,      0.9741,     0.97428,     0.97434,      0.9744,     0.97446,      0.9745,     0.97455,     0.97465,     0.97477,     0.97479,      0.9748,     0.97482,     0.97483,     0.97485,     0.97486,     0.97497,\n",
       "            0.97504,     0.97512,     0.97526,     0.97531,     0.97534,     0.97536,     0.97539,      0.9754,     0.97542,     0.97543,     0.97544,     0.97546,     0.97547,     0.97548,     0.97553,      0.9756,      0.9757,      0.9757,      0.9757,      0.9757,      0.9757,      0.9757,      0.9757,\n",
       "             0.9757,     0.97574,     0.97584,     0.97588,     0.97591,     0.97592,     0.97601,     0.97601,     0.97601,     0.97601,     0.97602,     0.97603,     0.97605,     0.97606,     0.97607,     0.97609,      0.9761,     0.97611,     0.97615,     0.97619,     0.97622,     0.97621,     0.97621,\n",
       "            0.97628,     0.97637,     0.97645,     0.97653,     0.97653,     0.97653,     0.97659,     0.97664,     0.97666,     0.97667,     0.97669,     0.97671,     0.97673,     0.97674,     0.97676,     0.97678,      0.9768,     0.97682,     0.97684,     0.97688,     0.97693,     0.97697,     0.97702,\n",
       "            0.97715,     0.97715,     0.97715,     0.97715,     0.97739,     0.97748,     0.97754,      0.9776,     0.97765,     0.97771,     0.97777,      0.9778,     0.97791,     0.97799,     0.97803,     0.97807,      0.9781,     0.97818,     0.97823,     0.97827,     0.97836,     0.97844,     0.97848,\n",
       "            0.97852,     0.97855,     0.97857,      0.9786,     0.97863,     0.97866,     0.97869,     0.97872,      0.9788,     0.97882,     0.97893,     0.97896,     0.97898,     0.97901,     0.97906,     0.97913,     0.97929,     0.97935,     0.97937,     0.97939,     0.97941,     0.97943,     0.97945,\n",
       "            0.97949,     0.97955,     0.97955,     0.97955,     0.97955,     0.97955,     0.97955,     0.97955,     0.97955,     0.97955,     0.97955,     0.97955,     0.97955,     0.97955,     0.97955,     0.97955,     0.97955,     0.97954,     0.97965,     0.97966,      0.9797,     0.97974,     0.97982,\n",
       "            0.97987,     0.97988,     0.97989,      0.9799,     0.97991,     0.97992,     0.97993,     0.97994,     0.97995,     0.97996,     0.97999,     0.98002,     0.98004,     0.98007,     0.98017,      0.9802,     0.98022,     0.98025,     0.98029,     0.98036,     0.98038,     0.98038,     0.98038,\n",
       "            0.98039,     0.98059,     0.98059,     0.98059,     0.98059,     0.98059,      0.9806,     0.98061,     0.98062,     0.98063,     0.98064,     0.98065,     0.98066,     0.98067,     0.98068,     0.98069,     0.98074,     0.98081,     0.98085,      0.9809,     0.98091,     0.98091,     0.98091,\n",
       "            0.98092,     0.98095,     0.98098,     0.98101,     0.98101,     0.98112,     0.98115,     0.98117,      0.9812,     0.98122,     0.98122,     0.98125,     0.98129,     0.98133,     0.98135,     0.98138,      0.9814,     0.98142,     0.98145,     0.98148,     0.98151,     0.98154,     0.98156,\n",
       "            0.98159,     0.98161,     0.98164,     0.98171,     0.98177,     0.98182,     0.98186,     0.98188,      0.9819,     0.98193,     0.98195,     0.98199,     0.98205,     0.98207,      0.9822,     0.98228,     0.98228,     0.98228,     0.98228,     0.98228,     0.98227,     0.98227,     0.98227,\n",
       "            0.98227,     0.98227,     0.98227,     0.98227,     0.98227,     0.98227,     0.98227,     0.98227,     0.98227,     0.98227,     0.98227,     0.98227,     0.98227,     0.98227,     0.98227,      0.9823,     0.98235,     0.98247,     0.98248,      0.9825,     0.98251,     0.98253,     0.98254,\n",
       "            0.98256,     0.98258,     0.98269,     0.98269,     0.98269,     0.98273,     0.98279,     0.98288,     0.98311,     0.98312,     0.98313,     0.98314,     0.98315,     0.98316,     0.98317,     0.98318,     0.98319,      0.9832,      0.9832,     0.98321,     0.98324,     0.98328,     0.98331,\n",
       "            0.98343,     0.98345,     0.98347,     0.98349,     0.98351,     0.98352,     0.98354,     0.98354,     0.98354,     0.98354,     0.98358,     0.98364,     0.98366,      0.9837,     0.98375,     0.98375,     0.98375,     0.98376,     0.98387,      0.9839,     0.98392,     0.98395,     0.98403,\n",
       "            0.98406,     0.98406,     0.98406,     0.98406,     0.98406,     0.98406,     0.98406,     0.98413,     0.98417,     0.98417,     0.98417,     0.98417,     0.98417,     0.98417,     0.98417,     0.98416,     0.98416,     0.98416,     0.98416,     0.98416,     0.98416,     0.98416,     0.98416,\n",
       "            0.98416,     0.98416,     0.98416,     0.98416,     0.98427,     0.98428,      0.9843,     0.98431,     0.98432,     0.98434,     0.98435,     0.98436,     0.98438,      0.9844,     0.98442,     0.98444,     0.98446,     0.98461,     0.98469,     0.98469,     0.98471,     0.98473,     0.98475,\n",
       "            0.98477,     0.98479,      0.9848,      0.9848,      0.9848,     0.98479,     0.98479,     0.98479,     0.98479,     0.98479,       0.985,       0.985,     0.98502,     0.98506,     0.98509,     0.98511,     0.98511,     0.98511,     0.98525,     0.98532,     0.98532,     0.98532,     0.98532,\n",
       "            0.98532,     0.98532,     0.98532,     0.98532,     0.98532,     0.98532,     0.98534,     0.98545,      0.9855,     0.98555,     0.98562,     0.98564,     0.98564,     0.98564,     0.98564,     0.98564,     0.98565,     0.98568,     0.98572,     0.98577,     0.98582,     0.98587,     0.98591,\n",
       "            0.98596,       0.986,     0.98605,     0.98608,      0.9861,     0.98612,     0.98614,     0.98616,     0.98617,     0.98623,     0.98629,     0.98631,     0.98633,     0.98635,     0.98637,     0.98641,     0.98649,     0.98649,     0.98649,      0.9866,      0.9866,      0.9866,     0.98663,\n",
       "            0.98667,      0.9867,      0.9867,      0.9867,      0.9867,      0.9867,      0.9867,      0.9867,     0.98672,     0.98675,     0.98678,      0.9868,      0.9869,     0.98703,     0.98705,     0.98707,     0.98709,     0.98711,     0.98713,     0.98713,     0.98713,     0.98713,     0.98714,\n",
       "            0.98724,     0.98729,     0.98733,     0.98734,     0.98735,     0.98737,      0.9874,     0.98742,     0.98744,     0.98745,     0.98745,     0.98744,     0.98744,     0.98744,     0.98761,     0.98766,     0.98765,     0.98767,      0.9877,     0.98774,     0.98776,     0.98776,     0.98776,\n",
       "            0.98776,     0.98782,     0.98787,     0.98787,     0.98787,     0.98786,     0.98796,     0.98804,     0.98808,     0.98808,     0.98812,     0.98815,     0.98819,      0.9882,     0.98821,     0.98823,     0.98824,     0.98825,     0.98827,     0.98828,     0.98829,      0.9883,      0.9883,\n",
       "            0.98829,     0.98831,     0.98834,     0.98837,      0.9884,     0.98847,     0.98851,     0.98851,     0.98851,     0.98851,     0.98851,     0.98851,     0.98851,     0.98851,     0.98862,     0.98863,     0.98865,     0.98867,     0.98869,     0.98871,     0.98872,     0.98872,     0.98873,\n",
       "            0.98876,      0.9888,     0.98883,     0.98887,     0.98892,     0.98894,     0.98894,       0.989,     0.98904,     0.98905,     0.98908,     0.98912,      0.9892,     0.98939,     0.98949,     0.98953,     0.98957,     0.98961,     0.98964,     0.98967,     0.98982,     0.98988,     0.99001,\n",
       "            0.99005,     0.99009,     0.99012,     0.99012,     0.99012,     0.99013,     0.99018,     0.99023,     0.99023,     0.99023,     0.99022,     0.99022,     0.99022,     0.99022,     0.99021,     0.99021,     0.99021,     0.99021,     0.99021,     0.99021,     0.99021,     0.99021,     0.99021,\n",
       "            0.99021,     0.99021,     0.99021,     0.99021,     0.99024,     0.99036,     0.99042,     0.99042,     0.99042,     0.99042,     0.99042,     0.99042,     0.99042,     0.99042,     0.99042,     0.99041,     0.99052,     0.99052,     0.99056,     0.99061,     0.99069,     0.99074,     0.99074,\n",
       "            0.99087,     0.99095,     0.99095,     0.99095,     0.99095,     0.99095,     0.99108,     0.99115,     0.99135,     0.99138,     0.99138,     0.99138,     0.99138,     0.99148,     0.99159,     0.99159,     0.99159,     0.99159,     0.99159,     0.99159,     0.99159,     0.99162,      0.9917,\n",
       "            0.99169,     0.99169,     0.99169,     0.99172,      0.9918,      0.9918,     0.99179,     0.99179,     0.99189,      0.9919,      0.9919,      0.9919,      0.9919,     0.99212,     0.99211,     0.99211,     0.99211,      0.9921,      0.9921,      0.9921,      0.9921,     0.99235,     0.99243,\n",
       "            0.99249,     0.99265,     0.99272,     0.99276,     0.99276,     0.99276,     0.99275,     0.99275,     0.99286,     0.99286,     0.99296,     0.99296,     0.99296,     0.99296,     0.99296,     0.99296,     0.99308,     0.99315,     0.99317,     0.99317,     0.99317,     0.99335,      0.9935,\n",
       "             0.9935,      0.9935,     0.99349,     0.99349,     0.99349,     0.99348,     0.99348,     0.99348,     0.99349,     0.99358,     0.99358,     0.99358,     0.99369,     0.99368,     0.99379,     0.99379,     0.99379,     0.99378,     0.99378,     0.99378,     0.99378,     0.99377,       0.994,\n",
       "             0.9941,      0.9941,      0.9941,     0.99421,     0.99421,      0.9942,      0.9942,      0.9942,     0.99419,      0.9943,      0.9943,     0.99441,      0.9944,      0.9944,      0.9944,     0.99439,     0.99438,     0.99438,     0.99437,     0.99436,     0.99436,     0.99435,     0.99446,\n",
       "            0.99457,     0.99467,     0.99478,     0.99477,     0.99476,     0.99487,     0.99498,     0.99497,     0.99496,     0.99507,     0.99529,     0.99528,     0.99527,     0.99526,     0.99525,     0.99524,     0.99522,      0.9952,     0.99518,     0.99516,     0.99513,     0.99524,     0.99522,\n",
       "            0.99531,     0.99541,     0.99538,     0.99548,     0.99557,     0.99555,     0.99551,     0.99547,     0.99543,     0.99538,     0.99546,      0.9954,     0.99535,     0.99557,      0.9955,      0.9957,     0.99591,     0.99593,       0.996,      0.9962,     0.99657,     0.99664,     0.99689,\n",
       "            0.99713,      0.9976,     0.99768,     0.99776,     0.99764,     0.99749,     0.99732,     0.99764,     0.99769,     0.99744,     0.99783,     0.99747,     0.99755,     0.99764,     0.99762,     0.99793,      0.9987,     0.99826,     0.99743,           1,           1,           1,           1,\n",
       "                  1,           1,           1,           1,           1,           1,           1,           1,           1,           1,           1]]), 'Confidence', 'Precision'], [array([          0,    0.001001,    0.002002,    0.003003,    0.004004,    0.005005,    0.006006,    0.007007,    0.008008,    0.009009,     0.01001,    0.011011,    0.012012,    0.013013,    0.014014,    0.015015,    0.016016,    0.017017,    0.018018,    0.019019,     0.02002,    0.021021,    0.022022,    0.023023,\n",
       "          0.024024,    0.025025,    0.026026,    0.027027,    0.028028,    0.029029,     0.03003,    0.031031,    0.032032,    0.033033,    0.034034,    0.035035,    0.036036,    0.037037,    0.038038,    0.039039,     0.04004,    0.041041,    0.042042,    0.043043,    0.044044,    0.045045,    0.046046,    0.047047,\n",
       "          0.048048,    0.049049,     0.05005,    0.051051,    0.052052,    0.053053,    0.054054,    0.055055,    0.056056,    0.057057,    0.058058,    0.059059,     0.06006,    0.061061,    0.062062,    0.063063,    0.064064,    0.065065,    0.066066,    0.067067,    0.068068,    0.069069,     0.07007,    0.071071,\n",
       "          0.072072,    0.073073,    0.074074,    0.075075,    0.076076,    0.077077,    0.078078,    0.079079,     0.08008,    0.081081,    0.082082,    0.083083,    0.084084,    0.085085,    0.086086,    0.087087,    0.088088,    0.089089,     0.09009,    0.091091,    0.092092,    0.093093,    0.094094,    0.095095,\n",
       "          0.096096,    0.097097,    0.098098,    0.099099,      0.1001,      0.1011,      0.1021,      0.1031,      0.1041,     0.10511,     0.10611,     0.10711,     0.10811,     0.10911,     0.11011,     0.11111,     0.11211,     0.11311,     0.11411,     0.11512,     0.11612,     0.11712,     0.11812,     0.11912,\n",
       "           0.12012,     0.12112,     0.12212,     0.12312,     0.12412,     0.12513,     0.12613,     0.12713,     0.12813,     0.12913,     0.13013,     0.13113,     0.13213,     0.13313,     0.13413,     0.13514,     0.13614,     0.13714,     0.13814,     0.13914,     0.14014,     0.14114,     0.14214,     0.14314,\n",
       "           0.14414,     0.14515,     0.14615,     0.14715,     0.14815,     0.14915,     0.15015,     0.15115,     0.15215,     0.15315,     0.15415,     0.15516,     0.15616,     0.15716,     0.15816,     0.15916,     0.16016,     0.16116,     0.16216,     0.16316,     0.16416,     0.16517,     0.16617,     0.16717,\n",
       "           0.16817,     0.16917,     0.17017,     0.17117,     0.17217,     0.17317,     0.17417,     0.17518,     0.17618,     0.17718,     0.17818,     0.17918,     0.18018,     0.18118,     0.18218,     0.18318,     0.18418,     0.18519,     0.18619,     0.18719,     0.18819,     0.18919,     0.19019,     0.19119,\n",
       "           0.19219,     0.19319,     0.19419,      0.1952,      0.1962,      0.1972,      0.1982,      0.1992,      0.2002,      0.2012,      0.2022,      0.2032,      0.2042,     0.20521,     0.20621,     0.20721,     0.20821,     0.20921,     0.21021,     0.21121,     0.21221,     0.21321,     0.21421,     0.21522,\n",
       "           0.21622,     0.21722,     0.21822,     0.21922,     0.22022,     0.22122,     0.22222,     0.22322,     0.22422,     0.22523,     0.22623,     0.22723,     0.22823,     0.22923,     0.23023,     0.23123,     0.23223,     0.23323,     0.23423,     0.23524,     0.23624,     0.23724,     0.23824,     0.23924,\n",
       "           0.24024,     0.24124,     0.24224,     0.24324,     0.24424,     0.24525,     0.24625,     0.24725,     0.24825,     0.24925,     0.25025,     0.25125,     0.25225,     0.25325,     0.25425,     0.25526,     0.25626,     0.25726,     0.25826,     0.25926,     0.26026,     0.26126,     0.26226,     0.26326,\n",
       "           0.26426,     0.26527,     0.26627,     0.26727,     0.26827,     0.26927,     0.27027,     0.27127,     0.27227,     0.27327,     0.27427,     0.27528,     0.27628,     0.27728,     0.27828,     0.27928,     0.28028,     0.28128,     0.28228,     0.28328,     0.28428,     0.28529,     0.28629,     0.28729,\n",
       "           0.28829,     0.28929,     0.29029,     0.29129,     0.29229,     0.29329,     0.29429,      0.2953,      0.2963,      0.2973,      0.2983,      0.2993,      0.3003,      0.3013,      0.3023,      0.3033,      0.3043,     0.30531,     0.30631,     0.30731,     0.30831,     0.30931,     0.31031,     0.31131,\n",
       "           0.31231,     0.31331,     0.31431,     0.31532,     0.31632,     0.31732,     0.31832,     0.31932,     0.32032,     0.32132,     0.32232,     0.32332,     0.32432,     0.32533,     0.32633,     0.32733,     0.32833,     0.32933,     0.33033,     0.33133,     0.33233,     0.33333,     0.33433,     0.33534,\n",
       "           0.33634,     0.33734,     0.33834,     0.33934,     0.34034,     0.34134,     0.34234,     0.34334,     0.34434,     0.34535,     0.34635,     0.34735,     0.34835,     0.34935,     0.35035,     0.35135,     0.35235,     0.35335,     0.35435,     0.35536,     0.35636,     0.35736,     0.35836,     0.35936,\n",
       "           0.36036,     0.36136,     0.36236,     0.36336,     0.36436,     0.36537,     0.36637,     0.36737,     0.36837,     0.36937,     0.37037,     0.37137,     0.37237,     0.37337,     0.37437,     0.37538,     0.37638,     0.37738,     0.37838,     0.37938,     0.38038,     0.38138,     0.38238,     0.38338,\n",
       "           0.38438,     0.38539,     0.38639,     0.38739,     0.38839,     0.38939,     0.39039,     0.39139,     0.39239,     0.39339,     0.39439,      0.3954,      0.3964,      0.3974,      0.3984,      0.3994,      0.4004,      0.4014,      0.4024,      0.4034,      0.4044,     0.40541,     0.40641,     0.40741,\n",
       "           0.40841,     0.40941,     0.41041,     0.41141,     0.41241,     0.41341,     0.41441,     0.41542,     0.41642,     0.41742,     0.41842,     0.41942,     0.42042,     0.42142,     0.42242,     0.42342,     0.42442,     0.42543,     0.42643,     0.42743,     0.42843,     0.42943,     0.43043,     0.43143,\n",
       "           0.43243,     0.43343,     0.43443,     0.43544,     0.43644,     0.43744,     0.43844,     0.43944,     0.44044,     0.44144,     0.44244,     0.44344,     0.44444,     0.44545,     0.44645,     0.44745,     0.44845,     0.44945,     0.45045,     0.45145,     0.45245,     0.45345,     0.45445,     0.45546,\n",
       "           0.45646,     0.45746,     0.45846,     0.45946,     0.46046,     0.46146,     0.46246,     0.46346,     0.46446,     0.46547,     0.46647,     0.46747,     0.46847,     0.46947,     0.47047,     0.47147,     0.47247,     0.47347,     0.47447,     0.47548,     0.47648,     0.47748,     0.47848,     0.47948,\n",
       "           0.48048,     0.48148,     0.48248,     0.48348,     0.48448,     0.48549,     0.48649,     0.48749,     0.48849,     0.48949,     0.49049,     0.49149,     0.49249,     0.49349,     0.49449,      0.4955,      0.4965,      0.4975,      0.4985,      0.4995,      0.5005,      0.5015,      0.5025,      0.5035,\n",
       "            0.5045,     0.50551,     0.50651,     0.50751,     0.50851,     0.50951,     0.51051,     0.51151,     0.51251,     0.51351,     0.51451,     0.51552,     0.51652,     0.51752,     0.51852,     0.51952,     0.52052,     0.52152,     0.52252,     0.52352,     0.52452,     0.52553,     0.52653,     0.52753,\n",
       "           0.52853,     0.52953,     0.53053,     0.53153,     0.53253,     0.53353,     0.53453,     0.53554,     0.53654,     0.53754,     0.53854,     0.53954,     0.54054,     0.54154,     0.54254,     0.54354,     0.54454,     0.54555,     0.54655,     0.54755,     0.54855,     0.54955,     0.55055,     0.55155,\n",
       "           0.55255,     0.55355,     0.55455,     0.55556,     0.55656,     0.55756,     0.55856,     0.55956,     0.56056,     0.56156,     0.56256,     0.56356,     0.56456,     0.56557,     0.56657,     0.56757,     0.56857,     0.56957,     0.57057,     0.57157,     0.57257,     0.57357,     0.57457,     0.57558,\n",
       "           0.57658,     0.57758,     0.57858,     0.57958,     0.58058,     0.58158,     0.58258,     0.58358,     0.58458,     0.58559,     0.58659,     0.58759,     0.58859,     0.58959,     0.59059,     0.59159,     0.59259,     0.59359,     0.59459,      0.5956,      0.5966,      0.5976,      0.5986,      0.5996,\n",
       "            0.6006,      0.6016,      0.6026,      0.6036,      0.6046,     0.60561,     0.60661,     0.60761,     0.60861,     0.60961,     0.61061,     0.61161,     0.61261,     0.61361,     0.61461,     0.61562,     0.61662,     0.61762,     0.61862,     0.61962,     0.62062,     0.62162,     0.62262,     0.62362,\n",
       "           0.62462,     0.62563,     0.62663,     0.62763,     0.62863,     0.62963,     0.63063,     0.63163,     0.63263,     0.63363,     0.63463,     0.63564,     0.63664,     0.63764,     0.63864,     0.63964,     0.64064,     0.64164,     0.64264,     0.64364,     0.64464,     0.64565,     0.64665,     0.64765,\n",
       "           0.64865,     0.64965,     0.65065,     0.65165,     0.65265,     0.65365,     0.65465,     0.65566,     0.65666,     0.65766,     0.65866,     0.65966,     0.66066,     0.66166,     0.66266,     0.66366,     0.66466,     0.66567,     0.66667,     0.66767,     0.66867,     0.66967,     0.67067,     0.67167,\n",
       "           0.67267,     0.67367,     0.67467,     0.67568,     0.67668,     0.67768,     0.67868,     0.67968,     0.68068,     0.68168,     0.68268,     0.68368,     0.68468,     0.68569,     0.68669,     0.68769,     0.68869,     0.68969,     0.69069,     0.69169,     0.69269,     0.69369,     0.69469,      0.6957,\n",
       "            0.6967,      0.6977,      0.6987,      0.6997,      0.7007,      0.7017,      0.7027,      0.7037,      0.7047,     0.70571,     0.70671,     0.70771,     0.70871,     0.70971,     0.71071,     0.71171,     0.71271,     0.71371,     0.71471,     0.71572,     0.71672,     0.71772,     0.71872,     0.71972,\n",
       "           0.72072,     0.72172,     0.72272,     0.72372,     0.72472,     0.72573,     0.72673,     0.72773,     0.72873,     0.72973,     0.73073,     0.73173,     0.73273,     0.73373,     0.73473,     0.73574,     0.73674,     0.73774,     0.73874,     0.73974,     0.74074,     0.74174,     0.74274,     0.74374,\n",
       "           0.74474,     0.74575,     0.74675,     0.74775,     0.74875,     0.74975,     0.75075,     0.75175,     0.75275,     0.75375,     0.75475,     0.75576,     0.75676,     0.75776,     0.75876,     0.75976,     0.76076,     0.76176,     0.76276,     0.76376,     0.76476,     0.76577,     0.76677,     0.76777,\n",
       "           0.76877,     0.76977,     0.77077,     0.77177,     0.77277,     0.77377,     0.77477,     0.77578,     0.77678,     0.77778,     0.77878,     0.77978,     0.78078,     0.78178,     0.78278,     0.78378,     0.78478,     0.78579,     0.78679,     0.78779,     0.78879,     0.78979,     0.79079,     0.79179,\n",
       "           0.79279,     0.79379,     0.79479,      0.7958,      0.7968,      0.7978,      0.7988,      0.7998,      0.8008,      0.8018,      0.8028,      0.8038,      0.8048,     0.80581,     0.80681,     0.80781,     0.80881,     0.80981,     0.81081,     0.81181,     0.81281,     0.81381,     0.81481,     0.81582,\n",
       "           0.81682,     0.81782,     0.81882,     0.81982,     0.82082,     0.82182,     0.82282,     0.82382,     0.82482,     0.82583,     0.82683,     0.82783,     0.82883,     0.82983,     0.83083,     0.83183,     0.83283,     0.83383,     0.83483,     0.83584,     0.83684,     0.83784,     0.83884,     0.83984,\n",
       "           0.84084,     0.84184,     0.84284,     0.84384,     0.84484,     0.84585,     0.84685,     0.84785,     0.84885,     0.84985,     0.85085,     0.85185,     0.85285,     0.85385,     0.85485,     0.85586,     0.85686,     0.85786,     0.85886,     0.85986,     0.86086,     0.86186,     0.86286,     0.86386,\n",
       "           0.86486,     0.86587,     0.86687,     0.86787,     0.86887,     0.86987,     0.87087,     0.87187,     0.87287,     0.87387,     0.87487,     0.87588,     0.87688,     0.87788,     0.87888,     0.87988,     0.88088,     0.88188,     0.88288,     0.88388,     0.88488,     0.88589,     0.88689,     0.88789,\n",
       "           0.88889,     0.88989,     0.89089,     0.89189,     0.89289,     0.89389,     0.89489,      0.8959,      0.8969,      0.8979,      0.8989,      0.8999,      0.9009,      0.9019,      0.9029,      0.9039,      0.9049,     0.90591,     0.90691,     0.90791,     0.90891,     0.90991,     0.91091,     0.91191,\n",
       "           0.91291,     0.91391,     0.91491,     0.91592,     0.91692,     0.91792,     0.91892,     0.91992,     0.92092,     0.92192,     0.92292,     0.92392,     0.92492,     0.92593,     0.92693,     0.92793,     0.92893,     0.92993,     0.93093,     0.93193,     0.93293,     0.93393,     0.93493,     0.93594,\n",
       "           0.93694,     0.93794,     0.93894,     0.93994,     0.94094,     0.94194,     0.94294,     0.94394,     0.94494,     0.94595,     0.94695,     0.94795,     0.94895,     0.94995,     0.95095,     0.95195,     0.95295,     0.95395,     0.95495,     0.95596,     0.95696,     0.95796,     0.95896,     0.95996,\n",
       "           0.96096,     0.96196,     0.96296,     0.96396,     0.96496,     0.96597,     0.96697,     0.96797,     0.96897,     0.96997,     0.97097,     0.97197,     0.97297,     0.97397,     0.97497,     0.97598,     0.97698,     0.97798,     0.97898,     0.97998,     0.98098,     0.98198,     0.98298,     0.98398,\n",
       "           0.98498,     0.98599,     0.98699,     0.98799,     0.98899,     0.98999,     0.99099,     0.99199,     0.99299,     0.99399,     0.99499,       0.996,       0.997,       0.998,       0.999,           1]), array([[    0.99869,     0.99869,     0.99869,     0.99869,     0.99858,     0.99858,     0.99858,     0.99858,     0.99858,     0.99858,     0.99858,     0.99847,     0.99847,     0.99847,     0.99847,     0.99847,     0.99847,     0.99847,     0.99847,     0.99847,     0.99847,     0.99847,     0.99847,\n",
       "            0.99847,     0.99836,     0.99836,     0.99836,     0.99836,     0.99836,     0.99836,     0.99836,     0.99836,     0.99836,     0.99836,     0.99836,     0.99836,     0.99836,     0.99836,     0.99836,     0.99836,     0.99836,     0.99836,     0.99836,     0.99836,     0.99836,     0.99836,\n",
       "            0.99836,     0.99836,     0.99836,     0.99836,     0.99836,     0.99836,     0.99836,     0.99825,     0.99825,     0.99819,     0.99814,     0.99814,     0.99814,     0.99814,     0.99814,     0.99814,     0.99814,     0.99814,     0.99814,     0.99814,     0.99814,     0.99814,     0.99814,\n",
       "            0.99814,     0.99814,     0.99814,     0.99803,     0.99803,     0.99803,     0.99792,     0.99792,     0.99792,     0.99792,     0.99792,     0.99792,     0.99792,     0.99792,     0.99792,     0.99792,     0.99792,     0.99792,     0.99792,     0.99792,     0.99792,     0.99792,     0.99792,\n",
       "            0.99792,     0.99792,     0.99792,     0.99792,     0.99792,     0.99792,     0.99792,     0.99788,     0.99781,     0.99781,     0.99781,     0.99781,     0.99781,     0.99781,     0.99781,     0.99781,     0.99781,     0.99781,     0.99781,     0.99781,     0.99781,     0.99781,     0.99781,\n",
       "            0.99781,     0.99781,     0.99781,     0.99781,     0.99781,     0.99781,     0.99781,     0.99781,     0.99781,     0.99781,     0.99781,     0.99781,     0.99781,     0.99781,     0.99781,     0.99781,     0.99781,     0.99781,     0.99781,     0.99781,     0.99781,     0.99781,     0.99781,\n",
       "            0.99781,     0.99781,     0.99781,     0.99781,     0.99781,     0.99781,     0.99781,     0.99781,     0.99781,     0.99781,     0.99781,     0.99781,      0.9977,      0.9977,     0.99764,     0.99759,     0.99759,     0.99759,     0.99759,     0.99759,     0.99759,     0.99759,     0.99759,\n",
       "            0.99759,     0.99759,     0.99759,     0.99759,     0.99759,     0.99759,     0.99759,     0.99759,     0.99759,     0.99759,     0.99759,     0.99759,     0.99759,     0.99759,     0.99759,     0.99759,     0.99759,     0.99759,     0.99759,     0.99759,     0.99759,     0.99759,     0.99759,\n",
       "            0.99759,     0.99759,     0.99759,     0.99759,     0.99759,     0.99758,     0.99755,     0.99752,     0.99749,     0.99748,     0.99748,     0.99748,     0.99748,     0.99748,     0.99748,     0.99748,     0.99748,     0.99748,     0.99748,     0.99742,     0.99737,     0.99737,     0.99737,\n",
       "            0.99737,     0.99737,     0.99737,     0.99737,     0.99737,     0.99737,     0.99737,     0.99737,     0.99737,     0.99737,     0.99737,     0.99737,     0.99737,     0.99737,     0.99737,     0.99737,     0.99737,     0.99737,     0.99737,     0.99737,     0.99737,     0.99737,     0.99729,\n",
       "            0.99726,     0.99726,     0.99726,     0.99726,     0.99726,     0.99726,     0.99726,     0.99726,     0.99726,     0.99726,     0.99726,     0.99726,     0.99726,     0.99726,     0.99726,     0.99726,     0.99726,     0.99724,     0.99723,     0.99722,      0.9972,     0.99719,     0.99718,\n",
       "            0.99717,     0.99716,     0.99716,     0.99716,     0.99714,     0.99705,     0.99705,     0.99701,     0.99697,     0.99694,     0.99694,     0.99694,     0.99694,     0.99694,     0.99694,     0.99694,     0.99694,     0.99694,     0.99694,     0.99694,     0.99692,     0.99688,     0.99684,\n",
       "            0.99683,     0.99683,     0.99683,     0.99681,     0.99677,     0.99673,     0.99672,     0.99672,     0.99672,     0.99672,     0.99672,     0.99672,     0.99672,     0.99672,     0.99672,     0.99672,     0.99672,     0.99672,     0.99667,     0.99661,     0.99661,     0.99661,     0.99661,\n",
       "             0.9966,     0.99657,     0.99653,     0.99647,     0.99639,     0.99639,     0.99639,     0.99639,     0.99639,     0.99639,     0.99639,     0.99628,     0.99628,     0.99628,     0.99628,     0.99628,     0.99617,     0.99617,     0.99617,     0.99617,     0.99617,     0.99617,     0.99617,\n",
       "            0.99617,     0.99617,     0.99617,     0.99617,     0.99617,     0.99617,     0.99617,     0.99617,     0.99617,     0.99612,     0.99606,     0.99606,     0.99606,     0.99606,     0.99606,     0.99606,     0.99606,     0.99606,     0.99606,     0.99606,     0.99606,     0.99606,     0.99604,\n",
       "            0.99595,     0.99595,     0.99593,     0.99591,      0.9959,     0.99588,     0.99586,     0.99583,     0.99579,     0.99575,      0.9957,     0.99564,     0.99561,     0.99558,     0.99555,     0.99553,     0.99548,     0.99542,     0.99537,      0.9953,      0.9953,      0.9953,      0.9953,\n",
       "             0.9953,      0.9953,      0.9953,      0.9953,      0.9953,      0.9953,      0.9953,      0.9953,      0.9953,      0.9953,      0.9953,      0.9953,      0.9953,      0.9953,     0.99523,     0.99519,     0.99519,     0.99519,     0.99519,     0.99519,     0.99517,     0.99514,     0.99511,\n",
       "            0.99508,     0.99507,     0.99505,     0.99502,       0.995,     0.99498,     0.99497,     0.99497,     0.99497,     0.99497,     0.99497,     0.99497,     0.99497,     0.99497,     0.99497,     0.99497,     0.99497,     0.99497,     0.99497,     0.99497,     0.99494,     0.99491,     0.99488,\n",
       "            0.99486,     0.99486,     0.99486,     0.99486,     0.99477,     0.99475,     0.99475,     0.99475,     0.99475,     0.99474,     0.99465,     0.99464,     0.99464,     0.99464,     0.99464,     0.99464,     0.99464,     0.99464,     0.99464,     0.99464,     0.99464,     0.99464,     0.99464,\n",
       "            0.99464,     0.99464,     0.99464,     0.99464,     0.99464,     0.99464,     0.99464,     0.99464,     0.99464,     0.99464,     0.99464,     0.99464,     0.99464,     0.99457,     0.99453,     0.99451,     0.99446,     0.99441,     0.99439,     0.99437,     0.99434,     0.99432,     0.99429,\n",
       "            0.99424,     0.99418,     0.99409,     0.99408,     0.99407,     0.99406,     0.99405,     0.99404,     0.99403,     0.99402,     0.99401,       0.994,     0.99399,     0.99398,     0.99391,     0.99387,     0.99387,     0.99387,     0.99376,     0.99376,     0.99376,     0.99376,     0.99376,\n",
       "            0.99376,     0.99376,     0.99376,     0.99372,     0.99368,     0.99365,     0.99355,     0.99354,     0.99354,     0.99354,     0.99354,     0.99354,     0.99354,     0.99354,     0.99354,     0.99354,     0.99354,     0.99354,     0.99354,     0.99354,     0.99354,     0.99354,     0.99354,\n",
       "            0.99354,     0.99354,     0.99354,     0.99354,     0.99354,     0.99354,     0.99354,      0.9935,     0.99347,     0.99344,     0.99344,     0.99344,     0.99333,     0.99333,     0.99333,     0.99329,     0.99325,     0.99322,     0.99322,     0.99322,     0.99322,     0.99322,     0.99322,\n",
       "            0.99318,     0.99314,      0.9931,     0.99308,     0.99305,     0.99303,       0.993,       0.993,     0.99297,     0.99292,     0.99288,     0.99286,     0.99284,     0.99282,      0.9928,     0.99277,      0.9927,     0.99265,     0.99262,     0.99258,     0.99253,     0.99244,     0.99241,\n",
       "            0.99238,     0.99235,      0.9923,     0.99226,     0.99223,     0.99223,     0.99223,     0.99223,     0.99223,     0.99223,     0.99223,     0.99223,     0.99223,     0.99223,     0.99223,     0.99223,     0.99223,     0.99223,      0.9922,     0.99212,     0.99212,     0.99212,     0.99212,\n",
       "            0.99212,     0.99212,     0.99212,      0.9921,     0.99208,     0.99206,     0.99205,     0.99203,       0.992,     0.99188,     0.99178,     0.99171,     0.99168,     0.99168,     0.99168,     0.99168,     0.99164,      0.9916,     0.99158,     0.99157,     0.99156,     0.99154,     0.99153,\n",
       "            0.99151,      0.9915,     0.99148,     0.99146,     0.99141,     0.99135,     0.99125,     0.99125,     0.99125,     0.99125,     0.99125,     0.99111,     0.99106,     0.99102,     0.99098,     0.99094,     0.99092,     0.99092,     0.99092,     0.99092,     0.99092,     0.99092,     0.99092,\n",
       "            0.99092,     0.99092,     0.99092,     0.99092,     0.99092,     0.99092,     0.99092,     0.99092,     0.99087,      0.9907,      0.9907,      0.9907,      0.9907,      0.9907,      0.9907,      0.9907,      0.9907,     0.99066,     0.99063,     0.99059,     0.99053,     0.99048,     0.99048,\n",
       "            0.99048,     0.99048,     0.99043,     0.99039,     0.99034,      0.9903,     0.99024,     0.99017,     0.99015,     0.99015,     0.99015,     0.99015,     0.99015,     0.99015,     0.99015,     0.99015,     0.99015,     0.99015,     0.99015,     0.99004,        0.99,     0.98997,     0.98993,\n",
       "            0.98993,     0.98993,     0.98993,      0.9898,     0.98972,     0.98972,     0.98972,     0.98972,     0.98972,     0.98968,     0.98963,     0.98956,     0.98939,     0.98927,     0.98917,     0.98914,     0.98908,     0.98906,     0.98906,     0.98906,     0.98904,     0.98894,      0.9889,\n",
       "            0.98887,     0.98884,      0.9888,     0.98876,      0.9887,     0.98863,     0.98862,     0.98862,     0.98859,     0.98851,     0.98851,     0.98851,     0.98851,     0.98851,     0.98851,     0.98851,     0.98851,     0.98851,     0.98851,     0.98851,     0.98851,     0.98849,     0.98846,\n",
       "            0.98842,      0.9884,      0.9884,      0.9884,      0.9884,      0.9884,     0.98839,     0.98836,     0.98833,     0.98831,     0.98828,     0.98825,     0.98822,     0.98819,     0.98814,     0.98807,     0.98807,     0.98807,     0.98807,     0.98807,       0.988,     0.98782,     0.98775,\n",
       "            0.98775,     0.98775,     0.98775,     0.98775,     0.98775,     0.98772,     0.98766,     0.98764,     0.98757,     0.98742,     0.98742,     0.98742,     0.98742,     0.98731,     0.98731,     0.98731,     0.98731,     0.98731,     0.98731,     0.98731,      0.9872,      0.9872,     0.98709,\n",
       "            0.98698,     0.98698,     0.98698,     0.98687,     0.98681,     0.98676,     0.98676,     0.98672,     0.98661,     0.98656,     0.98628,     0.98623,     0.98582,      0.9856,     0.98519,     0.98497,     0.98488,     0.98484,     0.98479,     0.98475,      0.9847,     0.98467,     0.98464,\n",
       "            0.98461,     0.98458,     0.98451,     0.98442,     0.98435,     0.98425,     0.98417,     0.98408,     0.98402,     0.98399,     0.98397,     0.98394,     0.98392,     0.98385,     0.98376,     0.98349,     0.98326,     0.98315,     0.98315,     0.98315,     0.98304,     0.98298,      0.9828,\n",
       "             0.9826,     0.98256,     0.98245,     0.98226,     0.98218,       0.982,     0.98184,     0.98184,     0.98184,     0.98165,     0.98131,     0.98114,     0.98102,     0.98096,     0.98085,     0.98063,     0.98052,     0.98039,     0.98036,     0.98032,     0.98024,     0.97998,     0.97985,\n",
       "            0.97974,     0.97967,     0.97937,      0.9791,     0.97903,     0.97881,     0.97858,     0.97846,     0.97845,     0.97824,     0.97802,      0.9779,     0.97782,     0.97757,     0.97723,     0.97657,      0.9763,      0.9759,     0.97567,     0.97555,     0.97544,     0.97527,     0.97524,\n",
       "            0.97516,     0.97502,     0.97495,     0.97465,     0.97457,     0.97451,     0.97424,     0.97408,     0.97385,     0.97287,     0.97281,     0.97273,     0.97267,      0.9724,     0.97187,     0.97152,     0.97112,     0.97112,     0.97095,     0.97051,     0.97029,     0.97024,     0.97006,\n",
       "            0.96972,     0.96939,     0.96905,     0.96883,     0.96806,     0.96762,     0.96717,     0.96651,     0.96619,     0.96562,     0.96518,     0.96474,     0.96419,     0.96363,     0.96321,     0.96286,     0.96241,       0.962,     0.96175,     0.96108,     0.96086,     0.96031,     0.95986,\n",
       "            0.95909,     0.95876,     0.95815,     0.95776,     0.95732,     0.95699,     0.95643,      0.9561,     0.95544,     0.95467,     0.95368,     0.95301,     0.95257,     0.95224,     0.95147,     0.95026,     0.94927,     0.94828,     0.94771,     0.94597,     0.94498,     0.94421,     0.94322,\n",
       "            0.94135,     0.93981,     0.93817,     0.93674,      0.9352,     0.93388,     0.93246,     0.93136,     0.92862,     0.92763,     0.92543,     0.92357,     0.92083,     0.91885,     0.91731,     0.91457,     0.91118,       0.908,     0.90416,     0.90055,     0.89518,       0.892,     0.88784,\n",
       "            0.88324,     0.87733,     0.87185,     0.86725,     0.86068,     0.85586,      0.8482,     0.84173,     0.83352,     0.82575,     0.81634,     0.80429,     0.79674,     0.78656,     0.77375,     0.76007,     0.74639,     0.72374,     0.70765,      0.6885,     0.66847,     0.64986,     0.63082,\n",
       "            0.60904,     0.59077,     0.56538,     0.53725,      0.5088,     0.47915,     0.44818,     0.41688,     0.37858,     0.34116,     0.30155,     0.25909,     0.22265,     0.18512,     0.13752,     0.10557,    0.083791,    0.062888,    0.042423,    0.022724,    0.012325,   0.0037856,  0.00038846,\n",
       "                  0,           0,           0,           0,           0,           0,           0,           0,           0,           0,           0]]), 'Confidence', 'Recall']]\n",
       "fitness: np.float64(0.9878733735024677)\n",
       "keys: ['metrics/precision(B)', 'metrics/recall(B)', 'metrics/mAP50(B)', 'metrics/mAP50-95(B)']\n",
       "maps: array([    0.98741])\n",
       "names: {0: 'table'}\n",
       "plot: True\n",
       "results_dict: {'metrics/precision(B)': np.float64(0.9861562924714338), 'metrics/recall(B)': np.float64(0.9909190371991248), 'metrics/mAP50(B)': np.float64(0.9920585922808312), 'metrics/mAP50-95(B)': np.float64(0.9874083491937606), 'fitness': np.float64(0.9878733735024677)}\n",
       "save_dir: WindowsPath('f:/GitHub/table-parser/runs/detect/table_bank4')\n",
       "speed: {'preprocess': 0.08211061251891362, 'inference': 1.2650510529817336, 'loss': 0.0001992016562971518, 'postprocess': 0.7571694975885026}\n",
       "task: 'detect'"
      ]
     },
     "execution_count": 3,
     "metadata": {},
     "output_type": "execute_result"
    }
   ],
   "source": [
    "from ultralytics import YOLO\n",
    "\n",
    "model = YOLO('yolov8s.pt')\n",
    "\n",
    "model.train(\n",
    "    data='F:/GitHub/datasets/TableBlankDetectionYolo/data.yaml',\n",
    "    epochs=50,               \n",
    "    imgsz=640,               \n",
    "    batch=16,               \n",
    "    name='table_bank', \n",
    "    device=0\n",
    ")"
   ]
  }
 ],
 "metadata": {
  "kernelspec": {
   "display_name": ".venv-2",
   "language": "python",
   "name": "python3"
  },
  "language_info": {
   "codemirror_mode": {
    "name": "ipython",
    "version": 3
   },
   "file_extension": ".py",
   "mimetype": "text/x-python",
   "name": "python",
   "nbconvert_exporter": "python",
   "pygments_lexer": "ipython3",
   "version": "3.11.7"
  }
 },
 "nbformat": 4,
 "nbformat_minor": 2
}
