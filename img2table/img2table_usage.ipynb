{
 "cells": [
  {
   "cell_type": "code",
   "execution_count": 1,
   "metadata": {},
   "outputs": [
    {
     "name": "stdout",
     "output_type": "stream",
     "text": [
      "Collecting img2table\n",
      "  Downloading img2table-0.0.12-py3-none-any.whl.metadata (13 kB)\n",
      "Collecting polars[pandas] (from img2table)\n",
      "  Downloading polars-1.20.0-cp39-abi3-macosx_11_0_arm64.whl.metadata (14 kB)\n",
      "Collecting pyarrow>=7 (from img2table)\n",
      "  Downloading pyarrow-19.0.0-cp313-cp313-macosx_12_0_arm64.whl.metadata (3.3 kB)\n",
      "Collecting numpy (from img2table)\n",
      "  Downloading numpy-2.2.1-cp313-cp313-macosx_14_0_arm64.whl.metadata (62 kB)\n",
      "Collecting pymupdf>=1.19.1 (from img2table)\n",
      "  Downloading pymupdf-1.25.2-cp39-abi3-macosx_11_0_arm64.whl.metadata (3.4 kB)\n",
      "Collecting opencv-python (from img2table)\n",
      "  Downloading opencv_python-4.11.0.86-cp37-abi3-macosx_13_0_arm64.whl.metadata (20 kB)\n",
      "Collecting bs4 (from img2table)\n",
      "  Downloading bs4-0.0.2-py2.py3-none-any.whl.metadata (411 bytes)\n",
      "Collecting xlsxwriter>=3.0.6 (from img2table)\n",
      "  Downloading XlsxWriter-3.2.0-py3-none-any.whl.metadata (2.6 kB)\n",
      "Collecting beautifulsoup4 (from bs4->img2table)\n",
      "  Downloading beautifulsoup4-4.12.3-py3-none-any.whl.metadata (3.8 kB)\n",
      "Collecting pandas (from polars[pandas]->img2table)\n",
      "  Downloading pandas-2.2.3-cp313-cp313-macosx_11_0_arm64.whl.metadata (89 kB)\n",
      "Collecting soupsieve>1.2 (from beautifulsoup4->bs4->img2table)\n",
      "  Downloading soupsieve-2.6-py3-none-any.whl.metadata (4.6 kB)\n",
      "Requirement already satisfied: python-dateutil>=2.8.2 in /Users/diemvs/Documents/GitHub/table-parser/.venv/lib/python3.13/site-packages (from pandas->polars[pandas]->img2table) (2.9.0.post0)\n",
      "Collecting pytz>=2020.1 (from pandas->polars[pandas]->img2table)\n",
      "  Using cached pytz-2024.2-py2.py3-none-any.whl.metadata (22 kB)\n",
      "Collecting tzdata>=2022.7 (from pandas->polars[pandas]->img2table)\n",
      "  Using cached tzdata-2024.2-py2.py3-none-any.whl.metadata (1.4 kB)\n",
      "Requirement already satisfied: six>=1.5 in /Users/diemvs/Documents/GitHub/table-parser/.venv/lib/python3.13/site-packages (from python-dateutil>=2.8.2->pandas->polars[pandas]->img2table) (1.17.0)\n",
      "Downloading img2table-0.0.12-py3-none-any.whl (43 kB)\n",
      "Downloading pyarrow-19.0.0-cp313-cp313-macosx_12_0_arm64.whl (30.7 MB)\n",
      "\u001b[2K   \u001b[90m━━━━━━━━━━━━━━━━━━━━━━━━━━━━━━━━━━━━━━━━\u001b[0m \u001b[32m30.7/30.7 MB\u001b[0m \u001b[31m12.3 MB/s\u001b[0m eta \u001b[36m0:00:00\u001b[0m00:01\u001b[0m00:01\u001b[0m\n",
      "\u001b[?25hDownloading pymupdf-1.25.2-cp39-abi3-macosx_11_0_arm64.whl (18.6 MB)\n",
      "\u001b[2K   \u001b[90m━━━━━━━━━━━━━━━━━━━━━━━━━━━━━━━━━━━━━━━━\u001b[0m \u001b[32m18.6/18.6 MB\u001b[0m \u001b[31m12.9 MB/s\u001b[0m eta \u001b[36m0:00:00\u001b[0ma \u001b[36m0:00:01\u001b[0m\n",
      "\u001b[?25hDownloading XlsxWriter-3.2.0-py3-none-any.whl (159 kB)\n",
      "Downloading bs4-0.0.2-py2.py3-none-any.whl (1.2 kB)\n",
      "Downloading numpy-2.2.1-cp313-cp313-macosx_14_0_arm64.whl (5.1 MB)\n",
      "\u001b[2K   \u001b[90m━━━━━━━━━━━━━━━━━━━━━━━━━━━━━━━━━━━━━━━━\u001b[0m \u001b[32m5.1/5.1 MB\u001b[0m \u001b[31m9.4 MB/s\u001b[0m eta \u001b[36m0:00:00\u001b[0ma \u001b[36m0:00:01\u001b[0m\n",
      "\u001b[?25hDownloading opencv_python-4.11.0.86-cp37-abi3-macosx_13_0_arm64.whl (37.3 MB)\n",
      "\u001b[2K   \u001b[90m━━━━━━━━━━━━━━━━━━━━━━━━━━━━━━━━━━━━━━━━\u001b[0m \u001b[32m37.3/37.3 MB\u001b[0m \u001b[31m13.3 MB/s\u001b[0m eta \u001b[36m0:00:00\u001b[0ma \u001b[36m0:00:01\u001b[0m\n",
      "\u001b[?25hDownloading beautifulsoup4-4.12.3-py3-none-any.whl (147 kB)\n",
      "Downloading pandas-2.2.3-cp313-cp313-macosx_11_0_arm64.whl (11.3 MB)\n",
      "\u001b[2K   \u001b[90m━━━━━━━━━━━━━━━━━━━━━━━━━━━━━━━━━━━━━━━━\u001b[0m \u001b[32m11.3/11.3 MB\u001b[0m \u001b[31m12.7 MB/s\u001b[0m eta \u001b[36m0:00:00\u001b[0ma \u001b[36m0:00:01\u001b[0m\n",
      "\u001b[?25hDownloading polars-1.20.0-cp39-abi3-macosx_11_0_arm64.whl (29.0 MB)\n",
      "\u001b[2K   \u001b[90m━━━━━━━━━━━━━━━━━━━━━━━━━━━━━━━━━━━━━━━━\u001b[0m \u001b[32m29.0/29.0 MB\u001b[0m \u001b[31m11.5 MB/s\u001b[0m eta \u001b[36m0:00:00\u001b[0m00:01\u001b[0m00:01\u001b[0m\n",
      "\u001b[?25hUsing cached pytz-2024.2-py2.py3-none-any.whl (508 kB)\n",
      "Downloading soupsieve-2.6-py3-none-any.whl (36 kB)\n",
      "Using cached tzdata-2024.2-py2.py3-none-any.whl (346 kB)\n",
      "Installing collected packages: pytz, xlsxwriter, tzdata, soupsieve, pymupdf, pyarrow, polars, numpy, pandas, opencv-python, beautifulsoup4, bs4, img2table\n",
      "Successfully installed beautifulsoup4-4.12.3 bs4-0.0.2 img2table-0.0.12 numpy-2.2.1 opencv-python-4.11.0.86 pandas-2.2.3 polars-1.20.0 pyarrow-19.0.0 pymupdf-1.25.2 pytz-2024.2 soupsieve-2.6 tzdata-2024.2 xlsxwriter-3.2.0\n"
     ]
    }
   ],
   "source": [
    "!pip install img2table"
   ]
  },
  {
   "cell_type": "code",
   "execution_count": 2,
   "metadata": {},
   "outputs": [],
   "source": [
    "from img2table.document import Image\n",
    "\n",
    "src = 'resources/img-1.jpeg'\n",
    "\n",
    "image = Image(src,dpi=200, detect_rotation=False)"
   ]
  },
  {
   "cell_type": "code",
   "execution_count": null,
   "metadata": {},
   "outputs": [
    {
     "name": "stdout",
     "output_type": "stream",
     "text": [
      "PDF(src='../resources/pdf/table_example.pdf', dpi=200, pages=None)\n"
     ]
    },
    {
     "ename": "TypeError",
     "evalue": "from_dicts() got an unexpected keyword argument 'dicts'",
     "output_type": "error",
     "traceback": [
      "\u001b[0;31m---------------------------------------------------------------------------\u001b[0m",
      "\u001b[0;31mTypeError\u001b[0m                                 Traceback (most recent call last)",
      "Cell \u001b[0;32mIn[7], line 13\u001b[0m\n\u001b[1;32m     10\u001b[0m ocr \u001b[38;5;241m=\u001b[39m TesseractOCR(lang\u001b[38;5;241m=\u001b[39m\u001b[38;5;124m\"\u001b[39m\u001b[38;5;124meng\u001b[39m\u001b[38;5;124m\"\u001b[39m)\n\u001b[1;32m     12\u001b[0m \u001b[38;5;66;03m# Table identification and extraction\u001b[39;00m\n\u001b[0;32m---> 13\u001b[0m pdf_tables \u001b[38;5;241m=\u001b[39m \u001b[43mpdf\u001b[49m\u001b[38;5;241;43m.\u001b[39;49m\u001b[43mextract_tables\u001b[49m\u001b[43m(\u001b[49m\u001b[43mocr\u001b[49m\u001b[38;5;241;43m=\u001b[39;49m\u001b[43mocr\u001b[49m\u001b[43m)\u001b[49m\n\u001b[1;32m     15\u001b[0m \u001b[38;5;66;03m# We can also create an excel file with the tables\u001b[39;00m\n\u001b[1;32m     16\u001b[0m pdf\u001b[38;5;241m.\u001b[39mto_xlsx(\u001b[38;5;124m'\u001b[39m\u001b[38;5;124mtables.xlsx\u001b[39m\u001b[38;5;124m'\u001b[39m, ocr\u001b[38;5;241m=\u001b[39mocr)\n",
      "File \u001b[0;32m~/Documents/GitHub/table-parser/.venv/lib/python3.13/site-packages/img2table/document/pdf.py:47\u001b[0m, in \u001b[0;36mPDF.extract_tables\u001b[0;34m(self, ocr, implicit_rows, min_confidence)\u001b[0m\n\u001b[1;32m     44\u001b[0m \u001b[38;5;66;03m# Try to get OCRDataframe from PDF\u001b[39;00m\n\u001b[1;32m     45\u001b[0m \u001b[38;5;28mself\u001b[39m\u001b[38;5;241m.\u001b[39mocr_df \u001b[38;5;241m=\u001b[39m PdfOCR()\u001b[38;5;241m.\u001b[39mof(document\u001b[38;5;241m=\u001b[39m\u001b[38;5;28mself\u001b[39m)\n\u001b[0;32m---> 47\u001b[0m \u001b[38;5;28;01mreturn\u001b[39;00m \u001b[38;5;28;43msuper\u001b[39;49m\u001b[43m(\u001b[49m\u001b[43m)\u001b[49m\u001b[38;5;241;43m.\u001b[39;49m\u001b[43mextract_tables\u001b[49m\u001b[43m(\u001b[49m\u001b[43mocr\u001b[49m\u001b[38;5;241;43m=\u001b[39;49m\u001b[43mocr\u001b[49m\u001b[43m,\u001b[49m\u001b[43m \u001b[49m\u001b[43mimplicit_rows\u001b[49m\u001b[38;5;241;43m=\u001b[39;49m\u001b[43mimplicit_rows\u001b[49m\u001b[43m,\u001b[49m\u001b[43m \u001b[49m\u001b[43mmin_confidence\u001b[49m\u001b[38;5;241;43m=\u001b[39;49m\u001b[43mmin_confidence\u001b[49m\u001b[43m)\u001b[49m\n",
      "File \u001b[0;32m~/Documents/GitHub/table-parser/.venv/lib/python3.13/site-packages/img2table/document/base/__init__.py:69\u001b[0m, in \u001b[0;36mDocument.extract_tables\u001b[0;34m(self, ocr, implicit_rows, min_confidence)\u001b[0m\n\u001b[1;32m     64\u001b[0m \u001b[38;5;66;03m# Extract tables from document\u001b[39;00m\n\u001b[1;32m     65\u001b[0m \u001b[38;5;28;01mfrom\u001b[39;00m\u001b[38;5;250m \u001b[39m\u001b[38;5;21;01mimg2table\u001b[39;00m\u001b[38;5;21;01m.\u001b[39;00m\u001b[38;5;21;01mtables\u001b[39;00m\u001b[38;5;21;01m.\u001b[39;00m\u001b[38;5;21;01mimage\u001b[39;00m\u001b[38;5;250m \u001b[39m\u001b[38;5;28;01mimport\u001b[39;00m TableImage\n\u001b[1;32m     66\u001b[0m tables \u001b[38;5;241m=\u001b[39m {idx: \u001b[43mTableImage\u001b[49m\u001b[43m(\u001b[49m\u001b[43mimg\u001b[49m\u001b[38;5;241;43m=\u001b[39;49m\u001b[43mimg\u001b[49m\u001b[43m,\u001b[49m\n\u001b[1;32m     67\u001b[0m \u001b[43m                          \u001b[49m\u001b[43mdpi\u001b[49m\u001b[38;5;241;43m=\u001b[39;49m\u001b[38;5;28;43mself\u001b[39;49m\u001b[38;5;241;43m.\u001b[39;49m\u001b[43mdpi\u001b[49m\u001b[43m,\u001b[49m\n\u001b[1;32m     68\u001b[0m \u001b[43m                          \u001b[49m\u001b[43mocr_df\u001b[49m\u001b[38;5;241;43m=\u001b[39;49m\u001b[38;5;28;43mself\u001b[39;49m\u001b[38;5;241;43m.\u001b[39;49m\u001b[43mocr_df\u001b[49m\u001b[38;5;241;43m.\u001b[39;49m\u001b[43mpage\u001b[49m\u001b[43m(\u001b[49m\u001b[43mpage_number\u001b[49m\u001b[38;5;241;43m=\u001b[39;49m\u001b[43midx\u001b[49m\u001b[43m)\u001b[49m\u001b[43m \u001b[49m\u001b[38;5;28;43;01mif\u001b[39;49;00m\u001b[43m \u001b[49m\u001b[38;5;28;43mself\u001b[39;49m\u001b[38;5;241;43m.\u001b[39;49m\u001b[43mocr_df\u001b[49m\u001b[43m \u001b[49m\u001b[38;5;28;43;01melse\u001b[39;49;00m\u001b[43m \u001b[49m\u001b[38;5;28;43;01mNone\u001b[39;49;00m\u001b[43m,\u001b[49m\n\u001b[0;32m---> 69\u001b[0m \u001b[43m                          \u001b[49m\u001b[43mmin_confidence\u001b[49m\u001b[38;5;241;43m=\u001b[39;49m\u001b[43mmin_confidence\u001b[49m\u001b[43m)\u001b[49m\u001b[38;5;241;43m.\u001b[39;49m\u001b[43mextract_tables\u001b[49m\u001b[43m(\u001b[49m\u001b[43mimplicit_rows\u001b[49m\u001b[38;5;241;43m=\u001b[39;49m\u001b[43mimplicit_rows\u001b[49m\u001b[43m)\u001b[49m\n\u001b[1;32m     70\u001b[0m           \u001b[38;5;28;01mfor\u001b[39;00m idx, img \u001b[38;5;129;01min\u001b[39;00m \u001b[38;5;28menumerate\u001b[39m(\u001b[38;5;28mself\u001b[39m\u001b[38;5;241m.\u001b[39mimages)}\n\u001b[1;32m     72\u001b[0m \u001b[38;5;66;03m# If pages have been defined, modify tables keys\u001b[39;00m\n\u001b[1;32m     73\u001b[0m \u001b[38;5;28;01mif\u001b[39;00m \u001b[38;5;28mself\u001b[39m\u001b[38;5;241m.\u001b[39mpages:\n",
      "File \u001b[0;32m~/Documents/GitHub/table-parser/.venv/lib/python3.13/site-packages/img2table/tables/image.py:40\u001b[0m, in \u001b[0;36mTableImage.extract_tables\u001b[0;34m(self, implicit_rows)\u001b[0m\n\u001b[1;32m     38\u001b[0m \u001b[38;5;28;01mdef\u001b[39;00m\u001b[38;5;250m \u001b[39m\u001b[38;5;21mextract_tables\u001b[39m(\u001b[38;5;28mself\u001b[39m, implicit_rows: \u001b[38;5;28mbool\u001b[39m \u001b[38;5;241m=\u001b[39m \u001b[38;5;28;01mTrue\u001b[39;00m) \u001b[38;5;241m-\u001b[39m\u001b[38;5;241m>\u001b[39m List[ExtractedTable]:\n\u001b[1;32m     39\u001b[0m     \u001b[38;5;66;03m# Detect lines in image\u001b[39;00m\n\u001b[0;32m---> 40\u001b[0m     h_lines, v_lines \u001b[38;5;241m=\u001b[39m detect_lines(image\u001b[38;5;241m=\u001b[39m\u001b[38;5;28mself\u001b[39m\u001b[38;5;241m.\u001b[39mimg,\n\u001b[1;32m     41\u001b[0m                                     rho\u001b[38;5;241m=\u001b[39m\u001b[38;5;241m0.3\u001b[39m,\n\u001b[1;32m     42\u001b[0m                                     theta\u001b[38;5;241m=\u001b[39mnp\u001b[38;5;241m.\u001b[39mpi \u001b[38;5;241m/\u001b[39m \u001b[38;5;241m180\u001b[39m,\n\u001b[1;32m     43\u001b[0m                                     threshold\u001b[38;5;241m=\u001b[39m\u001b[38;5;241m10\u001b[39m,\n\u001b[1;32m     44\u001b[0m                                     minLinLength\u001b[38;5;241m=\u001b[39m\u001b[38;5;28mself\u001b[39m\u001b[38;5;241m.\u001b[39mdpi \u001b[38;5;241m/\u001b[39m\u001b[38;5;241m/\u001b[39m \u001b[38;5;241m20\u001b[39m,\n\u001b[1;32m     45\u001b[0m                                     maxLineGap\u001b[38;5;241m=\u001b[39m\u001b[38;5;28mself\u001b[39m\u001b[38;5;241m.\u001b[39mdpi \u001b[38;5;241m/\u001b[39m\u001b[38;5;241m/\u001b[39m \u001b[38;5;241m20\u001b[39m,\n\u001b[1;32m     46\u001b[0m                                     kernel_size\u001b[38;5;241m=\u001b[39m\u001b[38;5;28mself\u001b[39m\u001b[38;5;241m.\u001b[39mdpi \u001b[38;5;241m/\u001b[39m\u001b[38;5;241m/\u001b[39m \u001b[38;5;241m10\u001b[39m,\n\u001b[1;32m     47\u001b[0m                                     ocr_df\u001b[38;5;241m=\u001b[39m\u001b[38;5;28mself\u001b[39m\u001b[38;5;241m.\u001b[39mocr_df)\n\u001b[1;32m     48\u001b[0m     \u001b[38;5;28mself\u001b[39m\u001b[38;5;241m.\u001b[39mlines \u001b[38;5;241m=\u001b[39m h_lines \u001b[38;5;241m+\u001b[39m v_lines\n\u001b[1;32m     50\u001b[0m     \u001b[38;5;66;03m# Create cells from lines\u001b[39;00m\n",
      "File \u001b[0;32m~/Documents/GitHub/table-parser/.venv/lib/python3.13/site-packages/img2table/tables/processing/lines.py:186\u001b[0m, in \u001b[0;36mdetect_lines\u001b[0;34m(image, rho, theta, threshold, minLinLength, maxLineGap, kernel_size, ocr_df)\u001b[0m\n\u001b[1;32m    184\u001b[0m \u001b[38;5;66;03m# If possible, remove lines that corresponds to words\u001b[39;00m\n\u001b[1;32m    185\u001b[0m \u001b[38;5;28;01mif\u001b[39;00m ocr_df \u001b[38;5;129;01mis\u001b[39;00m \u001b[38;5;129;01mnot\u001b[39;00m \u001b[38;5;28;01mNone\u001b[39;00m:\n\u001b[0;32m--> 186\u001b[0m     merged_lines \u001b[38;5;241m=\u001b[39m \u001b[43mremove_word_lines\u001b[49m\u001b[43m(\u001b[49m\u001b[43mlines\u001b[49m\u001b[38;5;241;43m=\u001b[39;49m\u001b[43mmerged_lines\u001b[49m\u001b[43m,\u001b[49m\u001b[43m \u001b[49m\u001b[43mocr_df\u001b[49m\u001b[38;5;241;43m=\u001b[39;49m\u001b[43mocr_df\u001b[49m\u001b[43m)\u001b[49m\n\u001b[1;32m    188\u001b[0m \u001b[38;5;28;01myield\u001b[39;00m merged_lines\n",
      "File \u001b[0;32m~/Documents/GitHub/table-parser/.venv/lib/python3.13/site-packages/img2table/tables/processing/lines.py:98\u001b[0m, in \u001b[0;36mremove_word_lines\u001b[0;34m(lines, ocr_df)\u001b[0m\n\u001b[1;32m     95\u001b[0m     \u001b[38;5;28;01mreturn\u001b[39;00m lines\n\u001b[1;32m     97\u001b[0m \u001b[38;5;66;03m# Create dataframe containing lines\u001b[39;00m\n\u001b[0;32m---> 98\u001b[0m df_lines \u001b[38;5;241m=\u001b[39m (\u001b[43mpl\u001b[49m\u001b[38;5;241;43m.\u001b[39;49m\u001b[43mfrom_dicts\u001b[49m\u001b[43m(\u001b[49m\u001b[43mdicts\u001b[49m\u001b[38;5;241;43m=\u001b[39;49m\u001b[43m[\u001b[49m\u001b[43mline\u001b[49m\u001b[38;5;241;43m.\u001b[39;49m\u001b[43mdict\u001b[49m\u001b[43m \u001b[49m\u001b[38;5;28;43;01mfor\u001b[39;49;00m\u001b[43m \u001b[49m\u001b[43mline\u001b[49m\u001b[43m \u001b[49m\u001b[38;5;129;43;01min\u001b[39;49;00m\u001b[43m \u001b[49m\u001b[43mlines\u001b[49m\u001b[43m]\u001b[49m\u001b[43m)\u001b[49m\n\u001b[1;32m     99\u001b[0m             \u001b[38;5;241m.\u001b[39mlazy()\n\u001b[1;32m    100\u001b[0m             \u001b[38;5;241m.\u001b[39mwith_columns([pl\u001b[38;5;241m.\u001b[39mmax([pl\u001b[38;5;241m.\u001b[39mcol(\u001b[38;5;124m'\u001b[39m\u001b[38;5;124mwidth\u001b[39m\u001b[38;5;124m'\u001b[39m), pl\u001b[38;5;241m.\u001b[39mcol(\u001b[38;5;124m'\u001b[39m\u001b[38;5;124mheight\u001b[39m\u001b[38;5;124m'\u001b[39m)])\u001b[38;5;241m.\u001b[39malias(\u001b[38;5;124m'\u001b[39m\u001b[38;5;124mlength\u001b[39m\u001b[38;5;124m'\u001b[39m),\n\u001b[1;32m    101\u001b[0m                            (pl\u001b[38;5;241m.\u001b[39mcol(\u001b[38;5;124m'\u001b[39m\u001b[38;5;124mx1\u001b[39m\u001b[38;5;124m'\u001b[39m) \u001b[38;5;241m==\u001b[39m pl\u001b[38;5;241m.\u001b[39mcol(\u001b[38;5;124m'\u001b[39m\u001b[38;5;124mx2\u001b[39m\u001b[38;5;124m'\u001b[39m))\u001b[38;5;241m.\u001b[39malias(\u001b[38;5;124m'\u001b[39m\u001b[38;5;124mvertical\u001b[39m\u001b[38;5;124m'\u001b[39m)]\n\u001b[1;32m    102\u001b[0m                           )\n\u001b[1;32m    103\u001b[0m             \u001b[38;5;241m.\u001b[39mwith_row_count(name\u001b[38;5;241m=\u001b[39m\u001b[38;5;124m\"\u001b[39m\u001b[38;5;124mline_id\u001b[39m\u001b[38;5;124m\"\u001b[39m)\n\u001b[1;32m    104\u001b[0m             \u001b[38;5;241m.\u001b[39mrename({\u001b[38;5;124m\"\u001b[39m\u001b[38;5;124mx1\u001b[39m\u001b[38;5;124m\"\u001b[39m: \u001b[38;5;124m\"\u001b[39m\u001b[38;5;124mx1_line\u001b[39m\u001b[38;5;124m\"\u001b[39m, \u001b[38;5;124m\"\u001b[39m\u001b[38;5;124mx2\u001b[39m\u001b[38;5;124m\"\u001b[39m: \u001b[38;5;124m\"\u001b[39m\u001b[38;5;124mx2_line\u001b[39m\u001b[38;5;124m\"\u001b[39m, \u001b[38;5;124m\"\u001b[39m\u001b[38;5;124my1\u001b[39m\u001b[38;5;124m\"\u001b[39m: \u001b[38;5;124m\"\u001b[39m\u001b[38;5;124my1_line\u001b[39m\u001b[38;5;124m\"\u001b[39m, \u001b[38;5;124m\"\u001b[39m\u001b[38;5;124my2\u001b[39m\u001b[38;5;124m\"\u001b[39m: \u001b[38;5;124m\"\u001b[39m\u001b[38;5;124my2_line\u001b[39m\u001b[38;5;124m\"\u001b[39m})\n\u001b[1;32m    105\u001b[0m             )\n\u001b[1;32m    107\u001b[0m \u001b[38;5;66;03m# Merge both dataframes\u001b[39;00m\n\u001b[1;32m    108\u001b[0m df_words_lines \u001b[38;5;241m=\u001b[39m df_words\u001b[38;5;241m.\u001b[39mjoin(df_lines, how\u001b[38;5;241m=\u001b[39m\u001b[38;5;124m'\u001b[39m\u001b[38;5;124mcross\u001b[39m\u001b[38;5;124m'\u001b[39m)\n",
      "\u001b[0;31mTypeError\u001b[0m: from_dicts() got an unexpected keyword argument 'dicts'"
     ]
    }
   ],
   "source": [
    "from img2table.document import PDF\n",
    "from img2table.ocr import TesseractOCR\n",
    "\n",
    "# Instantiation of the pdf\n",
    "pdf = PDF(src=\"../resources/pdf/table_example.pdf\")\n",
    "\n",
    "# Instantiation of the OCR, Tesseract, which requires prior installation\n",
    "ocr = TesseractOCR(lang=\"eng\")\n",
    "\n",
    "# Table identification and extraction\n",
    "pdf_tables = pdf.extract_tables(ocr=ocr)\n",
    "\n",
    "# We can also create an excel file with the tables\n",
    "pdf.to_xlsx('tables.xlsx', ocr=ocr)"
   ]
  }
 ],
 "metadata": {
  "kernelspec": {
   "display_name": ".venv",
   "language": "python",
   "name": "python3"
  },
  "language_info": {
   "codemirror_mode": {
    "name": "ipython",
    "version": 3
   },
   "file_extension": ".py",
   "mimetype": "text/x-python",
   "name": "python",
   "nbconvert_exporter": "python",
   "pygments_lexer": "ipython3",
   "version": "3.13.1"
  }
 },
 "nbformat": 4,
 "nbformat_minor": 2
}
