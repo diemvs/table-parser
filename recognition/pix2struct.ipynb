{
 "cells": [
  {
   "cell_type": "code",
   "execution_count": 1,
   "id": "92c772ee",
   "metadata": {},
   "outputs": [
    {
     "name": "stdout",
     "output_type": "stream",
     "text": [
      "Requirement already satisfied: transformers in f:\\github\\table-parser\\.venv-2\\lib\\site-packages (4.50.3)\n",
      "Collecting accelerate\n",
      "  Obtaining dependency information for accelerate from https://files.pythonhosted.org/packages/63/b1/8198e3cdd11a426b1df2912e3381018c4a4a55368f6d0857ba3ca418ef93/accelerate-1.6.0-py3-none-any.whl.metadata\n",
      "  Downloading accelerate-1.6.0-py3-none-any.whl.metadata (19 kB)\n",
      "Requirement already satisfied: sentencepiece in f:\\github\\table-parser\\.venv-2\\lib\\site-packages (0.2.0)\n",
      "Requirement already satisfied: filelock in f:\\github\\table-parser\\.venv-2\\lib\\site-packages (from transformers) (3.18.0)\n",
      "Requirement already satisfied: huggingface-hub<1.0,>=0.26.0 in f:\\github\\table-parser\\.venv-2\\lib\\site-packages (from transformers) (0.30.1)\n",
      "Requirement already satisfied: numpy>=1.17 in f:\\github\\table-parser\\.venv-2\\lib\\site-packages (from transformers) (2.1.1)\n",
      "Requirement already satisfied: packaging>=20.0 in f:\\github\\table-parser\\.venv-2\\lib\\site-packages (from transformers) (24.2)\n",
      "Requirement already satisfied: pyyaml>=5.1 in f:\\github\\table-parser\\.venv-2\\lib\\site-packages (from transformers) (6.0.2)\n",
      "Requirement already satisfied: regex!=2019.12.17 in f:\\github\\table-parser\\.venv-2\\lib\\site-packages (from transformers) (2024.11.6)\n",
      "Requirement already satisfied: requests in f:\\github\\table-parser\\.venv-2\\lib\\site-packages (from transformers) (2.32.3)\n",
      "Requirement already satisfied: tokenizers<0.22,>=0.21 in f:\\github\\table-parser\\.venv-2\\lib\\site-packages (from transformers) (0.21.1)\n",
      "Requirement already satisfied: safetensors>=0.4.3 in f:\\github\\table-parser\\.venv-2\\lib\\site-packages (from transformers) (0.5.3)\n",
      "Requirement already satisfied: tqdm>=4.27 in f:\\github\\table-parser\\.venv-2\\lib\\site-packages (from transformers) (4.67.1)\n",
      "Requirement already satisfied: psutil in f:\\github\\table-parser\\.venv-2\\lib\\site-packages (from accelerate) (7.0.0)\n",
      "Requirement already satisfied: torch>=2.0.0 in f:\\github\\table-parser\\.venv-2\\lib\\site-packages (from accelerate) (2.6.0+cu126)\n",
      "Requirement already satisfied: fsspec>=2023.5.0 in f:\\github\\table-parser\\.venv-2\\lib\\site-packages (from huggingface-hub<1.0,>=0.26.0->transformers) (2024.12.0)\n",
      "Requirement already satisfied: typing-extensions>=3.7.4.3 in f:\\github\\table-parser\\.venv-2\\lib\\site-packages (from huggingface-hub<1.0,>=0.26.0->transformers) (4.13.0)\n",
      "Requirement already satisfied: networkx in f:\\github\\table-parser\\.venv-2\\lib\\site-packages (from torch>=2.0.0->accelerate) (3.4.2)\n",
      "Requirement already satisfied: jinja2 in f:\\github\\table-parser\\.venv-2\\lib\\site-packages (from torch>=2.0.0->accelerate) (3.1.6)\n",
      "Requirement already satisfied: sympy==1.13.1 in f:\\github\\table-parser\\.venv-2\\lib\\site-packages (from torch>=2.0.0->accelerate) (1.13.1)\n",
      "Requirement already satisfied: mpmath<1.4,>=1.1.0 in f:\\github\\table-parser\\.venv-2\\lib\\site-packages (from sympy==1.13.1->torch>=2.0.0->accelerate) (1.3.0)\n",
      "Requirement already satisfied: colorama in f:\\github\\table-parser\\.venv-2\\lib\\site-packages (from tqdm>=4.27->transformers) (0.4.6)\n",
      "Requirement already satisfied: charset-normalizer<4,>=2 in f:\\github\\table-parser\\.venv-2\\lib\\site-packages (from requests->transformers) (3.4.1)\n",
      "Requirement already satisfied: idna<4,>=2.5 in f:\\github\\table-parser\\.venv-2\\lib\\site-packages (from requests->transformers) (3.10)\n",
      "Requirement already satisfied: urllib3<3,>=1.21.1 in f:\\github\\table-parser\\.venv-2\\lib\\site-packages (from requests->transformers) (2.3.0)\n",
      "Requirement already satisfied: certifi>=2017.4.17 in f:\\github\\table-parser\\.venv-2\\lib\\site-packages (from requests->transformers) (2025.1.31)\n",
      "Requirement already satisfied: MarkupSafe>=2.0 in f:\\github\\table-parser\\.venv-2\\lib\\site-packages (from jinja2->torch>=2.0.0->accelerate) (3.0.2)\n",
      "Downloading accelerate-1.6.0-py3-none-any.whl (354 kB)\n",
      "   ---------------------------------------- 0.0/354.7 kB ? eta -:--:--\n",
      "   --- ----------------------------------- 30.7/354.7 kB 660.6 kB/s eta 0:00:01\n",
      "   ------ -------------------------------- 61.4/354.7 kB 656.4 kB/s eta 0:00:01\n",
      "   ------------ ------------------------- 112.6/354.7 kB 819.2 kB/s eta 0:00:01\n",
      "   ------------------ ------------------- 174.1/354.7 kB 952.6 kB/s eta 0:00:01\n",
      "   ------------------------------- -------- 276.5/354.7 kB 1.2 MB/s eta 0:00:01\n",
      "   ---------------------------------------- 354.7/354.7 kB 1.4 MB/s eta 0:00:00\n",
      "Installing collected packages: accelerate\n",
      "Successfully installed accelerate-1.6.0\n"
     ]
    },
    {
     "name": "stderr",
     "output_type": "stream",
     "text": [
      "\n",
      "[notice] A new release of pip is available: 23.2.1 -> 25.0.1\n",
      "[notice] To update, run: python.exe -m pip install --upgrade pip\n"
     ]
    }
   ],
   "source": [
    "! pip install transformers accelerate sentencepiece"
   ]
  },
  {
   "cell_type": "code",
   "execution_count": null,
   "id": "03175793",
   "metadata": {},
   "outputs": [
    {
     "name": "stdout",
     "output_type": "stream",
     "text": [
      "📋 Вывод:\n",
      "Convert this table to HTML\n"
     ]
    }
   ],
   "source": [
    "from transformers import Pix2StructProcessor, Pix2StructForConditionalGeneration\n",
    "from PIL import Image\n",
    "import torch\n",
    "\n",
    "device = \"cuda\" if torch.cuda.is_available() else \"cpu\"\n",
    "\n",
    "# 1. Загружаем модель и процессор\n",
    "model = Pix2StructForConditionalGeneration.from_pretrained(\"google/pix2struct-docvqa-base\")\n",
    "model = model.to(device)\n",
    "processor = Pix2StructProcessor.from_pretrained(\"google/pix2struct-docvqa-base\")\n",
    "\n",
    "# 2. Загружаем таблицу (обрезанную картинку)\n",
    "image = Image.open(\"../resources/images/4.jpg\").convert(\"RGB\")\n",
    "\n",
    "# 3. Формируем prompt + подготавливаем данные\n",
    "prompt = \"Convert this table to HTML\"  # или можно попробовать на русском\n",
    "inputs = processor(images=image, text=prompt, return_tensors=\"pt\").to(model.device)\n",
    "\n",
    "# 4. Генерация\n",
    "with torch.no_grad():\n",
    "    generated_ids = model.generate(**inputs, max_length=512)\n",
    "\n",
    "# 5. Декодируем результат\n",
    "output = processor.tokenizer.batch_decode(generated_ids, skip_special_tokens=True)[0]\n",
    "print(\"Вывод:\")\n",
    "print(output)\n"
   ]
  }
 ],
 "metadata": {
  "kernelspec": {
   "display_name": ".venv-2",
   "language": "python",
   "name": "python3"
  },
  "language_info": {
   "codemirror_mode": {
    "name": "ipython",
    "version": 3
   },
   "file_extension": ".py",
   "mimetype": "text/x-python",
   "name": "python",
   "nbconvert_exporter": "python",
   "pygments_lexer": "ipython3",
   "version": "3.11.7"
  }
 },
 "nbformat": 4,
 "nbformat_minor": 5
}
