{
 "cells": [
  {
   "cell_type": "code",
   "execution_count": 3,
   "id": "9026bc22",
   "metadata": {},
   "outputs": [
    {
     "name": "stdout",
     "output_type": "stream",
     "text": [
      "Распознанный текст:\n",
      "ID Name Age City\n",
      "\n",
      "[1 [ace | 20 | newvrk_|\n",
      "[3 [enaie | 35 | tos anges\n",
      "[a [ore [26 | crag |\n",
      "\n"
     ]
    }
   ],
   "source": [
    "import cv2\n",
    "import pytesseract\n",
    "from PIL import Image\n",
    "\n",
    "# Загружаем изображение\n",
    "image_path = \"../resources/images/4.jpg\"\n",
    "image = cv2.imread(image_path)\n",
    "\n",
    "# (Необязательно) преобразуем в оттенки серого\n",
    "gray = cv2.cvtColor(image, cv2.COLOR_BGR2GRAY)\n",
    "\n",
    "# (Необязательно) применим порог для лучшего контраста\n",
    "_, thresh = cv2.threshold(gray, 150, 255, cv2.THRESH_BINARY + cv2.THRESH_OTSU)\n",
    "\n",
    "# Преобразуем в формат, совместимый с PIL (pytesseract принимает его)\n",
    "pil_img = Image.fromarray(thresh)\n",
    "\n",
    "# Задаем конфигурацию: PSM 6 — для табличного распознавания\n",
    "custom_config = r'--oem 3 --psm 6'\n",
    "\n",
    "# Распознаем текст\n",
    "text = pytesseract.image_to_string(pil_img, config=custom_config)\n",
    "\n",
    "print(\"Распознанный текст:\")\n",
    "print(text)\n"
   ]
  },
  {
   "cell_type": "code",
   "execution_count": 4,
   "id": "2eaf67e5",
   "metadata": {},
   "outputs": [
    {
     "data": {
      "text/plain": [
       "True"
      ]
     },
     "execution_count": 4,
     "metadata": {},
     "output_type": "execute_result"
    }
   ],
   "source": [
    "import cv2\n",
    "import pytesseract\n",
    "from PIL import Image\n",
    "import pandas as pd\n",
    "\n",
    "# Загружаем изображение\n",
    "image_path = \"../resources/images/4.jpg\"\n",
    "image = cv2.imread(image_path)\n",
    "\n",
    "# Преобразуем в оттенки серого и применим порог\n",
    "gray = cv2.cvtColor(image, cv2.COLOR_BGR2GRAY)\n",
    "_, thresh = cv2.threshold(gray, 150, 255, cv2.THRESH_BINARY + cv2.THRESH_OTSU)\n",
    "\n",
    "# Получаем данные с координацией\n",
    "custom_config = r'--oem 3 --psm 6'\n",
    "data = pytesseract.image_to_data(thresh, config=custom_config, output_type=pytesseract.Output.DATAFRAME)\n",
    "\n",
    "# Удаляем пустые строки\n",
    "data = data.dropna(subset=[\"text\"])\n",
    "data = data[data[\"text\"].str.strip() != \"\"]\n",
    "\n",
    "# Рисуем прямоугольники и текст\n",
    "for i, row in data.iterrows():\n",
    "    x, y, w, h = row[\"left\"], row[\"top\"], row[\"width\"], row[\"height\"]\n",
    "    text = row[\"text\"]\n",
    "    conf = row[\"conf\"]\n",
    "    \n",
    "    if int(conf) > 50:  # Отсекаем по порогу уверенности\n",
    "        cv2.rectangle(image, (x, y), (x + w, y + h), (0, 255, 0), 2)\n",
    "        cv2.putText(image, text, (x, y - 5), cv2.FONT_HERSHEY_SIMPLEX, 0.5, (255, 0, 0), 1)\n",
    "\n",
    "# Сохраняем или отображаем результат\n",
    "cv2.imwrite(\"ocr_result.jpg\", image)\n",
    "# или использовать cv2.imshow(\"OCR\", image) и cv2.waitKey(0) на локальной машине\n"
   ]
  },
  {
   "cell_type": "code",
   "execution_count": 2,
   "id": "c17b1856",
   "metadata": {},
   "outputs": [
    {
     "name": "stdout",
     "output_type": "stream",
     "text": [
      "Collecting pytesseract\n",
      "  Obtaining dependency information for pytesseract from https://files.pythonhosted.org/packages/7a/33/8312d7ce74670c9d39a532b2c246a853861120486be9443eebf048043637/pytesseract-0.3.13-py3-none-any.whl.metadata\n",
      "  Downloading pytesseract-0.3.13-py3-none-any.whl.metadata (11 kB)\n",
      "Requirement already satisfied: pillow in f:\\github\\table-parser\\.venv-2\\lib\\site-packages (11.1.0)\n",
      "Requirement already satisfied: opencv-python in f:\\github\\table-parser\\.venv-2\\lib\\site-packages (4.11.0.86)\n",
      "Requirement already satisfied: packaging>=21.3 in f:\\github\\table-parser\\.venv-2\\lib\\site-packages (from pytesseract) (24.2)\n",
      "Requirement already satisfied: numpy>=1.21.2 in f:\\github\\table-parser\\.venv-2\\lib\\site-packages (from opencv-python) (2.1.1)\n",
      "Downloading pytesseract-0.3.13-py3-none-any.whl (14 kB)\n",
      "Installing collected packages: pytesseract\n",
      "Successfully installed pytesseract-0.3.13\n"
     ]
    },
    {
     "name": "stderr",
     "output_type": "stream",
     "text": [
      "\n",
      "[notice] A new release of pip is available: 23.2.1 -> 25.0.1\n",
      "[notice] To update, run: python.exe -m pip install --upgrade pip\n"
     ]
    }
   ],
   "source": [
    "! pip install pytesseract pillow opencv-python"
   ]
  },
  {
   "cell_type": "code",
   "execution_count": 33,
   "id": "10c5aca6",
   "metadata": {},
   "outputs": [],
   "source": [
    "def extract_cells_and_ocr(image_path: str,\n",
    "                          min_cell_width: int = 20,\n",
    "                          min_cell_height: int = 20,\n",
    "                          lang: str = 'eng') -> pd.DataFrame:\n",
    "    # Загрузка изображения\n",
    "    img = cv2.imread(image_path)\n",
    "    gray = cv2.cvtColor(img, cv2.COLOR_BGR2GRAY)\n",
    "\n",
    "    # Препроцессинг изображения\n",
    "    blurred = cv2.GaussianBlur(gray, (3, 3), 0)\n",
    "    _, binary = cv2.threshold(blurred, 0, 255, cv2.THRESH_BINARY_INV + cv2.THRESH_OTSU)\n",
    "\n",
    "    # Детекция вертикальных и горизонтальных линий\n",
    "    vertical_kernel = cv2.getStructuringElement(cv2.MORPH_RECT, (1, 30))\n",
    "    vertical_lines = cv2.erode(binary, vertical_kernel, iterations=1)\n",
    "    vertical_lines = cv2.dilate(vertical_lines, vertical_kernel, iterations=1)\n",
    "\n",
    "    horizontal_kernel = cv2.getStructuringElement(cv2.MORPH_RECT, (30, 1))\n",
    "    horizontal_lines = cv2.erode(binary, horizontal_kernel, iterations=1)\n",
    "    horizontal_lines = cv2.dilate(horizontal_lines, horizontal_kernel, iterations=1)\n",
    "\n",
    "    # Объединение линий\n",
    "    table_structure = cv2.addWeighted(vertical_lines, 0.5, horizontal_lines, 0.5, 0.0)\n",
    "\n",
    "    # Поиск контуров\n",
    "    contours, _ = cv2.findContours(table_structure, cv2.RETR_TREE, cv2.CHAIN_APPROX_SIMPLE)\n",
    "    cells = []\n",
    "    for cnt in contours:\n",
    "        x, y, w, h = cv2.boundingRect(cnt)\n",
    "        if w > min_cell_width and h > min_cell_height:\n",
    "            cells.append((x, y, w, h))\n",
    "\n",
    "    # Фильтрация слишком больших рамок (внешняя граница таблицы)\n",
    "    image_area = img.shape[0] * img.shape[1]\n",
    "    cells = [cell for cell in cells if cell[2] * cell[3] < 0.5 * image_area]\n",
    "\n",
    "    # Сортировка ячеек\n",
    "    cells = sorted(cells, key=lambda b: (b[1], b[0]))\n",
    "\n",
    "    # Группировка по строкам\n",
    "    rows = []\n",
    "    current_row = []\n",
    "    last_y = -100\n",
    "    tolerance = 10\n",
    "    for cell in cells:\n",
    "        x, y, w, h = cell\n",
    "        if abs(y - last_y) > tolerance:\n",
    "            if current_row:\n",
    "                rows.append(sorted(current_row, key=lambda b: b[0]))\n",
    "            current_row = [cell]\n",
    "            last_y = y\n",
    "        else:\n",
    "            current_row.append(cell)\n",
    "    if current_row:\n",
    "        rows.append(sorted(current_row, key=lambda b: b[0]))\n",
    "\n",
    "    # OCR по ячейкам\n",
    "    data = []\n",
    "    for row in rows:\n",
    "        row_data = []\n",
    "        for (x, y, w, h) in row:\n",
    "            margin = 2\n",
    "            roi = img[y+margin:y+h-margin, x+margin:x+w-margin]\n",
    "            roi = cv2.resize(roi, None, fx=2, fy=2, interpolation=cv2.INTER_CUBIC)\n",
    "            roi_gray = cv2.cvtColor(roi, cv2.COLOR_BGR2GRAY)\n",
    "            _, roi_bin = cv2.threshold(roi_gray, 0, 255, cv2.THRESH_BINARY + cv2.THRESH_OTSU)\n",
    "            text = pytesseract.image_to_string(roi_bin, config='--psm 6', lang=lang).strip()\n",
    "            row_data.append(text)\n",
    "        data.append(row_data)\n",
    "\n",
    "    return pd.DataFrame(data), cells"
   ]
  },
  {
   "cell_type": "code",
   "execution_count": 34,
   "id": "9cd01ecc",
   "metadata": {},
   "outputs": [
    {
     "data": {
      "text/html": [
       "<div>\n",
       "<style scoped>\n",
       "    .dataframe tbody tr th:only-of-type {\n",
       "        vertical-align: middle;\n",
       "    }\n",
       "\n",
       "    .dataframe tbody tr th {\n",
       "        vertical-align: top;\n",
       "    }\n",
       "\n",
       "    .dataframe thead th {\n",
       "        text-align: right;\n",
       "    }\n",
       "</style>\n",
       "<table border=\"1\" class=\"dataframe\">\n",
       "  <thead>\n",
       "    <tr style=\"text-align: right;\">\n",
       "      <th></th>\n",
       "      <th>0</th>\n",
       "      <th>1</th>\n",
       "      <th>2</th>\n",
       "      <th>3</th>\n",
       "    </tr>\n",
       "  </thead>\n",
       "  <tbody>\n",
       "    <tr>\n",
       "      <th>0</th>\n",
       "      <td>ID Name Age City\\n\\n1] atce [30 [New York\\n2\\n...</td>\n",
       "      <td>None</td>\n",
       "      <td>None</td>\n",
       "      <td>None</td>\n",
       "    </tr>\n",
       "    <tr>\n",
       "      <th>1</th>\n",
       "      <td>1</td>\n",
       "      <td>Alice</td>\n",
       "      <td>30</td>\n",
       "      <td>New York</td>\n",
       "    </tr>\n",
       "    <tr>\n",
       "      <th>2</th>\n",
       "      <td>2</td>\n",
       "      <td>Bob</td>\n",
       "      <td>25</td>\n",
       "      <td>San Francisco</td>\n",
       "    </tr>\n",
       "    <tr>\n",
       "      <th>3</th>\n",
       "      <td>3</td>\n",
       "      <td>Charlie</td>\n",
       "      <td>35</td>\n",
       "      <td>Los Angeles</td>\n",
       "    </tr>\n",
       "    <tr>\n",
       "      <th>4</th>\n",
       "      <td>4</td>\n",
       "      <td>Diana</td>\n",
       "      <td>28</td>\n",
       "      <td>Chicago</td>\n",
       "    </tr>\n",
       "  </tbody>\n",
       "</table>\n",
       "</div>"
      ],
      "text/plain": [
       "                                                   0        1     2  \\\n",
       "0  ID Name Age City\\n\\n1] atce [30 [New York\\n2\\n...     None  None   \n",
       "1                                                  1    Alice    30   \n",
       "2                                                  2      Bob    25   \n",
       "3                                                  3  Charlie    35   \n",
       "4                                                  4    Diana    28   \n",
       "\n",
       "               3  \n",
       "0           None  \n",
       "1       New York  \n",
       "2  San Francisco  \n",
       "3    Los Angeles  \n",
       "4        Chicago  "
      ]
     },
     "execution_count": 34,
     "metadata": {},
     "output_type": "execute_result"
    }
   ],
   "source": [
    "df, cells = extract_cells_and_ocr(\"../resources/images/4.jpg\")\n",
    "\n",
    "df"
   ]
  },
  {
   "cell_type": "code",
   "execution_count": 35,
   "id": "624d6029",
   "metadata": {},
   "outputs": [
    {
     "data": {
      "text/plain": [
       "[(184, 65, 288, 167),\n",
       " (185, 111, 36, 29),\n",
       " (222, 111, 71, 29),\n",
       " (294, 111, 50, 29),\n",
       " (345, 111, 125, 29),\n",
       " (185, 141, 36, 28),\n",
       " (222, 141, 71, 28),\n",
       " (294, 141, 50, 28),\n",
       " (345, 141, 125, 28),\n",
       " (185, 170, 36, 29),\n",
       " (222, 170, 71, 29),\n",
       " (294, 170, 50, 29),\n",
       " (345, 170, 125, 29),\n",
       " (185, 200, 36, 29),\n",
       " (222, 200, 71, 29),\n",
       " (294, 200, 50, 29),\n",
       " (345, 200, 125, 29)]"
      ]
     },
     "execution_count": 35,
     "metadata": {},
     "output_type": "execute_result"
    }
   ],
   "source": [
    "cells"
   ]
  },
  {
   "cell_type": "code",
   "execution_count": 36,
   "id": "19521f08",
   "metadata": {},
   "outputs": [],
   "source": [
    "def draw_cell_boundaries(image_path: str,\n",
    "                          cells: list[tuple[int, int, int, int]],\n",
    "                          output_path: str = \"/mnt/data/cells_detected.jpg\") -> str:\n",
    "    img = cv2.imread(image_path)\n",
    "    for (x, y, w, h) in cells:\n",
    "        cv2.rectangle(img, (x, y), (x + w, y + h), (0, 255, 0), 2)\n",
    "    cv2.imwrite(output_path, img)\n",
    "\n",
    "    return output_path"
   ]
  },
  {
   "cell_type": "code",
   "execution_count": 29,
   "id": "4849ccd2",
   "metadata": {},
   "outputs": [
    {
     "data": {
      "text/plain": [
       "'test.jpg'"
      ]
     },
     "execution_count": 29,
     "metadata": {},
     "output_type": "execute_result"
    }
   ],
   "source": [
    "draw_cell_boundaries(\"../resources/images/4.jpg\", [cells[0]], 'test.jpg')"
   ]
  }
 ],
 "metadata": {
  "kernelspec": {
   "display_name": ".venv-2",
   "language": "python",
   "name": "python3"
  },
  "language_info": {
   "codemirror_mode": {
    "name": "ipython",
    "version": 3
   },
   "file_extension": ".py",
   "mimetype": "text/x-python",
   "name": "python",
   "nbconvert_exporter": "python",
   "pygments_lexer": "ipython3",
   "version": "3.11.7"
  }
 },
 "nbformat": 4,
 "nbformat_minor": 5
}
